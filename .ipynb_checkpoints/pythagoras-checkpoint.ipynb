{
 "cells": [
  {
   "cell_type": "markdown",
   "metadata": {},
   "source": [
    "# pythagoras\n",
    "\n",
    "Welcome to _pythagoras_. For more information about the project, visit the [project website](http://web.simmons.edu/~bellanti/pythagoras) or the Github repo.\n",
    "\n",
    "---\n"
   ]
  },
  {
   "cell_type": "markdown",
   "metadata": {},
   "source": [
    "---\n",
    "# Load libraries and settings\n",
    "---"
   ]
  },
  {
   "cell_type": "code",
   "execution_count": 8,
   "metadata": {},
   "outputs": [],
   "source": [
    "import pandas as pd\n",
    "import numpy as np\n",
    "import matplotlib.pyplot as plt\n",
    "from lxml import etree\n",
    "import regex as re\n",
    "from collections import Counter\n",
    "%matplotlib inline\n",
    "import sqlite3"
   ]
  },
  {
   "cell_type": "markdown",
   "metadata": {},
   "source": [
    "---\n",
    "# XML\n",
    "---"
   ]
  },
  {
   "cell_type": "code",
   "execution_count": 9,
   "metadata": {},
   "outputs": [],
   "source": [
    "# xml_filepath = \"./scores/xml/JSB_BWV1047_1.xml\"\n",
    "xml_filepath = \"./scores/xml/JSB_BWV1047_2.xml\"\n",
    "# xml_filepath = \"./scores/xml/JSB_BWV1047_3.xml\"\n",
    "# xml_filepath = \"./scores/xml/JB_op51_no1_2.xml\"\n",
    "# xml_filepath = \"./scores/xml/JB_op51_no1_3.xml\"\n",
    "# xml_filepath = \"./scores/xml/JB_op51_no1_4.xml\""
   ]
  },
  {
   "cell_type": "code",
   "execution_count": 10,
   "metadata": {},
   "outputs": [],
   "source": [
    "tree = etree.parse(xml_filepath)\n",
    "root = tree.getroot()"
   ]
  },
  {
   "cell_type": "markdown",
   "metadata": {},
   "source": [
    "### Get information about the work"
   ]
  },
  {
   "cell_type": "code",
   "execution_count": 11,
   "metadata": {},
   "outputs": [
    {
     "name": "stdout",
     "output_type": "stream",
     "text": [
      "\n",
      "INSTRUMENTATION:\n",
      "\n",
      "\tRecorder (P1)\n",
      "\tOboe (P2)\n",
      "\tViolin (P3)\n",
      "\tContrabass (P4)\n"
     ]
    }
   ],
   "source": [
    "print('\\nINSTRUMENTATION:\\n')\n",
    "\n",
    "parts = []\n",
    "\n",
    "for e in root.xpath('//score-part'):\n",
    "    part = e.xpath('./@id')[0]\n",
    "    parts.append(part)\n",
    "    instr = e.xpath('.//instrument-name')[0].text\n",
    "    print(\"\\t%s (%s)\" % (instr,part))"
   ]
  },
  {
   "cell_type": "code",
   "execution_count": 12,
   "metadata": {
    "scrolled": false
   },
   "outputs": [
    {
     "name": "stdout",
     "output_type": "stream",
     "text": [
      "\n",
      "KEY & TIME\n",
      "\n",
      "\tKey signature:\t F major (D minor)\n",
      "\tTime signature:\t 3/4\n"
     ]
    }
   ],
   "source": [
    "print('\\nKEY & TIME\\n')\n",
    "\n",
    "attrib_list = root.xpath(\"//part[@id='P1']/measure[@number='1']/attributes/*\")\n",
    "\n",
    "key_dict = {\n",
    "    '-7':'Cb major (Ab minor)',\n",
    "    '-6':'Gb major (Eb minor)',\n",
    "    '-5':'Db major (Bb minor)',\n",
    "    '-4':'Ab major (F minor)',\n",
    "    '-3':'Eb major (C minor)',\n",
    "    '-2':'Bb major (G minor)',\n",
    "    '-1':'F major (D minor)',\n",
    "    '0':'C major (A minor)',\n",
    "    '1':'G major (E minor)',\n",
    "    '2':'D major (B minor)',\n",
    "    '3':'A major (F# minor)',\n",
    "    '4':'E major (C# minor)',\n",
    "    '5':'B major (G# minor)',\n",
    "    '6':'F# major (D# minor)',\n",
    "    '7':'C# major (A# minor)'\n",
    "}\n",
    "\n",
    "for e in attrib_list:\n",
    "    if e.tag == 'key':\n",
    "        accidentals = e.xpath('./fifths')[0].text\n",
    "        mode = e.xpath('./mode')[0].text\n",
    "        key = key_dict[accidentals]\n",
    "        print(\"\\tKey signature:\\t\", key)\n",
    "    if e.tag == 'time':\n",
    "        beats = e.xpath('./beats')[0].text\n",
    "        val = e.xpath('./beat-type')[0].text\n",
    "        time = \"%s/%s\" % (beats,val)\n",
    "        print(\"\\tTime signature:\\t\",time)"
   ]
  },
  {
   "cell_type": "markdown",
   "metadata": {},
   "source": [
    "### Build a dataframe with notes"
   ]
  },
  {
   "cell_type": "code",
   "execution_count": 13,
   "metadata": {},
   "outputs": [],
   "source": [
    "pitch_dict = {'A0':'1','G##0':'1','Bbb0':'1','A#0':'2','Bb0':'2','Cbb1':'2','B0':'3','Cb1':'3','A##0':'3','C1':'4','B#0':'4','Dbb1':'4','C#1':'5','Db1':'5','B##1':'5','D1':'6','C##1':'6','Dbb1':'6','D#1':'7','Eb1':'7','Fbb1':'7','E1':'8','Fb1':'8','D##1':'8','1':'8','F1':'9','E#1':'9','Gbb1':'9','F#1':'10','Gb1':'10','E##1':'10','G1':'11','F##1':'11','Abb1':'11','G#1':'12','Ab1':'12','A1':'13','G##1':'13','Bbb1':'13','A#1':'14','Bb1':'14','Cbb1':'14','B1':'15','Cb1':'15','A##1':'15','C2':'16','B#2':'16','Dbb2':'16','C#2':'17','Db2':'17','B##2':'17','D2':'18','C##2':'18','Dbb2':'18','D#2':'19','Eb2':'19','Fbb2':'19','E2':'20','Fb2':'20','D##2':'20','2':'20','F2':'21','E#2':'21','Gbb2':'21','F#2':'22','Gb2':'22','E##2':'22','G2':'23','F##2':'23','Abb2':'23','G#2':'24','Ab2':'24','A2':'25','G##2':'25','Bbb2':'25','A#2':'26','Bb2':'26','Cbb2':'26','B2':'27','Cb2':'27','A##2':'27','C3':'28','B#3':'28','Dbb3':'28','C#3':'29','Db3':'29','B##3':'29','D3':'30','C##3':'30','Dbb3':'30','D#3':'31','Eb3':'31','Fbb3':'31','E3':'32','Fb3':'32','D##3':'32','3':'32','F3':'33','E#3':'33','Gbb3':'33','F#3':'34','Gb3':'34','E##3':'34','G3':'35','F##3':'35','Abb3':'35','G#3':'36','Ab3':'36','A3':'37','G##3':'37','Bbb3':'37','A#3':'38','Bb3':'38','Cbb3':'38','B3':'39','Cb3':'39','A##3':'39','C4':'40','B#4':'40','Dbb4':'40','C#4':'41','Db4':'41','B##4':'41','D4':'42','C##4':'42','Dbb4':'42','D#4':'43','Eb4':'43','Fbb4':'43','E4':'44','Fb4':'44','D##4':'44','4':'44','F4':'45','E#4':'45','Gbb4':'45','F#4':'46','Gb4':'46','E##4':'46','G4':'47','F##4':'47','Abb4':'47','G#4':'48','Ab4':'48','A4':'49','G##4':'49','Bbb4':'49','A#4':'50','Bb4':'50','Cbb4':'50','B4':'51','Cb4':'51','A##4':'51','C5':'52','B#5':'52','Dbb5':'52','C#5':'53','Db5':'53','B##5':'53','D5':'54','C##5':'54','Dbb5':'54','D#5':'55','Eb5':'55','Fbb5':'55','E5':'56','Fb5':'56','D##5':'56','5':'56','F5':'57','E#5':'57','Gbb5':'57','F#5':'58','Gb5':'58','E##5':'58','G5':'59','F##5':'59','Abb5':'59','G#5':'60','Ab5':'60','A5':'61','G##5':'61','Bbb5':'61','A#5':'62','Bb5':'62','Cbb5':'62','B5':'63','Cb5':'63','A##5':'63','C6':'64','B#6':'64','Dbb6':'64','C#6':'65','Db6':'65','B##6':'65','D6':'66','C##6':'66','Dbb6':'66','D#6':'67','Eb6':'67','Fbb6':'67','E6':'68','Fb6':'68','D##6':'68','6':'68','F6':'69','E#6':'69','Gbb6':'69','F#6':'70','Gb6':'70','E##6':'70','G6':'71','F##6':'71','Abb6':'71','G#6':'72','Ab6':'72','A6':'73','G##6':'73','Bbb6':'73','A#6':'74','Bb6':'74','Cbb6':'74','B6':'75','Cb6':'75','A##6':'75','C7':'76','B#7':'76','Dbb7':'76','C#7':'77','Db7':'77','B##7':'77','D7':'78','C##7':'78','Dbb7':'78','D#7':'79','Eb7':'79','Fbb7':'79','E7':'80','Fb7':'80','D##7':'80','7':'80','F7':'81','E#7':'81','Gbb7':'81','F#7':'82','Gb7':'82','E##7':'82','G7':'83','F##7':'83','Abb7':'83','G#7':'84','Ab7':'84','A7':'85','G##7':'85','Bbb7':'85','A#7':'86','Bb7':'86','Cbb8':'86','B7':'87','Cb8':'87','A##7':'87','C8':'88','B#7':'88','Dbb8':'88'}"
   ]
  },
  {
   "cell_type": "code",
   "execution_count": 14,
   "metadata": {},
   "outputs": [],
   "source": [
    "notes = []\n",
    "\n",
    "for e in root.xpath('//note'):\n",
    "    \n",
    "    part = e.xpath('../..//@id')[0]\n",
    "    \n",
    "    measure = e.xpath('..//@number')[0]\n",
    "    \n",
    "    dotted = True if 'dot' in [child.tag for child in e] else False\n",
    "\n",
    "    grace = True if 'grace' in [child.tag for child in e] else False\n",
    "\n",
    "    cue = True if 'cue' in [child.tag for child in e] else False\n",
    "\n",
    "    rest = True if 'rest' in [child.tag for child in e] else False\n",
    "    \n",
    "    duration_list = e.xpath('.//duration/text()')\n",
    "    duration = duration_list[0] if len(duration_list)>0 else ''\n",
    "    \n",
    "    typ_list = e.xpath('.//type/text()')\n",
    "    typ = typ_list[0] if len(typ_list)>0 else ''\n",
    "\n",
    "    step_list = e.xpath('.//step/text()')\n",
    "    step = step_list[0] if len(step_list)>0 else ''\n",
    "    \n",
    "    alter_list = e.xpath('.//alter/text()')\n",
    "    alter = alter_list[0] if len(alter_list)>0 else ''\n",
    "    if alter == '0':\n",
    "        accidental = ''\n",
    "    elif alter == '-1':\n",
    "        accidental = 'b'\n",
    "    elif alter == '1':\n",
    "        accidental = '#'\n",
    "    elif alter == '-2':\n",
    "        accidental = 'bb'\n",
    "    elif alter == '2':\n",
    "        accidental = '##'\n",
    "    else:\n",
    "        accidental = ''\n",
    "\n",
    "    pitch = step + accidental\n",
    "    \n",
    "    octave_list = e.xpath('.//octave/text()')\n",
    "    octave = octave_list[0] if len(step_list)>0 else ''\n",
    "    \n",
    "    notes.append((part,measure,pitch,step,alter,octave,duration,typ,dotted,rest,grace,cue))\n"
   ]
  },
  {
   "cell_type": "markdown",
   "metadata": {},
   "source": [
    "---\n",
    "# Pandas Dataframe\n",
    "---"
   ]
  },
  {
   "cell_type": "code",
   "execution_count": 15,
   "metadata": {},
   "outputs": [],
   "source": [
    "df = pd.DataFrame(notes,columns=['part','measure','pitch','step','alter','octave','duration','type','dotted','rest','grace','cue'])"
   ]
  },
  {
   "cell_type": "code",
   "execution_count": 16,
   "metadata": {},
   "outputs": [],
   "source": [
    "df['keyboard_step'] = df['pitch'] + df['octave']\n",
    "df['keyboard_step'] = df['keyboard_step'].apply(lambda x: int(pitch_dict[x]) if len(x)>0 else None)"
   ]
  },
  {
   "cell_type": "code",
   "execution_count": 17,
   "metadata": {},
   "outputs": [],
   "source": [
    "df['interval'] = df['keyboard_step'].diff()"
   ]
  },
  {
   "cell_type": "code",
   "execution_count": 18,
   "metadata": {},
   "outputs": [
    {
     "data": {
      "text/html": [
       "<div>\n",
       "<style scoped>\n",
       "    .dataframe tbody tr th:only-of-type {\n",
       "        vertical-align: middle;\n",
       "    }\n",
       "\n",
       "    .dataframe tbody tr th {\n",
       "        vertical-align: top;\n",
       "    }\n",
       "\n",
       "    .dataframe thead th {\n",
       "        text-align: right;\n",
       "    }\n",
       "</style>\n",
       "<table border=\"1\" class=\"dataframe\">\n",
       "  <thead>\n",
       "    <tr style=\"text-align: right;\">\n",
       "      <th></th>\n",
       "      <th>part</th>\n",
       "      <th>measure</th>\n",
       "      <th>pitch</th>\n",
       "      <th>step</th>\n",
       "      <th>alter</th>\n",
       "      <th>octave</th>\n",
       "      <th>duration</th>\n",
       "      <th>type</th>\n",
       "      <th>dotted</th>\n",
       "      <th>rest</th>\n",
       "      <th>grace</th>\n",
       "      <th>cue</th>\n",
       "      <th>keyboard_step</th>\n",
       "      <th>interval</th>\n",
       "    </tr>\n",
       "  </thead>\n",
       "  <tbody>\n",
       "    <tr>\n",
       "      <th>0</th>\n",
       "      <td>P1</td>\n",
       "      <td>1</td>\n",
       "      <td></td>\n",
       "      <td></td>\n",
       "      <td></td>\n",
       "      <td></td>\n",
       "      <td>12</td>\n",
       "      <td></td>\n",
       "      <td>False</td>\n",
       "      <td>True</td>\n",
       "      <td>False</td>\n",
       "      <td>False</td>\n",
       "      <td>NaN</td>\n",
       "      <td>NaN</td>\n",
       "    </tr>\n",
       "    <tr>\n",
       "      <th>1</th>\n",
       "      <td>P1</td>\n",
       "      <td>2</td>\n",
       "      <td></td>\n",
       "      <td></td>\n",
       "      <td></td>\n",
       "      <td></td>\n",
       "      <td>12</td>\n",
       "      <td></td>\n",
       "      <td>False</td>\n",
       "      <td>True</td>\n",
       "      <td>False</td>\n",
       "      <td>False</td>\n",
       "      <td>NaN</td>\n",
       "      <td>NaN</td>\n",
       "    </tr>\n",
       "    <tr>\n",
       "      <th>2</th>\n",
       "      <td>P1</td>\n",
       "      <td>3</td>\n",
       "      <td></td>\n",
       "      <td></td>\n",
       "      <td></td>\n",
       "      <td></td>\n",
       "      <td>12</td>\n",
       "      <td></td>\n",
       "      <td>False</td>\n",
       "      <td>True</td>\n",
       "      <td>False</td>\n",
       "      <td>False</td>\n",
       "      <td>NaN</td>\n",
       "      <td>NaN</td>\n",
       "    </tr>\n",
       "    <tr>\n",
       "      <th>3</th>\n",
       "      <td>P1</td>\n",
       "      <td>4</td>\n",
       "      <td></td>\n",
       "      <td></td>\n",
       "      <td></td>\n",
       "      <td></td>\n",
       "      <td>12</td>\n",
       "      <td></td>\n",
       "      <td>False</td>\n",
       "      <td>True</td>\n",
       "      <td>False</td>\n",
       "      <td>False</td>\n",
       "      <td>NaN</td>\n",
       "      <td>NaN</td>\n",
       "    </tr>\n",
       "    <tr>\n",
       "      <th>4</th>\n",
       "      <td>P1</td>\n",
       "      <td>5</td>\n",
       "      <td></td>\n",
       "      <td></td>\n",
       "      <td></td>\n",
       "      <td></td>\n",
       "      <td>4</td>\n",
       "      <td>quarter</td>\n",
       "      <td>False</td>\n",
       "      <td>True</td>\n",
       "      <td>False</td>\n",
       "      <td>False</td>\n",
       "      <td>NaN</td>\n",
       "      <td>NaN</td>\n",
       "    </tr>\n",
       "    <tr>\n",
       "      <th>...</th>\n",
       "      <td>...</td>\n",
       "      <td>...</td>\n",
       "      <td>...</td>\n",
       "      <td>...</td>\n",
       "      <td>...</td>\n",
       "      <td>...</td>\n",
       "      <td>...</td>\n",
       "      <td>...</td>\n",
       "      <td>...</td>\n",
       "      <td>...</td>\n",
       "      <td>...</td>\n",
       "      <td>...</td>\n",
       "      <td>...</td>\n",
       "      <td>...</td>\n",
       "    </tr>\n",
       "    <tr>\n",
       "      <th>1158</th>\n",
       "      <td>P4</td>\n",
       "      <td>63</td>\n",
       "      <td>Bb</td>\n",
       "      <td>B</td>\n",
       "      <td>-1</td>\n",
       "      <td>2</td>\n",
       "      <td>4</td>\n",
       "      <td>half</td>\n",
       "      <td>False</td>\n",
       "      <td>False</td>\n",
       "      <td>False</td>\n",
       "      <td>False</td>\n",
       "      <td>26.0</td>\n",
       "      <td>1.0</td>\n",
       "    </tr>\n",
       "    <tr>\n",
       "      <th>1159</th>\n",
       "      <td>P4</td>\n",
       "      <td>63</td>\n",
       "      <td>B</td>\n",
       "      <td>B</td>\n",
       "      <td></td>\n",
       "      <td>2</td>\n",
       "      <td>2</td>\n",
       "      <td>quarter</td>\n",
       "      <td>False</td>\n",
       "      <td>False</td>\n",
       "      <td>False</td>\n",
       "      <td>False</td>\n",
       "      <td>27.0</td>\n",
       "      <td>1.0</td>\n",
       "    </tr>\n",
       "    <tr>\n",
       "      <th>1160</th>\n",
       "      <td>P4</td>\n",
       "      <td>64</td>\n",
       "      <td>B</td>\n",
       "      <td>B</td>\n",
       "      <td></td>\n",
       "      <td>2</td>\n",
       "      <td>2</td>\n",
       "      <td>quarter</td>\n",
       "      <td>False</td>\n",
       "      <td>False</td>\n",
       "      <td>False</td>\n",
       "      <td>False</td>\n",
       "      <td>27.0</td>\n",
       "      <td>0.0</td>\n",
       "    </tr>\n",
       "    <tr>\n",
       "      <th>1161</th>\n",
       "      <td>P4</td>\n",
       "      <td>64</td>\n",
       "      <td>A</td>\n",
       "      <td>A</td>\n",
       "      <td></td>\n",
       "      <td>2</td>\n",
       "      <td>4</td>\n",
       "      <td>half</td>\n",
       "      <td>False</td>\n",
       "      <td>False</td>\n",
       "      <td>False</td>\n",
       "      <td>False</td>\n",
       "      <td>25.0</td>\n",
       "      <td>-2.0</td>\n",
       "    </tr>\n",
       "    <tr>\n",
       "      <th>1162</th>\n",
       "      <td>P4</td>\n",
       "      <td>65</td>\n",
       "      <td>D</td>\n",
       "      <td>D</td>\n",
       "      <td></td>\n",
       "      <td>2</td>\n",
       "      <td>6</td>\n",
       "      <td>half</td>\n",
       "      <td>True</td>\n",
       "      <td>False</td>\n",
       "      <td>False</td>\n",
       "      <td>False</td>\n",
       "      <td>18.0</td>\n",
       "      <td>-7.0</td>\n",
       "    </tr>\n",
       "  </tbody>\n",
       "</table>\n",
       "<p>1163 rows × 14 columns</p>\n",
       "</div>"
      ],
      "text/plain": [
       "     part measure pitch step alter octave duration     type  dotted   rest  \\\n",
       "0      P1       1                               12            False   True   \n",
       "1      P1       2                               12            False   True   \n",
       "2      P1       3                               12            False   True   \n",
       "3      P1       4                               12            False   True   \n",
       "4      P1       5                                4  quarter   False   True   \n",
       "...   ...     ...   ...  ...   ...    ...      ...      ...     ...    ...   \n",
       "1158   P4      63    Bb    B    -1      2        4     half   False  False   \n",
       "1159   P4      63     B    B            2        2  quarter   False  False   \n",
       "1160   P4      64     B    B            2        2  quarter   False  False   \n",
       "1161   P4      64     A    A            2        4     half   False  False   \n",
       "1162   P4      65     D    D            2        6     half    True  False   \n",
       "\n",
       "      grace    cue  keyboard_step  interval  \n",
       "0     False  False            NaN       NaN  \n",
       "1     False  False            NaN       NaN  \n",
       "2     False  False            NaN       NaN  \n",
       "3     False  False            NaN       NaN  \n",
       "4     False  False            NaN       NaN  \n",
       "...     ...    ...            ...       ...  \n",
       "1158  False  False           26.0       1.0  \n",
       "1159  False  False           27.0       1.0  \n",
       "1160  False  False           27.0       0.0  \n",
       "1161  False  False           25.0      -2.0  \n",
       "1162  False  False           18.0      -7.0  \n",
       "\n",
       "[1163 rows x 14 columns]"
      ]
     },
     "execution_count": 18,
     "metadata": {},
     "output_type": "execute_result"
    }
   ],
   "source": [
    "df"
   ]
  },
  {
   "cell_type": "markdown",
   "metadata": {},
   "source": [
    "---\n",
    "# Vizualizations\n",
    "---"
   ]
  },
  {
   "cell_type": "code",
   "execution_count": 19,
   "metadata": {
    "scrolled": true
   },
   "outputs": [
    {
     "data": {
      "text/plain": [
       "Text(0.5, 1.0, 'Note types')"
      ]
     },
     "execution_count": 19,
     "metadata": {},
     "output_type": "execute_result"
    },
    {
     "data": {
      "image/png": "[encoded data removed]",
      "text/plain": [
       "<Figure size 432x288 with 1 Axes>"
      ]
     },
     "metadata": {
      "needs_background": "light"
     },
     "output_type": "display_data"
    }
   ],
   "source": [
    "col = 'type'\n",
    "df[df[col]!=''].groupby(col)[col].count().sort_values(ascending=False).plot.bar()\n",
    "plt.ylabel('Count')\n",
    "plt.xlabel('Note type')\n",
    "plt.title('Note types')"
   ]
  },
  {
   "cell_type": "code",
   "execution_count": 20,
   "metadata": {},
   "outputs": [],
   "source": [
    "df = df.set_index('part',append=True)"
   ]
  },
  {
   "cell_type": "code",
   "execution_count": 21,
   "metadata": {
    "scrolled": false
   },
   "outputs": [
    {
     "name": "stdout",
     "output_type": "stream",
     "text": [
      "pitch\n",
      "      176\n",
      "A     154\n",
      "B      37\n",
      "Bb     97\n",
      "C      93\n",
      "C#     36\n",
      "D     159\n",
      "E     107\n",
      "Eb     31\n",
      "F     127\n",
      "F#     17\n",
      "G     118\n",
      "G#     11\n",
      "Name: pitch, dtype: int64\n"
     ]
    }
   ],
   "source": [
    "pitch_df = df.groupby('pitch')['pitch'].count()\n",
    "print(pitch_df)\n",
    "# table = pd.pivot_table(df, values='pitch', index=[part],columns=['part'], aggfunc=np.unique)\n",
    "# print(table)\n",
    "# pd.pivot_table(df, columns='pitch', values='step').plot(subplots=True)\n",
    "# print(table)"
   ]
  },
  {
   "cell_type": "code",
   "execution_count": 22,
   "metadata": {
    "scrolled": false
   },
   "outputs": [
    {
     "name": "stdout",
     "output_type": "stream",
     "text": [
      "\n",
      "PITCH COUNTS BY PART\n",
      "\n"
     ]
    },
    {
     "data": {
      "image/png": "[encoded data removed]",
      "text/plain": [
       "<Figure size 864x576 with 4 Axes>"
      ]
     },
     "metadata": {
      "needs_background": "light"
     },
     "output_type": "display_data"
    }
   ],
   "source": [
    "print('\\nPITCH COUNTS BY PART\\n')\n",
    "\n",
    "col = 'pitch'\n",
    "result = df[df[col]!=''].groupby(['part',col])[col].count()\n",
    "result_df = result.to_frame().rename (columns={col:'count'}).reset_index()\n",
    "p = len(parts)\n",
    "if p%2 == 0:\n",
    "    num_rows = int(p/2)\n",
    "    fig, ax = plt.subplots(num_rows,2,figsize=(12,num_rows*4))\n",
    "elif p%3 == 0:\n",
    "    num_rows = int(p/3)\n",
    "    fig, ax = plt.subplots(num_rows,3,figsize=(15,num_rows*3))\n",
    "else:\n",
    "    num_rows = p\n",
    "    fig, ax = plt.subplots(num_rows,1,figsize=(10,num_rows))\n",
    "\n",
    "result_df.pivot(index=col,columns='part',values='count').sort_values(by=\"P1\",ascending=False).plot.bar(subplots=True, ax=ax,legend=False, sharex=False)\n",
    "\n",
    "plt.tight_layout()\n",
    "plt.show()\n",
    "\n",
    "\n"
   ]
  },
  {
   "cell_type": "markdown",
   "metadata": {},
   "source": [
    "### Pitches\n",
    "\n",
    "Because this song is written in the key of F, the expected most common pitches are as follows:\n",
    "\n",
    "* **I chord**: F-A-C\n",
    "* **IV chord**: Bb-D-F\n",
    "* **V(7) chord**: C-E-G(-Bb)\n",
    "* **vi chord**: D-F-A\n",
    "* **ii chord**: G-Bb-D"
   ]
  },
  {
   "cell_type": "code",
   "execution_count": 23,
   "metadata": {
    "scrolled": true
   },
   "outputs": [
    {
     "data": {
      "text/plain": [
       "Text(0.5, 1.0, 'Pitches')"
      ]
     },
     "execution_count": 23,
     "metadata": {},
     "output_type": "execute_result"
    },
    {
     "data": {
      "image/png": "[encoded data removed]",
      "text/plain": [
       "<Figure size 432x288 with 1 Axes>"
      ]
     },
     "metadata": {
      "needs_background": "light"
     },
     "output_type": "display_data"
    }
   ],
   "source": [
    "col = 'pitch'\n",
    "df[df[col]!=''].groupby(col)[col].count().sort_values(ascending=False).plot.bar(subplots=True)\n",
    "plt.ylabel('Count')\n",
    "plt.xlabel('Pitch')\n",
    "plt.title('Pitches')"
   ]
  },
  {
   "cell_type": "markdown",
   "metadata": {},
   "source": [
    "---\n",
    "# Patterns\n",
    "---\n",
    "Using the string generated from the dataframe series, match any reoccuring patterns longer than a given length."
   ]
  },
  {
   "cell_type": "code",
   "execution_count": 24,
   "metadata": {},
   "outputs": [
    {
     "name": "stdout",
     "output_type": "stream",
     "text": [
      "      part\n",
      "0     P1        \n",
      "1     P1        \n",
      "2     P1        \n",
      "3     P1        \n",
      "4     P1        \n",
      "              ..\n",
      "1158  P4      Bb\n",
      "1159  P4       B\n",
      "1160  P4       B\n",
      "1161  P4       A\n",
      "1162  P4       D\n",
      "Name: pitch, Length: 1163, dtype: object\n",
      "Index(['measure', 'pitch', 'step', 'alter', 'octave', 'duration', 'type',\n",
      "       'dotted', 'rest', 'grace', 'cue', 'keyboard_step', 'interval'],\n",
      "      dtype='object')\n"
     ]
    }
   ],
   "source": [
    "print(df['pitch'])\n",
    "print(df.columns)"
   ]
  },
  {
   "cell_type": "code",
   "execution_count": 32,
   "metadata": {
    "scrolled": false
   },
   "outputs": [
    {
     "name": "stdout",
     "output_type": "stream",
     "text": [
      "......A.Bb.A.G.Bb.A.F.E.D.A.B.C.D.C.B.C.G#.F#.E.C.C.B..B.C.D.B.A..A.A.G#..G#.G#.A..A.A.B.E.A.G#.A..C.C.Bb..Bb.C.D.Bb.A..A.A.G..G.A.Bb.G.F..C.D.E.F.E.G.F.F.E.D.C.B.G.F.E.D.C.C......D.Eb.D.C.Eb.D.C.Bb.D.C#.D.F.E.F.F.E..E.F.G.E.D......F.G.F.Eb.G.F.Eb.D..D.D.C....G.C.C.Bb..Bb.Bb.A..D.Eb.D.C.G.F.Eb.D.C.Bb.A.G.C.Bb.A.C.Bb.A.G..Eb.Eb.D.C.Bb.C.Eb.D.C.Bb.A.G....Bb.Bb.A..G.G.F.....G.G.F..F.F.E....A.C.C.B..B.B.C....C.Eb.Eb.D..F.F.E....E.G.G.F..F.F.E..E.F.G.E.D..D.D.C#..C#.C#.D..D.D.E.A.D.C#.G.G.Bb.A.G.F.F.C#.D.D.C#.D.D.....A.Bb.A.G.Bb.A.F.E.D.F.F.E..E.F.G.E.D..F.F.E.....E.F.E.D.A.G.F.E.D.C.B.A.D.C.B.D.C.B.A..F.F.E.D.C.D.F.E.D.C.B.A.C.D.E.F.E.G.F.F.E.D.C.D.C.Bb..Bb.C.D.Bb.A..A.A.G..G.A.Bb.G.F..D.D.C.C.B.B.A.B.C........A.Bb.A.G.Bb.A.F.E.D.F.F.Eb..Eb.F.G.Eb.D..D.D.C..C.D.Eb.C.Bb.F.Bb.Bb.A..A.A.G....D.G.G.F#......D.Eb.D.C.Eb.D.C.Bb.A.G.A.Bb.C.Bb.A.A.Bb.G..D.E.F.G.F.E.F.C#.B.A....D.D.C#..E.E.D....E.G.G.F#..F#.F#.G....G.Bb.Bb.A..A.A.Bb....Bb.D.D.C#..E.E.D......D.Bb.A.G.Bb.A.G.F.E.D.E.F.G.F.E.E.F.C#.D.G#.G#.A.F.E.D.D...A.Bb.A.G.Bb.A.F.E.D.F.F.E..E.F.G.E.D..D.D.C#..C#.C#.D.....F.F.E......A.F.E.D.F.E.D.C.B.A.B.C.D.C.B.B.C.B.A......C.D.E.F.E.G.F.F.E.D.C.D.C.Bb..Bb.C.D.Bb.A..F.F.E.A.G.F.G.E..G.A.G.F.A.G.E.G.F#.G.Bb.A.Bb.Bb.A..A.Bb.C.A.G..D.D.C#..C#.C#.D..A.Bb.C.D.Eb.D.Eb.A.G.F.Bb.Bb.C.A.A.Bb....C.F.F.Eb..Eb.Eb.D.....Bb.Bb.A..A.Bb.C.A.G..G.G.F#..F#.F#.G..G.G.A.D.G.F#.F#.G..Bb.Bb.A.....E.E.D..F.F.E.....D.D.C#..C#.C#.D....D.F.F.E..E.E.F....F.A.A.G..Bb.Bb.A.....A.Bb.A.G.D.C.Bb.A.G.F.E.D.G.F.E.G.F.E.D..Bb.Bb.A.G.F.G.A.F.E.F.D.D.E.F.A.G.Bb.A.F#.D.A.F.A.D.A.G.Bb.E.G.C#.E.D.A.F.A.D.F.G.E.C#.E.A.C#.D.A.F.A.D.F.G.Bb.E.G.A.A.D.A.F.A.D.F.G#.B.E.G#.A.D.E.B.G#.B.A.C.D.F.B.D.G.B.C.E.A.C.F.A.B.D.G#.B.E.E.A.C.F.A.D.B.E.D.E.E.A.E.C.E.A.C.Bb.D.G.Bb.C.C.F.A.G.Bb.A.C.Bb.D.G.Bb.C.C.F.A.G.Bb.A.C.Bb.D.G.Bb.C#.E.D.A.F.A.D.F.E.F.G.G.C.E.D.F.E.G.F.D.B.D.G.B.C.A.Bb.F#.G.Bb.C.Eb.A.C.D.D.G.E.F.C#.D.D.G.Bb.E.G.A.A.D.A.F.A.D.F.G.Bb.Eb.G.C.Eb.F.A.D.F.Bb.D.Eb.C.F.F.Bb.F.D.F.Bb.D.F.C.A.C.F.A.C.G.Eb.G.C.Eb.G.D.Bb.D.G.Bb.D.A.F#.A.G.Bb.C.Eb.A.C.F.A.Bb.D.G.Bb.Eb.G.A.C.F#.A.D.D.G.Bb.Eb.G.C.A.D.C.D.D.G.D.Bb.D.G.Bb.C#.E.A.C#.D.G.A.E.C#.E.A.C#.D.A.F.A.D.F.A.E.C#.E.A.C#.D.A.F.A.D.F.A.E.C#.E.A.C#.D.A.F#.A.D.F#.G.D.B.D.G.B.C.G.E.G.C.E.F.C.A.C.F.A.Bb.F.D.F.Bb.D.E.Bb.G.Bb.E.G.A.E.C#.E.A.C#.D.A.F.A.D.F.G.Bb.E.G.C.E.F.A.D.F.Bb.D.E.G.C#.E.A.A.D.F.Bb.D.G.E.A.G.A.Bb.B.B.A.D\n"
     ]
    }
   ],
   "source": [
    "steps = df['pitch'].to_string(index=False, header=False)\n",
    "# steps = re.sub(r'\\n|\\t| ','',steps)\n",
    "steps = re.sub(r'\\n','.',steps)\n",
    "steps = re.sub(r' ','',steps)\n",
    "\n",
    "\n",
    "print(steps)"
   ]
  },
  {
   "cell_type": "code",
   "execution_count": 26,
   "metadata": {},
   "outputs": [],
   "source": [
    "# min_length = 8\n",
    "# min_occur = 2\n",
    "# pat = r'(?=(.{%d,})).*\\1{%d,}' % (min_length, min_occur-1)\n",
    "\n",
    "# step_patterns = re.findall(pat,steps)\n",
    "\n",
    "# print(Counter(step_patterns))"
   ]
  },
  {
   "cell_type": "code",
   "execution_count": 27,
   "metadata": {},
   "outputs": [],
   "source": [
    "# min_length = 5\n",
    "# min_occur = 8\n",
    "# pat = r'(?=(.{%d,})(?=.*\\1){%d,})' % (min_length, min_occur-1)\n",
    "# step_patterns = re.findall(pat,steps)\n",
    "# print(Counter(step_patterns))"
   ]
  },
  {
   "cell_type": "code",
   "execution_count": 28,
   "metadata": {},
   "outputs": [
    {
     "name": "stdout",
     "output_type": "stream",
     "text": [
      "['ABbAGBbAFED', 'DDC#C#C#D', 'C#EDAFADF', 'GBbCEbAC', 'GAEC#EAC#DAFADF']\n"
     ]
    }
   ],
   "source": [
    "min_length = 8\n",
    "min_occur = 2\n",
    "pat = r'(.{%d,})(?:.*\\1){%d,}' % (min_length, min_occur-1)\n",
    "# pat = r'(.{%d,})(?:.*\\1)' % (min_length)\n",
    "# pat = r'(.{12,})(?:.*\\1)'\n",
    "\n",
    "\n",
    "step_patterns = re.findall(pat,steps,overlapping=True)\n",
    "\n",
    "print(step_patterns)"
   ]
  },
  {
   "cell_type": "code",
   "execution_count": 29,
   "metadata": {},
   "outputs": [
    {
     "name": "stdout",
     "output_type": "stream",
     "text": [
      "ABbAGBbAFEDABCDCBCG#F#ECCBBCDBAAAG#G#G#AAABEAG#ACCBbBbCDBbAAAGGABbGFCDEFEGFFEDCBGFEDCCDEbDCEbDCBbDC#DFEFFEEFGEDFGFEbGFEbDDDCGCCBbBbBbADEbDCGFEbDCBbAGCBbACBbAGEbEbDCBbCEbDCBbAGBbBbAGGFGGFFFEACCBBBCCEbEbDFFEEGGFFFEEFGEDDDC#C#C#DDDEADC#GGBbAGFFC#DDC#DDABbAGBbAFEDFFEEFGEDFFEEFEDAGFEDCBADCBDCBAFFEDCDFEDCBACDEFEGFFEDCDCBbBbCDBbAAAGGABbGFDDCCBBABCABbAGBbAFEDFFEbEbFGEbDDDCCDEbCBbFBbBbAAAGDGGF#DEbDCEbDCBbAGABbCBbAABbGDEFGFEFC#BADDC#EEDEGGF#F#F#GGBbBbAAABbBbDDC#EEDDBbAGBbAGFEDEFGFEEFC#DG#G#AFEDDABbAGBbAFED\n",
      "\n",
      "DDC#C#C#DFFEAFEDFEDCBABCDCBBCBACDEFEGFFEDCDCBbBbCDBbAFFEAGFGEGAGFAGEGF#GBbABbBbAABbCAGDDC#C#C#DABbCDEbDEbAGFBbBbCAABbCFFEbEbEbDBbBbAABbCAGGGF#F#F#GGGADGF#F#GBbBbAEEDFFEDDC#C#C#D\n",
      "\n",
      "C#EDAFADFGEC#EAC#DAFADFGBbEGAADAFADFG#BEG#ADEBG#BACDFBDGBCEACFABDG#BEEACFADBEDEEAECEACBbDGBbCCFAGBbACBbDGBbCCFAGBbACBbDGBbC#EDAFADF\n",
      "\n",
      "GBbCEbACDDGEFC#DDGBbEGAADAFADFGBbEbGCEbFADFBbDEbCFFBbFDFBbDFCACFACGEbGCEbGDBbDGBbDAF#AGBbCEbAC\n",
      "\n",
      "GAEC#EAC#DAFADFAEC#EAC#DAFADFAEC#EAC#DAF#ADF#GDBDGBCGEGCEFCACFABbFDFBbDEBbGBbEGAEC#EAC#DAFADF\n",
      "\n"
     ]
    }
   ],
   "source": [
    "min_length = 8\n",
    "min_occur = 2\n",
    "pat = r'(.{%d,})(?:.*\\1){%d,}' % (min_length, min_occur-1)\n",
    "# pat = r'(.{%d,})(?:.*\\1)' % (min_length)\n",
    "# pat = r'(.{12,})(?:.*\\1)'\n",
    "\n",
    "\n",
    "step_patterns = re.finditer(pat,steps,overlapping=True)\n",
    "\n",
    "for pat in step_patterns:\n",
    "    print(pat.group())\n",
    "    print()\n"
   ]
  },
  {
   "cell_type": "markdown",
   "metadata": {},
   "source": [
    "---\n",
    "# Database\n",
    "---\n",
    "[SQLite3 documentation](https://docs.python.org/3.7/library/sqlite3.html)"
   ]
  },
  {
   "cell_type": "code",
   "execution_count": 30,
   "metadata": {},
   "outputs": [],
   "source": [
    "import sqlite3\n",
    "conn = sqlite3.connect('pythagoras.db')"
   ]
  },
  {
   "cell_type": "code",
   "execution_count": 31,
   "metadata": {},
   "outputs": [
    {
     "ename": "OperationalError",
     "evalue": "table work already exists",
     "output_type": "error",
     "traceback": [
      "\u001b[0;31m---------------------------------------------------------------------------\u001b[0m",
      "\u001b[0;31mOperationalError\u001b[0m                          Traceback (most recent call last)",
      "\u001b[0;32m<ipython-input-31-7d63fde51448>\u001b[0m in \u001b[0;36m<module>\u001b[0;34m()\u001b[0m\n\u001b[1;32m      1\u001b[0m \u001b[0mc\u001b[0m \u001b[0;34m=\u001b[0m \u001b[0mconn\u001b[0m\u001b[0;34m.\u001b[0m\u001b[0mcursor\u001b[0m\u001b[0;34m(\u001b[0m\u001b[0;34m)\u001b[0m\u001b[0;34m\u001b[0m\u001b[0;34m\u001b[0m\u001b[0m\n\u001b[0;32m----> 2\u001b[0;31m \u001b[0mc\u001b[0m\u001b[0;34m.\u001b[0m\u001b[0mexecute\u001b[0m\u001b[0;34m(\u001b[0m\u001b[0;34m'''CREATE TABLE work (work_id int, title text);'''\u001b[0m\u001b[0;34m)\u001b[0m\u001b[0;34m\u001b[0m\u001b[0;34m\u001b[0m\u001b[0m\n\u001b[0m\u001b[1;32m      3\u001b[0m \u001b[0mconn\u001b[0m\u001b[0;34m.\u001b[0m\u001b[0mcommit\u001b[0m\u001b[0;34m(\u001b[0m\u001b[0;34m)\u001b[0m\u001b[0;34m\u001b[0m\u001b[0;34m\u001b[0m\u001b[0m\n\u001b[1;32m      4\u001b[0m \u001b[0mconn\u001b[0m\u001b[0;34m.\u001b[0m\u001b[0mclose\u001b[0m\u001b[0;34m(\u001b[0m\u001b[0;34m)\u001b[0m\u001b[0;34m\u001b[0m\u001b[0;34m\u001b[0m\u001b[0m\n",
      "\u001b[0;31mOperationalError\u001b[0m: table work already exists"
     ]
    }
   ],
   "source": [
    "c = conn.cursor()\n",
    "c.execute('''CREATE TABLE work (work_id int, title text);''')\n",
    "conn.commit()\n",
    "conn.close()"
   ]
  },
  {
   "cell_type": "code",
   "execution_count": 36,
   "metadata": {},
   "outputs": [
    {
     "name": "stdout",
     "output_type": "stream",
     "text": [
      "[('work',)]\n"
     ]
    }
   ],
   "source": [
    "c = conn.cursor()\n",
    "print(c.execute('''SELECT name from sqlite_master where type=\"table\";''').fetchall())"
   ]
  },
  {
   "cell_type": "code",
   "execution_count": null,
   "metadata": {},
   "outputs": [],
   "source": []
  }
 ],
 "metadata": {
  "kernelspec": {
   "display_name": "Python 3",
   "language": "python",
   "name": "python3"
  },
  "language_info": {
   "codemirror_mode": {
    "name": "ipython",
    "version": 3
   },
   "file_extension": ".py",
   "mimetype": "text/x-python",
   "name": "python",
   "nbconvert_exporter": "python",
   "pygments_lexer": "ipython3",
   "version": "3.6.10"
  }
 },
 "nbformat": 4,
 "nbformat_minor": 2
}
