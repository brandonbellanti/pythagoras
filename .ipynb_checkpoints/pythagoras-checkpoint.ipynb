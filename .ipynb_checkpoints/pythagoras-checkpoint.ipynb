{
 "cells": [
  {
   "cell_type": "markdown",
   "metadata": {},
   "source": [
    "# pythagoras\n",
    "\n",
    "Welcome to _pythagoras_. For more information about the project, visit the [project website](http://web.simmons.edu/~bellanti/pythagoras) or the Github repo.\n",
    "\n",
    "---\n",
    "\n",
    "# Brandenburg Concerto No. 2 in F Major, BWV 1047\n",
    "J.S. Bach"
   ]
  },
  {
   "cell_type": "markdown",
   "metadata": {},
   "source": [
    "### Load libraries and settings"
   ]
  },
  {
   "cell_type": "code",
   "execution_count": 1,
   "metadata": {},
   "outputs": [],
   "source": [
    "import pandas as pd\n",
    "import numpy as np\n",
    "import matplotlib.pyplot as plt\n",
    "from lxml import etree\n",
    "import re\n",
    "from collections import Counter\n",
    "%matplotlib inline"
   ]
  },
  {
   "cell_type": "markdown",
   "metadata": {},
   "source": [
    "### Parse the MusicXML file"
   ]
  },
  {
   "cell_type": "code",
   "execution_count": 71,
   "metadata": {},
   "outputs": [],
   "source": [
    "# xml_filepath = \"./scores/xml/JSB_BWV1047_1.xml\"\n",
    "xml_filepath = \"./scores/xml/JSB_BWV1047_2.xml\"\n",
    "# xml_filepath = \"./scores/xml/JSB_BWV1047_3.xml\""
   ]
  },
  {
   "cell_type": "code",
   "execution_count": 72,
   "metadata": {},
   "outputs": [],
   "source": [
    "tree = etree.parse(xml_filepath)\n",
    "root = tree.getroot()"
   ]
  },
  {
   "cell_type": "markdown",
   "metadata": {},
   "source": [
    "### Get information about the work"
   ]
  },
  {
   "cell_type": "code",
   "execution_count": 73,
   "metadata": {},
   "outputs": [
    {
     "name": "stdout",
     "output_type": "stream",
     "text": [
      "\n",
      "INSTRUMENTATION:\n",
      "\n",
      "\tRecorder (P1)\n",
      "\tOboe (P2)\n",
      "\tViolin (P3)\n",
      "\tContrabass (P4)\n"
     ]
    }
   ],
   "source": [
    "print('\\nINSTRUMENTATION:\\n')\n",
    "\n",
    "parts = []\n",
    "\n",
    "for e in root.xpath('//score-part'):\n",
    "    part = e.xpath('./@id')[0]\n",
    "    parts.append(part)\n",
    "    instr = e.xpath('.//instrument-name')[0].text\n",
    "    print(\"\\t%s (%s)\" % (instr,part))"
   ]
  },
  {
   "cell_type": "code",
   "execution_count": 74,
   "metadata": {},
   "outputs": [
    {
     "name": "stdout",
     "output_type": "stream",
     "text": [
      "\n",
      "KEY & TIME\n",
      "\n",
      "\tKey signature:\t F major (D minor)\n",
      "\tTime signature:\t 3/4\n"
     ]
    }
   ],
   "source": [
    "print('\\nKEY & TIME\\n')\n",
    "\n",
    "attrib_list = root.xpath(\"//part[@id='P1']/measure[@number='1']/attributes/*\")\n",
    "\n",
    "key_dict = {\n",
    "    '-7':'Cb major (Ab minor)',\n",
    "    '-6':'Gb major (Eb minor)',\n",
    "    '-5':'Db major (Bb minor)',\n",
    "    '-4':'Ab major (F minor)',\n",
    "    '-3':'Eb major (C minor)',\n",
    "    '-2':'Bb major (G minor)',\n",
    "    '-1':'F major (D minor)',\n",
    "    '0':'C major (A minor)',\n",
    "    '1':'G major (E minor)',\n",
    "    '2':'D major (B minor)',\n",
    "    '3':'A major (F# minor)',\n",
    "    '4':'E major (C# minor)',\n",
    "    '5':'B major (G# minor)',\n",
    "    '6':'F# major (D# minor)',\n",
    "    '7':'C# major (A# minor)'\n",
    "}\n",
    "\n",
    "for e in attrib_list:\n",
    "    if e.tag == 'key':\n",
    "        accidentals = e.xpath('./fifths')[0].text\n",
    "        mode = e.xpath('./mode')[0].text\n",
    "        key = key_dict[accidentals]\n",
    "        print(\"\\tKey signature:\\t\", key)\n",
    "    if e.tag == 'time':\n",
    "        beats = e.xpath('./beats')[0].text\n",
    "        val = e.xpath('./beat-type')[0].text\n",
    "        time = \"%s/%s\" % (beats,val)\n",
    "        print(\"\\tTime signature:\\t\",time)"
   ]
  },
  {
   "cell_type": "markdown",
   "metadata": {},
   "source": [
    "### Build a dataframe with notes"
   ]
  },
  {
   "cell_type": "code",
   "execution_count": 75,
   "metadata": {},
   "outputs": [],
   "source": [
    "notes = []\n",
    "\n",
    "for e in root.xpath('//note'):\n",
    "    \n",
    "    part = e.xpath('../..//@id')[0]\n",
    "    \n",
    "    measure = e.xpath('..//@number')[0]\n",
    "    \n",
    "    dotted = True if 'dot' in [child.tag for child in e] else False\n",
    "\n",
    "    rest = True if 'rest' in [child.tag for child in e] else False\n",
    "    \n",
    "    duration_list = e.xpath('.//duration/text()')\n",
    "    duration = duration_list[0] if len(duration_list)>0 else ''\n",
    "    \n",
    "    typ_list = e.xpath('.//type/text()')\n",
    "    typ = typ_list[0] if len(typ_list)>0 else ''\n",
    "\n",
    "    \n",
    "    step_list = e.xpath('.//step/text()')\n",
    "    step = step_list[0] if len(step_list)>0 else ''\n",
    "    \n",
    "    alter_list = e.xpath('.//alter/text()')\n",
    "    alter = alter_list[0] if len(alter_list)>0 else ''\n",
    "    if alter == '0':\n",
    "        accidental = ''\n",
    "    elif alter == '-1':\n",
    "        accidental = 'b'\n",
    "    elif alter == '1':\n",
    "        accidental = '#'\n",
    "    elif alter == '-2':\n",
    "        accidental = 'bb'\n",
    "    elif alter == '2':\n",
    "        accidental = '##'\n",
    "    else:\n",
    "        accidental = ''\n",
    "\n",
    "    \n",
    "    pitch = step + accidental\n",
    "    \n",
    "    octave_list = e.xpath('.//octave/text()')\n",
    "    octave = octave_list[0] if len(step_list)>0 else ''\n",
    "    \n",
    "    notes.append((part,measure,pitch,step,alter,octave,duration,typ,dotted,rest))\n"
   ]
  },
  {
   "cell_type": "code",
   "execution_count": 76,
   "metadata": {},
   "outputs": [],
   "source": [
    "df = pd.DataFrame(notes,columns=['part','measure','pitch','step','alter','octave','duration','type','dotted','rest'])\n",
    "print(df)"
   ]
  },
  {
   "cell_type": "markdown",
   "metadata": {},
   "source": [
    "### Vizualizations"
   ]
  },
  {
   "cell_type": "code",
   "execution_count": 77,
   "metadata": {
    "scrolled": true
   },
   "outputs": [
    {
     "data": {
      "text/plain": [
       "Text(0.5,1,'Note types')"
      ]
     },
     "execution_count": 77,
     "metadata": {},
     "output_type": "execute_result"
    },
    {
     "data": {
      "image/png": "[encoded data removed]",
      "text/plain": [
       "<Figure size 432x288 with 1 Axes>"
      ]
     },
     "metadata": {},
     "output_type": "display_data"
    }
   ],
   "source": [
    "col = 'type'\n",
    "df[df[col]!=''].groupby(col)[col].count().sort_values(ascending=False).plot.bar()\n",
    "plt.ylabel('Count')\n",
    "plt.xlabel('Note type')\n",
    "plt.title('Note types')"
   ]
  },
  {
   "cell_type": "code",
   "execution_count": 78,
   "metadata": {},
   "outputs": [],
   "source": [
    "df = df.set_index('part',append=True)"
   ]
  },
  {
   "cell_type": "code",
   "execution_count": 79,
   "metadata": {
    "scrolled": false
   },
   "outputs": [
    {
     "name": "stdout",
     "output_type": "stream",
     "text": [
      "pitch\n",
      "      176\n",
      "A     154\n",
      "B      37\n",
      "Bb     97\n",
      "C      93\n",
      "C#     36\n",
      "D     159\n",
      "E     107\n",
      "Eb     31\n",
      "F     127\n",
      "F#     17\n",
      "G     118\n",
      "G#     11\n",
      "Name: pitch, dtype: int64\n"
     ]
    }
   ],
   "source": [
    "pitch_df = df.groupby('pitch')['pitch'].count()\n",
    "print(pitch_df)\n",
    "# table = pd.pivot_table(df, values='pitch', index=[part],columns=['part'], aggfunc=np.unique)\n",
    "# print(table)\n",
    "# pd.pivot_table(df, columns='pitch', values='step').plot(subplots=True)\n",
    "# print(table)"
   ]
  },
  {
   "cell_type": "code",
   "execution_count": 80,
   "metadata": {
    "scrolled": false
   },
   "outputs": [
    {
     "name": "stdout",
     "output_type": "stream",
     "text": [
      "\n",
      "PITCH COUNTS BY PART\n",
      "\n"
     ]
    },
    {
     "data": {
      "image/png": "[encoded data removed]",
      "text/plain": [
       "<Figure size 864x576 with 4 Axes>"
      ]
     },
     "metadata": {},
     "output_type": "display_data"
    }
   ],
   "source": [
    "print('\\nPITCH COUNTS BY PART\\n')\n",
    "\n",
    "col = 'pitch'\n",
    "result = df[df[col]!=''].groupby(['part',col])[col].count()\n",
    "result_df = result.to_frame().rename (columns={col:'count'}).reset_index()\n",
    "p = len(parts)\n",
    "if p%2 == 0:\n",
    "    num_rows = int(p/2)\n",
    "    fig, ax = plt.subplots(num_rows,2,figsize=(12,num_rows*4))\n",
    "elif p%3 == 0:\n",
    "    num_rows = int(p/3)\n",
    "    fig, ax = plt.subplots(num_rows,3,figsize=(15,num_rows*3))\n",
    "else:\n",
    "    num_rows = p\n",
    "    fig, ax = plt.subplots(num_rows,1,figsize=(10,num_rows))\n",
    "\n",
    "result_df.pivot(index=col,columns='part',values='count').sort_values(by=\"P1\",ascending=False).plot.bar(subplots=True, ax=ax,legend=False, sharex=False)\n",
    "\n",
    "plt.tight_layout()\n",
    "plt.show()\n",
    "\n",
    "\n"
   ]
  },
  {
   "cell_type": "code",
   "execution_count": 81,
   "metadata": {},
   "outputs": [],
   "source": [
    "pitch_dict = {'A0':'1','G##0':'1','Bbb0':'1','A#0':'2','Bb0':'2','Cbb1':'2','B0':'3','Cb1':'3','A##0':'3','C1':'4','B#0':'4','Dbb1':'4','C#1':'5','Db1':'5','B##1':'5','D1':'6','C##1':'6','Dbb1':'6','D#1':'7','Eb1':'7','Fbb1':'7','E1':'8','Fb1':'8','D##1':'8','1':'8','F1':'9','E#1':'9','Gbb1':'9','F#1':'10','Gb1':'10','E##1':'10','G1':'11','F##1':'11','Abb1':'11','G#1':'12','Ab1':'12','A1':'13','G##1':'13','Bbb1':'13','A#1':'14','Bb1':'14','Cbb1':'14','B1':'15','Cb1':'15','A##1':'15','C2':'16','B#2':'16','Dbb2':'16','C#2':'17','Db2':'17','B##2':'17','D2':'18','C##2':'18','Dbb2':'18','D#2':'19','Eb2':'19','Fbb2':'19','E2':'20','Fb2':'20','D##2':'20','2':'20','F2':'21','E#2':'21','Gbb2':'21','F#2':'22','Gb2':'22','E##2':'22','G2':'23','F##2':'23','Abb2':'23','G#2':'24','Ab2':'24','A2':'25','G##2':'25','Bbb2':'25','A#2':'26','Bb2':'26','Cbb2':'26','B2':'27','Cb2':'27','A##2':'27','C3':'28','B#3':'28','Dbb3':'28','C#3':'29','Db3':'29','B##3':'29','D3':'30','C##3':'30','Dbb3':'30','D#3':'31','Eb3':'31','Fbb3':'31','E3':'32','Fb3':'32','D##3':'32','3':'32','F3':'33','E#3':'33','Gbb3':'33','F#3':'34','Gb3':'34','E##3':'34','G3':'35','F##3':'35','Abb3':'35','G#3':'36','Ab3':'36','A3':'37','G##3':'37','Bbb3':'37','A#3':'38','Bb3':'38','Cbb3':'38','B3':'39','Cb3':'39','A##3':'39','C4':'40','B#4':'40','Dbb4':'40','C#4':'41','Db4':'41','B##4':'41','D4':'42','C##4':'42','Dbb4':'42','D#4':'43','Eb4':'43','Fbb4':'43','E4':'44','Fb4':'44','D##4':'44','4':'44','F4':'45','E#4':'45','Gbb4':'45','F#4':'46','Gb4':'46','E##4':'46','G4':'47','F##4':'47','Abb4':'47','G#4':'48','Ab4':'48','A4':'49','G##4':'49','Bbb4':'49','A#4':'50','Bb4':'50','Cbb4':'50','B4':'51','Cb4':'51','A##4':'51','C5':'52','B#5':'52','Dbb5':'52','C#5':'53','Db5':'53','B##5':'53','D5':'54','C##5':'54','Dbb5':'54','D#5':'55','Eb5':'55','Fbb5':'55','E5':'56','Fb5':'56','D##5':'56','5':'56','F5':'57','E#5':'57','Gbb5':'57','F#5':'58','Gb5':'58','E##5':'58','G5':'59','F##5':'59','Abb5':'59','G#5':'60','Ab5':'60','A5':'61','G##5':'61','Bbb5':'61','A#5':'62','Bb5':'62','Cbb5':'62','B5':'63','Cb5':'63','A##5':'63','C6':'64','B#6':'64','Dbb6':'64','C#6':'65','Db6':'65','B##6':'65','D6':'66','C##6':'66','Dbb6':'66','D#6':'67','Eb6':'67','Fbb6':'67','E6':'68','Fb6':'68','D##6':'68','6':'68','F6':'69','E#6':'69','Gbb6':'69','F#6':'70','Gb6':'70','E##6':'70','G6':'71','F##6':'71','Abb6':'71','G#6':'72','Ab6':'72','A6':'73','G##6':'73','Bbb6':'73','A#6':'74','Bb6':'74','Cbb6':'74','B6':'75','Cb6':'75','A##6':'75','C7':'76','B#7':'76','Dbb7':'76','C#7':'77','Db7':'77','B##7':'77','D7':'78','C##7':'78','Dbb7':'78','D#7':'79','Eb7':'79','Fbb7':'79','E7':'80','Fb7':'80','D##7':'80','7':'80','F7':'81','E#7':'81','Gbb7':'81','F#7':'82','Gb7':'82','E##7':'82','G7':'83','F##7':'83','Abb7':'83','G#7':'84','Ab7':'84','A7':'85','G##7':'85','Bbb7':'85','A#7':'86','Bb7':'86','Cbb8':'86','B7':'87','Cb8':'87','A##7':'87','C8':'88','B#7':'88','Dbb8':'88'}"
   ]
  },
  {
   "cell_type": "markdown",
   "metadata": {},
   "source": [
    "### Pitches\n",
    "\n",
    "Because this song is written in the key of F, the expected most common pitches are as follows:\n",
    "\n",
    "* **I chord**: F-A-C\n",
    "* **IV chord**: Bb-D-F\n",
    "* **V(7) chord**: C-E-G(-Bb)\n",
    "* **vi chord**: D-F-A\n",
    "* **ii chord**: G-Bb-D"
   ]
  },
  {
   "cell_type": "code",
   "execution_count": 82,
   "metadata": {
    "scrolled": true
   },
   "outputs": [
    {
     "data": {
      "text/plain": [
       "Text(0.5,1,'Pitches')"
      ]
     },
     "execution_count": 82,
     "metadata": {},
     "output_type": "execute_result"
    },
    {
     "data": {
      "image/png": "[encoded data removed]",
      "text/plain": [
       "<Figure size 432x288 with 1 Axes>"
      ]
     },
     "metadata": {},
     "output_type": "display_data"
    }
   ],
   "source": [
    "col = 'pitch'\n",
    "df[df[col]!=''].groupby(col)[col].count().sort_values(ascending=False).plot.bar(subplots=True)\n",
    "plt.ylabel('Count')\n",
    "plt.xlabel('Pitch')\n",
    "plt.title('Pitches')"
   ]
  },
  {
   "cell_type": "markdown",
   "metadata": {},
   "source": [
    "## Match patterns\n",
    "Using the string generated from the dataframe series, match any reoccuring patterns longer than a given length."
   ]
  },
  {
   "cell_type": "code",
   "execution_count": 83,
   "metadata": {
    "scrolled": false
   },
   "outputs": [
    {
     "name": "stdout",
     "output_type": "stream",
     "text": [
      "partABAGBAFEDABCDCBCGFECCBBCDBAAAGGGAAABEAGACCBBCDBAAAGGABGFCDEFEGFFEDCBGFEDCCDEDCEDCBDCDFEFFEEFGEDFGFEGFEDDDCGCCBBBADEDCGFEDCBAGCBACBAGEEDCBCEDCBAGBBAGGFGGFFFEACCBBBCCEEDFFEEGGFFFEEFGEDDDCCCDDDEADCGGBAGFFCDDCDDABAGBAFEDFFEEFGEDFFEEFEDAGFEDCBADCBDCBAFFEDCDFEDCBACDEFEGFFEDCDCBBCDBAAAGGABGFDDCCBBABCABAGBAFEDFFEEFGEDDDCCDECBFBBAAAGDGGFDEDCEDCBAGABCBAABGDEFGFEFCBADDCEEDEGGFFFGGBBAAABBDDCEEDDBAGBAGFEDEFGFEEFCDGGAFEDDABAGBAFEDFFEEFGEDDDCCCDFFEAFEDFEDCBABCDCBBCBACDEFEGFFEDCDCBBCDBAFFEAGFGEGAGFAGEGFGBABBAABCAGDDCCCDABCDEDEAGFBBCAABCFFEEEDBBAABCAGGGFFFGGGADGFFGBBAEEDFFEDDCCCDDFFEEEFFAAGBBAABAGDCBAGFEDGFEGFEDBBAGFGAFEFDDEFAGBAFDAFADAGBEGCEDAFADFGECEACDAFADFGBEGAADAFADFGBEGADEBGBACDFBDGBCEACFABDGBEEACFADBEDEEAECEACBDGBCCFAGBACBDGBCCFAGBACBDGBCEDAFADFEFGGCEDFEGFDBDGBCABFGBCEACDDGEFCDDGBEGAADAFADFGBEGCEFADFBDECFFBFDFBDFCACFACGEGCEGDBDGBDAFAGBCEACFABDGBEGACFADDGBEGCADCDDGDBDGBCEACDGAECEACDAFADFAECEACDAFADFAECEACDAFADFGDBDGBCGEGCEFCACFABFDFBDEBGBEGAECEACDAFADFGBEGCEFADFBDEGCEAADFBDGEAGABBBAD\n"
     ]
    }
   ],
   "source": [
    "steps = df['step'].to_string(index=False)\n",
    "steps = re.sub(r'\\n|\\t| ','',steps)\n",
    "print(steps)"
   ]
  },
  {
   "cell_type": "code",
   "execution_count": 84,
   "metadata": {
    "collapsed": true
   },
   "outputs": [
    {
     "name": "stdout",
     "output_type": "stream",
     "text": [
      "Counter({'partABAGBAFEDABCDCBCGFECCBBCDBAAAGGGAAABEAGACCBBCDBAAAGGABGFCDEFEGFFEDCBGFEDCCDEDCEDCBDCDFEFFEEFGEDFGFEGFEDDDCGCCBBBADEDCGFEDCBAGCBACBAGEEDCBCEDCBAGBBAGGFGGFFFEACCBBBCCEEDFFEEGGFFFEEFGEDDDCCCDDDEADCGGBAGFFCDDCDDABAGBAFEDFFEEFGEDFFEEFEDAGFEDCBADCBDCBAFFEDCDFEDCBACDEFEGFFEDCDCBBCDBAAAGGABGFDDCCBBABCABAGBAFEDFFEEFGEDDDCCDECBFBBAAAGDGGFDEDCEDCBAGABCBAABGDEFGFEFCBADDCEEDEGGFFFGGBBAAABBDDCEEDDBAGBAGFEDEFGFEEFCDGGAFEDDABAGBAFEDFFEEFGEDDDCCCDFFEAFEDFEDCBABCDCBBCBACDEFEGFFEDCDCBBCDBAFFEAGFGEGAGFAGEGFGBABBAABCAGDDCCCDABCDEDEAGFBBCAABCFFEEEDBBAABCAGGGFFFGGGADGFFGBBAEEDFFEDDCCCDDFFEEEFFAAGBBAABAGDCBAGFEDGFEGFEDBBAGFGAFEFDDEFAGBAFDAFADAGBEGCEDAFADFGECEACDAFADFGBEGAADAFADFGBEGADEBGBACDFBDGBCEACFABDGBEEACFADBEDEEAECEACBDGBCCFAGBACBDGBCCFAGBACBDGBCEDAFADFEFGGCEDFEGFDBDGBCABFGBCEACDDGEFCDDGBEGAADAFADFGBEGCEFADFBDECFFBFDFBDFCACFACGEGCEGDBDGBDAFAGBCEACFABDGBEGACFADDGBEGCADCDDGDBDGBCEACDGAECEACDAFADFAECEACDAFADFAECEACDAFADFGDBDGBCGEGCEFCACFABFDFBDEBGBEGAECEACDAFADFGBEGCEFADFBDEGCEAADFBDGEAGABBBAD': 1})\n"
     ]
    }
   ],
   "source": [
    "min_length = 8\n",
    "min_occur = 2\n",
    "pat = r'(?=(.{%d,})).*\\1{%d,}' % (min_length, min_occur-1)\n",
    "\n",
    "step_patterns = re.findall(pat,steps)\n",
    "\n",
    "print(Counter(step_patterns))"
   ]
  },
  {
   "cell_type": "code",
   "execution_count": 96,
   "metadata": {},
   "outputs": [
    {
     "name": "stdout",
     "output_type": "stream",
     "text": [
      "Counter({'FEDCBA': 3, 'DCBAG': 3, 'EDCBA': 3, 'GBEGA': 3, 'BDGBC': 3, 'EDCBAG': 2, 'DFFEE': 2, 'AGFED': 2, 'DDCCCD': 2, 'DCCCD': 2, 'DAFADFG': 2, 'AFADFG': 2, 'FADFG': 2, 'DAFADF': 2, 'AFADF': 2, 'DBDGBC': 2, 'CEACD': 2, 'DFBDE': 2, 'AECEACDAFADF': 2, 'ABAGBAFED': 1, 'BAGBAFED': 1, 'AGBAFED': 1, 'GBAFED': 1, 'BAFED': 1, 'DABCD': 1, 'ABCDCB': 1, 'BCDCB': 1, 'CCBBCDBAAAGG': 1, 'CBBCDBAAAGG': 1, 'BBCDBAAAGG': 1, 'BCDBAAAGG': 1, 'CDBAAAGG': 1, 'DBAAAGG': 1, 'BAAAGG': 1, 'AAAGG': 1, 'ACCBB': 1, 'CBBCDBAAAGGABGF': 1, 'BBCDBAAAGGABGF': 1, 'BCDBAAAGGABGF': 1, 'CDBAAAGGABGF': 1, 'DBAAAGGABGF': 1, 'BAAAGGABGF': 1, 'AAAGGABGF': 1, 'AAGGABGF': 1, 'AGGABGF': 1, 'GGABGF': 1, 'GABGF': 1, 'CDEFEGFFEDC': 1, 'DEFEGFFEDC': 1, 'EFEGFFEDC': 1, 'FEGFFEDC': 1, 'EGFFEDC': 1, 'GFFEDC': 1, 'FFEDC': 1, 'FEDCB': 1, 'GFEDC': 1, 'DCCDE': 1, 'DEDCEDCB': 1, 'EDCEDCB': 1, 'DCEDCB': 1, 'CEDCB': 1, 'DCBDC': 1, 'DCDFE': 1, 'FFEEFGEDF': 1, 'FEEFGEDF': 1, 'EEFGEDF': 1, 'EFGEDF': 1, 'FGEDF': 1, 'GFEGFED': 1, 'FEGFED': 1, 'EGFED': 1, 'EDDDC': 1, 'CCBBB': 1, 'BBBAD': 1, 'GFEDCBA': 1, 'CEDCBAG': 1, 'AGBBA': 1, 'GGFFFE': 1, 'GFFFE': 1, 'EEDFFE': 1, 'EDFFEE': 1, 'EGGFFF': 1, 'GGFFF': 1, 'FFEEFGEDDDCCCD': 1, 'FEEFGEDDDCCCD': 1, 'EEFGEDDDCCCD': 1, 'EFGEDDDCCCD': 1, 'FGEDDDCCCD': 1, 'GEDDDCCCD': 1, 'EDDDCCCD': 1, 'DDDCCCD': 1, 'DDCCCDD': 1, 'DCCCDD': 1, 'CCCDD': 1, 'GBAGF': 1, 'DDABAGBAFEDFFEEFGED': 1, 'DABAGBAFEDFFEEFGED': 1, 'ABAGBAFEDFFEEFGED': 1, 'BAGBAFEDFFEEFGED': 1, 'AGBAFEDFFEEFGED': 1, 'GBAFEDFFEEFGED': 1, 'BAFEDFFEEFGED': 1, 'AFEDFFEEFGED': 1, 'FEDFFEEFGED': 1, 'EDFFEEFGED': 1, 'DFFEEFGED': 1, 'FFEEFGED': 1, 'FEEFGED': 1, 'EEFGED': 1, 'EFGED': 1, 'EDFFEEF': 1, 'DFFEEF': 1, 'FFEEF': 1, 'BAFFE': 1, 'FFEDCD': 1, 'FEDCD': 1, 'DFEDCBA': 1, 'CBACDEFEGFFEDCDCBBCDBA': 1, 'BACDEFEGFFEDCDCBBCDBA': 1, 'ACDEFEGFFEDCDCBBCDBA': 1, 'CDEFEGFFEDCDCBBCDBA': 1, 'DEFEGFFEDCDCBBCDBA': 1, 'EFEGFFEDCDCBBCDBA': 1, 'FEGFFEDCDCBBCDBA': 1, 'EGFFEDCDCBBCDBA': 1, 'GFFEDCDCBBCDBA': 1, 'FFEDCDCBBCDBA': 1, 'FEDCDCBBCDBA': 1, 'EDCDCBBCDBA': 1, 'DCDCBBCDBA': 1, 'CDCBBCDBA': 1, 'DCBBCDBA': 1, 'CBBCDBA': 1, 'BBCDBA': 1, 'BCDBA': 1, 'BAAAG': 1, 'ABAGBAFEDFFEEFGEDDDCC': 1, 'BAGBAFEDFFEEFGEDDDCC': 1, 'AGBAFEDFFEEFGEDDDCC': 1, 'GBAFEDFFEEFGEDDDCC': 1, 'BAFEDFFEEFGEDDDCC': 1, 'AFEDFFEEFGEDDDCC': 1, 'FEDFFEEFGEDDDCC': 1, 'EDFFEEFGEDDDCC': 1, 'DFFEEFGEDDDCC': 1, 'FFEEFGEDDDCC': 1, 'FEEFGEDDDCC': 1, 'EEFGEDDDCC': 1, 'EFGEDDDCC': 1, 'FGEDDDCC': 1, 'GEDDDCC': 1, 'EDDDCC': 1, 'DDDCC': 1, 'BBAAA': 1, 'DEFGFE': 1, 'EFGFE': 1, 'DDCEED': 1, 'DCEED': 1, 'GGFFFGG': 1, 'GFFFGG': 1, 'FFFGG': 1, 'GBBAA': 1, 'BAGBA': 1, 'BAGFED': 1, 'AGBAF': 1, 'AFEDF': 1, 'EDFFE': 1, 'CDCBBC': 1, 'DCBBC': 1, 'BBAABCAG': 1, 'BAABCAG': 1, 'AABCAG': 1, 'ABCAG': 1, 'FFEEE': 1, 'EDBBA': 1, 'BBAAB': 1, 'FAGBA': 1, 'DAFAD': 1, 'GBEGCE': 1, 'BEGCE': 1, 'CEDAFADF': 1, 'EDAFADF': 1, 'ECEACDAFADFGBEG': 1, 'CEACDAFADFGBEG': 1, 'EACDAFADFGBEG': 1, 'ACDAFADFGBEG': 1, 'CDAFADFGBEG': 1, 'DAFADFGBEGA': 1, 'AFADFGBEGA': 1, 'FADFGBEGA': 1, 'ADFGBEGA': 1, 'DFGBEGA': 1, 'FGBEGA': 1, 'GBEGAADAFADFGBEG': 1, 'BEGAADAFADFGBEG': 1, 'EGAADAFADFGBEG': 1, 'GAADAFADFGBEG': 1, 'AADAFADFGBEG': 1, 'ADAFADFGBEG': 1, 'DAFADFGBEG': 1, 'AFADFGBEG': 1, 'FADFGBEG': 1, 'ADFGBEG': 1, 'DFGBEG': 1, 'FGBEG': 1, 'DEBGB': 1, 'DFBDG': 1, 'BDGBCEAC': 1, 'DGBCEAC': 1, 'GBCEACFABDGBE': 1, 'BCEACFABDGBE': 1, 'CEACFABDGBE': 1, 'EACFABDGBE': 1, 'ACFABDGBE': 1, 'CFABDGBE': 1, 'FABDGBE': 1, 'ABDGBE': 1, 'BDGBE': 1, 'EACFA': 1, 'ACFAD': 1, 'AECEAC': 1, 'ECEAC': 1, 'ACBDGBCCFAGB': 1, 'CBDGBCCFAGBA': 1, 'BDGBCCFAGBAC': 1, 'DGBCCFAGBACB': 1, 'GBCCFAGBACBD': 1, 'BCCFAGBACBDG': 1, 'CCFAGBACBDGB': 1, 'CFAGBACBDGBC': 1, 'FAGBACBDGBC': 1, 'AGBACBDGBC': 1, 'GBACBDGBC': 1, 'BACBDGBC': 1, 'ACBDGBC': 1, 'CBDGBC': 1, 'BDGBCE': 1, 'DGBCE': 1, 'GBCEACD': 1, 'BCEACD': 1, 'DDGBEG': 1, 'DGBEGA': 1, 'DAFADFGBEGCEFADFBDE': 1, 'AFADFGBEGCEFADFBDE': 1, 'FADFGBEGCEFADFBDE': 1, 'ADFGBEGCEFADFBDE': 1, 'DFGBEGCEFADFBDE': 1, 'FGBEGCEFADFBDE': 1, 'GBEGCEFADFBDE': 1, 'BEGCEFADFBDE': 1, 'EGCEFADFBDE': 1, 'GCEFADFBDE': 1, 'CEFADFBDE': 1, 'EFADFBDE': 1, 'FADFBDE': 1, 'ADFBDE': 1, 'BFDFBD': 1, 'FDFBD': 1, 'FCACFA': 1, 'CACFA': 1, 'CGEGCE': 1, 'GEGCE': 1, 'GDBDGB': 1, 'DBDGB': 1, 'GBCEAC': 1, 'BCEAC': 1, 'ACFAB': 1, 'DGBEG': 1, 'GBEGC': 1, 'GDBDGBC': 1, 'GAECEACDAFADF': 1, 'ECEACDAFADFA': 1, 'CEACDAFADFAE': 1, 'EACDAFADFAEC': 1, 'ACDAFADFAECE': 1, 'CDAFADFAECEA': 1, 'DAFADFAECEAC': 1, 'AFADFAECEACD': 1, 'FADFAECEACDA': 1, 'ADFAECEACDAF': 1, 'DFAECEACDAFA': 1, 'FAECEACDAFAD': 1, 'ECEACDAFADF': 1, 'CEACDAFADF': 1, 'EACDAFADF': 1, 'ACDAFADF': 1, 'CDAFADF': 1, 'AECEACDAFADFG': 1, 'ECEACDAFADFG': 1, 'CEACDAFADFG': 1, 'EACDAFADFG': 1, 'ACDAFADFG': 1, 'CDAFADFG': 1, 'EGCEF': 1, 'ADFBD': 1})\n"
     ]
    }
   ],
   "source": [
    "min_length = 5\n",
    "min_occur = 8\n",
    "pat = r'(?=(.{%d,})(?=.*\\1){%d,})' % (min_length, min_occur-1)\n",
    "step_patterns = re.findall(pat,steps)\n",
    "print(Counter(step_patterns))"
   ]
  }
 ],
 "metadata": {
  "kernelspec": {
   "display_name": "Python 3",
   "language": "python",
   "name": "python3"
  },
  "language_info": {
   "codemirror_mode": {
    "name": "ipython",
    "version": 3
   },
   "file_extension": ".py",
   "mimetype": "text/x-python",
   "name": "python",
   "nbconvert_exporter": "python",
   "pygments_lexer": "ipython3",
   "version": "3.6.5"
  }
 },
 "nbformat": 4,
 "nbformat_minor": 2
}
