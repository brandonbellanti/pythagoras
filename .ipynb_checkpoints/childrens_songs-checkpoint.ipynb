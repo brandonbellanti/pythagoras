{
 "cells": [
  {
   "cell_type": "code",
   "execution_count": 50,
   "metadata": {},
   "outputs": [],
   "source": [
    "import regex as re"
   ]
  },
  {
   "cell_type": "markdown",
   "metadata": {},
   "source": [
    "---\n",
    "# Songs\n",
    "---"
   ]
  },
  {
   "cell_type": "code",
   "execution_count": 127,
   "metadata": {},
   "outputs": [],
   "source": [
    "# Twinkle, Twinkle, Little Star\n",
    "\n",
    "twinkle = {\n",
    "    'title':\"Twinkle, Twinkle, Little Star\",\n",
    "    'pitches':\"CCGGAAG FFEEDDC GGFFEED GGFFEED CCGGAAG FFEEDDC\"\n",
    "}"
   ]
  },
  {
   "cell_type": "code",
   "execution_count": 128,
   "metadata": {},
   "outputs": [],
   "source": [
    "# Bah, Bah, Black Sheep\n",
    "\n",
    "bah = {\n",
    "    'title':\"Bah, Bah, Black Sheep\",\n",
    "    'pitches':\"CCGGAAAAG FFEEDDC GGGFFFEEED GGGFFFFEEED CCGGAAAAG FFEEDDC\"\n",
    "}"
   ]
  },
  {
   "cell_type": "code",
   "execution_count": 129,
   "metadata": {},
   "outputs": [],
   "source": [
    "# The ABC song\n",
    "\n",
    "abc = {\n",
    "    'title':\"The ABC Song\",\n",
    "    'pitches':\"CCGGAAG FFEEDDDDC GGFEED GGGFEED CCGGAAG FFEEDDC\"\n",
    "}"
   ]
  },
  {
   "cell_type": "code",
   "execution_count": 130,
   "metadata": {},
   "outputs": [],
   "source": [
    "# Frere Jacques\n",
    "\n",
    "frere = {\n",
    "    'title':\"Frere Jacques\",\n",
    "    'pitches':\"CDEC CDEC EFG EFG GAGFEC GAGFEC CGC CGC\"\n",
    "}"
   ]
  },
  {
   "cell_type": "code",
   "execution_count": 131,
   "metadata": {},
   "outputs": [],
   "source": [
    "# Three Blind Mice\n",
    "\n",
    "mice = {\n",
    "    'title':\"Three Blind Mice\",\n",
    "    'pitches':\"EDC EDC GFFE GFFE GCCBABCGG GCCCBABCGG GGCCBABCGGG FEDC\"\n",
    "}"
   ]
  },
  {
   "cell_type": "code",
   "execution_count": 132,
   "metadata": {},
   "outputs": [],
   "source": [
    "# Hot Cross Buns\n",
    "\n",
    "buns = {\n",
    "    'title':\"Hot Cross Buns\",\n",
    "    'pitches': \"EDC EDC CCCC DDDD EDC\"\n",
    "}"
   ]
  },
  {
   "cell_type": "code",
   "execution_count": 133,
   "metadata": {},
   "outputs": [],
   "source": [
    "# Row, Row, Row Your Boat\n",
    "\n",
    "row = {\n",
    "    'title':\"Row, Row, Row Your Boat\",\n",
    "    'pitches':\"CCCDE EDEFG CCCGGGEEECCC GFEDC\"\n",
    "}"
   ]
  },
  {
   "cell_type": "code",
   "execution_count": 134,
   "metadata": {},
   "outputs": [],
   "source": [
    "# Mary Had a Little Lamb\n",
    "\n",
    "lamb = {\n",
    "    'title':\"Mary Had a Little Lamb\",\n",
    "    'pitches':\"EDCDEEE DDD EEE EDCDEEE EDDEDC\"\n",
    "}"
   ]
  },
  {
   "cell_type": "code",
   "execution_count": 139,
   "metadata": {
    "scrolled": false
   },
   "outputs": [
    {
     "data": {
      "text/plain": [
       "{'Twinkle, Twinkle, Little Star': {'pitches': 'CCGGAAGFFEEDDCGGFFEEDGGFFEEDCCGGAAGFFEEDDC',\n",
       "  'patterns': []},\n",
       " 'Bah, Bah, Black Sheep': {'pitches': 'CCGGAAAAGFFEEDDCGGGFFFEEEDGGGFFFFEEEDCCGGAAAAGFFEEDDC',\n",
       "  'patterns': []},\n",
       " 'The ABC Song': {'pitches': 'CCGGAAGFFEEDDDDCGGFEEDGGGFEEDCCGGAAGFFEEDDC',\n",
       "  'patterns': []},\n",
       " 'Frere Jacques': {'pitches': 'CDECCDECEFGEFGGAGFECGAGFECCGCCGC',\n",
       "  'patterns': []},\n",
       " 'Three Blind Mice': {'pitches': 'EDCEDCGFFEGFFEGCCBABCGGGCCCBABCGGGGCCBABCGGGFEDC',\n",
       "  'patterns': []},\n",
       " 'Hot Cross Buns': {'pitches': 'EDCEDCCCCCDDDDEDC', 'patterns': []},\n",
       " 'Row, Row, Row Your Boat': {'pitches': 'CCCDEEDEFGCCCGGGEEECCCGFEDC',\n",
       "  'patterns': []},\n",
       " 'Mary Had a Little Lamb': {'pitches': 'EDCDEEEDDDEEEEDCDEEEEDDEDC',\n",
       "  'patterns': []}}"
      ]
     },
     "execution_count": 139,
     "metadata": {},
     "output_type": "execute_result"
    }
   ],
   "source": [
    "all_songs = {}\n",
    "for song in [twinkle,bah,abc,frere,mice,buns,row,lamb]:\n",
    "    all_songs[song['title']] = {'pitches':song['pitches'].replace(' ',''),'patterns':[]}\n",
    "    \n",
    "all_songs"
   ]
  },
  {
   "cell_type": "markdown",
   "metadata": {},
   "source": [
    "---\n",
    "# Regex Searches\n",
    "---"
   ]
  },
  {
   "cell_type": "code",
   "execution_count": 143,
   "metadata": {
    "scrolled": false
   },
   "outputs": [
    {
     "name": "stdout",
     "output_type": "stream",
     "text": [
      "{'pitches': 'CCGGAAGFFEEDDCGGFFEEDGGFFEEDCCGGAAGFFEEDDC', 'patterns': ['GFFEED', 'FFEED', 'FEED', 'GFFEED', 'FFEED', 'FEED']}\n"
     ]
    }
   ],
   "source": [
    "min_length = 4\n",
    "min_occur = 3\n",
    "\n",
    "\n",
    "song = \"Twinkle, Twinkle, Little Star\"\n",
    "pitches = all_songs[song]['pitches']\n",
    "\n",
    "pat = r'(.{%d,}).*\\1{%d,}' % (min_length, min_occur-1) #this doesn't work - it's looking for the pattern repeated\n",
    "pat = r'(.{%d,})(?:.*\\1){%d,}' % (min_length, min_occur-1)\n",
    "\n",
    "# pat = r'(.{%d,})(?:.*\\1)' % (min_length)\n",
    "# pat = r'(.{12,})(?:.*\\1)'\n",
    "\n",
    "\n",
    "pitch_patterns = re.findall(pat,pitches,overlapped=True)\n",
    "\n",
    "for pattern in pitch_patterns:\n",
    "    all_songs[song]['patterns'].append(pattern)\n",
    "    \n",
    "print(all_songs[song])"
   ]
  },
  {
   "cell_type": "markdown",
   "metadata": {},
   "source": [
    "---\n",
    "# SQLite\n",
    "---"
   ]
  },
  {
   "cell_type": "code",
   "execution_count": 108,
   "metadata": {},
   "outputs": [],
   "source": [
    "import sqlite3\n",
    "conn = sqlite3.connect('example.db')\n",
    "# conn.close()"
   ]
  },
  {
   "cell_type": "code",
   "execution_count": 110,
   "metadata": {},
   "outputs": [],
   "source": [
    "import sqlite3\n",
    "conn = sqlite3.connect('example.db')\n",
    "c = conn.cursor()"
   ]
  },
  {
   "cell_type": "code",
   "execution_count": 106,
   "metadata": {},
   "outputs": [],
   "source": [
    "c = conn.cursor()\n",
    "\n",
    "# Create table\n",
    "c.execute('''CREATE TABLE stocks\n",
    "             (date text, trans text, symbol text, qty real, price real)''')\n",
    "\n",
    "# Insert a row of data\n",
    "c.execute(\"INSERT INTO stocks VALUES ('2006-01-05','BUY','RHAT',100,35.14)\")\n",
    "\n",
    "# Save (commit) the changes\n",
    "conn.commit()\n",
    "\n",
    "# We can also close the connection if we are done with it.\n",
    "# Just be sure any changes have been committed or they will be lost.\n",
    "conn.close()"
   ]
  },
  {
   "cell_type": "code",
   "execution_count": 111,
   "metadata": {
    "scrolled": false
   },
   "outputs": [
    {
     "name": "stdout",
     "output_type": "stream",
     "text": [
      "('2006-01-05', 'BUY', 'RHAT', 100.0, 35.14)\n"
     ]
    }
   ],
   "source": [
    "# # Never do this -- insecure!\n",
    "# symbol = 'RHAT'\n",
    "# c.execute(\"SELECT * FROM stocks WHERE symbol = '%s'\" % symbol)\n",
    "\n",
    "t = ('RHAT',)\n",
    "c.execute('SELECT * FROM stocks WHERE symbol=?', t)\n",
    "print(c.fetchone())\n",
    "\n",
    "# Larger example that inserts many records at a time\n",
    "purchases = [('2006-03-28', 'BUY', 'IBM', 1000, 45.00),\n",
    "             ('2006-04-05', 'BUY', 'MSFT', 1000, 72.00),\n",
    "             ('2006-04-06', 'SELL', 'IBM', 500, 53.00),\n",
    "            ]\n",
    "c.executemany('INSERT INTO stocks VALUES (?,?,?,?,?)', purchases)\n",
    "\n",
    "conn.commit()"
   ]
  },
  {
   "cell_type": "code",
   "execution_count": 112,
   "metadata": {
    "scrolled": true
   },
   "outputs": [
    {
     "name": "stdout",
     "output_type": "stream",
     "text": [
      "('2006-01-05', 'BUY', 'RHAT', 100.0, 35.14)\n",
      "('2006-03-28', 'BUY', 'IBM', 1000.0, 45.0)\n",
      "('2006-04-06', 'SELL', 'IBM', 500.0, 53.0)\n",
      "('2006-04-05', 'BUY', 'MSFT', 1000.0, 72.0)\n"
     ]
    }
   ],
   "source": [
    "for row in c.execute('SELECT * FROM stocks ORDER BY price'):\n",
    "    print(row)\n"
   ]
  },
  {
   "cell_type": "code",
   "execution_count": 144,
   "metadata": {},
   "outputs": [],
   "source": [
    "conn.close()"
   ]
  }
 ],
 "metadata": {
  "kernelspec": {
   "display_name": "Python 3",
   "language": "python",
   "name": "python3"
  },
  "language_info": {
   "codemirror_mode": {
    "name": "ipython",
    "version": 3
   },
   "file_extension": ".py",
   "mimetype": "text/x-python",
   "name": "python",
   "nbconvert_exporter": "python",
   "pygments_lexer": "ipython3",
   "version": "3.6.10"
  }
 },
 "nbformat": 4,
 "nbformat_minor": 4
}
