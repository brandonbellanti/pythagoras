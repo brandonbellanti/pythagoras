{
 "cells": [
  {
   "cell_type": "markdown",
   "metadata": {},
   "source": [
    "# pythagoras\n",
    "\n",
    "Welcome to _pythagoras_. For more information about the project, visit the [project website](http://web.simmons.edu/~bellanti/pythagoras) or the Github repo.\n",
    "\n",
    "---\n"
   ]
  },
  {
   "cell_type": "markdown",
   "metadata": {},
   "source": [
    "---\n",
    "# Load libraries and settings\n",
    "---"
   ]
  },
  {
   "cell_type": "code",
   "execution_count": 32,
   "metadata": {},
   "outputs": [],
   "source": [
    "import pandas as pd\n",
    "import numpy as np\n",
    "from lxml import etree\n",
    "import regex as re\n",
    "# from collections import Counter\n",
    "# import matplotlib.pyplot as plt\n",
    "# %matplotlib inline\n",
    "import sqlite3\n",
    "import csv\n",
    "import os"
   ]
  },
  {
   "cell_type": "markdown",
   "metadata": {},
   "source": [
    "---\n",
    "# XML\n",
    "---"
   ]
  },
  {
   "cell_type": "raw",
   "metadata": {},
   "source": [
    "# xml_filepath = \"../scores/xml/JSB_BWV1047_1.xml\"\n",
    "# xml_filepath = \"../scores/xml/beethoven-fur_elise.xml\"\n",
    "xml_filepath = \"/Users/BrandonBel/Desktop/MusicXML_scores/xml/Mozart-Adagio.xml\""
   ]
  },
  {
   "cell_type": "markdown",
   "metadata": {},
   "source": [
    "m = re.match(r'.*/(\\w*?)-(.*).xml',xml_filepath)\n",
    "comp = m.group(1)\n",
    "title = m.group(2).replace(' ','_')\n",
    "print(comp, title)"
   ]
  },
  {
   "cell_type": "code",
   "execution_count": 76,
   "metadata": {
    "scrolled": false
   },
   "outputs": [
    {
     "name": "stdout",
     "output_type": "stream",
     "text": [
      "Conversion failed: Mozart-KV216-3_Rondo.xml \n",
      "Conversion successful: Beethoven-01_variation.xml --> Beethoven-01_variation.csv\n",
      "Conversion successful: Beethoven-1_Horn1.xml --> Beethoven-1_Horn1.csv\n",
      "Conversion failed: Schubert-Sinfonie Nr 7 - Satz 1.xml \n",
      "Conversion failed: Schubert-Sinfonie Nr 7 - Satz 2.xml \n"
     ]
    }
   ],
   "source": [
    "d = \"/Users/BrandonBel/Desktop/MusicXML_scores/\"\n",
    "xml_d = d + \"xml/\"\n",
    "csv_d = d + \"csv/\"\n",
    "\n",
    "for path in os.listdir(xml_d):\n",
    "    xml_filepath = xml_d + path\n",
    "    csv_filepath = xml_filepath.replace('xml','csv')\n",
    "\n",
    "    if path.replace('xml','csv') not in os.listdir(csv_d):\n",
    "        try:\n",
    "            xml_to_csv(xml_filepath,csv_filepath)\n",
    "            print(\"Conversion successful: %s --> %s\" % (path, path.replace('xml','csv')))\n",
    "        except:\n",
    "            print(\"Conversion failed: %s \" % path)\n"
   ]
  },
  {
   "cell_type": "markdown",
   "metadata": {},
   "source": [
    "### Get information about the work"
   ]
  },
  {
   "cell_type": "code",
   "execution_count": 8,
   "metadata": {},
   "outputs": [
    {
     "name": "stdout",
     "output_type": "stream",
     "text": [
      "\n",
      "INSTRUMENTATION:\n",
      "\n",
      "\tMidi_2 (P1)\n",
      "\tMidi_2 (P2)\n"
     ]
    }
   ],
   "source": [
    "print('\\nINSTRUMENTATION:\\n')\n",
    "\n",
    "parts = []\n",
    "\n",
    "for e in root.xpath('//score-part'):\n",
    "    part = e.xpath('./@id')[0]\n",
    "    parts.append(part)\n",
    "    instr = e.xpath('.//instrument-name')[0].text\n",
    "    print(\"\\t%s (%s)\" % (instr,part))"
   ]
  },
  {
   "cell_type": "code",
   "execution_count": 9,
   "metadata": {
    "scrolled": false
   },
   "outputs": [
    {
     "name": "stdout",
     "output_type": "stream",
     "text": [
      "\n",
      "KEY & TIME\n",
      "\n",
      "\tKey signature:\t D major (B minor)\n",
      "\tTime signature:\t 4/4\n"
     ]
    }
   ],
   "source": [
    "print('\\nKEY & TIME\\n')\n",
    "\n",
    "attrib_list = root.xpath(\"//part[@id='P1']/measure[@number='1']/attributes/*\")\n",
    "\n",
    "key_dict = {\n",
    "    '-7':'Cb major (Ab minor)',\n",
    "    '-6':'Gb major (Eb minor)',\n",
    "    '-5':'Db major (Bb minor)',\n",
    "    '-4':'Ab major (F minor)',\n",
    "    '-3':'Eb major (C minor)',\n",
    "    '-2':'Bb major (G minor)',\n",
    "    '-1':'F major (D minor)',\n",
    "    '0':'C major (A minor)',\n",
    "    '1':'G major (E minor)',\n",
    "    '2':'D major (B minor)',\n",
    "    '3':'A major (F# minor)',\n",
    "    '4':'E major (C# minor)',\n",
    "    '5':'B major (G# minor)',\n",
    "    '6':'F# major (D# minor)',\n",
    "    '7':'C# major (A# minor)'\n",
    "}\n",
    "\n",
    "for e in attrib_list:\n",
    "    if e.tag == 'key':\n",
    "        accidentals = e.xpath('./fifths')[0].text\n",
    "        mode = e.xpath('./mode')[0].text\n",
    "        key = key_dict[accidentals]\n",
    "        print(\"\\tKey signature:\\t\", key)\n",
    "    if e.tag == 'time':\n",
    "        beats = e.xpath('./beats')[0].text\n",
    "        val = e.xpath('./beat-type')[0].text\n",
    "        time = \"%s/%s\" % (beats,val)\n",
    "        print(\"\\tTime signature:\\t\",time)"
   ]
  },
  {
   "cell_type": "markdown",
   "metadata": {},
   "source": [
    "### Build a dataframe with notes"
   ]
  },
  {
   "cell_type": "code",
   "execution_count": 75,
   "metadata": {},
   "outputs": [],
   "source": [
    "def xml_to_csv(xml_filepath, csv_filepath):\n",
    "    tree = etree.parse(xml_filepath)\n",
    "    root = tree.getroot()\n",
    "\n",
    "    with open(csv_filepath,'w') as csv_file:\n",
    "        writer = csv.writer(csv_file)\n",
    "        writer.writerow(('part','measure','pitch','step','alter','octave','duration','type','dotted','rest','grace','cue'))\n",
    "        notes = []\n",
    "\n",
    "        for e in root.xpath('//note'):\n",
    "\n",
    "            part = e.xpath('../..//@id')[0]\n",
    "\n",
    "            measure = e.xpath('..//@number')[0]\n",
    "\n",
    "            dotted = True if 'dot' in [child.tag for child in e] else False\n",
    "\n",
    "            grace = True if 'grace' in [child.tag for child in e] else False\n",
    "\n",
    "            cue = True if 'cue' in [child.tag for child in e] else False\n",
    "\n",
    "            rest = True if 'rest' in [child.tag for child in e] else False\n",
    "\n",
    "            duration_list = e.xpath('.//duration/text()')\n",
    "            duration = duration_list[0] if len(duration_list)>0 else ''\n",
    "\n",
    "            typ_list = e.xpath('.//type/text()')\n",
    "            typ = typ_list[0] if len(typ_list)>0 else ''\n",
    "\n",
    "            step_list = e.xpath('.//step/text()')\n",
    "            step = step_list[0] if len(step_list)>0 else ''\n",
    "\n",
    "            alter_list = e.xpath('.//alter/text()')\n",
    "            alter = alter_list[0] if len(alter_list)>0 else ''\n",
    "            if alter == '0':\n",
    "                accidental = ''\n",
    "            elif alter == '-1':\n",
    "                accidental = 'b'\n",
    "            elif alter == '1':\n",
    "                accidental = '#'\n",
    "            elif alter == '-2':\n",
    "                accidental = 'bb'\n",
    "            elif alter == '2':\n",
    "                accidental = '##'\n",
    "            else:\n",
    "                accidental = ''\n",
    "\n",
    "            pitch = step + accidental\n",
    "\n",
    "            octave_list = e.xpath('.//octave/text()')\n",
    "            octave = octave_list[0] if len(step_list)>0 else ''\n",
    "\n",
    "            # notes.append((part,measure,pitch,step,alter,octave,duration,typ,dotted,rest,grace,cue))\n",
    "            writer.writerow((part,measure,pitch,step,alter,octave,duration,typ,dotted,rest,grace,cue))\n"
   ]
  },
  {
   "cell_type": "markdown",
   "metadata": {},
   "source": [
    "---\n",
    "# Pandas Dataframe\n",
    "---"
   ]
  },
  {
   "cell_type": "code",
   "execution_count": 84,
   "metadata": {},
   "outputs": [],
   "source": [
    "df = pd.DataFrame(notes,columns=['part','measure','pitch','step','alter','octave','duration','type','dotted','rest','grace','cue'])"
   ]
  },
  {
   "cell_type": "code",
   "execution_count": 10,
   "metadata": {},
   "outputs": [],
   "source": [
    "pitch_dict = {'A0':'1','G##0':'1','Bbb0':'1','A#0':'2','Bb0':'2','Cbb1':'2','B0':'3','Cb1':'3','A##0':'3','C1':'4','B#0':'4','Dbb1':'4','C#1':'5','Db1':'5','B##1':'5','D1':'6','C##1':'6','Dbb1':'6','D#1':'7','Eb1':'7','Fbb1':'7','E1':'8','Fb1':'8','D##1':'8','1':'8','F1':'9','E#1':'9','Gbb1':'9','F#1':'10','Gb1':'10','E##1':'10','G1':'11','F##1':'11','Abb1':'11','G#1':'12','Ab1':'12','A1':'13','G##1':'13','Bbb1':'13','A#1':'14','Bb1':'14','Cbb1':'14','B1':'15','Cb1':'15','A##1':'15','C2':'16','B#2':'16','Dbb2':'16','C#2':'17','Db2':'17','B##2':'17','D2':'18','C##2':'18','Dbb2':'18','D#2':'19','Eb2':'19','Fbb2':'19','E2':'20','Fb2':'20','D##2':'20','2':'20','F2':'21','E#2':'21','Gbb2':'21','F#2':'22','Gb2':'22','E##2':'22','G2':'23','F##2':'23','Abb2':'23','G#2':'24','Ab2':'24','A2':'25','G##2':'25','Bbb2':'25','A#2':'26','Bb2':'26','Cbb2':'26','B2':'27','Cb2':'27','A##2':'27','C3':'28','B#3':'28','Dbb3':'28','C#3':'29','Db3':'29','B##3':'29','D3':'30','C##3':'30','Dbb3':'30','D#3':'31','Eb3':'31','Fbb3':'31','E3':'32','Fb3':'32','D##3':'32','3':'32','F3':'33','E#3':'33','Gbb3':'33','F#3':'34','Gb3':'34','E##3':'34','G3':'35','F##3':'35','Abb3':'35','G#3':'36','Ab3':'36','A3':'37','G##3':'37','Bbb3':'37','A#3':'38','Bb3':'38','Cbb3':'38','B3':'39','Cb3':'39','A##3':'39','C4':'40','B#4':'40','Dbb4':'40','C#4':'41','Db4':'41','B##4':'41','D4':'42','C##4':'42','Dbb4':'42','D#4':'43','Eb4':'43','Fbb4':'43','E4':'44','Fb4':'44','D##4':'44','4':'44','F4':'45','E#4':'45','Gbb4':'45','F#4':'46','Gb4':'46','E##4':'46','G4':'47','F##4':'47','Abb4':'47','G#4':'48','Ab4':'48','A4':'49','G##4':'49','Bbb4':'49','A#4':'50','Bb4':'50','Cbb4':'50','B4':'51','Cb4':'51','A##4':'51','C5':'52','B#5':'52','Dbb5':'52','C#5':'53','Db5':'53','B##5':'53','D5':'54','C##5':'54','Dbb5':'54','D#5':'55','Eb5':'55','Fbb5':'55','E5':'56','Fb5':'56','D##5':'56','5':'56','F5':'57','E#5':'57','Gbb5':'57','F#5':'58','Gb5':'58','E##5':'58','G5':'59','F##5':'59','Abb5':'59','G#5':'60','Ab5':'60','A5':'61','G##5':'61','Bbb5':'61','A#5':'62','Bb5':'62','Cbb5':'62','B5':'63','Cb5':'63','A##5':'63','C6':'64','B#6':'64','Dbb6':'64','C#6':'65','Db6':'65','B##6':'65','D6':'66','C##6':'66','Dbb6':'66','D#6':'67','Eb6':'67','Fbb6':'67','E6':'68','Fb6':'68','D##6':'68','6':'68','F6':'69','E#6':'69','Gbb6':'69','F#6':'70','Gb6':'70','E##6':'70','G6':'71','F##6':'71','Abb6':'71','G#6':'72','Ab6':'72','A6':'73','G##6':'73','Bbb6':'73','A#6':'74','Bb6':'74','Cbb6':'74','B6':'75','Cb6':'75','A##6':'75','C7':'76','B#7':'76','Dbb7':'76','C#7':'77','Db7':'77','B##7':'77','D7':'78','C##7':'78','Dbb7':'78','D#7':'79','Eb7':'79','Fbb7':'79','E7':'80','Fb7':'80','D##7':'80','7':'80','F7':'81','E#7':'81','Gbb7':'81','F#7':'82','Gb7':'82','E##7':'82','G7':'83','F##7':'83','Abb7':'83','G#7':'84','Ab7':'84','A7':'85','G##7':'85','Bbb7':'85','A#7':'86','Bb7':'86','Cbb8':'86','B7':'87','Cb8':'87','A##7':'87','C8':'88','B#7':'88','Dbb8':'88'}"
   ]
  },
  {
   "cell_type": "code",
   "execution_count": 85,
   "metadata": {},
   "outputs": [],
   "source": [
    "df['keyboard_step'] = df['pitch'] + df['octave']\n",
    "df['keyboard_step'] = df['keyboard_step'].apply(lambda x: int(pitch_dict[x]) if len(x)>0 else None)"
   ]
  },
  {
   "cell_type": "code",
   "execution_count": 86,
   "metadata": {},
   "outputs": [],
   "source": [
    "df['interval'] = df['keyboard_step'].diff()"
   ]
  },
  {
   "cell_type": "code",
   "execution_count": 87,
   "metadata": {},
   "outputs": [
    {
     "name": "stdout",
     "output_type": "stream",
     "text": [
      "../scores/csv/Mozart-Ah_vous.csv\n"
     ]
    }
   ],
   "source": [
    "name = re.findall(r'.*\\/(.*?)\\.xml',xml_filepath)[0]\n",
    "outfile_path = '../scores/csv/' + name + '.csv'\n",
    "\n",
    "print(outfile_path)\n",
    "df.to_csv(outfile_path)"
   ]
  },
  {
   "cell_type": "code",
   "execution_count": 48,
   "metadata": {},
   "outputs": [
    {
     "name": "stdout",
     "output_type": "stream",
     "text": [
      "Mozart Ah_vous\n"
     ]
    }
   ],
   "source": [
    "m = re.match(r'(\\w*?)-(.*)', name)\n",
    "composer = m.group(1)\n",
    "title = m.group(2)\n",
    "print(composer,title)"
   ]
  },
  {
   "cell_type": "markdown",
   "metadata": {},
   "source": [
    "---\n",
    "# Regex patterns\n",
    "---\n",
    "Using the string generated from the dataframe series, match any reoccuring patterns longer than a given length."
   ]
  },
  {
   "cell_type": "raw",
   "metadata": {},
   "source": [
    "print(df['pitch'])\n",
    "print(df.columns)"
   ]
  },
  {
   "cell_type": "code",
   "execution_count": 88,
   "metadata": {
    "scrolled": true
   },
   "outputs": [
    {
     "data": {
      "text/html": [
       "<div>\n",
       "<style scoped>\n",
       "    .dataframe tbody tr th:only-of-type {\n",
       "        vertical-align: middle;\n",
       "    }\n",
       "\n",
       "    .dataframe tbody tr th {\n",
       "        vertical-align: top;\n",
       "    }\n",
       "\n",
       "    .dataframe thead th {\n",
       "        text-align: right;\n",
       "    }\n",
       "</style>\n",
       "<table border=\"1\" class=\"dataframe\">\n",
       "  <thead>\n",
       "    <tr style=\"text-align: right;\">\n",
       "      <th></th>\n",
       "      <th>part</th>\n",
       "      <th>measure</th>\n",
       "      <th>pitch</th>\n",
       "      <th>step</th>\n",
       "      <th>alter</th>\n",
       "      <th>octave</th>\n",
       "      <th>duration</th>\n",
       "      <th>type</th>\n",
       "      <th>dotted</th>\n",
       "      <th>rest</th>\n",
       "      <th>grace</th>\n",
       "      <th>cue</th>\n",
       "      <th>keyboard_step</th>\n",
       "      <th>interval</th>\n",
       "    </tr>\n",
       "  </thead>\n",
       "  <tbody>\n",
       "    <tr>\n",
       "      <th>0</th>\n",
       "      <td>P1</td>\n",
       "      <td>1</td>\n",
       "      <td>C</td>\n",
       "      <td>C</td>\n",
       "      <td></td>\n",
       "      <td>5</td>\n",
       "      <td>480</td>\n",
       "      <td>quarter</td>\n",
       "      <td>False</td>\n",
       "      <td>False</td>\n",
       "      <td>False</td>\n",
       "      <td>False</td>\n",
       "      <td>52.0</td>\n",
       "      <td>NaN</td>\n",
       "    </tr>\n",
       "    <tr>\n",
       "      <th>1</th>\n",
       "      <td>P1</td>\n",
       "      <td>1</td>\n",
       "      <td>C</td>\n",
       "      <td>C</td>\n",
       "      <td></td>\n",
       "      <td>5</td>\n",
       "      <td>480</td>\n",
       "      <td>quarter</td>\n",
       "      <td>False</td>\n",
       "      <td>False</td>\n",
       "      <td>False</td>\n",
       "      <td>False</td>\n",
       "      <td>52.0</td>\n",
       "      <td>0.0</td>\n",
       "    </tr>\n",
       "    <tr>\n",
       "      <th>2</th>\n",
       "      <td>P1</td>\n",
       "      <td>2</td>\n",
       "      <td>G</td>\n",
       "      <td>G</td>\n",
       "      <td></td>\n",
       "      <td>5</td>\n",
       "      <td>480</td>\n",
       "      <td>quarter</td>\n",
       "      <td>False</td>\n",
       "      <td>False</td>\n",
       "      <td>False</td>\n",
       "      <td>False</td>\n",
       "      <td>59.0</td>\n",
       "      <td>7.0</td>\n",
       "    </tr>\n",
       "    <tr>\n",
       "      <th>3</th>\n",
       "      <td>P1</td>\n",
       "      <td>2</td>\n",
       "      <td>G</td>\n",
       "      <td>G</td>\n",
       "      <td></td>\n",
       "      <td>5</td>\n",
       "      <td>480</td>\n",
       "      <td>quarter</td>\n",
       "      <td>False</td>\n",
       "      <td>False</td>\n",
       "      <td>False</td>\n",
       "      <td>False</td>\n",
       "      <td>59.0</td>\n",
       "      <td>0.0</td>\n",
       "    </tr>\n",
       "    <tr>\n",
       "      <th>4</th>\n",
       "      <td>P1</td>\n",
       "      <td>3</td>\n",
       "      <td>A</td>\n",
       "      <td>A</td>\n",
       "      <td></td>\n",
       "      <td>5</td>\n",
       "      <td>480</td>\n",
       "      <td>quarter</td>\n",
       "      <td>False</td>\n",
       "      <td>False</td>\n",
       "      <td>False</td>\n",
       "      <td>False</td>\n",
       "      <td>61.0</td>\n",
       "      <td>2.0</td>\n",
       "    </tr>\n",
       "    <tr>\n",
       "      <th>...</th>\n",
       "      <td>...</td>\n",
       "      <td>...</td>\n",
       "      <td>...</td>\n",
       "      <td>...</td>\n",
       "      <td>...</td>\n",
       "      <td>...</td>\n",
       "      <td>...</td>\n",
       "      <td>...</td>\n",
       "      <td>...</td>\n",
       "      <td>...</td>\n",
       "      <td>...</td>\n",
       "      <td>...</td>\n",
       "      <td>...</td>\n",
       "      <td>...</td>\n",
       "    </tr>\n",
       "    <tr>\n",
       "      <th>3776</th>\n",
       "      <td>P2</td>\n",
       "      <td>325</td>\n",
       "      <td>E</td>\n",
       "      <td>E</td>\n",
       "      <td></td>\n",
       "      <td>3</td>\n",
       "      <td>480</td>\n",
       "      <td>quarter</td>\n",
       "      <td>False</td>\n",
       "      <td>False</td>\n",
       "      <td>False</td>\n",
       "      <td>False</td>\n",
       "      <td>32.0</td>\n",
       "      <td>4.0</td>\n",
       "    </tr>\n",
       "    <tr>\n",
       "      <th>3777</th>\n",
       "      <td>P2</td>\n",
       "      <td>325</td>\n",
       "      <td>G</td>\n",
       "      <td>G</td>\n",
       "      <td></td>\n",
       "      <td>3</td>\n",
       "      <td>480</td>\n",
       "      <td>quarter</td>\n",
       "      <td>False</td>\n",
       "      <td>False</td>\n",
       "      <td>False</td>\n",
       "      <td>False</td>\n",
       "      <td>35.0</td>\n",
       "      <td>3.0</td>\n",
       "    </tr>\n",
       "    <tr>\n",
       "      <th>3778</th>\n",
       "      <td>P2</td>\n",
       "      <td>325</td>\n",
       "      <td>C</td>\n",
       "      <td>C</td>\n",
       "      <td></td>\n",
       "      <td>4</td>\n",
       "      <td>480</td>\n",
       "      <td>quarter</td>\n",
       "      <td>False</td>\n",
       "      <td>False</td>\n",
       "      <td>False</td>\n",
       "      <td>False</td>\n",
       "      <td>40.0</td>\n",
       "      <td>5.0</td>\n",
       "    </tr>\n",
       "    <tr>\n",
       "      <th>3779</th>\n",
       "      <td>P2</td>\n",
       "      <td>325</td>\n",
       "      <td></td>\n",
       "      <td></td>\n",
       "      <td></td>\n",
       "      <td></td>\n",
       "      <td>480</td>\n",
       "      <td>quarter</td>\n",
       "      <td>False</td>\n",
       "      <td>True</td>\n",
       "      <td>False</td>\n",
       "      <td>False</td>\n",
       "      <td>NaN</td>\n",
       "      <td>NaN</td>\n",
       "    </tr>\n",
       "    <tr>\n",
       "      <th>3780</th>\n",
       "      <td>P2</td>\n",
       "      <td>325</td>\n",
       "      <td></td>\n",
       "      <td></td>\n",
       "      <td></td>\n",
       "      <td></td>\n",
       "      <td>480</td>\n",
       "      <td>quarter</td>\n",
       "      <td>False</td>\n",
       "      <td>True</td>\n",
       "      <td>False</td>\n",
       "      <td>False</td>\n",
       "      <td>NaN</td>\n",
       "      <td>NaN</td>\n",
       "    </tr>\n",
       "  </tbody>\n",
       "</table>\n",
       "<p>3781 rows × 14 columns</p>\n",
       "</div>"
      ],
      "text/plain": [
       "     part measure pitch step alter octave duration     type  dotted   rest  \\\n",
       "0      P1       1     C    C            5      480  quarter   False  False   \n",
       "1      P1       1     C    C            5      480  quarter   False  False   \n",
       "2      P1       2     G    G            5      480  quarter   False  False   \n",
       "3      P1       2     G    G            5      480  quarter   False  False   \n",
       "4      P1       3     A    A            5      480  quarter   False  False   \n",
       "...   ...     ...   ...  ...   ...    ...      ...      ...     ...    ...   \n",
       "3776   P2     325     E    E            3      480  quarter   False  False   \n",
       "3777   P2     325     G    G            3      480  quarter   False  False   \n",
       "3778   P2     325     C    C            4      480  quarter   False  False   \n",
       "3779   P2     325                              480  quarter   False   True   \n",
       "3780   P2     325                              480  quarter   False   True   \n",
       "\n",
       "      grace    cue  keyboard_step  interval  \n",
       "0     False  False           52.0       NaN  \n",
       "1     False  False           52.0       0.0  \n",
       "2     False  False           59.0       7.0  \n",
       "3     False  False           59.0       0.0  \n",
       "4     False  False           61.0       2.0  \n",
       "...     ...    ...            ...       ...  \n",
       "3776  False  False           32.0       4.0  \n",
       "3777  False  False           35.0       3.0  \n",
       "3778  False  False           40.0       5.0  \n",
       "3779  False  False            NaN       NaN  \n",
       "3780  False  False            NaN       NaN  \n",
       "\n",
       "[3781 rows x 14 columns]"
      ]
     },
     "execution_count": 88,
     "metadata": {},
     "output_type": "execute_result"
    }
   ],
   "source": [
    "df"
   ]
  },
  {
   "cell_type": "code",
   "execution_count": 89,
   "metadata": {
    "scrolled": false
   },
   "outputs": [
    {
     "name": "stdout",
     "output_type": "stream",
     "text": [
      ".0.7.0.2.0.-2.0.-2.0.-1.0.-2.0.2.-4.7.0.-2.0.-1.0.-2.0.5.0.-2.0.-1.0.1.-1.-2.-2.0.7.0.2.0.-2.0.-2.0.-1.0.-2.0.2.-4.2.-2.-1.1.-1.1.-1.1.9.-2.-1.1.-1.1.-1.1.1.1.3.-1.3.-2.-1.-2.0.-2.9.-2.-2.-1.-2.-2.0.-2.9.-2.-1.-2.-2.-2.0.-1.8.-1.-2.-2.-2.-1.-2.7.-2.-8.1.....-2.-1.1.-1.1.2.-2.0.-2.-1.1.-1.1.2.-2.0.-1.-1.1.-1.1.1.-1.0.-2.-1.1.-1.1.2.-2.7.-2.-1.1.9.-4.-3.-2.0.-2.-1.1.9.-3.-4.-2.0.-1.-1.1.8.-5.-2.-1.3.-3.-2.0.-2.-1.1.-1.1.-1.1.9.-2.-1.1.-1.1.-1.1.1.1.3.-1.3.-2.-1.-2.0.-2.9.-2.-2.-1.-2.-2.0.-2.9.-2.-1.-2.-2.-2.0.-1.8.-1.-2.-2.-2.-1.-2.7.-2.-8.1.....0...0.-7.0.9.-2.-2.-5.7.-2.-1.-4.5.0.-1.-2.-2.-5.9.0.-2.-2.-5.2.5.0.-2.2.-5.-2.-2.7...-3...0.-7.0...0.-5.-1......2.2.1.-1.-2.-3...0.-7.0...0.-5.-1...9.-2.2.1.-1.-2.-7.-3.3.5.0.-1.1.....0...9.0.-2.-2.-5.0.7.0.-2.-1.-4.-2.8.-1.-1.-2.-5.-1.8.0.-2.-2.-5.2.5.0.-2.-1.-2.-2.-2.7.-5.-3...4.3.5.4.3....-5.-2.-1.-2.-2....-1.1.3.-1.-2....-3.1.0.5.4....-11.0.0.6.3...-10.0.0.5.3...-10.7.0.-2.-8......-1.1.9.-4.-5...-3.1.12.-6.-6....-2.1.8.-5.-3....-3.1.3.-3.-3....-1.1.9.-3.-6....-3.1.9.-3.-6....-2.1.8.-3.-5....-3.-2....4.3.5.4.3....-5.-2.-1.-2.-2....-1.1.3.-1.-2....-3.1.0.5.4....-11.0.0.6.3....-10.0.0.5.3....-10.7.0.-2.-8.........0.-8.3....0.-7.4...-2.-2.-5.7.-2.-1.-4.5.0.-1.-2.-2.-5.9.0.-2.-2.-5.2.5.0.-2.-1.-2.-4.7.-5.....0...0.1...-2.2.0.5...-2.4.-2.2.1...-1.8.0...0.1...-2.2.0.5...-2.4.-2.2.-2...-1...0.-8.3....0.-7.4...-2.-2.-5.7.-2.-1.-4.5.0.-1.-2.-2.-5.9.0.-2.-2.-5.2.5.0.-2.-1.-2.-4.7.-5..............................................................................-1.....-1.....1.....-3.....4.....-3.....3.....3....-1...3....-1...-3....1...-3....1...3.5...3.5...4.3...4.3...7.2...5.4...5.2...4.3...7.1...3.2...2.3...3.4...4.5...3.6...3.5...-1.1.-1.1.-1.1.-1.1.-1.1.-1.1.2.2.-4.5.-1.1.2.2.-2.2.2.1.-1.1.-1.1.-1.1.-1.1.-1.1.-1.1.-1.1.-1.1.-1.1.-1.1.2.2.-4.5.-1.1.2.2.-2.2.2.1.2.-4.2.-3.1.-3.2.-12.3.5...3.5...4.3...4.3...7.2...5.4...5.2...4.3...7.1...3.2...2.3...3.4...4.5...3.6...3.5...2.2.1.2.2.2....2.2.1.2.2.2.1....-2.-1.1.5.-2.-1.-2....-2.-1.1...9.-9.....12.-12...9.-9.....10.-10...8.-12.....10.-10...9.-9....3.5.....5.4.-2.-2.-1.-2.-2.-2.-1.-2.-2.-1.-2.-2.-2.-1.12.1.1.1.-3.-2...5.4.-2.-2.-1.-2.-2...-1.-2.-2.-1.-2.-2.-2...12.1.1...-3.-2....2.2.1.2.2.2....2.2.1.2.2.2.1....-2.-1.1.5.-2.-1.-2....-2.-1.1...9.-9.....12.-12...9.-9.....10.-10...8.-12.....10.-10...9.-9....3.5......2.1.2....0...-1.-2...-2.-2...-2.-1.-7.8.-1.-2.-5...-2.-1........1.-1.-12...-1.-8.2.5.-1.-3.-5.1.-1...-1.-8.-1.-8.2.15.-2.-8.....9.-1.-2.0.-6.-1.10.0.2.1.-8...-2.-2.-1....2.1.2....1...1.....-1.-2...-2.-2...-2.-1...-1.-2.-5.7.-2.-1.-4........0...0.2.-2.-2.2.-2.-1.1.-1.-2.2.-4.2.-2...-1.-2.2.-9.3.7...3....0...0.-1.0.1.-10.5.-5.5.4.-2.-9.6.-6.6.1.0.-5.5.-1.-2.2.-4.5.0.2.2.-9.10.2.2.2.-16....0...0.2.0.-4.0.2.-3.3.-7.0.5.-3.3.-6.0.5.-4.0.-8.3.5.-1.-2.2.-9.3.7...3......8.-8...3.-3.15.0...8.-8...8.-8.17.0...7.-7...7.-7.14......8.-8...6.-6.........5.-5...6.-6.........5.-5...3.-3.........5.-5...6.-6.7...3......8.-8...8.-8.14.-1...10.-10...9.-9.14......12.-12...5.-5.........3.-3...3.-3.........5.-5...6.-6.........5.-5...6.-6.........5.-5...3.-3.5.-2.-1.-2.-2.-2.-1.-2.9.......8.-8...3.-3.15.0...8.-8...8.-8.17.0...7.-7...7.-7.14......8.-8...6.-6.........5.-5...6.-6.........5.-5...3.-3.........5.-5...6.-6.7...3....-5.9.-4...0.0...7.2.-9.5.4.-9.5.4...5.2.-7.4.3.-7.4.3........-2.-2.0...-3.-4..........-2.1...-3.-4.-1.-2.10.-2.-1.-2.-2.-1.-6.2.4.3.-10.3.5...2.2.1.-1.-2.-2...-2...-2...-1....-2.-1.1...-1.-2.2.3.-7.2.2.1.-1.1.-1.-2.2.1.1.1.2.2.1.2.2.-2.-2.-1.-2.-2.0.-2.12.-1.0.-2.0.-2.0.-1.0.-2.0.-2.0.-2.-1.8.0.0.2.2.-2.-2.-6.3.-2...-2.-2.-1.-2...-5.9.-4...0.0...7.2.-9.5.4.-9.5.4...5.2.-7.4.3.-7.4.3........-2.-2.0...-3.-4..........-2.1...-3.-4.-1.-2.10.-2.-1.-2.-2.-1.-6.2.4.3.-10.3.5...3.5...-1.1.7...-1.1.0.7.2.-9.5.4.-9.5.4.-9.4.3...-1.1.-1...-1.1.-1...-1.1.2.3.-15.3.6.-7.3.5....-2.-1.1.-1.1.-1.1.-1.1.-1.1.0.-2.-1.1.-1.1.-1.1.-1.1.-1.1.0.-1.-1.1.-1.1.-1.1.-1.1.-1.1.0.-2.-1.1.-1.1.-1.1.-1.1.-1.1.7.-2.-1.1.-1.1.-1.1.9.-9.9.-9.0.-2.-1.1.-1.1.-1.1.9.-9.9.-9.0.-1.-1.1.-1.1.-1.1.8.-5.5.-5.-3.-2.-1.1.-1.1.-1.1.5.-8.8.-8.-7.3.5...-1.1.7...-1.1.0.7.2.-9.5.4.-9.5.4.-9.4.3...-1.1.-1...-1.1.-1...-1.1.2.3.-15.3.6.-7.3.5....3.5...-1.1.-1...-1.1.-1...-1.1.2...3.6.1.-5.2.2.1.2.2.1.2.2.2.1.-5.2.-4.2.-3.1.-3.2.-4.2.-3.3.-2.-5.2.2.1.2.2.1.2.2.2.1.-5.2.-4.2.-3.1.-3.2.-4.2.-3.3.-2...-1.1...-1.1...-1.1...-1.1...-1.1...-1.1...-1.1...-1.1.-7.4.3.5..\n"
     ]
    }
   ],
   "source": [
    "df = df[df['part'] == 'P1'].fillna('')\n",
    "steps = df['interval'].to_string(index=False, header=False)\n",
    "\n",
    "# steps = re.sub(r'\\n|\\t| ','',steps)\n",
    "steps = re.sub(r'\\n','.',steps)\n",
    "steps = re.sub(r' ','',steps)\n",
    "\n",
    "\n",
    "print(steps)"
   ]
  },
  {
   "cell_type": "raw",
   "metadata": {},
   "source": [
    "# min_length = 8\n",
    "# min_occur = 2\n",
    "# pat = r'(?=(.{%d,})).*\\1{%d,}' % (min_length, min_occur-1)\n",
    "\n",
    "# step_patterns = re.findall(pat,steps)\n",
    "\n",
    "# print(Counter(step_patterns))"
   ]
  },
  {
   "cell_type": "raw",
   "metadata": {},
   "source": [
    "# min_length = 5\n",
    "# min_occur = 8\n",
    "# pat = r'(?=(.{%d,})(?=.*\\1){%d,})' % (min_length, min_occur-1)\n",
    "# step_patterns = re.findall(pat,steps)\n",
    "# print(Counter(step_patterns))"
   ]
  },
  {
   "cell_type": "code",
   "execution_count": 90,
   "metadata": {},
   "outputs": [
    {
     "data": {
      "text/plain": [
       "'.0.7.0.2.0.-2.0.-2.0.-1.0.-2.0.2.-4.7.0.-2.0.-1.0.-2.0.5.0.-2.0.-1.0.1.-1.-2.-2.0.7.0.2.0.-2.0.-2.0.-1.0.-2.0.2.-4.2.-2.-1.1.-1.1.-1.1.9.-2.-1.1.-1.1.-1.1.1.1.3.-1.3.-2.-1.-2.0.-2.9.-2.-2.-1.-2.-2.0.-'"
      ]
     },
     "execution_count": 90,
     "metadata": {},
     "output_type": "execute_result"
    }
   ],
   "source": [
    "steps = steps[:200]\n",
    "steps"
   ]
  },
  {
   "cell_type": "code",
   "execution_count": 91,
   "metadata": {},
   "outputs": [
    {
     "name": "stdout",
     "output_type": "stream",
     "text": [
      ".0.-2.0.\n",
      ".-2.0.-2.\n",
      ".0.-2.0.-1.0.-2.0.\n",
      "0.-2.0.-1.0.-2.0.\n",
      ".-2.0.-1.0.-2.0.\n",
      "-2.0.-1.0.-2.0.\n",
      "2.0.-1.0.-2.0.\n",
      ".0.-1.0.-2.0.\n",
      "0.-1.0.-2.0.\n",
      ".-1.0.-2.0.\n",
      "-1.0.-2.0.\n",
      "1.0.-2.0.\n",
      ".0.-2.0.\n",
      ".0.-2.0.-1.0.\n",
      "0.-2.0.-1.0.\n",
      ".-2.0.-1.0.\n",
      "-2.0.-1.0.\n",
      "2.0.-1.0.\n",
      ".0.-1.0.\n",
      ".0.-2.0.\n",
      ".0.-2.0.\n"
     ]
    }
   ],
   "source": [
    "min_length = 4\n",
    "min_occur = 3\n",
    "\n",
    "# pat = r'(.{%d,})(?:.*\\1){%d,}' % (min_length, min_occur-1) # backup copy\n",
    "# pat = r'(.{%d,})(?:.*\\1){%d,}' % (min_length, min_occur-1) # search w/ no delimiters\n",
    "pat = r'((?:[^.]*\\.){%d,})(?:.*\\1){%d,}' % (min_length, min_occur-1)\n",
    "\n",
    "step_patterns = re.findall(pat,steps,overlapped=True)\n",
    "\n",
    "for pattern in step_patterns:\n",
    "    print(pattern)"
   ]
  },
  {
   "cell_type": "raw",
   "metadata": {
    "scrolled": false
   },
   "source": [
    "min_length = 8\n",
    "min_occur = 2\n",
    "pat = r'(.{%d,})(?:.*\\1){%d,}' % (min_length, min_occur-1)\n",
    "# pat = r'(.{%d,})(?:.*\\1)' % (min_length)\n",
    "# pat = r'(.{12,})(?:.*\\1)'\n",
    "\n",
    "\n",
    "# step_patterns = re.finditer(pat,steps,overlapped=True)\n",
    "\n",
    "# for pat in step_patterns:\n",
    "#     print(pat.group())\n",
    "#     print()\n"
   ]
  },
  {
   "cell_type": "markdown",
   "metadata": {},
   "source": [
    "---\n",
    "# SQLite3 implementation\n",
    "---\n",
    "[SQLite3 documentation](https://docs.python.org/3.7/library/sqlite3.html)"
   ]
  },
  {
   "cell_type": "markdown",
   "metadata": {},
   "source": [
    "## Create tables"
   ]
  },
  {
   "cell_type": "code",
   "execution_count": 77,
   "metadata": {},
   "outputs": [],
   "source": [
    "import sqlite3\n",
    "conn = sqlite3.connect('pythagoras.db')\n",
    "c = conn.cursor()"
   ]
  },
  {
   "cell_type": "code",
   "execution_count": 84,
   "metadata": {},
   "outputs": [],
   "source": [
    "c.execute('''CREATE TABLE IF NOT EXISTS work (\n",
    "    work_id INTEGER PRIMARY KEY AUTOINCREMENT,\n",
    "    work_title text,\n",
    "    work_composer text\n",
    "    );''')\n",
    "conn.commit()"
   ]
  },
  {
   "cell_type": "code",
   "execution_count": 91,
   "metadata": {},
   "outputs": [],
   "source": [
    "c.execute('''CREATE TABLE IF NOT EXISTS pattern (\n",
    "    pattern_id INTEGER PRIMARY KEY AUTOINCREMENT,\n",
    "    pattern_string text\n",
    "    );''')\n",
    "conn.commit()"
   ]
  },
  {
   "cell_type": "code",
   "execution_count": 86,
   "metadata": {},
   "outputs": [],
   "source": [
    "c.execute('''CREATE TABLE IF NOT EXISTS work_pattern (\n",
    "    work_id INTEGER,\n",
    "    pattern_id INTEGER,\n",
    "    FOREIGN KEY (work_id) REFERENCES work(work_id),\n",
    "    FOREIGN KEY (pattern_id) REFERENCES pattern(pattern_id)\n",
    "    );''')\n",
    "conn.commit()"
   ]
  },
  {
   "cell_type": "code",
   "execution_count": 92,
   "metadata": {
    "scrolled": true
   },
   "outputs": [
    {
     "name": "stdout",
     "output_type": "stream",
     "text": [
      "[('work',), ('sqlite_sequence',), ('work_pattern',), ('pattern',)]\n",
      "[(0, 'pattern_id', 'INTEGER', 0, None, 1), (1, 'pattern_string', 'text', 0, None, 0)]\n"
     ]
    }
   ],
   "source": [
    "# show tables\n",
    "print(c.execute('''SELECT name from sqlite_master where type=\"table\";''').fetchall())\n",
    "\n",
    "# show columns\n",
    "print(c.execute('''PRAGMA table_info(pattern);''').fetchall())"
   ]
  },
  {
   "cell_type": "raw",
   "metadata": {},
   "source": [
    "c.execute('''DROP TABLE IF EXISTS work;''')\n",
    "c.execute('''DROP TABLE IF EXISTS pattern;''')\n",
    "c.execute('''DROP TABLE IF EXISTS work_pattern;''')"
   ]
  },
  {
   "cell_type": "markdown",
   "metadata": {},
   "source": [
    "## Insert values into tables"
   ]
  },
  {
   "cell_type": "code",
   "execution_count": 103,
   "metadata": {},
   "outputs": [
    {
     "name": "stdout",
     "output_type": "stream",
     "text": [
      "Cannot match: .DS_Store\n"
     ]
    }
   ],
   "source": [
    "files = os.listdir(\"/Users/BrandonBel/Desktop/MusicXML_scores/csv/\")\n",
    "for file in files:\n",
    "    try:\n",
    "        m = re.match(r'(\\w*?)-(.*).csv',file)\n",
    "        composer = m.group(1)\n",
    "        title = m.group(2)\n",
    "#         print(\"\\nComposer:\", composer, \"\\nTitle: \", title)\n",
    "        \n",
    "        if c.execute('''SELECT COUNT(work_title) FROM work WHERE work_title=(?)''', (title,)).fetchone()[0] == 0:\n",
    "            c.execute('''INSERT INTO work(work_title, work_composer) VALUES (?,?)''',(title,composer))\n",
    "\n",
    "    except:\n",
    "        print(\"Cannot match: %s\" % file)"
   ]
  },
  {
   "cell_type": "code",
   "execution_count": 104,
   "metadata": {
    "collapsed": true
   },
   "outputs": [
    {
     "name": "stdout",
     "output_type": "stream",
     "text": [
      "(1, 'Duo2b', 'Beethoven')\n",
      "(2, 'SATZ1', 'Handel')\n",
      "(3, 'D 459, 2 KlavierstÅcke', 'Schubert')\n",
      "(4, 'Opus 22,2', 'Beethoven')\n",
      "(5, 'Satz1', 'Beethoven')\n",
      "(6, 'XI-Menuett', 'Mozart')\n",
      "(7, 'Sonatine Mand c', 'Beethoven')\n",
      "(8, 'D 002, Fantasie', 'Schubert')\n",
      "(9, 'Opus 101,1', 'Beethoven')\n",
      "(10, 'Opus 22,3', 'Beethoven')\n",
      "(11, 'Duo2c', 'Beethoven')\n",
      "(12, 'op123-2-Gloria', 'Beethoven')\n",
      "(13, 'Duo2a', 'Beethoven')\n",
      "(14, 'FRöS4', 'Beethoven')\n",
      "(15, '04_variation', 'Beethoven')\n",
      "(16, 'SATZ2', 'Handel')\n",
      "(17, 'op3_4Adagio', 'Beethoven')\n",
      "(18, '13_variation', 'Beethoven')\n",
      "(19, 'Opus 22,1', 'Beethoven')\n",
      "(20, 'op3_2Andante', 'Beethoven')\n",
      "(21, 'Opus 101,3', 'Beethoven')\n",
      "(22, 'Satz2', 'Beethoven')\n",
      "(23, 'Andante favori Opus 35', 'Beethoven')\n",
      "(24, '5_viola', 'Beethoven')\n",
      "(25, '1_Exposito', 'Schubert')\n",
      "(26, 'Opus 26,4', 'Beethoven')\n",
      "(27, 'SonateNr15_E-Dur', 'Handel')\n",
      "(28, 'SONAT_1', 'Beethoven')\n",
      "(29, 'Satz3', 'Beethoven')\n",
      "(30, 'Schweizer_Lied', 'Beethoven')\n",
      "(31, 'Opus 101,2', 'Beethoven')\n",
      "(32, 'SATZ3', 'Handel')\n",
      "(33, 'FRöS2-3', 'Beethoven')\n",
      "(34, 'op3_1Allegro con brio', 'Beethoven')\n",
      "(35, 'Sonate_C-Dur_4_Gavotte', 'Handel')\n",
      "(36, 'D 606, Marsch', 'Schubert')\n",
      "(37, 'FRöS1', 'Beethoven')\n",
      "(38, 'Wut_Åber_den_verlorenen_Groschen', 'Beethoven')\n",
      "(39, 'SonateNr12_F-Dur', 'Handel')\n",
      "(40, 'D 459_A2, Scherzo con Trio', 'Schubert')\n",
      "(41, '10_variation', 'Beethoven')\n",
      "(42, '07_variation', 'Beethoven')\n",
      "(43, 'Opus 22,4', 'Beethoven')\n",
      "(44, 'Opus27,Nr.1', 'Chopin')\n",
      "(45, 'KV521_3', 'Mozart')\n",
      "(46, 'Opus 10-2,3', 'Beethoven')\n",
      "(47, '29_variation', 'Beethoven')\n",
      "(48, 'Opus 81a,2', 'Beethoven')\n",
      "(49, 'D 612, Adagio', 'Schubert')\n",
      "(50, 'Opus64,Nr.2', 'Chopin')\n",
      "(51, 'Opus 26,1', 'Beethoven')\n",
      "(52, '03_variation', 'Beethoven')\n",
      "(53, 'IV-Polonaise', 'Mozart')\n",
      "(54, '14_variation', 'Beethoven')\n",
      "(55, 'Opus 81a,3', 'Beethoven')\n",
      "(56, 'op123-1-Kyrie', 'Beethoven')\n",
      "(57, 'Opus 10-2,2', 'Beethoven')\n",
      "(58, 'KV521_2', 'Mozart')\n",
      "(59, 'D 334, Menuetto', 'Schubert')\n",
      "(60, 'SATZ6', 'Handel')\n",
      "(61, 'Duo3a', 'Beethoven')\n",
      "(62, '3_Violine1', 'Beethoven')\n",
      "(63, 'V-Larghetto', 'Mozart')\n",
      "(64, 'Sonate_C-Dur_3_Larghetto', 'Handel')\n",
      "(65, 'SATZ4', 'Handel')\n",
      "(66, 'luise', 'Mozart')\n",
      "(67, 'Opus 81a,1', 'Beethoven')\n",
      "(68, 'Opus64,Nr.1', 'Chopin')\n",
      "(69, 'Opus 26,3', 'Beethoven')\n",
      "(70, 'Opus 26,2', 'Beethoven')\n",
      "(71, 'Opus 10-2,1', 'Beethoven')\n",
      "(72, 'KV521_1', 'Mozart')\n",
      "(73, 'Fantasie-d-moll', 'Mozart')\n",
      "(74, 'An_Chloe', 'Mozart')\n",
      "(75, '4_Violine2', 'Beethoven')\n",
      "(76, 'SATZ5', 'Handel')\n",
      "(77, 'Duo3b', 'Beethoven')\n",
      "(78, 'DeutMes7', 'Schubert')\n",
      "(79, 'Pre_28_4', 'Chopin')\n",
      "(80, 'Opus 27-1,3', 'Beethoven')\n",
      "(81, 'op123-3-Credo', 'Beethoven')\n",
      "(82, '1_Satz, Allegro', 'Beethoven')\n",
      "(83, '6-Agnus_Dei', 'Schubert')\n",
      "(84, 'MOZDIV_3', 'Mozart')\n",
      "(85, 'Appassionata_1', 'Beethoven')\n",
      "(86, 'KV134-SATZ_1', 'Mozart')\n",
      "(87, 'D 760, Wanderer-Fantasie', 'Schubert')\n",
      "(88, 'D 459_A3, Allegro patetico', 'Schubert')\n",
      "(89, 'MOZDIV_2', 'Mozart')\n",
      "(90, 'Opus 106,4', 'Beethoven')\n",
      "(91, 'Opus 27-1,2', 'Beethoven')\n",
      "(92, 'IX-Menuett', 'Mozart')\n",
      "(93, 'op86_5-Agnus_Dei', 'Beethoven')\n",
      "(94, 'DeutMes6', 'Schubert')\n",
      "(95, \"SONATE'1\", 'Beethoven')\n",
      "(96, '1_Horn1', 'Beethoven')\n",
      "(97, \"SONATE'3\", 'Beethoven')\n",
      "(98, 'DeutMes4', 'Schubert')\n",
      "(99, '09_variation', 'Beethoven')\n",
      "(100, 'II-Menuett(Allegretto)', 'Mozart')\n",
      "(101, '0_diabelli', 'Beethoven')\n",
      "(102, 'D_935_2', 'Schubert')\n",
      "(103, '27_variation', 'Beethoven')\n",
      "(104, '30_variation', 'Beethoven')\n",
      "(105, 'KV134-SATZ_3', 'Mozart')\n",
      "(106, 'Appassionata_2', 'Beethoven')\n",
      "(107, 'Appassionata_3', 'Beethoven')\n",
      "(108, 'KV134-SATZ_2', 'Mozart')\n",
      "(109, 'Opus25,Nr.9', 'Chopin')\n",
      "(110, 'D 178, Adagio', 'Schubert')\n",
      "(111, 'HWV-365', 'Handel')\n",
      "(112, 'MOZDIV_1', 'Mozart')\n",
      "(113, 'Sonate_C-Dur_5_Allegro', 'Handel')\n",
      "(114, 'Opus 27-1,1', 'Beethoven')\n",
      "(115, 'Opus 10-3,4', 'Beethoven')\n",
      "(116, 'D 506, Rondo', 'Schubert')\n",
      "(117, '23_variation', 'Beethoven')\n",
      "(118, \"SONATE'2\", 'Beethoven')\n",
      "(119, 'DeutMes5', 'Schubert')\n",
      "(120, 'DeutMes1', 'Schubert')\n",
      "(121, 'Opus 10-1,2', 'Beethoven')\n",
      "(122, 'III-Andante', 'Mozart')\n",
      "(123, 'VIII-Allegro', 'Mozart')\n",
      "(124, 'MOZDIV_5', 'Mozart')\n",
      "(125, 'Opus 106,3', 'Beethoven')\n",
      "(126, '33_variation', 'Beethoven')\n",
      "(127, 'op86_2-Gloria', 'Beethoven')\n",
      "(128, '24_variation', 'Beethoven')\n",
      "(129, 'Opus09,Nr.1', 'Chopin')\n",
      "(130, 'Opus 79,1', 'Beethoven')\n",
      "(131, '19_variation', 'Beethoven')\n",
      "(132, 'VII-Adagio', 'Mozart')\n",
      "(133, 'Menuett_C-dur', 'Beethoven')\n",
      "(134, 'Opus 106,2', 'Beethoven')\n",
      "(135, 'HWV-360', 'Handel')\n",
      "(136, 'D 593, 2 Scherzi', 'Schubert')\n",
      "(137, 'MOZDIV_4', 'Mozart')\n",
      "(138, 'op25_4andante con variazioni', 'Beethoven')\n",
      "(139, '20_variation', 'Beethoven')\n",
      "(140, 'Opus 10-3,1', 'Beethoven')\n",
      "(141, 'Opus 27-1,4', 'Beethoven')\n",
      "(142, 'Opus 10-1,3', 'Beethoven')\n",
      "(143, 'Opus-Post108', 'Chopin')\n",
      "(144, 'DeutMes2', 'Schubert')\n",
      "(145, 'Opus 10-1,1', 'Beethoven')\n",
      "(146, 'Opus 107, 08', 'Beethoven')\n",
      "(147, 'Opus 10-3,3', 'Beethoven')\n",
      "(148, 'op25_3allegro molto', 'Beethoven')\n",
      "(149, 'Opus 79,3', 'Beethoven')\n",
      "(150, 'op123-4-Sanctus', 'Beethoven')\n",
      "(151, 'Opus 79,2', 'Beethoven')\n",
      "(152, 'Opus09,Nr.2', 'Chopin')\n",
      "(153, 'KV134-SATZ_4', 'Mozart')\n",
      "(154, 'Opus 106,1', 'Beethoven')\n",
      "(155, 'KV216-2_Adagio', 'Mozart')\n",
      "(156, '6_cello', 'Beethoven')\n",
      "(157, 'Sonate_F-Dur_3_Siciliana', 'Handel')\n",
      "(158, 'Opus 107, 09', 'Beethoven')\n",
      "(159, 'Opus 10-3,2', 'Beethoven')\n",
      "(160, \"SONATE'4\", 'Beethoven')\n",
      "(161, 'DeutMes3', 'Schubert')\n",
      "(162, 'VEILCHEN', 'Mozart')\n",
      "(163, 'op28_20', 'Chopin')\n",
      "(164, 'Opus 7,3', 'Beethoven')\n",
      "(165, 'Opus 111,2', 'Beethoven')\n",
      "(166, 'Opus 107, 04', 'Beethoven')\n",
      "(167, 'Nr6e', 'Beethoven')\n",
      "(168, 'Opus 107, 10', 'Beethoven')\n",
      "(169, '21_variation', 'Beethoven')\n",
      "(170, 'Kl_Fg_1', 'Beethoven')\n",
      "(171, 'Opus 53,1', 'Beethoven')\n",
      "(172, 'Bagatelle_op33Nr1', 'Beethoven')\n",
      "(173, '18_variation', 'Beethoven')\n",
      "(174, 'op25_1entrata allegro', 'Beethoven')\n",
      "(175, '25_variation', 'Beethoven')\n",
      "(176, 'Variationen_c-moll', 'Beethoven')\n",
      "(177, '3-Credo', 'Schubert')\n",
      "(178, 'op-12Nr-2', 'Beethoven')\n",
      "(179, '32_variation', 'Beethoven')\n",
      "(180, 'Opus10,Nr.1', 'Chopin')\n",
      "(181, '2_Horn2', 'Beethoven')\n",
      "(182, 'Nr6d', 'Beethoven')\n",
      "(183, 'Opus 107, 05', 'Beethoven')\n",
      "(184, '1-Allegro', 'Beethoven')\n",
      "(185, 'Opus 7,2', 'Beethoven')\n",
      "(186, 'Adagio', 'Mozart')\n",
      "(187, '2-Allegretto', 'Beethoven')\n",
      "(188, 'Opus 111,1', 'Beethoven')\n",
      "(189, 'op3_5Menuetto', 'Beethoven')\n",
      "(190, 'OP27_2', 'Beethoven')\n",
      "(191, 'Opus 107, 07', 'Beethoven')\n",
      "(192, 'op25_6adagio_ allegro vivace disinvolto', 'Beethoven')\n",
      "(193, 'Kl_Fg_2', 'Beethoven')\n",
      "(194, 'Opus10,Nr.3', 'Chopin')\n",
      "(195, '2-Gloria', 'Schubert')\n",
      "(196, 'Opus25,Nr.1', 'Chopin')\n",
      "(197, 'op28-1_S', 'Beethoven')\n",
      "(198, 'Opus 53,2', 'Beethoven')\n",
      "(199, 'SonateNr14_A-Dur', 'Handel')\n",
      "(200, 'XII-Allegro', 'Mozart')\n",
      "(201, 'Sonate Nr2', 'Beethoven')\n",
      "(202, 'I-Allegro', 'Mozart')\n",
      "(203, 'X-Andante', 'Mozart')\n",
      "(204, '6_Ecossaisen', 'Beethoven')\n",
      "(205, 'op68_3', 'Chopin')\n",
      "(206, 'Kl_Fg_3', 'Beethoven')\n",
      "(207, 'D 600, Menuetto', 'Schubert')\n",
      "(208, 'Opus 107, 06', 'Beethoven')\n",
      "(209, '1+2', 'Handel')\n",
      "(210, 'Opus 7,1', 'Beethoven')\n",
      "(211, 'DeutMes8', 'Schubert')\n",
      "(212, '3+4', 'Handel')\n",
      "(213, 'Menuett_G-dur', 'Beethoven')\n",
      "(214, 'Nr6c', 'Beethoven')\n",
      "(215, 'Opus 107, 02', 'Beethoven')\n",
      "(216, 'D 156, 10 Variationen', 'Schubert')\n",
      "(217, '3_Satz, Scherzo Allegro assai', 'Beethoven')\n",
      "(218, 'Opus10,Nr.12', 'Chopin')\n",
      "(219, 'Opus10,Nr.6', 'Chopin')\n",
      "(220, 'Mandoline', 'Beethoven')\n",
      "(221, 'Opus27-Nr2', 'Beethoven')\n",
      "(222, 'op86_3-Credo', 'Beethoven')\n",
      "(223, 'Opus 31-2,3', 'Beethoven')\n",
      "(224, 'Opus 31-2,2', 'Beethoven')\n",
      "(225, 'HWV-369', 'Handel')\n",
      "(226, 'Sonate_C-Dur_2_Allegro', 'Handel')\n",
      "(227, 'Opus 107, 03', 'Beethoven')\n",
      "(228, 'Nr6b', 'Beethoven')\n",
      "(229, 'klavierstÅck-woo-60', 'Beethoven')\n",
      "(230, 'DeutMes9', 'Schubert')\n",
      "(231, 'Opus 7,4', 'Beethoven')\n",
      "(232, 'Opus 56, 1', 'Beethoven')\n",
      "(233, 'Opus25,Nr.10', 'Chopin')\n",
      "(234, '22_variation', 'Beethoven')\n",
      "(235, 'Opus 56, 3', 'Beethoven')\n",
      "(236, 'VI-Menuett', 'Mozart')\n",
      "(237, 'D 029, Andante', 'Schubert')\n",
      "(238, 'Opus 107, 01', 'Beethoven')\n",
      "(239, 'D 459_A1, Adagio', 'Schubert')\n",
      "(240, '7_Rondo', 'Schubert')\n",
      "(241, '4_Andante', 'Schubert')\n",
      "(242, 'op25_2tempo ordinario di un minuetto', 'Beethoven')\n",
      "(243, '6_Variatio', 'Schubert')\n",
      "(244, '31_variation', 'Beethoven')\n",
      "(245, 'Bagatelle Opus 119 Nr1', 'Beethoven')\n",
      "(246, 'Opus 31-2,1', 'Beethoven')\n",
      "(247, '2_Durchfrg', 'Schubert')\n",
      "(248, '3-Rondo', 'Beethoven')\n",
      "(249, 'op2 Nr 1', 'Beethoven')\n",
      "(250, '26_variation', 'Beethoven')\n",
      "(251, '08_variation', 'Beethoven')\n",
      "(252, 'Nr6a', 'Beethoven')\n",
      "(253, 'DerZauberer', 'Mozart')\n",
      "(254, 'Opus 56, 2', 'Beethoven')\n",
      "(255, 'Opus25,Nr.11', 'Chopin')\n",
      "(256, 'Sonate_F-Dur_2_Allegro', 'Handel')\n",
      "(257, '67d', 'Beethoven')\n",
      "(258, 'op.49 Nr.2', 'Beethoven')\n",
      "(259, 'KV358_1', 'Mozart')\n",
      "(260, 'Opus 49,1', 'Beethoven')\n",
      "(261, '15_variation', 'Beethoven')\n",
      "(262, 'Opus 110,1', 'Beethoven')\n",
      "(263, 'Klaviertrio', 'Beethoven')\n",
      "(264, '02_variation', 'Beethoven')\n",
      "(265, 'Opus 90,1', 'Beethoven')\n",
      "(266, 'KV381_1', 'Mozart')\n",
      "(267, 'Opus 28,1', 'Beethoven')\n",
      "(268, '2_Satz, Andante', 'Beethoven')\n",
      "(269, 'Sonate_F-Dur_1_Larghetto', 'Handel')\n",
      "(270, '28_variation', 'Beethoven')\n",
      "(271, 'Opus 109,1', 'Beethoven')\n",
      "(272, '06_variation', 'Beethoven')\n",
      "(273, 'Bagatelle_op119 Nr4', 'Beethoven')\n",
      "(274, 'op86_1-Kyrie', 'Beethoven')\n",
      "(275, 'Sonatine', 'Beethoven')\n",
      "(276, '11_variation', 'Beethoven')\n",
      "(277, 'Fur_Elise', 'Beethoven')\n",
      "(278, 'op-87-1', 'Beethoven')\n",
      "(279, 'op-87-3', 'Beethoven')\n",
      "(280, '5-Benedictus', 'Schubert')\n",
      "(281, 'Opus 109,3', 'Beethoven')\n",
      "(282, 'Opus 49,2', 'Beethoven')\n",
      "(283, 'KV358_2', 'Mozart')\n",
      "(284, 'Godsave-7Var', 'Beethoven')\n",
      "(285, 'Opus 28,3', 'Beethoven')\n",
      "(286, 'Opus 110,2', 'Beethoven')\n",
      "(287, 'KV381_3', 'Mozart')\n",
      "(288, 'op123-5-Agnus_Dei', 'Beethoven')\n",
      "(289, 'KV381_2', 'Mozart')\n",
      "(290, 'Opus 90,2', 'Beethoven')\n",
      "(291, 'Opus 110,3', 'Beethoven')\n",
      "(292, 'Opus 28,2', 'Beethoven')\n",
      "(293, 'Sonate Opus2Nr3', 'Beethoven')\n",
      "(294, 'KV358_3', 'Mozart')\n",
      "(295, 'op3_3Menuetto', 'Beethoven')\n",
      "(296, 'op3_6Finale', 'Beethoven')\n",
      "(297, 'Opus 109,2', 'Beethoven')\n",
      "(298, 'KlavierstÅck Lustig und traurig', 'Beethoven')\n",
      "(299, '8_Rondo2', 'Schubert')\n",
      "(300, 'Opus 31-3,4', 'Beethoven')\n",
      "(301, 'D_946_2', 'Schubert')\n",
      "(302, 'op-87-2', 'Beethoven')\n",
      "(303, 'Duo1a', 'Beethoven')\n",
      "(304, '67b', 'Beethoven')\n",
      "(305, '1-Kyrie', 'Schubert')\n",
      "(306, 'Opus 31-1,2', 'Beethoven')\n",
      "(307, 'kv597', 'Mozart')\n",
      "(308, 'Waldstein_Sonate', 'Beethoven')\n",
      "(309, '5_Scherzo', 'Schubert')\n",
      "(310, 'Opus 54,2', 'Beethoven')\n",
      "(311, 'Passacaille', 'Handel')\n",
      "(312, 'Opus 13,1', 'Beethoven')\n",
      "(313, 'Kanon', 'Pachelbel')\n",
      "(314, '4-Sanctus', 'Schubert')\n",
      "(315, 'KV497_1', 'Mozart')\n",
      "(316, 'op25_5allegro scherzando e vivace', 'Beethoven')\n",
      "(317, 'Opus 31-1,3', 'Beethoven')\n",
      "(318, 'Bagatelle Opus 33 Nr3', 'Beethoven')\n",
      "(319, 'Sonate_C-Dur_1_Larghetto', 'Handel')\n",
      "(320, '67c', 'Beethoven')\n",
      "(321, 'Opus 31-3,1', 'Beethoven')\n",
      "(322, 'Duo1b', 'Beethoven')\n",
      "(323, '67a', 'Beethoven')\n",
      "(324, 'Opus 31-3,3', 'Beethoven')\n",
      "(325, 'Opus 31-1,1', 'Beethoven')\n",
      "(326, 'KV216-1_Allegro', 'Mozart')\n",
      "(327, 'D 576, 13 Variationen', 'Schubert')\n",
      "(328, 'Opus18', 'Chopin')\n",
      "(329, 'DTANZ', 'Beethoven')\n",
      "(330, '915', 'Schubert')\n",
      "(331, '01_variation', 'Beethoven')\n",
      "(332, 'Opus 54,1', 'Beethoven')\n",
      "(333, 'Ah_vous_dirai-je,Maman', 'Mozart')\n",
      "(334, 'Sonate_F-Dur_4_Allegro', 'Handel')\n",
      "(335, 'KV497_3', 'Mozart')\n",
      "(336, 'Opus 13,3', 'Beethoven')\n",
      "(337, 'op86_4-Sanctus', 'Beethoven')\n",
      "(338, '16_variation', 'Beethoven')\n",
      "(339, 'Opus 13,2', 'Beethoven')\n",
      "(340, 'Opus 28,4', 'Beethoven')\n",
      "(341, 'KV497_2', 'Mozart')\n",
      "(342, '12_variation', 'Beethoven')\n",
      "(343, 'Opus 31-3,2', 'Beethoven')\n",
      "(344, 'op-87-4', 'Beethoven')\n",
      "(345, '05_variation', 'Beethoven')\n",
      "(346, 'Duo1c', 'Beethoven')\n"
     ]
    }
   ],
   "source": [
    "for row in c.execute('''SELECT * FROM work;'''):\n",
    "    print(row)"
   ]
  },
  {
   "cell_type": "code",
   "execution_count": 113,
   "metadata": {},
   "outputs": [
    {
     "name": "stdout",
     "output_type": "stream",
     "text": [
      "(219,)\n"
     ]
    }
   ],
   "source": [
    "for row in c.execute('''SELECT COUNT(work_title) FROM work WHERE work_composer = \"Beethoven\";'''):\n",
    "    print(row)"
   ]
  },
  {
   "cell_type": "code",
   "execution_count": 108,
   "metadata": {
    "collapsed": true
   },
   "outputs": [
    {
     "name": "stdout",
     "output_type": "stream",
     "text": [
      "(4, 'Opus 22,2', 'Beethoven')\n",
      "(9, 'Opus 101,1', 'Beethoven')\n",
      "(10, 'Opus 22,3', 'Beethoven')\n",
      "(19, 'Opus 22,1', 'Beethoven')\n",
      "(21, 'Opus 101,3', 'Beethoven')\n",
      "(23, 'Andante favori Opus 35', 'Beethoven')\n",
      "(26, 'Opus 26,4', 'Beethoven')\n",
      "(31, 'Opus 101,2', 'Beethoven')\n",
      "(43, 'Opus 22,4', 'Beethoven')\n",
      "(44, 'Opus27,Nr.1', 'Chopin')\n",
      "(46, 'Opus 10-2,3', 'Beethoven')\n",
      "(48, 'Opus 81a,2', 'Beethoven')\n",
      "(50, 'Opus64,Nr.2', 'Chopin')\n",
      "(51, 'Opus 26,1', 'Beethoven')\n",
      "(55, 'Opus 81a,3', 'Beethoven')\n",
      "(57, 'Opus 10-2,2', 'Beethoven')\n",
      "(67, 'Opus 81a,1', 'Beethoven')\n",
      "(68, 'Opus64,Nr.1', 'Chopin')\n",
      "(69, 'Opus 26,3', 'Beethoven')\n",
      "(70, 'Opus 26,2', 'Beethoven')\n",
      "(71, 'Opus 10-2,1', 'Beethoven')\n",
      "(80, 'Opus 27-1,3', 'Beethoven')\n",
      "(90, 'Opus 106,4', 'Beethoven')\n",
      "(91, 'Opus 27-1,2', 'Beethoven')\n",
      "(109, 'Opus25,Nr.9', 'Chopin')\n",
      "(114, 'Opus 27-1,1', 'Beethoven')\n",
      "(115, 'Opus 10-3,4', 'Beethoven')\n",
      "(121, 'Opus 10-1,2', 'Beethoven')\n",
      "(125, 'Opus 106,3', 'Beethoven')\n",
      "(129, 'Opus09,Nr.1', 'Chopin')\n",
      "(130, 'Opus 79,1', 'Beethoven')\n",
      "(134, 'Opus 106,2', 'Beethoven')\n",
      "(140, 'Opus 10-3,1', 'Beethoven')\n",
      "(141, 'Opus 27-1,4', 'Beethoven')\n",
      "(142, 'Opus 10-1,3', 'Beethoven')\n",
      "(143, 'Opus-Post108', 'Chopin')\n",
      "(145, 'Opus 10-1,1', 'Beethoven')\n",
      "(146, 'Opus 107, 08', 'Beethoven')\n",
      "(147, 'Opus 10-3,3', 'Beethoven')\n",
      "(149, 'Opus 79,3', 'Beethoven')\n",
      "(151, 'Opus 79,2', 'Beethoven')\n",
      "(152, 'Opus09,Nr.2', 'Chopin')\n",
      "(154, 'Opus 106,1', 'Beethoven')\n",
      "(158, 'Opus 107, 09', 'Beethoven')\n",
      "(159, 'Opus 10-3,2', 'Beethoven')\n",
      "(164, 'Opus 7,3', 'Beethoven')\n",
      "(165, 'Opus 111,2', 'Beethoven')\n",
      "(166, 'Opus 107, 04', 'Beethoven')\n",
      "(168, 'Opus 107, 10', 'Beethoven')\n",
      "(171, 'Opus 53,1', 'Beethoven')\n",
      "(180, 'Opus10,Nr.1', 'Chopin')\n",
      "(183, 'Opus 107, 05', 'Beethoven')\n",
      "(185, 'Opus 7,2', 'Beethoven')\n",
      "(188, 'Opus 111,1', 'Beethoven')\n",
      "(191, 'Opus 107, 07', 'Beethoven')\n",
      "(194, 'Opus10,Nr.3', 'Chopin')\n",
      "(196, 'Opus25,Nr.1', 'Chopin')\n",
      "(198, 'Opus 53,2', 'Beethoven')\n",
      "(208, 'Opus 107, 06', 'Beethoven')\n",
      "(210, 'Opus 7,1', 'Beethoven')\n",
      "(215, 'Opus 107, 02', 'Beethoven')\n",
      "(218, 'Opus10,Nr.12', 'Chopin')\n",
      "(219, 'Opus10,Nr.6', 'Chopin')\n",
      "(221, 'Opus27-Nr2', 'Beethoven')\n",
      "(223, 'Opus 31-2,3', 'Beethoven')\n",
      "(224, 'Opus 31-2,2', 'Beethoven')\n",
      "(227, 'Opus 107, 03', 'Beethoven')\n",
      "(231, 'Opus 7,4', 'Beethoven')\n",
      "(232, 'Opus 56, 1', 'Beethoven')\n",
      "(233, 'Opus25,Nr.10', 'Chopin')\n",
      "(235, 'Opus 56, 3', 'Beethoven')\n",
      "(238, 'Opus 107, 01', 'Beethoven')\n",
      "(245, 'Bagatelle Opus 119 Nr1', 'Beethoven')\n",
      "(246, 'Opus 31-2,1', 'Beethoven')\n",
      "(254, 'Opus 56, 2', 'Beethoven')\n",
      "(255, 'Opus25,Nr.11', 'Chopin')\n",
      "(260, 'Opus 49,1', 'Beethoven')\n",
      "(262, 'Opus 110,1', 'Beethoven')\n",
      "(265, 'Opus 90,1', 'Beethoven')\n",
      "(267, 'Opus 28,1', 'Beethoven')\n",
      "(271, 'Opus 109,1', 'Beethoven')\n",
      "(281, 'Opus 109,3', 'Beethoven')\n",
      "(282, 'Opus 49,2', 'Beethoven')\n",
      "(285, 'Opus 28,3', 'Beethoven')\n",
      "(286, 'Opus 110,2', 'Beethoven')\n",
      "(290, 'Opus 90,2', 'Beethoven')\n",
      "(291, 'Opus 110,3', 'Beethoven')\n",
      "(292, 'Opus 28,2', 'Beethoven')\n",
      "(293, 'Sonate Opus2Nr3', 'Beethoven')\n",
      "(297, 'Opus 109,2', 'Beethoven')\n",
      "(300, 'Opus 31-3,4', 'Beethoven')\n",
      "(306, 'Opus 31-1,2', 'Beethoven')\n",
      "(310, 'Opus 54,2', 'Beethoven')\n",
      "(312, 'Opus 13,1', 'Beethoven')\n",
      "(317, 'Opus 31-1,3', 'Beethoven')\n",
      "(318, 'Bagatelle Opus 33 Nr3', 'Beethoven')\n",
      "(321, 'Opus 31-3,1', 'Beethoven')\n",
      "(324, 'Opus 31-3,3', 'Beethoven')\n",
      "(325, 'Opus 31-1,1', 'Beethoven')\n",
      "(328, 'Opus18', 'Chopin')\n",
      "(332, 'Opus 54,1', 'Beethoven')\n",
      "(336, 'Opus 13,3', 'Beethoven')\n",
      "(339, 'Opus 13,2', 'Beethoven')\n",
      "(340, 'Opus 28,4', 'Beethoven')\n",
      "(343, 'Opus 31-3,2', 'Beethoven')\n"
     ]
    }
   ],
   "source": [
    "for row in c.execute('''SELECT * FROM work WHERE work_title LIKE \"%opus%\";'''):\n",
    "    print(row)"
   ]
  },
  {
   "cell_type": "code",
   "execution_count": 114,
   "metadata": {},
   "outputs": [],
   "source": [
    "conn.close()"
   ]
  },
  {
   "cell_type": "markdown",
   "metadata": {},
   "source": [
    "---\n",
    "# Vizualizations\n",
    "---"
   ]
  },
  {
   "cell_type": "raw",
   "metadata": {
    "scrolled": true
   },
   "source": [
    "col = 'type'\n",
    "df[df[col]!=''].groupby(col)[col].count().sort_values(ascending=False).plot.bar()\n",
    "plt.ylabel('Count')\n",
    "plt.xlabel('Note type')\n",
    "plt.title('Note types')"
   ]
  },
  {
   "cell_type": "raw",
   "metadata": {},
   "source": [
    "df = df.set_index('part',append=True)"
   ]
  },
  {
   "cell_type": "raw",
   "metadata": {
    "scrolled": false
   },
   "source": [
    "pitch_df = df.groupby('pitch')['pitch'].count()\n",
    "print(pitch_df)\n",
    "# table = pd.pivot_table(df, values='pitch', index=[part],columns=['part'], aggfunc=np.unique)\n",
    "# print(table)\n",
    "# pd.pivot_table(df, columns='pitch', values='step').plot(subplots=True)\n",
    "# print(table)"
   ]
  },
  {
   "cell_type": "raw",
   "metadata": {
    "scrolled": false
   },
   "source": [
    "print('\\nPITCH COUNTS BY PART\\n')\n",
    "\n",
    "col = 'pitch'\n",
    "result = df[df[col]!=''].groupby(['part',col])[col].count()\n",
    "result_df = result.to_frame().rename (columns={col:'count'}).reset_index()\n",
    "p = len(parts)\n",
    "if p%2 == 0:\n",
    "    num_rows = int(p/2)\n",
    "    fig, ax = plt.subplots(num_rows,2,figsize=(12,num_rows*4))\n",
    "elif p%3 == 0:\n",
    "    num_rows = int(p/3)\n",
    "    fig, ax = plt.subplots(num_rows,3,figsize=(15,num_rows*3))\n",
    "else:\n",
    "    num_rows = p\n",
    "    fig, ax = plt.subplots(num_rows,1,figsize=(10,num_rows))\n",
    "\n",
    "result_df.pivot(index=col,columns='part',values='count').sort_values(by=\"P1\",ascending=False).plot.bar(subplots=True, ax=ax,legend=False, sharex=False)\n",
    "\n",
    "plt.tight_layout()\n",
    "plt.show()\n",
    "\n",
    "\n"
   ]
  },
  {
   "cell_type": "raw",
   "metadata": {
    "scrolled": true
   },
   "source": [
    "col = 'pitch'\n",
    "df[df[col]!=''].groupby(col)[col].count().sort_values(ascending=False).plot.bar(subplots=True)\n",
    "plt.ylabel('Count')\n",
    "plt.xlabel('Pitch')\n",
    "plt.title('Pitches')"
   ]
  }
 ],
 "metadata": {
  "kernelspec": {
   "display_name": "Python 3",
   "language": "python",
   "name": "python3"
  },
  "language_info": {
   "codemirror_mode": {
    "name": "ipython",
    "version": 3
   },
   "file_extension": ".py",
   "mimetype": "text/x-python",
   "name": "python",
   "nbconvert_exporter": "python",
   "pygments_lexer": "ipython3",
   "version": "3.6.10"
  }
 },
 "nbformat": 4,
 "nbformat_minor": 2
}
