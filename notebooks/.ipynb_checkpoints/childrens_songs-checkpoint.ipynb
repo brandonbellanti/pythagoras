{
 "cells": [
  {
   "cell_type": "code",
   "execution_count": 1,
   "metadata": {},
   "outputs": [],
   "source": [
    "import regex as re\n",
    "import json\n",
    "\n",
    "def pretty_print(dict):\n",
    "    print(json.dumps(dict, indent=4))"
   ]
  },
  {
   "cell_type": "markdown",
   "metadata": {},
   "source": [
    "---\n",
    "# Songs\n",
    "---"
   ]
  },
  {
   "cell_type": "code",
   "execution_count": 2,
   "metadata": {},
   "outputs": [],
   "source": [
    "# Twinkle, Twinkle, Little Star\n",
    "\n",
    "twinkle = {\n",
    "    'title':\"Twinkle, Twinkle, Little Star\",\n",
    "    'pitches':\"CCGGAAG FFEEDDC GGFFEED GGFFEED CCGGAAG FFEEDDC\"\n",
    "#     'pitches':\"CCGGAAGFFEEDDCGGFFEEDGGFFEEDCCGGAAGFFEEDDC\"\n",
    "}"
   ]
  },
  {
   "cell_type": "raw",
   "metadata": {},
   "source": [
    "pitches = twinkle['pitches']\n",
    "twinkle['patterns'] =[]\n",
    "\n",
    "\n",
    "min_length = 4\n",
    "min_occur = 4\n",
    "\n",
    "pat = r'(.{%d,})(?:.*\\1){%d,}' % (min_length, min_occur-1)\n",
    "\n",
    "pitch_patterns = re.findall(pat,pitches,overlapped=True)\n",
    "\n",
    "max_length = len(sorted(pitch_patterns, key=len, reverse=True)[0])\n",
    "\n",
    "for i in range(max_length,min_length-1,-1):\n",
    "    pat = r'(.{%d})(?:.*\\1){%d,}' % (i, min_occur-1)\n",
    "    pitch_patterns = re.findall(pat,pitches,overlapped=True)\n",
    "    for pattern in pitch_patterns:\n",
    "        if pattern not in twinkle['patterns']:\n",
    "            twinkle['patterns'].append(pattern)\n",
    "        else:\n",
    "            continue\n",
    "    \n",
    "pretty_print(twinkle)"
   ]
  },
  {
   "cell_type": "code",
   "execution_count": 4,
   "metadata": {},
   "outputs": [],
   "source": [
    "# Bah, Bah, Black Sheep\n",
    "\n",
    "bah = {\n",
    "    'title':\"Bah, Bah, Black Sheep\",\n",
    "    'pitches':\"CCGGAAAAG FFEEDDC GGGFFFEEED GGGFFFFEEED CCGGAAAAG FFEEDDC\"\n",
    "}"
   ]
  },
  {
   "cell_type": "code",
   "execution_count": 5,
   "metadata": {},
   "outputs": [],
   "source": [
    "# The ABC song\n",
    "\n",
    "abc = {\n",
    "    'title':\"The ABC Song\",\n",
    "    'pitches':\"CCGGAAG FFEEDDDDC GGFEED GGGFEED CCGGAAG FFEEDDC\"\n",
    "}"
   ]
  },
  {
   "cell_type": "code",
   "execution_count": 6,
   "metadata": {},
   "outputs": [],
   "source": [
    "# Frere Jacques\n",
    "\n",
    "frere = {\n",
    "    'title':\"Frere Jacques\",\n",
    "    'pitches':\"CDEC CDEC EFG EFG GAGFEC GAGFEC CGC CGC\"\n",
    "}"
   ]
  },
  {
   "cell_type": "code",
   "execution_count": 7,
   "metadata": {},
   "outputs": [],
   "source": [
    "# Three Blind Mice\n",
    "\n",
    "mice = {\n",
    "    'title':\"Three Blind Mice\",\n",
    "    'pitches':\"EDC EDC GFFE GFFE GCCBABCGG GCCCBABCGG GGCCBABCGGG FEDC\"\n",
    "}"
   ]
  },
  {
   "cell_type": "code",
   "execution_count": 8,
   "metadata": {},
   "outputs": [],
   "source": [
    "# Hot Cross Buns\n",
    "\n",
    "buns = {\n",
    "    'title':\"Hot Cross Buns\",\n",
    "    'pitches': \"EDC EDC CCCC DDDD EDC\"\n",
    "}"
   ]
  },
  {
   "cell_type": "code",
   "execution_count": 9,
   "metadata": {},
   "outputs": [],
   "source": [
    "# Row, Row, Row Your Boat\n",
    "\n",
    "row = {\n",
    "    'title':\"Row, Row, Row Your Boat\",\n",
    "    'pitches':\"CCCDE EDEFG CCCGGGEEECCC GFEDC\"\n",
    "}"
   ]
  },
  {
   "cell_type": "code",
   "execution_count": 10,
   "metadata": {},
   "outputs": [],
   "source": [
    "# Mary Had a Little Lamb\n",
    "\n",
    "lamb = {\n",
    "    'title':\"Mary Had a Little Lamb\",\n",
    "    'pitches':\"EDCDEEE DDD EEE EDCDEEE EDDEDC\"\n",
    "}"
   ]
  },
  {
   "cell_type": "code",
   "execution_count": 11,
   "metadata": {},
   "outputs": [],
   "source": [
    "#create a dictionary for storing titles, pitches, and patterns\n",
    "all_songs = {}\n",
    "for song in [twinkle,bah,abc,frere,mice,buns,row,lamb]:\n",
    "    all_songs[song['title']] = {'pitches':song['pitches'].replace(' ',''),'patterns':[]}"
   ]
  },
  {
   "cell_type": "markdown",
   "metadata": {},
   "source": [
    "---\n",
    "# Regex Searches\n",
    "---"
   ]
  },
  {
   "cell_type": "code",
   "execution_count": 12,
   "metadata": {
    "scrolled": false
   },
   "outputs": [],
   "source": [
    "#set search parameters\n",
    "min_length = 4\n",
    "min_occur = 4\n",
    "\n",
    "for song in all_songs:\n",
    "    pitches = all_songs[song]['pitches']\n",
    "\n",
    "    pat = r'(.{%d,})(?:.*\\1){%d,}' % (min_length, min_occur-1)\n",
    "\n",
    "    pitch_patterns = re.findall(pat,pitches,overlapped=True)\n",
    "   \n",
    "    try:\n",
    "        max_length = len(sorted(pitch_patterns, key=len, reverse=True)[0])\n",
    "\n",
    "        for length in range(max_length,min_length-1,-1):\n",
    "            pat = r'(.{%d})(?:.*\\1){%d,}' % (length, min_occur-1)\n",
    "            pitch_patterns = re.findall(pat,pitches,overlapped=True)\n",
    "            for pattern in pitch_patterns:\n",
    "                if pattern not in all_songs[song]['patterns']:\n",
    "                    all_songs[song]['patterns'].append(pattern)\n",
    "                else:\n",
    "                    continue\n",
    "    except:\n",
    "        continue  "
   ]
  },
  {
   "cell_type": "code",
   "execution_count": 13,
   "metadata": {},
   "outputs": [
    {
     "name": "stdout",
     "output_type": "stream",
     "text": [
      "{\n",
      "    \"Twinkle, Twinkle, Little Star\": {\n",
      "        \"pitches\": \"CCGGAAGFFEEDDCGGFFEEDGGFFEEDCCGGAAGFFEEDDC\",\n",
      "        \"patterns\": [\n",
      "            \"GFFEED\",\n",
      "            \"GFFEE\",\n",
      "            \"FFEED\",\n",
      "            \"GFFE\",\n",
      "            \"FFEE\",\n",
      "            \"FEED\"\n",
      "        ]\n",
      "    },\n",
      "    \"Bah, Bah, Black Sheep\": {\n",
      "        \"pitches\": \"CCGGAAAAGFFEEDDCGGGFFFEEEDGGGFFFFEEEDCCGGAAAAGFFEEDDC\",\n",
      "        \"patterns\": [\n",
      "            \"FFEE\"\n",
      "        ]\n",
      "    },\n",
      "    \"The ABC Song\": {\n",
      "        \"pitches\": \"CCGGAAGFFEEDDDDCGGFEEDGGGFEEDCCGGAAGFFEEDDC\",\n",
      "        \"patterns\": [\n",
      "            \"FEED\"\n",
      "        ]\n",
      "    },\n",
      "    \"Frere Jacques\": {\n",
      "        \"pitches\": \"CDECCDECEFGEFGGAGFECGAGFECCGCCGC\",\n",
      "        \"patterns\": []\n",
      "    },\n",
      "    \"Three Blind Mice\": {\n",
      "        \"pitches\": \"EDCEDCGFFEGFFEGCCBABCGGGCCCBABCGGGGCCBABCGGGFEDC\",\n",
      "        \"patterns\": []\n",
      "    },\n",
      "    \"Hot Cross Buns\": {\n",
      "        \"pitches\": \"EDCEDCCCCCDDDDEDC\",\n",
      "        \"patterns\": []\n",
      "    },\n",
      "    \"Row, Row, Row Your Boat\": {\n",
      "        \"pitches\": \"CCCDEEDEFGCCCGGGEEECCCGFEDC\",\n",
      "        \"patterns\": []\n",
      "    },\n",
      "    \"Mary Had a Little Lamb\": {\n",
      "        \"pitches\": \"EDCDEEEDDDEEEEDCDEEEEDDEDC\",\n",
      "        \"patterns\": []\n",
      "    }\n",
      "}\n"
     ]
    }
   ],
   "source": [
    "pretty_print(all_songs)"
   ]
  },
  {
   "cell_type": "markdown",
   "metadata": {},
   "source": [
    "---\n",
    "# SQLite3\n",
    "---"
   ]
  },
  {
   "cell_type": "code",
   "execution_count": 14,
   "metadata": {},
   "outputs": [],
   "source": [
    "import sqlite3\n",
    "conn = sqlite3.connect('childrens_songs.db')\n",
    "c = conn.cursor()"
   ]
  },
  {
   "cell_type": "markdown",
   "metadata": {},
   "source": [
    "## Create tables"
   ]
  },
  {
   "cell_type": "raw",
   "metadata": {},
   "source": [
    "c.execute('''CREATE TABLE IF NOT EXISTS song (\n",
    "    song_id INTEGER PRIMARY KEY AUTOINCREMENT,\n",
    "    song_title text\n",
    "    );''')\n",
    "conn.commit()"
   ]
  },
  {
   "cell_type": "raw",
   "metadata": {},
   "source": [
    "c.execute('''CREATE TABLE IF NOT EXISTS pattern (\n",
    "    pattern_id INTEGER PRIMARY KEY AUTOINCREMENT,\n",
    "    pattern_string text\n",
    "    );''')\n",
    "conn.commit()"
   ]
  },
  {
   "cell_type": "raw",
   "metadata": {},
   "source": [
    "c.execute('''CREATE TABLE IF NOT EXISTS song_pattern (\n",
    "    song_id INTEGER,\n",
    "    pattern_id INTEGER,\n",
    "    FOREIGN KEY (song_id) REFERENCES song(song_id),\n",
    "    FOREIGN KEY (pattern_id) REFERENCES pattern(pattern_id)\n",
    "    );''')\n",
    "conn.commit()"
   ]
  },
  {
   "cell_type": "raw",
   "metadata": {
    "scrolled": true
   },
   "source": [
    "c.execute('''DROP TABLE IF EXISTS song;''')\n",
    "c.execute('''DROP TABLE IF EXISTS pattern;''')\n",
    "c.execute('''DROP TABLE IF EXISTS song_pattern;''')"
   ]
  },
  {
   "cell_type": "raw",
   "metadata": {
    "scrolled": true
   },
   "source": [
    "c.execute('''SELECT name from sqlite_master where type=\"table\";''').fetchall()"
   ]
  },
  {
   "cell_type": "raw",
   "metadata": {
    "scrolled": true
   },
   "source": [
    "c.execute('''PRAGMA table_info(pattern);''').fetchall()"
   ]
  },
  {
   "cell_type": "markdown",
   "metadata": {},
   "source": [
    "## Insert values into tables"
   ]
  },
  {
   "cell_type": "markdown",
   "metadata": {},
   "source": [
    "### Insert multiple rows as list of tuples"
   ]
  },
  {
   "cell_type": "raw",
   "metadata": {},
   "source": [
    "titles = list(all_songs.keys())\n",
    "\n",
    "tuple_titles = []\n",
    "for title in titles:\n",
    "    tuple_titles.append((title,))\n",
    "\n",
    "# c.executemany('INSERT INTO song(song_title) VALUES (?)', (tuple_titles))"
   ]
  },
  {
   "cell_type": "markdown",
   "metadata": {},
   "source": [
    "### Insert single rows by iterating through list"
   ]
  },
  {
   "cell_type": "raw",
   "metadata": {},
   "source": [
    "titles = list(all_songs.keys())\n",
    "\n",
    "for title in titles:\n",
    "    if c.execute('''SELECT COUNT(song_title) FROM song WHERE song_title=(?)''', (title,)).fetchone()[0] == 1:\n",
    "        print(\"Already here!\")\n",
    "    else:\n",
    "        c.execute('''INSERT INTO song(song_title) VALUES (?)''',(title,))\n",
    "        print(\"Added to database!\")"
   ]
  },
  {
   "cell_type": "raw",
   "metadata": {},
   "source": [
    "for each song\n",
    "    if not in song table\n",
    "        store in song table\n",
    "        get song id\n",
    "    else\n",
    "        get song id\n",
    "    for each pattern\n",
    "        if not in pattern table\n",
    "            store in pattern table\n",
    "            get pattern id\n",
    "        else\n",
    "            get pattern id\n",
    "        store song id, pattern id in song_pattern table"
   ]
  },
  {
   "cell_type": "markdown",
   "metadata": {},
   "source": [
    "### Pre-optimized code"
   ]
  },
  {
   "cell_type": "raw",
   "metadata": {
    "scrolled": true
   },
   "source": [
    "# for each song\n",
    "for title in all_songs:\n",
    "    \n",
    "    # if song in song table, get song id\n",
    "    if c.execute('''SELECT COUNT(song_title) FROM song WHERE song_title=(?)''', (title,)).fetchone()[0] == 1:\n",
    "        for row in c.execute('''SELECT song_id FROM song WHERE song_title=?''', (title,)):\n",
    "            song_id = row[0]\n",
    "\n",
    "    # else store song in table and get song id\n",
    "    else:\n",
    "        c.execute('''INSERT INTO song(song_title) VALUES (?)''',(title,))\n",
    "        for row in c.execute('''SELECT song_id FROM song WHERE song_title=?''', (title,)):\n",
    "            song_id = row[0]\n",
    "            \n",
    "    #for each pattern\n",
    "    for pattern in all_songs[title]['patterns']:\n",
    "   \n",
    "        # if pattern in pattern table, get pattern id\n",
    "        if c.execute('''SELECT COUNT(pattern_string) FROM pattern WHERE pattern_string=(?)''', (pattern,)).fetchone()[0] == 1:\n",
    "            for row in c.execute('''SELECT pattern_id FROM pattern WHERE pattern_string=?''', (pattern,)):\n",
    "                pattern_id = row[0]\n",
    "        \n",
    "        # else store pattern in table and get pattern id\n",
    "        else:\n",
    "            c.execute('''INSERT INTO pattern(pattern_string) VALUES (?)''',(pattern,))\n",
    "            for row in c.execute('''SELECT pattern_id FROM pattern WHERE pattern_string=?''', (pattern,)):\n",
    "                pattern_id = row[0]\n",
    "        \n",
    "        # store song id, pattern id in song_pattern table\n",
    "        if not c.execute('''SELECT COUNT(song_id) FROM song_pattern WHERE song_id=(?) AND pattern_id=(?)''', (song_id,pattern_id)).fetchone()[0] == 1:\n",
    "            c.execute('''INSERT INTO song_pattern(song_id, pattern_id) VALUES (?,?)''',(song_id,pattern_id))"
   ]
  },
  {
   "cell_type": "markdown",
   "metadata": {},
   "source": [
    "### Somewhat-optimized code"
   ]
  },
  {
   "cell_type": "code",
   "execution_count": 25,
   "metadata": {
    "scrolled": true
   },
   "outputs": [],
   "source": [
    "# for each song\n",
    "for title in all_songs:\n",
    "    \n",
    "    # if song not in song table, store song in song table\n",
    "    if c.execute('''SELECT COUNT(song_title) FROM song WHERE song_title=(?)''', (title,)).fetchone()[0] == 0:\n",
    "        c.execute('''INSERT INTO song(song_title) VALUES (?)''',(title,))\n",
    "    \n",
    "    # get song id from song table\n",
    "    song_id = c.execute('''SELECT song_id FROM song WHERE song_title=?''', (title,)).fetchone()[0]\n",
    "\n",
    "    # for each pattern\n",
    "    for pattern in all_songs[title]['patterns']:\n",
    "        \n",
    "        # if pattern not in pattern table, store pattern in pattern table\n",
    "        if c.execute('''SELECT COUNT(pattern_string) FROM pattern WHERE pattern_string=(?)''', (pattern,)).fetchone()[0] == 0:\n",
    "            c.execute('''INSERT INTO pattern(pattern_string) VALUES (?)''',(pattern,))\n",
    "\n",
    "        # get pattern id from pattern table\n",
    "        pattern_id = c.execute('''SELECT pattern_id FROM pattern WHERE pattern_string=?''', (pattern,)).fetchone()[0]\n",
    "        \n",
    "        # store song id, pattern id in song_pattern table\n",
    "        if c.execute('''SELECT COUNT(song_id) FROM song_pattern WHERE song_id=(?) AND pattern_id=(?)''', (song_id,pattern_id)).fetchone()[0] == 0:\n",
    "            c.execute('''INSERT INTO song_pattern(song_id, pattern_id) VALUES (?,?)''',(song_id,pattern_id))"
   ]
  },
  {
   "cell_type": "markdown",
   "metadata": {},
   "source": [
    "## Query all the tables!"
   ]
  },
  {
   "cell_type": "markdown",
   "metadata": {},
   "source": [
    "### Check for correct values in tables"
   ]
  },
  {
   "cell_type": "code",
   "execution_count": 26,
   "metadata": {
    "scrolled": false
   },
   "outputs": [
    {
     "name": "stdout",
     "output_type": "stream",
     "text": [
      "(1, 'Twinkle, Twinkle, Little Star')\n",
      "(2, 'Bah, Bah, Black Sheep')\n",
      "(3, 'The ABC Song')\n",
      "(4, 'Frere Jacques')\n",
      "(5, 'Three Blind Mice')\n",
      "(6, 'Hot Cross Buns')\n",
      "(7, 'Row, Row, Row Your Boat')\n",
      "(8, 'Mary Had a Little Lamb')\n"
     ]
    }
   ],
   "source": [
    "for row in c.execute('''SELECT * FROM song;'''):\n",
    "    print(row)"
   ]
  },
  {
   "cell_type": "code",
   "execution_count": 27,
   "metadata": {},
   "outputs": [
    {
     "name": "stdout",
     "output_type": "stream",
     "text": [
      "(1, 'GFFEED')\n",
      "(2, 'GFFEE')\n",
      "(3, 'FFEED')\n",
      "(4, 'GFFE')\n",
      "(5, 'FFEE')\n",
      "(6, 'FEED')\n"
     ]
    }
   ],
   "source": [
    "for row in c.execute('''SELECT * FROM pattern;'''):\n",
    "    print(row)"
   ]
  },
  {
   "cell_type": "code",
   "execution_count": 28,
   "metadata": {
    "scrolled": false
   },
   "outputs": [
    {
     "name": "stdout",
     "output_type": "stream",
     "text": [
      "(1, 1)\n",
      "(1, 2)\n",
      "(1, 3)\n",
      "(1, 4)\n",
      "(1, 5)\n",
      "(1, 6)\n",
      "(2, 5)\n",
      "(3, 6)\n"
     ]
    }
   ],
   "source": [
    "for row in c.execute('''SELECT * FROM song_pattern;'''):\n",
    "    print(row)"
   ]
  },
  {
   "cell_type": "markdown",
   "metadata": {},
   "source": [
    "### SQLite3 practice queries"
   ]
  },
  {
   "cell_type": "raw",
   "metadata": {
    "scrolled": true
   },
   "source": [
    "# for row in c.execute('''SELECT song_id, song_title FROM song WHERE song_title='Hot Cross Buns';'''):\n",
    "#     print(row)"
   ]
  },
  {
   "cell_type": "raw",
   "metadata": {},
   "source": [
    "# title = 'Twinkle, Twinkle, Little Star'\n",
    "# results = c.execute('''SELECT song_id, song_title FROM song WHERE song_title=?;''', (title,))\n",
    "# print(results.fetchone())"
   ]
  },
  {
   "cell_type": "raw",
   "metadata": {
    "scrolled": true
   },
   "source": [
    "# title = 'Hot Cross Buns'\n",
    "# for row in c.execute('''SELECT COUNT(song_title) FROM song WHERE song_title=?''', (title,)):\n",
    "#     print(row[0])"
   ]
  },
  {
   "cell_type": "raw",
   "metadata": {
    "scrolled": false
   },
   "source": [
    "# for title in all_songs.keys():\n",
    "#     for row in c.execute('''SELECT song_id, song_title FROM song WHERE song_title=?''', (title,)):\n",
    "#         print(row[0])"
   ]
  },
  {
   "cell_type": "code",
   "execution_count": 33,
   "metadata": {},
   "outputs": [
    {
     "data": {
      "text/html": [
       "<img src=\"https://i.imgflip.com/3us2ix.jpg\" title=\"made at imgflip.com\"/>"
      ],
      "text/plain": [
       "<IPython.core.display.HTML object>"
      ]
     },
     "metadata": {},
     "output_type": "display_data"
    }
   ],
   "source": [
    "%%HTML\n",
    "<img src=\"https://i.imgflip.com/3us2ix.jpg\" title=\"made at imgflip.com\"/>"
   ]
  },
  {
   "cell_type": "markdown",
   "metadata": {},
   "source": [
    "### \"Now we're getting somewhere\" queries"
   ]
  },
  {
   "cell_type": "code",
   "execution_count": 34,
   "metadata": {
    "scrolled": true
   },
   "outputs": [
    {
     "name": "stdout",
     "output_type": "stream",
     "text": [
      "(1, 'Twinkle, Twinkle, Little Star', 1, 'GFFEED,GFFEE,FFEED,GFFE,FFEE,FEED')\n",
      "(2, 'Bah, Bah, Black Sheep', 5, 'FFEE')\n",
      "(3, 'The ABC Song', 6, 'FEED')\n",
      "(4, 'Frere Jacques', None, None)\n",
      "(5, 'Three Blind Mice', None, None)\n",
      "(6, 'Hot Cross Buns', None, None)\n",
      "(7, 'Row, Row, Row Your Boat', None, None)\n",
      "(8, 'Mary Had a Little Lamb', None, None)\n"
     ]
    }
   ],
   "source": [
    "# return all of the songs and patterns (group patterns with GROUP_CONCAT() function)\n",
    "\n",
    "query = '''\n",
    "    SELECT song.song_id, song_title, pattern.pattern_id, GROUP_CONCAT(pattern_string)\n",
    "    FROM (song\n",
    "    LEFT JOIN song_pattern ON song.song_id=song_pattern.song_id)\n",
    "    LEFT JOIN pattern ON pattern.pattern_id=song_pattern.pattern_id\n",
    "    GROUP BY song.song_id;'''\n",
    "for row in c.execute(query):\n",
    "    print(row)"
   ]
  },
  {
   "cell_type": "code",
   "execution_count": 35,
   "metadata": {
    "scrolled": true
   },
   "outputs": [
    {
     "name": "stdout",
     "output_type": "stream",
     "text": [
      "('Twinkle, Twinkle, Little Star', 6)\n",
      "('Bah, Bah, Black Sheep', 1)\n",
      "('The ABC Song', 1)\n"
     ]
    }
   ],
   "source": [
    "# return song title and how many patterns that song contains, if song contains pattern (determined by join type)\n",
    "\n",
    "query = '''\n",
    "    SELECT song_title, count(pattern_string)\n",
    "    FROM (song\n",
    "    JOIN song_pattern ON song.song_id=song_pattern.song_id)\n",
    "    JOIN pattern ON pattern.pattern_id=song_pattern.pattern_id\n",
    "    GROUP BY song.song_id;'''\n",
    "for row in c.execute(query):\n",
    "    print(row)"
   ]
  },
  {
   "cell_type": "code",
   "execution_count": 36,
   "metadata": {
    "scrolled": true
   },
   "outputs": [
    {
     "name": "stdout",
     "output_type": "stream",
     "text": [
      "('Twinkle, Twinkle, Little Star', 'GFFEED,GFFEE,FFEED,GFFE,FFEE,FEED')\n"
     ]
    }
   ],
   "source": [
    "# return all songs that have more than one pattern\n",
    "\n",
    "query = '''\n",
    "    SELECT song_title, GROUP_CONCAT(pattern_string)\n",
    "    FROM (song\n",
    "    JOIN song_pattern ON song.song_id=song_pattern.song_id)\n",
    "    JOIN pattern ON pattern.pattern_id=song_pattern.pattern_id\n",
    "    GROUP BY song.song_id\n",
    "    HAVING COUNT(pattern_string) > 1;'''\n",
    "\n",
    "for row in c.execute(query):\n",
    "    print(row)"
   ]
  },
  {
   "cell_type": "code",
   "execution_count": 37,
   "metadata": {
    "scrolled": true
   },
   "outputs": [
    {
     "name": "stdout",
     "output_type": "stream",
     "text": [
      "('FEED', 'Twinkle, Twinkle, Little Star | The ABC Song')\n",
      "('FFEE', 'Twinkle, Twinkle, Little Star | Bah, Bah, Black Sheep')\n"
     ]
    }
   ],
   "source": [
    "# return all patterns that occur in more than one song, group concat the song titles\n",
    "\n",
    "query = '''\n",
    "    SELECT pattern_string, GROUP_CONCAT(song_title, ' | ')\n",
    "    FROM (song\n",
    "    JOIN song_pattern ON song.song_id=song_pattern.song_id)\n",
    "    JOIN pattern ON pattern.pattern_id=song_pattern.pattern_id\n",
    "    GROUP BY pattern.pattern_string\n",
    "    HAVING COUNT(pattern_string) > 1;'''\n",
    "\n",
    "for row in c.execute(query):\n",
    "    print(row)"
   ]
  },
  {
   "cell_type": "code",
   "execution_count": 38,
   "metadata": {},
   "outputs": [],
   "source": [
    "# conn.close()"
   ]
  },
  {
   "cell_type": "markdown",
   "metadata": {},
   "source": [
    "---\n",
    "# Random\n",
    "---"
   ]
  },
  {
   "cell_type": "code",
   "execution_count": 39,
   "metadata": {},
   "outputs": [],
   "source": [
    "import os"
   ]
  },
  {
   "cell_type": "code",
   "execution_count": 40,
   "metadata": {
    "scrolled": true
   },
   "outputs": [
    {
     "name": "stdout",
     "output_type": "stream",
     "text": [
      "['.HFS+ Private Directory Data\\r', 'home', 'usr', '.Spotlight-V100', 'net', '.DS_Store', '.PKInstallSandboxManager', '.PKInstallSandboxManager-SystemSoftware', 'bin', 'installer.failurerequests', 'Network', 'sbin', '.file', 'etc', 'var', 'Library', '.Trashes', 'System', '.OSInstallerMessages', '.fseventsd', 'private', '.DocumentRevisions-V100', '.vol', 'Users', 'Applications', 'opt', 'dev', 'Documents', 'Volumes', 'tmp', 'cores']\n"
     ]
    }
   ],
   "source": [
    "print(os.listdir(\"/\"))"
   ]
  },
  {
   "cell_type": "code",
   "execution_count": 41,
   "metadata": {
    "scrolled": false
   },
   "outputs": [],
   "source": [
    "# files = os.listdir(\"/Users/BrandonBel/Desktop/MusicXML_scores/\")\n",
    "\n",
    "# for count, filename in enumerate(files, 1):\n",
    "#     print(count, filename)"
   ]
  },
  {
   "cell_type": "code",
   "execution_count": 42,
   "metadata": {
    "scrolled": true
   },
   "outputs": [
    {
     "name": "stdout",
     "output_type": "stream",
     "text": [
      "1 Beethoven 01_variation\n",
      "2 Beethoven 02_variation\n",
      "3 Beethoven 03_variation\n",
      "4 Beethoven 04_variation\n",
      "5 Beethoven 05_variation\n",
      "6 Beethoven 06_variation\n",
      "7 Beethoven 07_variation\n",
      "8 Beethoven 08_variation\n",
      "9 Beethoven 09_variation\n",
      "10 Beethoven 0_diabelli\n",
      "11 Beethoven 1-Allegro\n",
      "12 Beethoven 10_variation\n",
      "13 Beethoven 11_variation\n",
      "14 Beethoven 12_variation\n",
      "15 Beethoven 13_variation\n",
      "16 Beethoven 14_variation\n",
      "17 Beethoven 15_variation\n",
      "18 Beethoven 16_variation\n",
      "19 Beethoven 18_variation\n",
      "20 Beethoven 19_variation\n",
      "21 Beethoven 1_Horn1\n",
      "22 Beethoven 1_Satz,_Allegro\n",
      "23 Beethoven 2-Allegretto\n",
      "24 Beethoven 20_variation\n",
      "25 Beethoven 21_variation\n",
      "26 Beethoven 22_variation\n",
      "27 Beethoven 23_variation\n",
      "28 Beethoven 24_variation\n",
      "29 Beethoven 25_variation\n",
      "30 Beethoven 26_variation\n",
      "31 Beethoven 27_variation\n",
      "32 Beethoven 28_variation\n",
      "33 Beethoven 29_variation\n",
      "34 Beethoven 2_Horn2\n",
      "35 Beethoven 2_Satz,_Andante\n",
      "36 Beethoven 3-Rondo\n",
      "37 Beethoven 30_variation\n",
      "38 Beethoven 31_variation\n",
      "39 Beethoven 32_variation\n",
      "40 Beethoven 33_variation\n",
      "41 Beethoven 3_Satz,_Scherzo_Allegro_assai\n",
      "42 Beethoven 3_Violine1\n",
      "43 Beethoven 4_Violine2\n",
      "44 Beethoven 5_viola\n",
      "45 Beethoven 67a\n",
      "46 Beethoven 67b\n",
      "47 Beethoven 67c\n",
      "48 Beethoven 67d\n",
      "49 Beethoven 6_Ecossaisen\n",
      "50 Beethoven 6_cello\n",
      "51 Beethoven Andante_favori_Opus_35\n",
      "52 Beethoven Appassionata_1\n",
      "53 Beethoven Appassionata_2\n",
      "54 Beethoven Appassionata_3\n",
      "55 Beethoven Bagatelle_Opus_119_Nr1\n",
      "56 Beethoven Bagatelle_Opus_33_Nr3\n",
      "57 Beethoven Bagatelle_op119_Nr4\n",
      "58 Beethoven Bagatelle_op33Nr1\n",
      "59 Beethoven DTANZ\n",
      "60 Beethoven Duo1a\n",
      "61 Beethoven Duo1b\n",
      "62 Beethoven Duo1c\n",
      "63 Beethoven Duo2a\n",
      "64 Beethoven Duo2b\n",
      "65 Beethoven Duo2c\n",
      "66 Beethoven Duo3a\n",
      "67 Beethoven Duo3b\n",
      "68 Beethoven FRöS1\n",
      "69 Beethoven FRöS2-3\n",
      "70 Beethoven FRöS4\n",
      "71 Beethoven Fur_Elise\n",
      "72 Beethoven Godsave-7Var\n",
      "73 Beethoven Kl_Fg_1\n",
      "74 Beethoven Kl_Fg_2\n",
      "75 Beethoven Kl_Fg_3\n",
      "76 Beethoven KlavierstÅck_Lustig_und_traurig\n",
      "77 Beethoven Klaviertrio\n",
      "78 Beethoven Mandoline\n",
      "79 Beethoven Menuett_C-dur\n",
      "80 Beethoven Menuett_G-dur\n",
      "81 Beethoven Nr6a\n",
      "82 Beethoven Nr6b\n",
      "83 Beethoven Nr6c\n",
      "84 Beethoven Nr6d\n",
      "85 Beethoven Nr6e\n",
      "86 Beethoven OP27_2\n",
      "87 Beethoven Opus_10-1,1\n",
      "88 Beethoven Opus_10-1,2\n",
      "89 Beethoven Opus_10-1,3\n",
      "90 Beethoven Opus_10-2,1\n",
      "91 Beethoven Opus_10-2,2\n",
      "92 Beethoven Opus_10-2,3\n",
      "93 Beethoven Opus_10-3,1\n",
      "94 Beethoven Opus_10-3,2\n",
      "95 Beethoven Opus_10-3,3\n",
      "96 Beethoven Opus_10-3,4\n",
      "97 Beethoven Opus_101,1\n",
      "98 Beethoven Opus_101,2\n",
      "99 Beethoven Opus_101,3\n",
      "100 Beethoven Opus_106,1\n",
      "101 Beethoven Opus_106,2\n",
      "102 Beethoven Opus_106,3\n",
      "103 Beethoven Opus_106,4\n",
      "104 Beethoven Opus_107,_01\n",
      "105 Beethoven Opus_107,_02\n",
      "106 Beethoven Opus_107,_03\n",
      "107 Beethoven Opus_107,_04\n",
      "108 Beethoven Opus_107,_05\n",
      "109 Beethoven Opus_107,_06\n",
      "110 Beethoven Opus_107,_07\n",
      "111 Beethoven Opus_107,_08\n",
      "112 Beethoven Opus_107,_09\n",
      "113 Beethoven Opus_107,_10\n",
      "114 Beethoven Opus_109,1\n",
      "115 Beethoven Opus_109,2\n",
      "116 Beethoven Opus_109,3\n",
      "117 Beethoven Opus_110,1\n",
      "118 Beethoven Opus_110,2\n",
      "119 Beethoven Opus_110,3\n",
      "120 Beethoven Opus_111,1\n",
      "121 Beethoven Opus_111,2\n",
      "122 Beethoven Opus_13,1\n",
      "123 Beethoven Opus_13,2\n",
      "124 Beethoven Opus_13,3\n",
      "125 Beethoven Opus_22,1\n",
      "126 Beethoven Opus_22,2\n",
      "127 Beethoven Opus_22,3\n",
      "128 Beethoven Opus_22,4\n",
      "129 Beethoven Opus_26,1\n",
      "130 Beethoven Opus_26,2\n",
      "131 Beethoven Opus_26,3\n",
      "132 Beethoven Opus_26,4\n",
      "133 Beethoven Opus_27-1,1\n",
      "134 Beethoven Opus_27-1,2\n",
      "135 Beethoven Opus_27-1,3\n",
      "136 Beethoven Opus_27-1,4\n",
      "137 Beethoven Opus_28,1\n",
      "138 Beethoven Opus_28,2\n",
      "139 Beethoven Opus_28,3\n",
      "140 Beethoven Opus_28,4\n",
      "141 Beethoven Opus_31-1,1\n",
      "142 Beethoven Opus_31-1,2\n",
      "143 Beethoven Opus_31-1,3\n",
      "144 Beethoven Opus_31-2,1\n",
      "145 Beethoven Opus_31-2,2\n",
      "146 Beethoven Opus_31-2,3\n",
      "147 Beethoven Opus_31-3,1\n",
      "148 Beethoven Opus_31-3,2\n",
      "149 Beethoven Opus_31-3,3\n",
      "150 Beethoven Opus_31-3,4\n",
      "151 Beethoven Opus_49,1\n",
      "152 Beethoven Opus_49,2\n",
      "153 Beethoven Opus_53,1\n",
      "154 Beethoven Opus_53,2\n",
      "155 Beethoven Opus_54,1\n",
      "156 Beethoven Opus_54,2\n",
      "157 Beethoven Opus_56,_1\n",
      "158 Beethoven Opus_56,_2\n",
      "159 Beethoven Opus_56,_3\n",
      "160 Beethoven Opus_7,1\n",
      "161 Beethoven Opus_7,2\n",
      "162 Beethoven Opus_7,3\n",
      "163 Beethoven Opus_7,4\n",
      "164 Beethoven Opus_79,1\n",
      "165 Beethoven Opus_79,2\n",
      "166 Beethoven Opus_79,3\n",
      "167 Beethoven Opus_81a,1\n",
      "168 Beethoven Opus_81a,2\n",
      "169 Beethoven Opus_81a,3\n",
      "170 Beethoven Opus_90,1\n",
      "171 Beethoven Opus_90,2\n",
      "172 Beethoven Opus27-Nr2\n",
      "173 Beethoven SONATE'1\n",
      "174 Beethoven SONATE'2\n",
      "175 Beethoven SONATE'3\n",
      "176 Beethoven SONATE'4\n",
      "177 Beethoven SONAT_1\n",
      "178 Beethoven Satz1\n",
      "179 Beethoven Satz2\n",
      "180 Beethoven Satz3\n",
      "181 Beethoven Schweizer_Lied\n",
      "182 Beethoven Sonate_Nr2\n",
      "183 Beethoven Sonate_Opus2Nr3\n",
      "184 Beethoven Sonatine_Mand_c\n",
      "185 Beethoven Sonatine\n",
      "186 Beethoven Variationen_c-moll\n",
      "187 Beethoven Waldstein_Sonate\n",
      "188 Beethoven Wut_Åber_den_verlorenen_Groschen\n",
      "189 Beethoven klavierstÅck-woo-60\n",
      "190 Beethoven op-12Nr-2\n",
      "191 Beethoven op-87-1\n",
      "192 Beethoven op-87-2\n",
      "193 Beethoven op-87-3\n",
      "194 Beethoven op-87-4\n",
      "195 Beethoven op.49_Nr.2\n",
      "196 Beethoven op123-1-Kyrie\n",
      "197 Beethoven op123-2-Gloria\n",
      "198 Beethoven op123-3-Credo\n",
      "199 Beethoven op123-4-Sanctus\n",
      "200 Beethoven op123-5-Agnus_Dei\n",
      "201 Beethoven op2_Nr_1\n",
      "202 Beethoven op25_1entrata_allegro\n",
      "203 Beethoven op25_2tempo_ordinario_di_un_minuetto\n",
      "204 Beethoven op25_3allegro_molto\n",
      "205 Beethoven op25_4andante_con_variazioni\n",
      "206 Beethoven op25_5allegro_scherzando_e_vivace\n",
      "207 Beethoven op25_6adagio__allegro_vivace_disinvolto\n",
      "208 Beethoven op28-1_S\n",
      "209 Beethoven op3_1Allegro_con_brio\n",
      "210 Beethoven op3_2Andante\n",
      "211 Beethoven op3_3Menuetto\n",
      "212 Beethoven op3_4Adagio\n",
      "213 Beethoven op3_5Menuetto\n",
      "214 Beethoven op3_6Finale\n",
      "215 Beethoven op86_1-Kyrie\n",
      "216 Beethoven op86_2-Gloria\n",
      "217 Beethoven op86_3-Credo\n",
      "218 Beethoven op86_4-Sanctus\n",
      "219 Beethoven op86_5-Agnus_Dei\n",
      "220 Chopin Opus-Post108\n",
      "221 Chopin Opus09,Nr.1\n",
      "222 Chopin Opus09,Nr.2\n",
      "223 Chopin Opus10,Nr.1\n",
      "224 Chopin Opus10,Nr.12\n",
      "225 Chopin Opus10,Nr.3\n",
      "226 Chopin Opus10,Nr.6\n",
      "227 Chopin Opus18\n",
      "228 Chopin Opus25,Nr.1\n",
      "229 Chopin Opus25,Nr.10\n",
      "230 Chopin Opus25,Nr.11\n",
      "231 Chopin Opus25,Nr.9\n",
      "232 Chopin Opus27,Nr.1\n",
      "233 Chopin Opus64,Nr.1\n",
      "234 Chopin Opus64,Nr.2\n",
      "235 Chopin Pre_28_4\n",
      "236 Chopin op28_20\n",
      "237 Chopin op68_3\n",
      "238 Handel 1+2\n",
      "239 Handel 3+4\n",
      "240 Handel HWV-360\n",
      "241 Handel HWV-365\n",
      "242 Handel HWV-369\n",
      "243 Handel Passacaille\n",
      "244 Handel SATZ1\n",
      "245 Handel SATZ2\n",
      "246 Handel SATZ3\n",
      "247 Handel SATZ4\n",
      "248 Handel SATZ5\n",
      "249 Handel SATZ6\n",
      "250 Handel SonateNr12_F-Dur\n",
      "251 Handel SonateNr14_A-Dur\n",
      "252 Handel SonateNr15_E-Dur\n",
      "253 Handel Sonate_C-Dur_1_Larghetto\n",
      "254 Handel Sonate_C-Dur_2_Allegro\n",
      "255 Handel Sonate_C-Dur_3_Larghetto\n",
      "256 Handel Sonate_C-Dur_4_Gavotte\n",
      "257 Handel Sonate_C-Dur_5_Allegro\n",
      "258 Handel Sonate_F-Dur_1_Larghetto\n",
      "259 Handel Sonate_F-Dur_2_Allegro\n",
      "260 Handel Sonate_F-Dur_3_Siciliana\n",
      "261 Handel Sonate_F-Dur_4_Allegro\n",
      "262 Mozart Adagio\n",
      "263 Mozart Ah_vous_dirai-je,Maman\n",
      "264 Mozart An_Chloe\n",
      "265 Mozart DerZauberer\n",
      "266 Mozart Fantasie-d-moll\n",
      "267 Mozart I-Allegro\n",
      "268 Mozart II-Menuett(Allegretto)\n",
      "269 Mozart III-Andante\n",
      "270 Mozart IV-Polonaise\n",
      "271 Mozart IX-Menuett\n",
      "272 Mozart KV134-SATZ_1\n",
      "273 Mozart KV134-SATZ_2\n",
      "274 Mozart KV134-SATZ_3\n",
      "275 Mozart KV134-SATZ_4\n",
      "276 Mozart KV216-1_Allegro\n",
      "277 Mozart KV216-2_Adagio\n",
      "278 Mozart KV216-3_Rondo\n",
      "279 Mozart KV358_1\n",
      "280 Mozart KV358_2\n",
      "281 Mozart KV358_3\n",
      "282 Mozart KV381_1\n",
      "283 Mozart KV381_2\n",
      "284 Mozart KV381_3\n",
      "285 Mozart KV497_1\n",
      "286 Mozart KV497_2\n",
      "287 Mozart KV497_3\n",
      "288 Mozart KV521_1\n",
      "289 Mozart KV521_2\n",
      "290 Mozart KV521_3\n",
      "291 Mozart MOZDIV_1\n",
      "292 Mozart MOZDIV_2\n",
      "293 Mozart MOZDIV_3\n",
      "294 Mozart MOZDIV_4\n",
      "295 Mozart MOZDIV_5\n",
      "296 Mozart V-Larghetto\n",
      "297 Mozart VEILCHEN\n",
      "298 Mozart VI-Menuett\n",
      "299 Mozart VII-Adagio\n",
      "300 Mozart VIII-Allegro\n",
      "301 Mozart X-Andante\n",
      "302 Mozart XI-Menuett\n",
      "303 Mozart XII-Allegro\n",
      "304 Mozart kv597\n",
      "305 Mozart luise\n",
      "306 Pachelbel Kanon\n",
      "307 Schubert 1-Kyrie\n",
      "308 Schubert 1_Exposito\n",
      "309 Schubert 2-Gloria\n",
      "310 Schubert 2_Durchfrg\n",
      "311 Schubert 3-Credo\n",
      "312 Schubert 4-Sanctus\n",
      "313 Schubert 4_Andante\n",
      "314 Schubert 5-Benedictus\n",
      "315 Schubert 5_Scherzo\n",
      "316 Schubert 6-Agnus_Dei\n",
      "317 Schubert 6_Variatio\n",
      "318 Schubert 7_Rondo\n",
      "319 Schubert 8_Rondo2\n",
      "320 Schubert 915\n",
      "321 Schubert D_002,_Fantasie\n",
      "322 Schubert D_029,_Andante\n",
      "323 Schubert D_156,_10_Variationen\n",
      "324 Schubert D_178,_Adagio\n",
      "325 Schubert D_334,_Menuetto\n",
      "326 Schubert D_459,_2_KlavierstÅcke\n",
      "327 Schubert D_459_A1,_Adagio\n",
      "328 Schubert D_459_A2,_Scherzo_con_Trio\n",
      "329 Schubert D_459_A3,_Allegro_patetico\n",
      "330 Schubert D_506,_Rondo\n",
      "331 Schubert D_576,_13_Variationen\n",
      "332 Schubert D_593,_2_Scherzi\n",
      "333 Schubert D_600,_Menuetto\n",
      "334 Schubert D_606,_Marsch\n",
      "335 Schubert D_612,_Adagio\n",
      "336 Schubert D_760,_Wanderer-Fantasie\n",
      "337 Schubert D_935_2\n",
      "338 Schubert D_946_2\n",
      "339 Schubert DeutMes1\n",
      "340 Schubert DeutMes2\n",
      "341 Schubert DeutMes3\n",
      "342 Schubert DeutMes4\n",
      "343 Schubert DeutMes5\n",
      "344 Schubert DeutMes6\n",
      "345 Schubert DeutMes7\n",
      "346 Schubert DeutMes8\n",
      "347 Schubert DeutMes9\n",
      "348 Schubert Sinfonie_Nr_7_-_Satz_1\n",
      "349 Schubert Sinfonie_Nr_7_-_Satz_2\n"
     ]
    }
   ],
   "source": [
    "files = os.listdir(\"/Users/BrandonBel/Desktop/MusicXML_scores/\")\n",
    "for i, f in enumerate(sorted(files),1):\n",
    "\n",
    "    m = re.match(r'(\\w*?)-(.*).xml',f)\n",
    "    print(i, m.group(1),m.group(2).replace(' ','_'))\n",
    "        "
   ]
  }
 ],
 "metadata": {
  "kernelspec": {
   "display_name": "Python 3",
   "language": "python",
   "name": "python3"
  },
  "language_info": {
   "codemirror_mode": {
    "name": "ipython",
    "version": 3
   },
   "file_extension": ".py",
   "mimetype": "text/x-python",
   "name": "python",
   "nbconvert_exporter": "python",
   "pygments_lexer": "ipython3",
   "version": "3.6.10"
  }
 },
 "nbformat": 4,
 "nbformat_minor": 4
}
