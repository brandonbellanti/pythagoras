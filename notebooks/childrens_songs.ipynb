{
 "cells": [
  {
   "cell_type": "code",
   "execution_count": 1,
   "metadata": {},
   "outputs": [],
   "source": [
    "import regex as re\n",
    "import json\n",
    "\n",
    "def pretty_print(dict):\n",
    "    print(json.dumps(dict, indent=4))"
   ]
  },
  {
   "cell_type": "markdown",
   "metadata": {},
   "source": [
    "---\n",
    "# Songs\n",
    "---"
   ]
  },
  {
   "cell_type": "code",
   "execution_count": 2,
   "metadata": {},
   "outputs": [],
   "source": [
    "# Twinkle, Twinkle, Little Star\n",
    "\n",
    "twinkle = {\n",
    "    'title':\"Twinkle, Twinkle, Little Star\",\n",
    "    'pitches':\"CCGGAAG FFEEDDC GGFFEED GGFFEED CCGGAAG FFEEDDC\"\n",
    "}"
   ]
  },
  {
   "cell_type": "code",
   "execution_count": 3,
   "metadata": {},
   "outputs": [],
   "source": [
    "# Bah, Bah, Black Sheep\n",
    "\n",
    "bah = {\n",
    "    'title':\"Bah, Bah, Black Sheep\",\n",
    "    'pitches':\"CCGGAAAAG FFEEDDC GGGFFFEEED GGGFFFFEEED CCGGAAAAG FFEEDDC\"\n",
    "}"
   ]
  },
  {
   "cell_type": "code",
   "execution_count": 4,
   "metadata": {},
   "outputs": [],
   "source": [
    "# The ABC song\n",
    "\n",
    "abc = {\n",
    "    'title':\"The ABC Song\",\n",
    "    'pitches':\"CCGGAAG FFEEDDDDC GGFEED GGGFEED CCGGAAG FFEEDDC\"\n",
    "}"
   ]
  },
  {
   "cell_type": "code",
   "execution_count": 5,
   "metadata": {},
   "outputs": [],
   "source": [
    "# Frere Jacques\n",
    "\n",
    "frere = {\n",
    "    'title':\"Frere Jacques\",\n",
    "    'pitches':\"CDEC CDEC EFG EFG GAGFEC GAGFEC CGC CGC\"\n",
    "}"
   ]
  },
  {
   "cell_type": "code",
   "execution_count": 6,
   "metadata": {},
   "outputs": [],
   "source": [
    "# Three Blind Mice\n",
    "\n",
    "mice = {\n",
    "    'title':\"Three Blind Mice\",\n",
    "    'pitches':\"EDC EDC GFFE GFFE GCCBABCGG GCCCBABCGG GGCCBABCGGG FEDC\"\n",
    "}"
   ]
  },
  {
   "cell_type": "code",
   "execution_count": 7,
   "metadata": {},
   "outputs": [],
   "source": [
    "# Hot Cross Buns\n",
    "\n",
    "buns = {\n",
    "    'title':\"Hot Cross Buns\",\n",
    "    'pitches': \"EDC EDC CCCC DDDD EDC\"\n",
    "}"
   ]
  },
  {
   "cell_type": "code",
   "execution_count": 8,
   "metadata": {},
   "outputs": [],
   "source": [
    "# Row, Row, Row Your Boat\n",
    "\n",
    "row = {\n",
    "    'title':\"Row, Row, Row Your Boat\",\n",
    "    'pitches':\"CCCDE EDEFG CCCGGGEEECCC GFEDC\"\n",
    "}"
   ]
  },
  {
   "cell_type": "code",
   "execution_count": 9,
   "metadata": {},
   "outputs": [],
   "source": [
    "# Mary Had a Little Lamb\n",
    "\n",
    "lamb = {\n",
    "    'title':\"Mary Had a Little Lamb\",\n",
    "    'pitches':\"EDCDEEE DDD EEE EDCDEEE EDDEDC\"\n",
    "}"
   ]
  },
  {
   "cell_type": "code",
   "execution_count": 10,
   "metadata": {
    "scrolled": false
   },
   "outputs": [
    {
     "name": "stdout",
     "output_type": "stream",
     "text": [
      "{\n",
      "    \"Twinkle, Twinkle, Little Star\": {\n",
      "        \"pitches\": \"CCGGAAGFFEEDDCGGFFEEDGGFFEEDCCGGAAGFFEEDDC\",\n",
      "        \"patterns\": []\n",
      "    },\n",
      "    \"Bah, Bah, Black Sheep\": {\n",
      "        \"pitches\": \"CCGGAAAAGFFEEDDCGGGFFFEEEDGGGFFFFEEEDCCGGAAAAGFFEEDDC\",\n",
      "        \"patterns\": []\n",
      "    },\n",
      "    \"The ABC Song\": {\n",
      "        \"pitches\": \"CCGGAAGFFEEDDDDCGGFEEDGGGFEEDCCGGAAGFFEEDDC\",\n",
      "        \"patterns\": []\n",
      "    },\n",
      "    \"Frere Jacques\": {\n",
      "        \"pitches\": \"CDECCDECEFGEFGGAGFECGAGFECCGCCGC\",\n",
      "        \"patterns\": []\n",
      "    },\n",
      "    \"Three Blind Mice\": {\n",
      "        \"pitches\": \"EDCEDCGFFEGFFEGCCBABCGGGCCCBABCGGGGCCBABCGGGFEDC\",\n",
      "        \"patterns\": []\n",
      "    },\n",
      "    \"Hot Cross Buns\": {\n",
      "        \"pitches\": \"EDCEDCCCCCDDDDEDC\",\n",
      "        \"patterns\": []\n",
      "    },\n",
      "    \"Row, Row, Row Your Boat\": {\n",
      "        \"pitches\": \"CCCDEEDEFGCCCGGGEEECCCGFEDC\",\n",
      "        \"patterns\": []\n",
      "    },\n",
      "    \"Mary Had a Little Lamb\": {\n",
      "        \"pitches\": \"EDCDEEEDDDEEEEDCDEEEEDDEDC\",\n",
      "        \"patterns\": []\n",
      "    }\n",
      "}\n"
     ]
    }
   ],
   "source": [
    "all_songs = {}\n",
    "for song in [twinkle,bah,abc,frere,mice,buns,row,lamb]:\n",
    "    all_songs[song['title']] = {'pitches':song['pitches'].replace(' ',''),'patterns':[]}\n",
    "    \n",
    "pretty_print(all_songs)"
   ]
  },
  {
   "cell_type": "markdown",
   "metadata": {},
   "source": [
    "---\n",
    "# Regex Searches\n",
    "---"
   ]
  },
  {
   "cell_type": "code",
   "execution_count": 11,
   "metadata": {
    "scrolled": false
   },
   "outputs": [
    {
     "name": "stdout",
     "output_type": "stream",
     "text": [
      "{\n",
      "    \"Twinkle, Twinkle, Little Star\": {\n",
      "        \"pitches\": \"CCGGAAGFFEEDDCGGFFEEDGGFFEEDCCGGAAGFFEEDDC\",\n",
      "        \"patterns\": [\n",
      "            \"GFFEED\",\n",
      "            \"FFEED\",\n",
      "            \"FEED\",\n",
      "            \"GFFEED\",\n",
      "            \"FFEED\",\n",
      "            \"FEED\"\n",
      "        ]\n",
      "    },\n",
      "    \"Bah, Bah, Black Sheep\": {\n",
      "        \"pitches\": \"CCGGAAAAGFFEEDDCGGGFFFEEEDGGGFFFFEEEDCCGGAAAAGFFEEDDC\",\n",
      "        \"patterns\": [\n",
      "            \"FFEE\",\n",
      "            \"FFEE\"\n",
      "        ]\n",
      "    },\n",
      "    \"The ABC Song\": {\n",
      "        \"pitches\": \"CCGGAAGFFEEDDDDCGGFEEDGGGFEEDCCGGAAGFFEEDDC\",\n",
      "        \"patterns\": [\n",
      "            \"FEED\",\n",
      "            \"FEED\"\n",
      "        ]\n",
      "    },\n",
      "    \"Frere Jacques\": {\n",
      "        \"pitches\": \"CDECCDECEFGEFGGAGFECGAGFECCGCCGC\",\n",
      "        \"patterns\": []\n",
      "    },\n",
      "    \"Three Blind Mice\": {\n",
      "        \"pitches\": \"EDCEDCGFFEGFFEGCCBABCGGGCCCBABCGGGGCCBABCGGGFEDC\",\n",
      "        \"patterns\": [\n",
      "            \"CCBABCGGG\",\n",
      "            \"CBABCGGG\",\n",
      "            \"BABCGGG\",\n",
      "            \"ABCGGG\",\n",
      "            \"BCGGG\",\n",
      "            \"CGGG\"\n",
      "        ]\n",
      "    },\n",
      "    \"Hot Cross Buns\": {\n",
      "        \"pitches\": \"EDCEDCCCCCDDDDEDC\",\n",
      "        \"patterns\": []\n",
      "    },\n",
      "    \"Row, Row, Row Your Boat\": {\n",
      "        \"pitches\": \"CCCDEEDEFGCCCGGGEEECCCGFEDC\",\n",
      "        \"patterns\": []\n",
      "    },\n",
      "    \"Mary Had a Little Lamb\": {\n",
      "        \"pitches\": \"EDCDEEEDDDEEEEDCDEEEEDDEDC\",\n",
      "        \"patterns\": [\n",
      "            \"DEEE\",\n",
      "            \"EEED\"\n",
      "        ]\n",
      "    }\n",
      "}\n"
     ]
    }
   ],
   "source": [
    "min_length = 4\n",
    "min_occur = 3\n",
    "\n",
    "\n",
    "for song in all_songs:\n",
    "    pitches = all_songs[song]['pitches']\n",
    "\n",
    "    pat = r'(.{%d,}).*\\1{%d,}' % (min_length, min_occur-1) #this doesn't work - it's looking for the pattern repeated\n",
    "    pat = r'(.{%d,})(?:.*\\1){%d,}' % (min_length, min_occur-1)\n",
    "\n",
    "    # pat = r'(.{%d,})(?:.*\\1)' % (min_length)\n",
    "    # pat = r'(.{12,})(?:.*\\1)'\n",
    "\n",
    "\n",
    "    pitch_patterns = re.findall(pat,pitches,overlapped=True)\n",
    "\n",
    "    for pattern in pitch_patterns:\n",
    "        all_songs[song]['patterns'].append(pattern)\n",
    "    \n",
    "pretty_print(all_songs)"
   ]
  },
  {
   "cell_type": "markdown",
   "metadata": {},
   "source": [
    "---\n",
    "# SQLite\n",
    "---"
   ]
  },
  {
   "cell_type": "code",
   "execution_count": 17,
   "metadata": {},
   "outputs": [],
   "source": [
    "import sqlite3\n",
    "conn = sqlite3.connect('childrens_songs.db')"
   ]
  },
  {
   "cell_type": "code",
   "execution_count": 23,
   "metadata": {},
   "outputs": [],
   "source": [
    "c = conn.cursor()"
   ]
  },
  {
   "cell_type": "code",
   "execution_count": 24,
   "metadata": {},
   "outputs": [
    {
     "data": {
      "text/plain": [
       "<sqlite3.Cursor at 0x109cc50a0>"
      ]
     },
     "execution_count": 24,
     "metadata": {},
     "output_type": "execute_result"
    }
   ],
   "source": [
    "c.execute('''DROP TABLE IF EXISTS song;''')"
   ]
  },
  {
   "cell_type": "code",
   "execution_count": 36,
   "metadata": {},
   "outputs": [],
   "source": [
    "c.execute('''CREATE TABLE IF NOT EXISTS song (\n",
    "    song_id INTEGER PRIMARY KEY AUTOINCREMENT,\n",
    "    song_title text\n",
    "    );''')\n",
    "conn.commit()"
   ]
  },
  {
   "cell_type": "code",
   "execution_count": 21,
   "metadata": {},
   "outputs": [
    {
     "data": {
      "text/plain": [
       "<sqlite3.Cursor at 0x109cc56c0>"
      ]
     },
     "execution_count": 21,
     "metadata": {},
     "output_type": "execute_result"
    }
   ],
   "source": [
    "c.execute('''CREATE TABLE IF NOT EXISTS pattern (\n",
    "    pattern_id INTEGER PRIMARY KEY AUTOINCREMENT,\n",
    "    pattern_string text\n",
    "    );''')\n",
    "conn.commit()"
   ]
  },
  {
   "cell_type": "code",
   "execution_count": 30,
   "metadata": {},
   "outputs": [],
   "source": [
    "c.execute('''CREATE TABLE IF NOT EXISTS song_pattern (\n",
    "    song_id INTEGER,\n",
    "    pattern_id INTEGER,\n",
    "    FOREIGN KEY (song_id) REFERENCES song(song_id),\n",
    "    FOREIGN KEY (pattern_id) REFERENCES pattern(pattern_id)\n",
    "    );''')\n",
    "conn.commit()"
   ]
  },
  {
   "cell_type": "code",
   "execution_count": 37,
   "metadata": {
    "scrolled": false
   },
   "outputs": [
    {
     "name": "stdout",
     "output_type": "stream",
     "text": [
      "[('sqlite_sequence',), ('pattern',), ('song',), ('song_pattern',)]\n"
     ]
    }
   ],
   "source": [
    "print(c.execute('''SELECT name from sqlite_master where type=\"table\";''').fetchall())"
   ]
  },
  {
   "cell_type": "code",
   "execution_count": 66,
   "metadata": {},
   "outputs": [
    {
     "name": "stdout",
     "output_type": "stream",
     "text": [
      "[('Twinkle, Twinkle, Little Star',), ('Bah, Bah, Black Sheep',), ('The ABC Song',), ('Frere Jacques',), ('Three Blind Mice',), ('Hot Cross Buns',), ('Row, Row, Row Your Boat',), ('Mary Had a Little Lamb',)]\n"
     ]
    },
    {
     "data": {
      "text/plain": [
       "<sqlite3.Cursor at 0x109cc5490>"
      ]
     },
     "execution_count": 66,
     "metadata": {},
     "output_type": "execute_result"
    }
   ],
   "source": [
    "titles = list(all_songs.keys())\n",
    "\n",
    "tuple_titles = []\n",
    "for title in titles:\n",
    "    tuple_titles.append((title,))\n",
    "\n",
    "print(tuple_titles)\n",
    "# print(tuple_titles)\n",
    "c.executemany('INSERT INTO song(song_title) VALUES (?)', (tuple_titles))"
   ]
  },
  {
   "cell_type": "code",
   "execution_count": 69,
   "metadata": {},
   "outputs": [
    {
     "name": "stdout",
     "output_type": "stream",
     "text": [
      "(1, 'Twinkle, Twinkle, Little Star')\n",
      "(2, 'Bah, Bah, Black Sheep')\n",
      "(3, 'The ABC Song')\n",
      "(4, 'Frere Jacques')\n",
      "(5, 'Three Blind Mice')\n",
      "(6, 'Hot Cross Buns')\n",
      "(7, 'Row, Row, Row Your Boat')\n",
      "(8, 'Mary Had a Little Lamb')\n"
     ]
    }
   ],
   "source": [
    "for row in c.execute('''SELECT * FROM song;'''):\n",
    "    print(row)"
   ]
  },
  {
   "cell_type": "code",
   "execution_count": 71,
   "metadata": {},
   "outputs": [
    {
     "name": "stdout",
     "output_type": "stream",
     "text": [
      "(6,)\n"
     ]
    }
   ],
   "source": [
    "for row in c.execute('''SELECT song_id FROM song WHERE song_title='Hot Cross Buns';'''):\n",
    "    print(row)"
   ]
  },
  {
   "cell_type": "code",
   "execution_count": 79,
   "metadata": {},
   "outputs": [
    {
     "name": "stdout",
     "output_type": "stream",
     "text": [
      "1\n"
     ]
    }
   ],
   "source": [
    "title = 'Hot Cross Buns'\n",
    "\n",
    "for row in c.execute('''SELECT COUNT(song_title) FROM song WHERE song_title=?''', (title,)):\n",
    "    print(row[0])"
   ]
  },
  {
   "cell_type": "code",
   "execution_count": null,
   "metadata": {},
   "outputs": [],
   "source": []
  },
  {
   "cell_type": "code",
   "execution_count": null,
   "metadata": {},
   "outputs": [],
   "source": []
  },
  {
   "cell_type": "code",
   "execution_count": 13,
   "metadata": {},
   "outputs": [],
   "source": [
    "# import sqlite3\n",
    "# conn = sqlite3.connect('example.db')\n",
    "# c = conn.cursor()"
   ]
  },
  {
   "cell_type": "code",
   "execution_count": 32,
   "metadata": {},
   "outputs": [],
   "source": [
    "# c = conn.cursor()\n",
    "\n",
    "# # Create table\n",
    "# c.execute('''CREATE TABLE stocks\n",
    "#              (date text, trans text, symbol text, qty real, price real)''')\n",
    "\n",
    "# # Insert a row of data\n",
    "# c.execute(\"INSERT INTO stocks VALUES ('2006-01-05','BUY','RHAT',100,35.14)\")\n",
    "\n",
    "# # Save (commit) the changes\n",
    "# conn.commit()\n",
    "\n",
    "# # We can also close the connection if we are done with it.\n",
    "# # Just be sure any changes have been committed or they will be lost.\n",
    "# conn.close()"
   ]
  },
  {
   "cell_type": "code",
   "execution_count": 33,
   "metadata": {
    "scrolled": false
   },
   "outputs": [],
   "source": [
    "# # # Never do this -- insecure!\n",
    "# # symbol = 'RHAT'\n",
    "# # c.execute(\"SELECT * FROM stocks WHERE symbol = '%s'\" % symbol)\n",
    "\n",
    "# t = ('RHAT',)\n",
    "# c.execute('SELECT * FROM stocks WHERE symbol=?', t)\n",
    "# print(c.fetchone())\n",
    "\n",
    "# # Larger example that inserts many records at a time\n",
    "# purchases = [('2006-03-28', 'BUY', 'IBM', 1000, 45.00),\n",
    "#              ('2006-04-05', 'BUY', 'MSFT', 1000, 72.00),\n",
    "#              ('2006-04-06', 'SELL', 'IBM', 500, 53.00),\n",
    "#             ]\n",
    "# c.executemany('INSERT INTO stocks VALUES (?,?,?,?,?)', purchases)\n",
    "\n",
    "# conn.commit()"
   ]
  },
  {
   "cell_type": "code",
   "execution_count": 35,
   "metadata": {
    "scrolled": true
   },
   "outputs": [],
   "source": [
    "# for row in c.execute('SELECT * FROM stocks ORDER BY price'):\n",
    "#     print(row)\n"
   ]
  },
  {
   "cell_type": "code",
   "execution_count": null,
   "metadata": {},
   "outputs": [],
   "source": [
    "conn.close()"
   ]
  }
 ],
 "metadata": {
  "kernelspec": {
   "display_name": "Python 3",
   "language": "python",
   "name": "python3"
  },
  "language_info": {
   "codemirror_mode": {
    "name": "ipython",
    "version": 3
   },
   "file_extension": ".py",
   "mimetype": "text/x-python",
   "name": "python",
   "nbconvert_exporter": "python",
   "pygments_lexer": "ipython3",
   "version": "3.6.10"
  }
 },
 "nbformat": 4,
 "nbformat_minor": 4
}
