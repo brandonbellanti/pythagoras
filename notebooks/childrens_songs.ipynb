{
 "cells": [
  {
   "cell_type": "code",
   "execution_count": 2,
   "metadata": {},
   "outputs": [],
   "source": [
    "import regex as re\n",
    "import json\n",
    "\n",
    "def pretty_print(dict):\n",
    "    print(json.dumps(dict, indent=4))"
   ]
  },
  {
   "cell_type": "markdown",
   "metadata": {},
   "source": [
    "---\n",
    "# Songs\n",
    "---"
   ]
  },
  {
   "cell_type": "code",
   "execution_count": 121,
   "metadata": {},
   "outputs": [],
   "source": [
    "# Twinkle, Twinkle, Little Star\n",
    "\n",
    "twinkle = {\n",
    "    'title':\"Twinkle, Twinkle, Little Star\",\n",
    "    'pitches':\"CCGGAAG FFEEDDC GGFFEED GGFFEED CCGGAAG FFEEDDC\"\n",
    "#     'pitches':\"CCGGAAGFFEEDDCGGFFEEDGGFFEEDCCGGAAGFFEEDDC\"\n",
    "}"
   ]
  },
  {
   "cell_type": "code",
   "execution_count": 148,
   "metadata": {},
   "outputs": [
    {
     "name": "stdout",
     "output_type": "stream",
     "text": [
      "{\n",
      "    \"title\": \"Twinkle, Twinkle, Little Star\",\n",
      "    \"pitches\": \"CCGGAAGFFEEDDCGGFFEEDGGFFEEDCCGGAAGFFEEDDC\",\n",
      "    \"patterns\": [\n",
      "        \"GFFEED\",\n",
      "        \"GFFEE\",\n",
      "        \"FFEED\",\n",
      "        \"GFFE\",\n",
      "        \"FFEE\",\n",
      "        \"FEED\"\n",
      "    ]\n",
      "}\n"
     ]
    }
   ],
   "source": [
    "pitches = twinkle['pitches']\n",
    "twinkle['patterns'] =[]\n",
    "\n",
    "\n",
    "\n",
    "min_length = 4\n",
    "min_occur = 3\n",
    "\n",
    "pat = r'(.{%d,})(?:.*\\1){%d,}' % (min_length, min_occur-1)\n",
    "\n",
    "pitch_patterns = re.findall(pat,pitches,overlapped=True)\n",
    "\n",
    "max_length = len(sorted(pitch_patterns, key=len, reverse=True)[0])\n",
    "\n",
    "for i in range(max_length,min_length-1,-1):\n",
    "    pat = r'(.{%d})(?:.*\\1){%d,}' % (i, min_occur-1)\n",
    "    pitch_patterns = re.findall(pat,pitches,overlapped=True)\n",
    "    for pattern in pitch_patterns:\n",
    "        if pattern not in twinkle['patterns']:\n",
    "            twinkle['patterns'].append(pattern)\n",
    "        else:\n",
    "            continue\n",
    "    \n",
    "pretty_print(twinkle)"
   ]
  },
  {
   "cell_type": "code",
   "execution_count": null,
   "metadata": {},
   "outputs": [],
   "source": []
  },
  {
   "cell_type": "code",
   "execution_count": 4,
   "metadata": {},
   "outputs": [],
   "source": [
    "# Bah, Bah, Black Sheep\n",
    "\n",
    "bah = {\n",
    "    'title':\"Bah, Bah, Black Sheep\",\n",
    "    'pitches':\"CCGGAAAAG FFEEDDC GGGFFFEEED GGGFFFFEEED CCGGAAAAG FFEEDDC\"\n",
    "}"
   ]
  },
  {
   "cell_type": "code",
   "execution_count": 5,
   "metadata": {},
   "outputs": [],
   "source": [
    "# The ABC song\n",
    "\n",
    "abc = {\n",
    "    'title':\"The ABC Song\",\n",
    "    'pitches':\"CCGGAAG FFEEDDDDC GGFEED GGGFEED CCGGAAG FFEEDDC\"\n",
    "}"
   ]
  },
  {
   "cell_type": "code",
   "execution_count": 6,
   "metadata": {},
   "outputs": [],
   "source": [
    "# Frere Jacques\n",
    "\n",
    "frere = {\n",
    "    'title':\"Frere Jacques\",\n",
    "    'pitches':\"CDEC CDEC EFG EFG GAGFEC GAGFEC CGC CGC\"\n",
    "}"
   ]
  },
  {
   "cell_type": "code",
   "execution_count": 7,
   "metadata": {},
   "outputs": [],
   "source": [
    "# Three Blind Mice\n",
    "\n",
    "mice = {\n",
    "    'title':\"Three Blind Mice\",\n",
    "    'pitches':\"EDC EDC GFFE GFFE GCCBABCGG GCCCBABCGG GGCCBABCGGG FEDC\"\n",
    "}"
   ]
  },
  {
   "cell_type": "code",
   "execution_count": 8,
   "metadata": {},
   "outputs": [],
   "source": [
    "# Hot Cross Buns\n",
    "\n",
    "buns = {\n",
    "    'title':\"Hot Cross Buns\",\n",
    "    'pitches': \"EDC EDC CCCC DDDD EDC\"\n",
    "}"
   ]
  },
  {
   "cell_type": "code",
   "execution_count": 9,
   "metadata": {},
   "outputs": [],
   "source": [
    "# Row, Row, Row Your Boat\n",
    "\n",
    "row = {\n",
    "    'title':\"Row, Row, Row Your Boat\",\n",
    "    'pitches':\"CCCDE EDEFG CCCGGGEEECCC GFEDC\"\n",
    "}"
   ]
  },
  {
   "cell_type": "code",
   "execution_count": 10,
   "metadata": {},
   "outputs": [],
   "source": [
    "# Mary Had a Little Lamb\n",
    "\n",
    "lamb = {\n",
    "    'title':\"Mary Had a Little Lamb\",\n",
    "    'pitches':\"EDCDEEE DDD EEE EDCDEEE EDDEDC\"\n",
    "}"
   ]
  },
  {
   "cell_type": "code",
   "execution_count": 104,
   "metadata": {
    "scrolled": true
   },
   "outputs": [],
   "source": [
    "all_songs = {}\n",
    "for song in [twinkle,bah,abc,frere,mice,buns,row,lamb]:\n",
    "    all_songs[song['title']] = {'pitches':song['pitches'].replace(' ',''),'patterns':[]}\n",
    "    \n",
    "# pretty_print(all_songs)"
   ]
  },
  {
   "cell_type": "markdown",
   "metadata": {},
   "source": [
    "---\n",
    "# Regex Searches\n",
    "---"
   ]
  },
  {
   "cell_type": "code",
   "execution_count": 160,
   "metadata": {
    "scrolled": false
   },
   "outputs": [
    {
     "name": "stdout",
     "output_type": "stream",
     "text": [
      "{\n",
      "    \"Twinkle, Twinkle, Little Star\": {\n",
      "        \"pitches\": \"CCGGAAGFFEEDDCGGFFEEDGGFFEEDCCGGAAGFFEEDDC\",\n",
      "        \"patterns\": [\n",
      "            \"GFFEED\",\n",
      "            \"GFFEE\",\n",
      "            \"FFEED\",\n",
      "            \"GFFE\",\n",
      "            \"FFEE\",\n",
      "            \"FEED\"\n",
      "        ]\n",
      "    },\n",
      "    \"Bah, Bah, Black Sheep\": {\n",
      "        \"pitches\": \"CCGGAAAAGFFEEDDCGGGFFFEEEDGGGFFFFEEEDCCGGAAAAGFFEEDDC\",\n",
      "        \"patterns\": [\n",
      "            \"FFEE\"\n",
      "        ]\n",
      "    },\n",
      "    \"The ABC Song\": {\n",
      "        \"pitches\": \"CCGGAAGFFEEDDDDCGGFEEDGGGFEEDCCGGAAGFFEEDDC\",\n",
      "        \"patterns\": [\n",
      "            \"FEED\"\n",
      "        ]\n",
      "    },\n",
      "    \"Frere Jacques\": {\n",
      "        \"pitches\": \"CDECCDECEFGEFGGAGFECGAGFECCGCCGC\",\n",
      "        \"patterns\": []\n",
      "    },\n",
      "    \"Three Blind Mice\": {\n",
      "        \"pitches\": \"EDCEDCGFFEGFFEGCCBABCGGGCCCBABCGGGGCCBABCGGGFEDC\",\n",
      "        \"patterns\": []\n",
      "    },\n",
      "    \"Hot Cross Buns\": {\n",
      "        \"pitches\": \"EDCEDCCCCCDDDDEDC\",\n",
      "        \"patterns\": []\n",
      "    },\n",
      "    \"Row, Row, Row Your Boat\": {\n",
      "        \"pitches\": \"CCCDEEDEFGCCCGGGEEECCCGFEDC\",\n",
      "        \"patterns\": []\n",
      "    },\n",
      "    \"Mary Had a Little Lamb\": {\n",
      "        \"pitches\": \"EDCDEEEDDDEEEEDCDEEEEDDEDC\",\n",
      "        \"patterns\": []\n",
      "    }\n",
      "}\n"
     ]
    }
   ],
   "source": [
    "all_songs = {}\n",
    "for song in [twinkle,bah,abc,frere,mice,buns,row,lamb]:\n",
    "    all_songs[song['title']] = {'pitches':song['pitches'].replace(' ',''),'patterns':[]}\n",
    "\n",
    "\n",
    "\n",
    "\n",
    "\n",
    "\n",
    "min_length = 4\n",
    "min_occur = 4\n",
    "\n",
    "\n",
    "for song in all_songs:\n",
    "    pitches = all_songs[song]['pitches']\n",
    "\n",
    "    pat = r'(.{%d,})(?:.*\\1){%d,}' % (min_length, min_occur-1)\n",
    "\n",
    "\n",
    "    pitch_patterns = re.findall(pat,pitches,overlapped=True)\n",
    "\n",
    "#     for pattern in pitch_patterns:\n",
    "#         if pattern not in all_songs[song]['patterns']:\n",
    "#             all_songs[song]['patterns'].append(pattern)\n",
    "#         else:\n",
    "#             continue\n",
    "            \n",
    "    try:\n",
    "        max_length = len(sorted(pitch_patterns, key=len, reverse=True)[0])\n",
    "\n",
    "\n",
    "        for length in range(max_length,min_length-1,-1):\n",
    "            pat = r'(.{%d})(?:.*\\1){%d,}' % (length, min_occur-1)\n",
    "            pitch_patterns = re.findall(pat,pitches,overlapped=True)\n",
    "            for pattern in pitch_patterns:\n",
    "                if pattern not in all_songs[song]['patterns']:\n",
    "                    all_songs[song]['patterns'].append(pattern)\n",
    "                else:\n",
    "                    continue\n",
    "                \n",
    "    except:\n",
    "        continue  \n",
    "    \n",
    "pretty_print(all_songs)"
   ]
  },
  {
   "cell_type": "markdown",
   "metadata": {},
   "source": [
    "---\n",
    "# SQLite\n",
    "---"
   ]
  },
  {
   "cell_type": "code",
   "execution_count": 31,
   "metadata": {},
   "outputs": [],
   "source": [
    "import sqlite3\n",
    "conn = sqlite3.connect('childrens_songs.db')\n",
    "\n",
    "c = conn.cursor()"
   ]
  },
  {
   "cell_type": "code",
   "execution_count": 88,
   "metadata": {},
   "outputs": [
    {
     "data": {
      "text/plain": [
       "<sqlite3.Cursor at 0x10aa9aea0>"
      ]
     },
     "execution_count": 88,
     "metadata": {},
     "output_type": "execute_result"
    }
   ],
   "source": [
    "c.execute('''DROP TABLE IF EXISTS song;''')"
   ]
  },
  {
   "cell_type": "code",
   "execution_count": 89,
   "metadata": {},
   "outputs": [],
   "source": [
    "c.execute('''CREATE TABLE IF NOT EXISTS song (\n",
    "    song_id INTEGER PRIMARY KEY AUTOINCREMENT,\n",
    "    song_title text\n",
    "    );''')\n",
    "conn.commit()"
   ]
  },
  {
   "cell_type": "code",
   "execution_count": 16,
   "metadata": {},
   "outputs": [],
   "source": [
    "c.execute('''CREATE TABLE IF NOT EXISTS pattern (\n",
    "    pattern_id INTEGER PRIMARY KEY AUTOINCREMENT,\n",
    "    pattern_string text\n",
    "    );''')\n",
    "conn.commit()"
   ]
  },
  {
   "cell_type": "code",
   "execution_count": 17,
   "metadata": {},
   "outputs": [],
   "source": [
    "c.execute('''CREATE TABLE IF NOT EXISTS song_pattern (\n",
    "    song_id INTEGER,\n",
    "    pattern_id INTEGER,\n",
    "    FOREIGN KEY (song_id) REFERENCES song(song_id),\n",
    "    FOREIGN KEY (pattern_id) REFERENCES pattern(pattern_id)\n",
    "    );''')\n",
    "conn.commit()"
   ]
  },
  {
   "cell_type": "code",
   "execution_count": 90,
   "metadata": {
    "scrolled": false
   },
   "outputs": [
    {
     "name": "stdout",
     "output_type": "stream",
     "text": [
      "[('sqlite_sequence',), ('pattern',), ('song_pattern',), ('song',)]\n"
     ]
    }
   ],
   "source": [
    "print(c.execute('''SELECT name from sqlite_master where type=\"table\";''').fetchall())"
   ]
  },
  {
   "cell_type": "code",
   "execution_count": 56,
   "metadata": {},
   "outputs": [
    {
     "name": "stdout",
     "output_type": "stream",
     "text": [
      "[('Twinkle, Twinkle, Little Star',), ('Bah, Bah, Black Sheep',), ('The ABC Song',), ('Frere Jacques',), ('Three Blind Mice',), ('Hot Cross Buns',), ('Row, Row, Row Your Boat',), ('Mary Had a Little Lamb',)]\n"
     ]
    },
    {
     "data": {
      "text/plain": [
       "<sqlite3.Cursor at 0x10aa9aea0>"
      ]
     },
     "execution_count": 56,
     "metadata": {},
     "output_type": "execute_result"
    }
   ],
   "source": [
    "titles = list(all_songs.keys())\n",
    "\n",
    "tuple_titles = []\n",
    "for title in titles:\n",
    "    tuple_titles.append((title,))\n",
    "\n",
    "print(tuple_titles)\n",
    "# c.executemany('INSERT INTO song(song_title) VALUES (?)', (tuple_titles))\n",
    "\n"
   ]
  },
  {
   "cell_type": "code",
   "execution_count": 93,
   "metadata": {},
   "outputs": [
    {
     "name": "stdout",
     "output_type": "stream",
     "text": [
      "Already here!\n",
      "Already here!\n",
      "Already here!\n",
      "Already here!\n",
      "Already here!\n",
      "Already here!\n",
      "Already here!\n",
      "Already here!\n"
     ]
    }
   ],
   "source": [
    "titles = list(all_songs.keys())\n",
    "\n",
    "# tuple_titles = []\n",
    "# for title in titles:\n",
    "#     tuple_titles.append((title,))\n",
    "# print(tuple_titles)\n",
    "# c.executemany('INSERT INTO song(song_title) VALUES (?)', (tuple_titles))\n",
    "\n",
    "for title in titles:\n",
    "    if c.execute('''SELECT COUNT(song_title) FROM song WHERE song_title=(?)''', (title,)).fetchone()[0] == 1:\n",
    "        print(\"Already here!\")\n",
    "    else:\n",
    "        c.execute('''INSERT INTO song(song_title) VALUES (?)''',(title,))\n",
    "        print(\"Added to database!\")"
   ]
  },
  {
   "cell_type": "code",
   "execution_count": 94,
   "metadata": {
    "scrolled": true
   },
   "outputs": [
    {
     "name": "stdout",
     "output_type": "stream",
     "text": [
      "(1, 'Twinkle, Twinkle, Little Star')\n",
      "(2, 'Bah, Bah, Black Sheep')\n",
      "(3, 'The ABC Song')\n",
      "(4, 'Frere Jacques')\n",
      "(5, 'Three Blind Mice')\n",
      "(6, 'Hot Cross Buns')\n",
      "(7, 'Row, Row, Row Your Boat')\n",
      "(8, 'Mary Had a Little Lamb')\n"
     ]
    }
   ],
   "source": [
    "for row in c.execute('''SELECT * FROM song;'''):\n",
    "    print(row)"
   ]
  },
  {
   "cell_type": "code",
   "execution_count": 39,
   "metadata": {},
   "outputs": [
    {
     "name": "stdout",
     "output_type": "stream",
     "text": [
      "(6, 'Hot Cross Buns')\n"
     ]
    }
   ],
   "source": [
    "for row in c.execute('''SELECT song_id, song_title FROM song WHERE song_title='Hot Cross Buns';'''):\n",
    "    print(row)"
   ]
  },
  {
   "cell_type": "code",
   "execution_count": 65,
   "metadata": {},
   "outputs": [
    {
     "name": "stdout",
     "output_type": "stream",
     "text": [
      "(6, 'Hot Cross Buns')\n"
     ]
    }
   ],
   "source": [
    "title = 'Hot Cross Buns'\n",
    "results = c.execute('''SELECT song_id, song_title FROM song WHERE song_title=?;''', (title,))\n",
    "print(results.fetchone())"
   ]
  },
  {
   "cell_type": "code",
   "execution_count": 22,
   "metadata": {},
   "outputs": [
    {
     "name": "stdout",
     "output_type": "stream",
     "text": [
      "1\n"
     ]
    }
   ],
   "source": [
    "title = 'Hot Cross Buns'\n",
    "\n",
    "for row in c.execute('''SELECT COUNT(song_title) FROM song WHERE song_title=?''', (title,)):\n",
    "    print(row[0])"
   ]
  },
  {
   "cell_type": "code",
   "execution_count": null,
   "metadata": {},
   "outputs": [],
   "source": []
  },
  {
   "cell_type": "code",
   "execution_count": null,
   "metadata": {},
   "outputs": [],
   "source": []
  },
  {
   "cell_type": "code",
   "execution_count": 23,
   "metadata": {},
   "outputs": [],
   "source": [
    "# import sqlite3\n",
    "# conn = sqlite3.connect('example.db')\n",
    "# c = conn.cursor()"
   ]
  },
  {
   "cell_type": "code",
   "execution_count": 24,
   "metadata": {},
   "outputs": [],
   "source": [
    "# c = conn.cursor()\n",
    "\n",
    "# # Create table\n",
    "# c.execute('''CREATE TABLE stocks\n",
    "#              (date text, trans text, symbol text, qty real, price real)''')\n",
    "\n",
    "# # Insert a row of data\n",
    "# c.execute(\"INSERT INTO stocks VALUES ('2006-01-05','BUY','RHAT',100,35.14)\")\n",
    "\n",
    "# # Save (commit) the changes\n",
    "# conn.commit()\n",
    "\n",
    "# # We can also close the connection if we are done with it.\n",
    "# # Just be sure any changes have been committed or they will be lost.\n",
    "# conn.close()"
   ]
  },
  {
   "cell_type": "code",
   "execution_count": 25,
   "metadata": {
    "scrolled": false
   },
   "outputs": [],
   "source": [
    "# # # Never do this -- insecure!\n",
    "# # symbol = 'RHAT'\n",
    "# # c.execute(\"SELECT * FROM stocks WHERE symbol = '%s'\" % symbol)\n",
    "\n",
    "# t = ('RHAT',)\n",
    "# c.execute('SELECT * FROM stocks WHERE symbol=?', t)\n",
    "# print(c.fetchone())\n",
    "\n",
    "# # Larger example that inserts many records at a time\n",
    "# purchases = [('2006-03-28', 'BUY', 'IBM', 1000, 45.00),\n",
    "#              ('2006-04-05', 'BUY', 'MSFT', 1000, 72.00),\n",
    "#              ('2006-04-06', 'SELL', 'IBM', 500, 53.00),\n",
    "#             ]\n",
    "# c.executemany('INSERT INTO stocks VALUES (?,?,?,?,?)', purchases)\n",
    "\n",
    "# conn.commit()"
   ]
  },
  {
   "cell_type": "code",
   "execution_count": 26,
   "metadata": {
    "scrolled": true
   },
   "outputs": [],
   "source": [
    "# for row in c.execute('SELECT * FROM stocks ORDER BY price'):\n",
    "#     print(row)\n"
   ]
  },
  {
   "cell_type": "code",
   "execution_count": 28,
   "metadata": {},
   "outputs": [],
   "source": [
    "# conn.close()"
   ]
  },
  {
   "cell_type": "markdown",
   "metadata": {},
   "source": [
    "---\n",
    "# Random\n",
    "---"
   ]
  },
  {
   "cell_type": "code",
   "execution_count": 79,
   "metadata": {},
   "outputs": [],
   "source": [
    "import os"
   ]
  },
  {
   "cell_type": "code",
   "execution_count": null,
   "metadata": {},
   "outputs": [],
   "source": [
    "print(os.listdir(\"/\"))"
   ]
  },
  {
   "cell_type": "code",
   "execution_count": 87,
   "metadata": {
    "scrolled": false
   },
   "outputs": [
    {
     "name": "stdout",
     "output_type": "stream",
     "text": [
      "1 Beethoven-op3_6Finale.xml\n",
      "2 Beethoven-op3_3Menuetto.xml\n",
      "3 Mozart-KV358_3.xml\n",
      "4 Beethoven-Sonate Opus2Nr3.xml\n",
      "5 Beethoven-Opus 28,2.xml\n",
      "6 Beethoven-Opus 110,3.xml\n",
      "7 Mozart-KV381_2.xml\n",
      "8 Beethoven-Opus 90,2.xml\n",
      "9 Beethoven-op123-5-Agnus_Dei.xml\n",
      "10 Beethoven-op-87-2.xml\n",
      "11 Schubert-D_946_2.xml\n",
      "12 Beethoven-Opus 31-3,4.xml\n",
      "13 Schubert-8_Rondo2.xml\n",
      "14 Beethoven-KlavierstÅck Lustig und traurig.xml\n",
      "15 Beethoven-Opus 109,2.xml\n",
      "16 Beethoven-Opus 109,3.xml\n",
      "17 Schubert-5-Benedictus.xml\n",
      "18 Beethoven-op-87-3.xml\n",
      "19 Mozart-KV381_3.xml\n",
      "20 Beethoven-Opus 110,2.xml\n",
      "21 Beethoven-Godsave-7Var.xml\n",
      "22 Beethoven-Opus 28,3.xml\n",
      "23 Beethoven-Opus 49,2.xml\n",
      "24 Mozart-KV358_2.xml\n",
      "25 Beethoven-28_variation.xml\n",
      "26 Handel-Sonate_F-Dur_1_Larghetto.xml\n",
      "27 Beethoven-2_Satz, Andante.xml\n",
      "28 Beethoven-Opus 28,1.xml\n",
      "29 Beethoven-Opus 90,1.xml\n",
      "30 Mozart-KV381_1.xml\n",
      "31 Beethoven-Fur_Elise.xml\n",
      "32 Beethoven-op-87-1.xml\n",
      "33 Mozart-KV216-3_Rondo.xml\n",
      "34 Beethoven-11_variation.xml\n",
      "35 Beethoven-Sonatine.xml\n",
      "36 Beethoven-Bagatelle_op119 Nr4.xml\n",
      "37 Beethoven-op86_1-Kyrie.xml\n",
      "38 Beethoven-06_variation.xml\n",
      "39 Beethoven-Opus 109,1.xml\n",
      "40 Beethoven-op.49 Nr.2.xml\n",
      "41 Beethoven-67d.xml\n",
      "42 Beethoven-02_variation.xml\n",
      "43 Beethoven-Opus 110,1.xml\n",
      "44 Beethoven-Klaviertrio.xml\n",
      "45 Beethoven-15_variation.xml\n",
      "46 Mozart-KV358_1.xml\n",
      "47 Beethoven-Opus 49,1.xml\n",
      "48 Mozart-KV497_2.xml\n",
      "49 Beethoven-Opus 28,4.xml\n",
      "50 Beethoven-Opus 13,2.xml\n",
      "51 Beethoven-Duo1c.xml\n",
      "52 Beethoven-05_variation.xml\n",
      "53 Beethoven-op-87-4.xml\n",
      "54 Beethoven-Opus 31-3,2.xml\n",
      "55 Beethoven-12_variation.xml\n",
      "56 Chopin-Opus18.xml\n",
      "57 Schubert-D 576, 13 Variationen.xml\n",
      "58 Beethoven-Opus 31-1,1.xml\n",
      "59 Mozart-KV216-1_Allegro.xml\n",
      "60 Beethoven-Opus 31-3,3.xml\n",
      "61 Beethoven-67a.xml\n",
      "62 Beethoven-Duo1b.xml\n",
      "63 Beethoven-16_variation.xml\n",
      "64 Beethoven-op86_4-Sanctus.xml\n",
      "65 Beethoven-Opus 13,3.xml\n",
      "66 Mozart-KV497_3.xml\n",
      "67 Handel-Sonate_F-Dur_4_Allegro.xml\n",
      "68 Beethoven-Opus 54,1.xml\n",
      "69 Mozart-Ah_vous_dirai-je,Maman.xml\n",
      "70 Beethoven-DTANZ.xml\n",
      "71 Beethoven-01_variation.xml\n",
      "72 Schubert-915.xml\n",
      "73 Mozart-KV497_1.xml\n",
      "74 Schubert-4-Sanctus.xml\n",
      "75 Pachelbel-Kanon.xml\n",
      "76 Beethoven-Opus 13,1.xml\n",
      "77 Beethoven-Opus 31-3,1.xml\n",
      "78 Beethoven-67c.xml\n",
      "79 Handel-Sonate_C-Dur_1_Larghetto.xml\n",
      "80 Beethoven-Bagatelle Opus 33 Nr3.xml\n",
      "81 Beethoven-Opus 31-1,3.xml\n",
      "82 Beethoven-op25_5allegro scherzando e vivace.xml\n",
      "83 Beethoven-Waldstein_Sonate.xml\n",
      "84 Mozart-kv597.xml\n",
      "85 Beethoven-Opus 31-1,2.xml\n",
      "86 Schubert-1-Kyrie.xml\n",
      "87 Beethoven-67b.xml\n",
      "88 Beethoven-Duo1a.xml\n",
      "89 Handel-Passacaille.xml\n",
      "90 Beethoven-Opus 54,2.xml\n",
      "91 Schubert-5_Scherzo.xml\n",
      "92 Beethoven-6_Ecossaisen.xml\n",
      "93 Mozart-X-Andante.xml\n",
      "94 Mozart-I-Allegro.xml\n",
      "95 Beethoven-Sonate Nr2.xml\n",
      "96 Mozart-XII-Allegro.xml\n",
      "97 Beethoven-Opus 7,1.xml\n",
      "98 Handel-1+2.xml\n",
      "99 Beethoven-Opus 107, 06.xml\n",
      "100 Schubert-D 600, Menuetto.xml\n",
      "101 Beethoven-Kl_Fg_3.xml\n",
      "102 Chopin-op68_3.xml\n",
      "103 Beethoven-Kl_Fg_2.xml\n",
      "104 Beethoven-op25_6adagio_ allegro vivace disinvolto.xml\n",
      "105 Beethoven-Opus 107, 07.xml\n",
      "106 Beethoven-OP27_2.xml\n",
      "107 Beethoven-op3_5Menuetto.xml\n",
      "108 Beethoven-Opus 111,1.xml\n",
      "109 Handel-SonateNr14_A-Dur.xml\n",
      "110 Beethoven-Opus 53,2.xml\n",
      "111 Beethoven-op28-1_S.xml\n",
      "112 Chopin-Opus25,Nr.1.xml\n",
      "113 Schubert-2-Gloria.xml\n",
      "114 Chopin-Opus10,Nr.3.xml\n",
      "115 Chopin-Opus10,Nr.1.xml\n",
      "116 Beethoven-32_variation.xml\n",
      "117 Beethoven-op-12Nr-2.xml\n",
      "118 Schubert-3-Credo.xml\n",
      "119 Beethoven-Variationen_c-moll.xml\n",
      "120 Beethoven-25_variation.xml\n",
      "121 Beethoven-2-Allegretto.xml\n",
      "122 Mozart-Adagio.xml\n",
      "123 Beethoven-Opus 7,2.xml\n",
      "124 Beethoven-1-Allegro.xml\n",
      "125 Beethoven-Nr6d.xml\n",
      "126 Beethoven-Opus 107, 05.xml\n",
      "127 Beethoven-2_Horn2.xml\n",
      "128 Beethoven-Kl_Fg_1.xml\n",
      "129 Beethoven-21_variation.xml\n",
      "130 Beethoven-Opus 107, 10.xml\n",
      "131 Beethoven-Opus 107, 04.xml\n",
      "132 Beethoven-Nr6e.xml\n",
      "133 Beethoven-Opus 111,2.xml\n",
      "134 Beethoven-Opus 7,3.xml\n",
      "135 Chopin-op28_20.xml\n",
      "136 Mozart-VEILCHEN.xml\n",
      "137 Beethoven-op25_1entrata allegro.xml\n",
      "138 Beethoven-18_variation.xml\n",
      "139 Beethoven-Bagatelle_op33Nr1.xml\n",
      "140 Beethoven-Opus 53,1.xml\n",
      "141 Beethoven-26_variation.xml\n",
      "142 Beethoven-op2 Nr 1.xml\n",
      "143 Beethoven-3-Rondo.xml\n",
      "144 Schubert-2_Durchfrg.xml\n",
      "145 Beethoven-Opus 31-2,1.xml\n",
      "146 Beethoven-Bagatelle Opus 119 Nr1.xml\n",
      "147 Schubert-6_Variatio.xml\n",
      "148 Beethoven-31_variation.xml\n",
      "149 Chopin-Opus25,Nr.11.xml\n",
      "150 Handel-Sonate_F-Dur_2_Allegro.xml\n",
      "151 Beethoven-Opus 56, 2.xml\n",
      "152 Mozart-DerZauberer.xml\n",
      "153 Beethoven-Nr6a.xml\n",
      "154 Beethoven-08_variation.xml\n",
      "155 Schubert-4_Andante.xml\n",
      "156 Schubert-7_Rondo.xml\n",
      "157 Schubert-D 459_A1, Adagio.xml\n",
      "158 Beethoven-Opus 107, 01.xml\n",
      "159 Schubert-D 029, Andante.xml\n",
      "160 Mozart-VI-Menuett.xml\n",
      "161 Beethoven-Opus 56, 3.xml\n",
      "162 Chopin-Opus25,Nr.10.xml\n",
      "163 Beethoven-22_variation.xml\n",
      "164 Beethoven-op25_2tempo ordinario di un minuetto.xml\n",
      "165 Handel-HWV-369.xml\n",
      "166 Beethoven-Opus 31-2,2.xml\n",
      "167 Beethoven-Opus 7,4.xml\n",
      "168 Beethoven-Opus 56, 1.xml\n",
      "169 Schubert-DeutMes9.xml\n",
      "170 Beethoven-klavierstÅck-woo-60.xml\n",
      "171 Beethoven-Opus 107, 03.xml\n",
      "172 Beethoven-Nr6b.xml\n",
      "173 Handel-Sonate_C-Dur_2_Allegro.xml\n",
      "174 Beethoven-3_Satz, Scherzo Allegro assai.xml\n",
      "175 Schubert-D 156, 10 Variationen.xml\n",
      "176 Beethoven-Nr6c.xml\n",
      "177 Beethoven-Opus 107, 02.xml\n",
      "178 Beethoven-Menuett_G-dur.xml\n",
      "179 Handel-3+4.xml\n",
      "180 Schubert-DeutMes8.xml\n",
      "181 Beethoven-Opus 31-2,3.xml\n",
      "182 Beethoven-op86_3-Credo.xml\n",
      "183 Beethoven-Opus27-Nr2.xml\n",
      "184 Beethoven-Mandoline.xml\n",
      "185 Chopin-Opus10,Nr.6.xml\n",
      "186 Chopin-Opus10,Nr.12.xml\n",
      "187 Mozart-MOZDIV_1.xml\n",
      "188 Handel-HWV-365.xml\n",
      "189 Schubert-D 178, Adagio.xml\n",
      "190 Chopin-Opus25,Nr.9.xml\n",
      "191 Mozart-KV134-SATZ_2.xml\n",
      "192 Beethoven-Appassionata_3.xml\n",
      "193 Beethoven-SONATE'2.xml\n",
      "194 Schubert-DeutMes5.xml\n",
      "195 Beethoven-23_variation.xml\n",
      "196 Schubert-D 506, Rondo.xml\n",
      "197 Beethoven-Opus 10-3,4.xml\n",
      "198 Beethoven-Opus 27-1,1.xml\n",
      "199 Handel-Sonate_C-Dur_5_Allegro.xml\n",
      "200 Mozart-II-Menuett(Allegretto).xml\n",
      "201 Beethoven-09_variation.xml\n",
      "202 Beethoven-SONATE'3.xml\n",
      "203 Beethoven-1_Horn1.xml\n",
      "204 Schubert-DeutMes4.xml\n",
      "205 Beethoven-Appassionata_2.xml\n",
      "206 Mozart-KV134-SATZ_3.xml\n",
      "207 Beethoven-30_variation.xml\n",
      "208 Beethoven-27_variation.xml\n",
      "209 Schubert-D_935_2.xml\n",
      "210 Beethoven-0_diabelli.xml\n",
      "211 Beethoven-Opus 106,4.xml\n",
      "212 Mozart-MOZDIV_2.xml\n",
      "213 Schubert-D 760, Wanderer-Fantasie.xml\n",
      "214 Schubert-D 459_A3, Allegro patetico.xml\n",
      "215 Mozart-KV134-SATZ_1.xml\n",
      "216 Schubert-DeutMes6.xml\n",
      "217 Beethoven-SONATE'1.xml\n",
      "218 Beethoven-op86_5-Agnus_Dei.xml\n",
      "219 Mozart-IX-Menuett.xml\n",
      "220 Beethoven-Opus 27-1,2.xml\n",
      "221 Schubert-6-Agnus_Dei.xml\n",
      "222 Beethoven-1_Satz, Allegro.xml\n",
      "223 Beethoven-op123-3-Credo.xml\n",
      "224 Beethoven-Opus 27-1,3.xml\n",
      "225 Chopin-Pre_28_4.xml\n",
      "226 Schubert-DeutMes7.xml\n",
      "227 Beethoven-Appassionata_1.xml\n",
      "228 Mozart-MOZDIV_3.xml\n",
      "229 Beethoven-Opus 106,1.xml\n",
      "230 Mozart-KV134-SATZ_4.xml\n",
      "231 Beethoven-Opus 79,2.xml\n",
      "232 Chopin-Opus09,Nr.2.xml\n",
      "233 Beethoven-SONATE'4.xml\n",
      "234 Schubert-DeutMes3.xml\n",
      "235 Beethoven-Opus 107, 09.xml\n",
      "236 Beethoven-Opus 10-3,2.xml\n",
      "237 Handel-Sonate_F-Dur_3_Siciliana.xml\n",
      "238 Beethoven-6_cello.xml\n",
      "239 Mozart-KV216-2_Adagio.xml\n",
      "240 Beethoven-op25_3allegro molto.xml\n",
      "241 Beethoven-Opus 107, 08.xml\n",
      "242 Beethoven-Opus 10-3,3.xml\n",
      "243 Beethoven-Opus 10-1,1.xml\n",
      "244 Schubert-DeutMes2.xml\n",
      "245 Beethoven-op123-4-Sanctus.xml\n",
      "246 Beethoven-Opus 79,3.xml\n",
      "247 Schubert-D 593, 2 Scherzi.xml\n",
      "248 Mozart-MOZDIV_4.xml\n",
      "249 Handel-HWV-360.xml\n",
      "250 Beethoven-Opus 106,2.xml\n",
      "251 Beethoven-Menuett_C-dur.xml\n",
      "252 Mozart-VII-Adagio.xml\n",
      "253 Beethoven-19_variation.xml\n",
      "254 Chopin-Opus09,Nr.1.xml\n",
      "255 Beethoven-Opus 79,1.xml\n",
      "256 Chopin-Opus-Post108.xml\n",
      "257 Beethoven-Opus 10-1,3.xml\n",
      "258 Beethoven-Opus 27-1,4.xml\n",
      "259 Beethoven-Opus 10-3,1.xml\n",
      "260 Beethoven-20_variation.xml\n",
      "261 Beethoven-op25_4andante con variazioni.xml\n",
      "262 Mozart-VIII-Allegro.xml\n",
      "263 Mozart-III-Andante.xml\n",
      "264 Beethoven-Opus 10-1,2.xml\n",
      "265 Schubert-DeutMes1.xml\n",
      "266 Beethoven-24_variation.xml\n",
      "267 Beethoven-op86_2-Gloria.xml\n",
      "268 Beethoven-33_variation.xml\n",
      "269 Beethoven-Opus 106,3.xml\n",
      "270 Mozart-MOZDIV_5.xml\n",
      "271 Beethoven-Opus 101,2.xml\n",
      "272 Beethoven-Schweizer_Lied.xml\n",
      "273 Beethoven-Satz3.xml\n",
      "274 Beethoven-SONAT_1.xml\n",
      "275 Handel-SonateNr15_E-Dur.xml\n",
      "276 Beethoven-Opus 26,4.xml\n",
      "277 Schubert-D 606, Marsch.xml\n",
      "278 Beethovenop3_1Allegro con brio.xml\n",
      "279 Beethoven-FRöS2-3.xml\n",
      "280 Handel-Sonate_C-Dur_4_Gavotte.xml\n",
      "281 Handel-SATZ3.xml\n",
      "282 Beethoven-Opus 22,1.xml\n",
      "283 Beethoven-13_variation.xml\n",
      "284 Beethoven-op3_4Adagio.xml\n",
      "285 Beethoven-04_variation.xml\n",
      "286 Handel-SATZ2.xml\n",
      "287 Beethoven-Duo2a.xml\n",
      "288 Beethoven-FRöS4.xml\n",
      "289 Schubert-1_Exposito.xml\n",
      "290 Beethoven-5_viola.xml\n",
      "291 Beethoven-Andante favori Opus 35.xml\n",
      "292 Beethoven-Satz2.xml\n",
      "293 Beethoven-Opus 101,3.xml\n",
      "294 Beethoven-op3_2Andante.xml\n",
      "295 Beethoven-Opus 101,1.xml\n",
      "296 Schubert-D 002, Fantasie.xml\n",
      "297 Beethoven-Sonatine Mand c.xml\n",
      "298 Beethoven-op123-2-Gloria.xml\n",
      "299 Beethoven-Duo2c.xml\n",
      "300 Beethoven-Opus 22,3.xml\n",
      "301 Beethoven-Opus 22,2.xml\n",
      "302 Handel-SATZ1.xml\n",
      "303 Schubert-D 459, 2 KlavierstÅcke.xml\n",
      "304 Beethoven-Duo2b.xml\n",
      "305 Beethoven-Satz1.xml\n",
      "306 Mozart-XI-Menuett.xml\n",
      "307 Mozart-KV521_1.xml\n",
      "308 Mozart-Fantasie-d-moll.xml\n",
      "309 Beethoven-Opus 10-2,1.xml\n",
      "310 Beethoven-Opus 26,2.xml\n",
      "311 Beethoven-Duo3b.xml\n",
      "312 Handel-SATZ5.xml\n",
      "313 Beethoven-4_Violine2.xml\n",
      "314 Mozart-An_Chloe.xml\n",
      "315 Mozart-luise.xml\n",
      "316 Schubert-Sinfonie Nr 7 - Satz 1.xml\n",
      "317 Handel-SATZ4.xml\n",
      "318 Handel-Sonate_C-Dur_3_Larghetto.xml\n",
      "319 Mozart-V-Larghetto.xml\n",
      "320 Beethoven-Opus 26,3.xml\n",
      "321 Chopin-Opus64,Nr.1.xml\n",
      "322 Beethoven-Opus 81a,1.xml\n",
      "323 Mozart-KV521_2.xml\n",
      "324 Beethoven-Opus 10-2,2.xml\n",
      "325 Beethoven-op123-1-Kyrie.xml\n",
      "326 Beethoven-14_variation.xml\n",
      "327 Beethoven-Opus 81a,3.xml\n",
      "328 Mozart-IV-Polonaise.xml\n",
      "329 Beethoven-03_variation.xml\n",
      "330 Beethoven-Opus 26,1.xml\n",
      "331 Beethoven-Duo3a.xml\n",
      "332 Beethoven-3_Violine1.xml\n",
      "333 Handel-SATZ6.xml\n",
      "334 Schubert-D 334, Menuetto.xml\n",
      "335 Beethoven-Opus 22,4.xml\n",
      "336 Beethoven-07_variation.xml\n",
      "337 Beethoven-10_variation.xml\n",
      "338 Schubert-Sinfonie Nr 7 - Satz 2.xml\n",
      "339 Schubert-D 459_A2, Scherzo con Trio.xml\n",
      "340 Handel-SonateNr12_F-Dur.xml\n",
      "341 Beethoven-FRöS1.xml\n",
      "342 Beethoven-Wut_Åber_den_verlorenen_Groschen.xml\n",
      "343 Chopin-Opus64,Nr.2.xml\n",
      "344 Schubert-D 612, Adagio.xml\n",
      "345 Beethoven-Opus 81a,2.xml\n",
      "346 Beethoven-29_variation.xml\n",
      "347 Beethoven-Opus 10-2,3.xml\n",
      "348 Chopin-Opus27,Nr.1.xml\n",
      "349 Mozart-KV521_3.xml\n"
     ]
    }
   ],
   "source": [
    "files = os.listdir(\"/Users/BrandonBel/Desktop/MusicXML_scores/\")\n",
    "\n",
    "for count, filename in enumerate(files, 1):\n",
    "    print(count, filename)"
   ]
  }
 ],
 "metadata": {
  "kernelspec": {
   "display_name": "Python 3",
   "language": "python",
   "name": "python3"
  },
  "language_info": {
   "codemirror_mode": {
    "name": "ipython",
    "version": 3
   },
   "file_extension": ".py",
   "mimetype": "text/x-python",
   "name": "python",
   "nbconvert_exporter": "python",
   "pygments_lexer": "ipython3",
   "version": "3.6.10"
  }
 },
 "nbformat": 4,
 "nbformat_minor": 4
}
