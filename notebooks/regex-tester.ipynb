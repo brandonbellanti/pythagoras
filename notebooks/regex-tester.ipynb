{
 "cells": [
  {
   "cell_type": "code",
   "execution_count": 1,
   "metadata": {},
   "outputs": [],
   "source": [
    "import regex as re\n",
    "import matplotlib.pyplot as plt\n",
    "%matplotlib inline"
   ]
  },
  {
   "cell_type": "code",
   "execution_count": 16,
   "metadata": {},
   "outputs": [],
   "source": [
    "name = \"brandbrandonbranbrandobradonndononbranbarnodnanroanaraobnraondonabranodbrandobrandonbrandborn\""
   ]
  },
  {
   "cell_type": "code",
   "execution_count": 20,
   "metadata": {
    "collapsed": true
   },
   "outputs": [
    {
     "name": "stdout",
     "output_type": "stream",
     "text": [
      "['brandbrandonbranbrandobradonndononbranbarnodnanroanaraobnraondonabranodbrandobrandonbrandborn', 'randbrandonbranbrandobradonndononbranbarnodnanroanaraobnraondonabranodbrandobrandonbrandborn', 'andbrandonbranbrandobradonndononbranbarnodnanroanaraobnraondonabranodbrandobrandonbrandborn', 'ndbrandonbranbrandobradonndononbranbarnodnanroanaraobnraondonabranodbrandobrandonbrandborn', 'dbrandonbranbrandobradonndononbranbarnodnanroanaraobnraondonabranodbrandobrandonbrandborn', 'brandonbranbrandobradonndononbranbarnodnanroanaraobnraondonabranodbrandobrandonbrandborn', 'randonbranbrandobradonndononbranbarnodnanroanaraobnraondonabranodbrandobrandonbrandborn', 'andonbranbrandobradonndononbranbarnodnanroanaraobnraondonabranodbrandobrandonbrandborn', 'ndonbranbrandobradonndononbranbarnodnanroanaraobnraondonabranodbrandobrandonbrandborn', 'donbranbrandobradonndononbranbarnodnanroanaraobnraondonabranodbrandobrandonbrandborn', 'onbranbrandobradonndononbranbarnodnanroanaraobnraondonabranodbrandobrandonbrandborn', 'nbranbrandobradonndononbranbarnodnanroanaraobnraondonabranodbrandobrandonbrandborn', 'branbrandobradonndononbranbarnodnanroanaraobnraondonabranodbrandobrandonbrandborn', 'ranbrandobradonndononbranbarnodnanroanaraobnraondonabranodbrandobrandonbrandborn', 'anbrandobradonndononbranbarnodnanroanaraobnraondonabranodbrandobrandonbrandborn', 'nbrandobradonndononbranbarnodnanroanaraobnraondonabranodbrandobrandonbrandborn', 'brandobradonndononbranbarnodnanroanaraobnraondonabranodbrandobrandonbrandborn', 'randobradonndononbranbarnodnanroanaraobnraondonabranodbrandobrandonbrandborn', 'andobradonndononbranbarnodnanroanaraobnraondonabranodbrandobrandonbrandborn', 'ndobradonndononbranbarnodnanroanaraobnraondonabranodbrandobrandonbrandborn', 'dobradonndononbranbarnodnanroanaraobnraondonabranodbrandobrandonbrandborn', 'obradonndononbranbarnodnanroanaraobnraondonabranodbrandobrandonbrandborn', 'bradonndononbranbarnodnanroanaraobnraondonabranodbrandobrandonbrandborn', 'radonndononbranbarnodnanroanaraobnraondonabranodbrandobrandonbrandborn', 'adonndononbranbarnodnanroanaraobnraondonabranodbrandobrandonbrandborn', 'donndononbranbarnodnanroanaraobnraondonabranodbrandobrandonbrandborn', 'onndononbranbarnodnanroanaraobnraondonabranodbrandobrandonbrandborn', 'nndononbranbarnodnanroanaraobnraondonabranodbrandobrandonbrandborn', 'ndononbranbarnodnanroanaraobnraondonabranodbrandobrandonbrandborn', 'dononbranbarnodnanroanaraobnraondonabranodbrandobrandonbrandborn', 'ononbranbarnodnanroanaraobnraondonabranodbrandobrandonbrandborn', 'nonbranbarnodnanroanaraobnraondonabranodbrandobrandonbrandborn', 'onbranbarnodnanroanaraobnraondonabranodbrandobrandonbrandborn', 'nbranbarnodnanroanaraobnraondonabranodbrandobrandonbrandborn', 'branbarnodnanroanaraobnraondonabranodbrandobrandonbrandborn', 'ranbarnodnanroanaraobnraondonabranodbrandobrandonbrandborn', 'anbarnodnanroanaraobnraondonabranodbrandobrandonbrandborn', 'nbarnodnanroanaraobnraondonabranodbrandobrandonbrandborn', 'barnodnanroanaraobnraondonabranodbrandobrandonbrandborn', 'arnodnanroanaraobnraondonabranodbrandobrandonbrandborn', 'rnodnanroanaraobnraondonabranodbrandobrandonbrandborn', 'nodnanroanaraobnraondonabranodbrandobrandonbrandborn', 'odnanroanaraobnraondonabranodbrandobrandonbrandborn', 'dnanroanaraobnraondonabranodbrandobrandonbrandborn', 'nanroanaraobnraondonabranodbrandobrandonbrandborn', 'anroanaraobnraondonabranodbrandobrandonbrandborn', 'nroanaraobnraondonabranodbrandobrandonbrandborn', 'roanaraobnraondonabranodbrandobrandonbrandborn', 'oanaraobnraondonabranodbrandobrandonbrandborn', 'anaraobnraondonabranodbrandobrandonbrandborn', 'naraobnraondonabranodbrandobrandonbrandborn', 'araobnraondonabranodbrandobrandonbrandborn', 'raobnraondonabranodbrandobrandonbrandborn', 'aobnraondonabranodbrandobrandonbrandborn', 'obnraondonabranodbrandobrandonbrandborn', 'bnraondonabranodbrandobrandonbrandborn', 'nraondonabranodbrandobrandonbrandborn', 'raondonabranodbrandobrandonbrandborn', 'aondonabranodbrandobrandonbrandborn', 'ondonabranodbrandobrandonbrandborn', 'ndonabranodbrandobrandonbrandborn', 'donabranodbrandobrandonbrandborn', 'onabranodbrandobrandonbrandborn', 'nabranodbrandobrandonbrandborn', 'abranodbrandobrandonbrandborn', 'branodbrandobrandonbrandborn', 'ranodbrandobrandonbrandborn', 'anodbrandobrandonbrandborn', 'nodbrandobrandonbrandborn', 'odbrandobrandonbrandborn', 'dbrandobrandonbrandborn', 'brandobrandonbrandborn', 'randobrandonbrandborn', 'andobrandonbrandborn', 'ndobrandonbrandborn', 'dobrandonbrandborn', 'obrandonbrandborn', 'brandonbrandborn', 'randonbrandborn', 'andonbrandborn', 'ndonbrandborn', 'donbrandborn', 'onbrandborn', 'nbrandborn', 'brandborn', 'randborn', 'andborn', 'ndborn', 'dborn', 'born', 'orn', 'rn', 'n']\n"
     ]
    }
   ],
   "source": [
    "matches = re.findall(r'(.+)',name,overlapped=True)\n",
    "print(matches)"
   ]
  },
  {
   "cell_type": "code",
   "execution_count": 18,
   "metadata": {},
   "outputs": [
    {
     "name": "stdout",
     "output_type": "stream",
     "text": [
      "['brand', 'nbra', 'bran', 'n', 'on', 'brando']\n"
     ]
    }
   ],
   "source": [
    "matches = re.findall(r'(.+)\\1',name,overlapped=True)\n",
    "print(matches)"
   ]
  },
  {
   "cell_type": "code",
   "execution_count": 25,
   "metadata": {
    "collapsed": true
   },
   "outputs": [
    {
     "name": "stdout",
     "output_type": "stream",
     "text": [
      "['brandb', 'randb', 'andb', 'ndb', 'dbrando', 'brandonbran', 'randonbran', 'andonbran', 'ndonbran', 'donbran', 'onbranb', 'nbranb', 'branb', 'ranb', 'anb', 'nbrand', 'brandobra', 'randobra', 'andobra', 'ndobra', 'dobra', 'obra', 'bra', 'ra', 'a', 'don', 'on', 'n', 'ndon', 'don', 'on', 'no', 'onbran', 'nbran', 'bran', 'ran', 'an', 'nb', 'b', 'ar', 'rn', 'nod', 'od', 'd', 'na', 'an', 'nr', 'r', 'o', 'an', 'na', 'a', 'rao', 'ao', 'ob', 'b', 'n', 'ra', 'a', 'on', 'ndon', 'don', 'on', 'n', 'a', 'bran', 'ran', 'an', 'n', 'o', 'db', 'brando', 'rando', 'ando', 'ndo', 'do', 'o', 'brand', 'rand', 'and', 'nd', 'd', 'o', 'n', 'b', 'r', 'n']\n"
     ]
    }
   ],
   "source": [
    "matches = re.findall(r'(.+).*\\1',name,overlapped=True)\n",
    "print(matches)"
   ]
  },
  {
   "cell_type": "code",
   "execution_count": 38,
   "metadata": {},
   "outputs": [
    {
     "name": "stdout",
     "output_type": "stream",
     "text": [
      "['brandb', 'randb', 'andb', 'dbrando', 'brandonbran', 'randonbran', 'andonbran', 'ndonbran', 'donbran', 'onbranb', 'nbranb', 'branb', 'ranb', 'nbrand', 'brandobra', 'randobra', 'andobra', 'ndobra', 'dobra', 'obra', 'ndon', 'onbran', 'nbran', 'bran', 'ndon', 'bran', 'brando', 'rando', 'ando', 'brand', 'rand']\n"
     ]
    }
   ],
   "source": [
    "matches = re.findall(r'(.{4,}).*\\1',name,overlapped=True)\n",
    "print(matches)"
   ]
  },
  {
   "cell_type": "code",
   "execution_count": 46,
   "metadata": {
    "scrolled": false
   },
   "outputs": [
    {
     "name": "stdout",
     "output_type": "stream",
     "text": [
      "['brand', 'rand', 'brando', 'rando', 'ando', 'ndon', 'nbra', 'bran', 'brand', 'rand', 'bran', 'bran']\n"
     ]
    }
   ],
   "source": [
    "matches = re.findall(r'(.{4,})(?:.*\\1){3,}',name,overlapped=True)\n",
    "print(matches)"
   ]
  },
  {
   "cell_type": "code",
   "execution_count": 47,
   "metadata": {
    "scrolled": false
   },
   "outputs": [
    {
     "name": "stdout",
     "output_type": "stream",
     "text": [
      "['brand', 'rand', 'brando', 'rando', 'ando', 'ndon', 'nbra', 'bran', 'brand', 'rand', 'bran', 'bran']\n"
     ]
    }
   ],
   "source": [
    "length = 4\n",
    "repetitions = 3\n",
    "pat = r'(.{%d,})(?:.*\\1){%d,}' % (length, repetitions)\n",
    "matches = re.findall(pat,name,overlapped=True)\n",
    "print(matches)"
   ]
  }
 ],
 "metadata": {
  "kernelspec": {
   "display_name": "Python 3",
   "language": "python",
   "name": "python3"
  },
  "language_info": {
   "codemirror_mode": {
    "name": "ipython",
    "version": 3
   },
   "file_extension": ".py",
   "mimetype": "text/x-python",
   "name": "python",
   "nbconvert_exporter": "python",
   "pygments_lexer": "ipython3",
   "version": "3.6.10"
  }
 },
 "nbformat": 4,
 "nbformat_minor": 2
}
