{
 "cells": [
  {
   "cell_type": "markdown",
   "metadata": {},
   "source": [
    "# pythagoras\n",
    "\n",
    "Welcome to _pythagoras_. For more information about the project, visit the [project website](http://web.simmons.edu/~bellanti/pythagoras) or the Github repo.\n",
    "\n",
    "---\n"
   ]
  },
  {
   "cell_type": "markdown",
   "metadata": {},
   "source": [
    "### Load libraries and settings"
   ]
  },
  {
   "cell_type": "code",
   "execution_count": 2,
   "metadata": {},
   "outputs": [],
   "source": [
    "import pandas as pd\n",
    "import numpy as np\n",
    "import matplotlib.pyplot as plt\n",
    "from lxml import etree\n",
    "import re\n",
    "from collections import Counter\n",
    "%matplotlib inline"
   ]
  },
  {
   "cell_type": "markdown",
   "metadata": {},
   "source": [
    "### Parse the MusicXML file"
   ]
  },
  {
   "cell_type": "code",
   "execution_count": 3,
   "metadata": {},
   "outputs": [],
   "source": [
    "# xml_filepath = \"./scores/xml/JSB_BWV1047_1.xml\"\n",
    "# xml_filepath = \"./scores/xml/JSB_BWV1047_2.xml\"\n",
    "# xml_filepath = \"./scores/xml/JSB_BWV1047_3.xml\"\n",
    "# xml_filepath = \"./scores/xml/JB_op51_no1_2.xml\"\n",
    "# xml_filepath = \"./scores/xml/JB_op51_no1_3.xml\"\n",
    "xml_filepath = \"./scores/xml/JB_op51_no1_4.xml\""
   ]
  },
  {
   "cell_type": "code",
   "execution_count": 5,
   "metadata": {},
   "outputs": [],
   "source": [
    "tree = etree.parse(xml_filepath)\n",
    "root = tree.getroot()"
   ]
  },
  {
   "cell_type": "markdown",
   "metadata": {},
   "source": [
    "### Get information about the work"
   ]
  },
  {
   "cell_type": "code",
   "execution_count": 6,
   "metadata": {},
   "outputs": [
    {
     "name": "stdout",
     "output_type": "stream",
     "text": [
      "\n",
      "INSTRUMENTATION:\n",
      "\n",
      "\tViolin (P1)\n",
      "\tViolin (P2)\n",
      "\tViola (P3)\n",
      "\tCello (P4)\n"
     ]
    }
   ],
   "source": [
    "print('\\nINSTRUMENTATION:\\n')\n",
    "\n",
    "parts = []\n",
    "\n",
    "for e in root.xpath('//score-part'):\n",
    "    part = e.xpath('./@id')[0]\n",
    "    parts.append(part)\n",
    "    instr = e.xpath('.//instrument-name')[0].text\n",
    "    print(\"\\t%s (%s)\" % (instr,part))"
   ]
  },
  {
   "cell_type": "code",
   "execution_count": 7,
   "metadata": {},
   "outputs": [
    {
     "name": "stdout",
     "output_type": "stream",
     "text": [
      "\n",
      "KEY & TIME\n",
      "\n",
      "\tKey signature:\t Eb major (C minor)\n",
      "\tTime signature:\t 2/2\n"
     ]
    }
   ],
   "source": [
    "print('\\nKEY & TIME\\n')\n",
    "\n",
    "attrib_list = root.xpath(\"//part[@id='P1']/measure[@number='1']/attributes/*\")\n",
    "\n",
    "key_dict = {\n",
    "    '-7':'Cb major (Ab minor)',\n",
    "    '-6':'Gb major (Eb minor)',\n",
    "    '-5':'Db major (Bb minor)',\n",
    "    '-4':'Ab major (F minor)',\n",
    "    '-3':'Eb major (C minor)',\n",
    "    '-2':'Bb major (G minor)',\n",
    "    '-1':'F major (D minor)',\n",
    "    '0':'C major (A minor)',\n",
    "    '1':'G major (E minor)',\n",
    "    '2':'D major (B minor)',\n",
    "    '3':'A major (F# minor)',\n",
    "    '4':'E major (C# minor)',\n",
    "    '5':'B major (G# minor)',\n",
    "    '6':'F# major (D# minor)',\n",
    "    '7':'C# major (A# minor)'\n",
    "}\n",
    "\n",
    "for e in attrib_list:\n",
    "    if e.tag == 'key':\n",
    "        accidentals = e.xpath('./fifths')[0].text\n",
    "        mode = e.xpath('./mode')[0].text\n",
    "        key = key_dict[accidentals]\n",
    "        print(\"\\tKey signature:\\t\", key)\n",
    "    if e.tag == 'time':\n",
    "        beats = e.xpath('./beats')[0].text\n",
    "        val = e.xpath('./beat-type')[0].text\n",
    "        time = \"%s/%s\" % (beats,val)\n",
    "        print(\"\\tTime signature:\\t\",time)"
   ]
  },
  {
   "cell_type": "markdown",
   "metadata": {},
   "source": [
    "### Build a dataframe with notes"
   ]
  },
  {
   "cell_type": "code",
   "execution_count": 8,
   "metadata": {},
   "outputs": [],
   "source": [
    "notes = []\n",
    "\n",
    "for e in root.xpath('//note'):\n",
    "    \n",
    "    part = e.xpath('../..//@id')[0]\n",
    "    \n",
    "    measure = e.xpath('..//@number')[0]\n",
    "    \n",
    "    dotted = True if 'dot' in [child.tag for child in e] else False\n",
    "\n",
    "    grace = True if 'grace' in [child.tag for child in e] else False\n",
    "\n",
    "    cue = True if 'cue' in [child.tag for child in e] else False\n",
    "\n",
    "    rest = True if 'rest' in [child.tag for child in e] else False\n",
    "    \n",
    "    duration_list = e.xpath('.//duration/text()')\n",
    "    duration = duration_list[0] if len(duration_list)>0 else ''\n",
    "    \n",
    "    typ_list = e.xpath('.//type/text()')\n",
    "    typ = typ_list[0] if len(typ_list)>0 else ''\n",
    "\n",
    "    step_list = e.xpath('.//step/text()')\n",
    "    step = step_list[0] if len(step_list)>0 else ''\n",
    "    \n",
    "    alter_list = e.xpath('.//alter/text()')\n",
    "    alter = alter_list[0] if len(alter_list)>0 else ''\n",
    "    if alter == '0':\n",
    "        accidental = ''\n",
    "    elif alter == '-1':\n",
    "        accidental = 'b'\n",
    "    elif alter == '1':\n",
    "        accidental = '#'\n",
    "    elif alter == '-2':\n",
    "        accidental = 'bb'\n",
    "    elif alter == '2':\n",
    "        accidental = '##'\n",
    "    else:\n",
    "        accidental = ''\n",
    "\n",
    "    pitch = step + accidental\n",
    "    \n",
    "    octave_list = e.xpath('.//octave/text()')\n",
    "    octave = octave_list[0] if len(step_list)>0 else ''\n",
    "    \n",
    "    notes.append((part,measure,pitch,step,alter,octave,duration,typ,dotted,rest,grace,cue))\n"
   ]
  },
  {
   "cell_type": "code",
   "execution_count": 9,
   "metadata": {
    "scrolled": false
   },
   "outputs": [
    {
     "name": "stdout",
     "output_type": "stream",
     "text": [
      "     part measure pitch step alter octave duration     type  dotted   rest  \\\n",
      "0      P1       1     F    F            6        3  quarter    True  False   \n",
      "1      P1       1     G    G            6        1   eighth   False  False   \n",
      "2      P1       1     G    G            6        3  quarter    True  False   \n",
      "3      P1       1    Ab    A    -1      6        1   eighth   False  False   \n",
      "4      P1       2    Ab    A    -1      6        2  quarter   False  False   \n",
      "5      P1       2     B    B            5        2  quarter   False  False   \n",
      "6      P1       2                                2  quarter   False   True   \n",
      "7      P1       2     C    C            5        2  quarter   False  False   \n",
      "8      P1       3    Ab    A    -1      4        4     half   False  False   \n",
      "9      P1       3     G    G            4        1   eighth   False  False   \n",
      "10     P1       3     D    D            5        1   eighth   False  False   \n",
      "11     P1       3     D    D            5        1   eighth   False  False   \n",
      "12     P1       3     F    F            5        1   eighth   False  False   \n",
      "13     P1       4     C    C            5        4     half   False  False   \n",
      "14     P1       4     B    B            4        1   eighth   False  False   \n",
      "15     P1       4     D    D            5        1   eighth   False  False   \n",
      "16     P1       4     D    D            5        1   eighth   False  False   \n",
      "17     P1       4     B    B            5        1   eighth   False  False   \n",
      "18     P1       5     B    B            5        4     half   False  False   \n",
      "19     P1       5     C    C            6        2  quarter   False  False   \n",
      "20     P1       5     G    G            5        2  quarter   False  False   \n",
      "21     P1       6     F    F            5        2  quarter   False  False   \n",
      "22     P1       6    Eb    E    -1      5        2  quarter   False  False   \n",
      "23     P1       6    C#    C     1      5        2  quarter   False  False   \n",
      "24     P1       6     G    G            5        2  quarter   False  False   \n",
      "25     P1       7    F#    F     1      5        1   eighth   False  False   \n",
      "26     P1       7    C#    C     1      5        1   eighth   False  False   \n",
      "27     P1       7    C#    C     1      5        1   eighth   False  False   \n",
      "28     P1       7     D    D            5        1   eighth   False  False   \n",
      "29     P1       7     D    D            5        4     half   False  False   \n",
      "...   ...     ...   ...  ...   ...    ...      ...      ...     ...    ...   \n",
      "4744   P4     243    Ab    A    -1      2       18     half    True  False   \n",
      "4745   P4     243    Ab    A    -1      2        6  quarter   False  False   \n",
      "4746   P4     243     C    C            2       18     half    True  False   \n",
      "4747   P4     243     C    C            2        6  quarter   False  False   \n",
      "4748   P4     244     C    C            2        6  quarter   False  False   \n",
      "4749   P4     244     G    G            2        6  quarter   False  False   \n",
      "4750   P4     244                               12     half   False   True   \n",
      "4751   P4     244     C    C            4        3   eighth   False  False   \n",
      "4752   P4     244     G    G            3        3   eighth   False  False   \n",
      "4753   P4     245     G    G            3        3   eighth   False  False   \n",
      "4754   P4     245     C    C            3        3   eighth   False  False   \n",
      "4755   P4     245     C    C            3        3   eighth   False  False   \n",
      "4756   P4     245     G    G            2        3   eighth   False  False   \n",
      "4757   P4     245     G    G            2        3   eighth   False  False   \n",
      "4758   P4     245    Eb    E    -1      2        3   eighth   False  False   \n",
      "4759   P4     245    Eb    E    -1      2        3   eighth   False  False   \n",
      "4760   P4     245     C    C            2        3   eighth   False  False   \n",
      "4761   P4     246     C    C            2        6  quarter   False  False   \n",
      "4762   P4     246    Ab    A    -1      2        6  quarter   False  False   \n",
      "4763   P4     246    Eb    E    -1      3        6  quarter   False  False   \n",
      "4764   P4     246     C    C            4        6  quarter   False  False   \n",
      "4765   P4     246                               12     half   False   True   \n",
      "4766   P4     247     G    G            2        6  quarter   False  False   \n",
      "4767   P4     247                                6  quarter   False   True   \n",
      "4768   P4     247     G    G            2        6  quarter   False  False   \n",
      "4769   P4     247                                6  quarter   False   True   \n",
      "4770   P4     248     C    C            2       12     half   False  False   \n",
      "4771   P4     248     C    C            2        3   eighth   False  False   \n",
      "4772   P4     248                                3   eighth   False   True   \n",
      "4773   P4     248                                6  quarter   False   True   \n",
      "\n",
      "      grace    cue  \n",
      "0     False  False  \n",
      "1     False  False  \n",
      "2     False  False  \n",
      "3     False  False  \n",
      "4     False  False  \n",
      "5     False  False  \n",
      "6     False  False  \n",
      "7     False  False  \n",
      "8     False  False  \n",
      "9     False  False  \n",
      "10    False  False  \n",
      "11    False  False  \n",
      "12    False  False  \n",
      "13    False  False  \n",
      "14    False  False  \n",
      "15    False  False  \n",
      "16    False  False  \n",
      "17    False  False  \n",
      "18    False  False  \n",
      "19    False  False  \n",
      "20    False  False  \n",
      "21    False  False  \n",
      "22    False  False  \n",
      "23    False  False  \n",
      "24    False  False  \n",
      "25    False  False  \n",
      "26    False  False  \n",
      "27    False  False  \n",
      "28    False  False  \n",
      "29    False  False  \n",
      "...     ...    ...  \n",
      "4744  False  False  \n",
      "4745  False  False  \n",
      "4746  False  False  \n",
      "4747  False  False  \n",
      "4748  False  False  \n",
      "4749  False  False  \n",
      "4750  False  False  \n",
      "4751  False  False  \n",
      "4752  False  False  \n",
      "4753  False  False  \n",
      "4754  False  False  \n",
      "4755  False  False  \n",
      "4756  False  False  \n",
      "4757  False  False  \n",
      "4758  False  False  \n",
      "4759  False  False  \n",
      "4760  False  False  \n",
      "4761  False  False  \n",
      "4762  False  False  \n",
      "4763  False  False  \n",
      "4764  False  False  \n",
      "4765  False  False  \n",
      "4766  False  False  \n",
      "4767  False  False  \n",
      "4768  False  False  \n",
      "4769  False  False  \n",
      "4770  False  False  \n",
      "4771  False  False  \n",
      "4772  False  False  \n",
      "4773  False  False  \n",
      "\n",
      "[4774 rows x 12 columns]\n"
     ]
    }
   ],
   "source": [
    "df = pd.DataFrame(notes,columns=['part','measure','pitch','step','alter','octave','duration','type','dotted','rest','grace','cue'])\n",
    "print(df)"
   ]
  },
  {
   "cell_type": "markdown",
   "metadata": {},
   "source": [
    "### Vizualizations"
   ]
  },
  {
   "cell_type": "code",
   "execution_count": 10,
   "metadata": {
    "scrolled": true
   },
   "outputs": [
    {
     "data": {
      "text/plain": [
       "Text(0.5,1,'Note types')"
      ]
     },
     "execution_count": 10,
     "metadata": {},
     "output_type": "execute_result"
    },
    {
     "data": {
      "image/png": "[encoded data removed]",
      "text/plain": [
       "<Figure size 432x288 with 1 Axes>"
      ]
     },
     "metadata": {},
     "output_type": "display_data"
    }
   ],
   "source": [
    "col = 'type'\n",
    "df[df[col]!=''].groupby(col)[col].count().sort_values(ascending=False).plot.bar()\n",
    "plt.ylabel('Count')\n",
    "plt.xlabel('Note type')\n",
    "plt.title('Note types')"
   ]
  },
  {
   "cell_type": "code",
   "execution_count": 11,
   "metadata": {},
   "outputs": [],
   "source": [
    "df = df.set_index('part',append=True)"
   ]
  },
  {
   "cell_type": "code",
   "execution_count": 12,
   "metadata": {
    "scrolled": false
   },
   "outputs": [
    {
     "name": "stdout",
     "output_type": "stream",
     "text": [
      "pitch\n",
      "       630\n",
      "A      193\n",
      "A#      15\n",
      "Ab     333\n",
      "B      325\n",
      "B#       1\n",
      "Bb     216\n",
      "Bbb      4\n",
      "C      622\n",
      "C#      47\n",
      "Cb       9\n",
      "D      488\n",
      "D#      23\n",
      "Db      71\n",
      "E      278\n",
      "E#       1\n",
      "Eb     293\n",
      "F      471\n",
      "F#      88\n",
      "F##      1\n",
      "G      572\n",
      "G#      63\n",
      "Gb      30\n",
      "Name: pitch, dtype: int64\n"
     ]
    }
   ],
   "source": [
    "pitch_df = df.groupby('pitch')['pitch'].count()\n",
    "print(pitch_df)\n",
    "# table = pd.pivot_table(df, values='pitch', index=[part],columns=['part'], aggfunc=np.unique)\n",
    "# print(table)\n",
    "# pd.pivot_table(df, columns='pitch', values='step').plot(subplots=True)\n",
    "# print(table)"
   ]
  },
  {
   "cell_type": "code",
   "execution_count": 13,
   "metadata": {
    "scrolled": false
   },
   "outputs": [
    {
     "name": "stdout",
     "output_type": "stream",
     "text": [
      "\n",
      "PITCH COUNTS BY PART\n",
      "\n"
     ]
    },
    {
     "data": {
      "image/png": "[encoded data removed]",
      "text/plain": [
       "<Figure size 864x576 with 4 Axes>"
      ]
     },
     "metadata": {},
     "output_type": "display_data"
    }
   ],
   "source": [
    "print('\\nPITCH COUNTS BY PART\\n')\n",
    "\n",
    "col = 'pitch'\n",
    "result = df[df[col]!=''].groupby(['part',col])[col].count()\n",
    "result_df = result.to_frame().rename (columns={col:'count'}).reset_index()\n",
    "p = len(parts)\n",
    "if p%2 == 0:\n",
    "    num_rows = int(p/2)\n",
    "    fig, ax = plt.subplots(num_rows,2,figsize=(12,num_rows*4))\n",
    "elif p%3 == 0:\n",
    "    num_rows = int(p/3)\n",
    "    fig, ax = plt.subplots(num_rows,3,figsize=(15,num_rows*3))\n",
    "else:\n",
    "    num_rows = p\n",
    "    fig, ax = plt.subplots(num_rows,1,figsize=(10,num_rows))\n",
    "\n",
    "result_df.pivot(index=col,columns='part',values='count').sort_values(by=\"P1\",ascending=False).plot.bar(subplots=True, ax=ax,legend=False, sharex=False)\n",
    "\n",
    "plt.tight_layout()\n",
    "plt.show()\n",
    "\n",
    "\n"
   ]
  },
  {
   "cell_type": "code",
   "execution_count": 14,
   "metadata": {},
   "outputs": [],
   "source": [
    "pitch_dict = {'A0':'1','G##0':'1','Bbb0':'1','A#0':'2','Bb0':'2','Cbb1':'2','B0':'3','Cb1':'3','A##0':'3','C1':'4','B#0':'4','Dbb1':'4','C#1':'5','Db1':'5','B##1':'5','D1':'6','C##1':'6','Dbb1':'6','D#1':'7','Eb1':'7','Fbb1':'7','E1':'8','Fb1':'8','D##1':'8','1':'8','F1':'9','E#1':'9','Gbb1':'9','F#1':'10','Gb1':'10','E##1':'10','G1':'11','F##1':'11','Abb1':'11','G#1':'12','Ab1':'12','A1':'13','G##1':'13','Bbb1':'13','A#1':'14','Bb1':'14','Cbb1':'14','B1':'15','Cb1':'15','A##1':'15','C2':'16','B#2':'16','Dbb2':'16','C#2':'17','Db2':'17','B##2':'17','D2':'18','C##2':'18','Dbb2':'18','D#2':'19','Eb2':'19','Fbb2':'19','E2':'20','Fb2':'20','D##2':'20','2':'20','F2':'21','E#2':'21','Gbb2':'21','F#2':'22','Gb2':'22','E##2':'22','G2':'23','F##2':'23','Abb2':'23','G#2':'24','Ab2':'24','A2':'25','G##2':'25','Bbb2':'25','A#2':'26','Bb2':'26','Cbb2':'26','B2':'27','Cb2':'27','A##2':'27','C3':'28','B#3':'28','Dbb3':'28','C#3':'29','Db3':'29','B##3':'29','D3':'30','C##3':'30','Dbb3':'30','D#3':'31','Eb3':'31','Fbb3':'31','E3':'32','Fb3':'32','D##3':'32','3':'32','F3':'33','E#3':'33','Gbb3':'33','F#3':'34','Gb3':'34','E##3':'34','G3':'35','F##3':'35','Abb3':'35','G#3':'36','Ab3':'36','A3':'37','G##3':'37','Bbb3':'37','A#3':'38','Bb3':'38','Cbb3':'38','B3':'39','Cb3':'39','A##3':'39','C4':'40','B#4':'40','Dbb4':'40','C#4':'41','Db4':'41','B##4':'41','D4':'42','C##4':'42','Dbb4':'42','D#4':'43','Eb4':'43','Fbb4':'43','E4':'44','Fb4':'44','D##4':'44','4':'44','F4':'45','E#4':'45','Gbb4':'45','F#4':'46','Gb4':'46','E##4':'46','G4':'47','F##4':'47','Abb4':'47','G#4':'48','Ab4':'48','A4':'49','G##4':'49','Bbb4':'49','A#4':'50','Bb4':'50','Cbb4':'50','B4':'51','Cb4':'51','A##4':'51','C5':'52','B#5':'52','Dbb5':'52','C#5':'53','Db5':'53','B##5':'53','D5':'54','C##5':'54','Dbb5':'54','D#5':'55','Eb5':'55','Fbb5':'55','E5':'56','Fb5':'56','D##5':'56','5':'56','F5':'57','E#5':'57','Gbb5':'57','F#5':'58','Gb5':'58','E##5':'58','G5':'59','F##5':'59','Abb5':'59','G#5':'60','Ab5':'60','A5':'61','G##5':'61','Bbb5':'61','A#5':'62','Bb5':'62','Cbb5':'62','B5':'63','Cb5':'63','A##5':'63','C6':'64','B#6':'64','Dbb6':'64','C#6':'65','Db6':'65','B##6':'65','D6':'66','C##6':'66','Dbb6':'66','D#6':'67','Eb6':'67','Fbb6':'67','E6':'68','Fb6':'68','D##6':'68','6':'68','F6':'69','E#6':'69','Gbb6':'69','F#6':'70','Gb6':'70','E##6':'70','G6':'71','F##6':'71','Abb6':'71','G#6':'72','Ab6':'72','A6':'73','G##6':'73','Bbb6':'73','A#6':'74','Bb6':'74','Cbb6':'74','B6':'75','Cb6':'75','A##6':'75','C7':'76','B#7':'76','Dbb7':'76','C#7':'77','Db7':'77','B##7':'77','D7':'78','C##7':'78','Dbb7':'78','D#7':'79','Eb7':'79','Fbb7':'79','E7':'80','Fb7':'80','D##7':'80','7':'80','F7':'81','E#7':'81','Gbb7':'81','F#7':'82','Gb7':'82','E##7':'82','G7':'83','F##7':'83','Abb7':'83','G#7':'84','Ab7':'84','A7':'85','G##7':'85','Bbb7':'85','A#7':'86','Bb7':'86','Cbb8':'86','B7':'87','Cb8':'87','A##7':'87','C8':'88','B#7':'88','Dbb8':'88'}"
   ]
  },
  {
   "cell_type": "markdown",
   "metadata": {},
   "source": [
    "### Pitches\n",
    "\n",
    "Because this song is written in the key of F, the expected most common pitches are as follows:\n",
    "\n",
    "* **I chord**: F-A-C\n",
    "* **IV chord**: Bb-D-F\n",
    "* **V(7) chord**: C-E-G(-Bb)\n",
    "* **vi chord**: D-F-A\n",
    "* **ii chord**: G-Bb-D"
   ]
  },
  {
   "cell_type": "code",
   "execution_count": 15,
   "metadata": {
    "scrolled": true
   },
   "outputs": [
    {
     "data": {
      "text/plain": [
       "Text(0.5,1,'Pitches')"
      ]
     },
     "execution_count": 15,
     "metadata": {},
     "output_type": "execute_result"
    },
    {
     "data": {
      "image/png": "[encoded data removed]",
      "text/plain": [
       "<Figure size 432x288 with 1 Axes>"
      ]
     },
     "metadata": {},
     "output_type": "display_data"
    }
   ],
   "source": [
    "col = 'pitch'\n",
    "df[df[col]!=''].groupby(col)[col].count().sort_values(ascending=False).plot.bar(subplots=True)\n",
    "plt.ylabel('Count')\n",
    "plt.xlabel('Pitch')\n",
    "plt.title('Pitches')"
   ]
  },
  {
   "cell_type": "markdown",
   "metadata": {},
   "source": [
    "## Match patterns\n",
    "Using the string generated from the dataframe series, match any reoccuring patterns longer than a given length."
   ]
  },
  {
   "cell_type": "code",
   "execution_count": 16,
   "metadata": {},
   "outputs": [
    {
     "name": "stdout",
     "output_type": "stream",
     "text": [
      "      part\n",
      "0     P1       F\n",
      "1     P1       G\n",
      "2     P1       G\n",
      "3     P1      Ab\n",
      "4     P1      Ab\n",
      "5     P1       B\n",
      "6     P1        \n",
      "7     P1       C\n",
      "8     P1      Ab\n",
      "9     P1       G\n",
      "10    P1       D\n",
      "11    P1       D\n",
      "12    P1       F\n",
      "13    P1       C\n",
      "14    P1       B\n",
      "15    P1       D\n",
      "16    P1       D\n",
      "17    P1       B\n",
      "18    P1       B\n",
      "19    P1       C\n",
      "20    P1       G\n",
      "21    P1       F\n",
      "22    P1      Eb\n",
      "23    P1      C#\n",
      "24    P1       G\n",
      "25    P1      F#\n",
      "26    P1      C#\n",
      "27    P1      C#\n",
      "28    P1       D\n",
      "29    P1       D\n",
      "              ..\n",
      "4744  P4      Ab\n",
      "4745  P4      Ab\n",
      "4746  P4       C\n",
      "4747  P4       C\n",
      "4748  P4       C\n",
      "4749  P4       G\n",
      "4750  P4        \n",
      "4751  P4       C\n",
      "4752  P4       G\n",
      "4753  P4       G\n",
      "4754  P4       C\n",
      "4755  P4       C\n",
      "4756  P4       G\n",
      "4757  P4       G\n",
      "4758  P4      Eb\n",
      "4759  P4      Eb\n",
      "4760  P4       C\n",
      "4761  P4       C\n",
      "4762  P4      Ab\n",
      "4763  P4      Eb\n",
      "4764  P4       C\n",
      "4765  P4        \n",
      "4766  P4       G\n",
      "4767  P4        \n",
      "4768  P4       G\n",
      "4769  P4        \n",
      "4770  P4       C\n",
      "4771  P4       C\n",
      "4772  P4        \n",
      "4773  P4        \n",
      "Name: pitch, Length: 4774, dtype: object\n",
      "Index(['measure', 'pitch', 'step', 'alter', 'octave', 'duration', 'type',\n",
      "       'dotted', 'rest', 'grace', 'cue'],\n",
      "      dtype='object')\n"
     ]
    }
   ],
   "source": [
    "print(df['pitch'])\n",
    "print(df.columns)"
   ]
  },
  {
   "cell_type": "code",
   "execution_count": 17,
   "metadata": {
    "scrolled": false
   },
   "outputs": [
    {
     "name": "stdout",
     "output_type": "stream",
     "text": [
      "partFGGAbAbBCAbGDDFCBDDBBCGFEbC#GF#C#C#DDDC#C#DDDEEFFFEEFFFEEFFEEFFGGAbAbCCFFGGAbAbBCAbGDDFCBDDBBCF#GCGBDEbF#GCGBCBBCCBBCCDDEbEbGGBCBBCCBBCCAbAbFFDDCGF#F#GGF#F#GGBBDDF#F#GGF#F#GGF#F#GGEbEbCCAAGDGGDDDDDDGGDDDDDDGGDDGGDDGGDDGGCCAbBbGAbFGEbGEbGEbGEbDbFAbFEbGBbGDbAbFAbGEbBDGEbFDEbCDBbDBbDBbDBbBbGbAbFGbEbFDFDFDBbDDFBbBbAbGFEbGAbBbCEbEbFCEbEbFDDCBbCBbAbGbAbGbFEbFEbEbDbCDbCBbABbAbGbFGbFGbEbEbEbCFFFFFBbEbDbCBbCBbAbCbBbAbBbAbGBbEbEGCFAbEbDFBbGBbEbGBEbGCEbC#EbDDEbDCBbAbGFEbDCEbAbCEAbCFAbAbCCCGGDFBBCDbCBbAbGFFAbDbFADbFBbDbDbFFAbFGGAbAbBFFGGAbAbFFBbEEAbFDEbEFBbAbFC#DDBbEFEbDCBbBbAbGGFFFGGAbAbGAABbBbABBCCABBCABBCABBCCDDEbCDDEbEbEEFEFFGGAbAbBCAbEbCCAbGbEbAbCEbAbGbEbAbCEbAbGbEbCGbAF#D#EG#G#F#F#EEC#C#BBA#A#G#G#EG#EBG#G#EDBEG#BEDBEG#BEDDBG#EDBEEAGGFFEECCBBAAGGEA#BF#CF#BF#GGBBCGFEEFCBAFD#EBBEEAAEEBBEEAAEEBBEEBBEEBBEEBBEAFGEFDECECECECBbDFDCEGEBbFDFECBG#ECDBCABGBGBGBGGEbFDEbCDBDBDBGBBDGGFEDCEFGACCDACCDBBAGAGFEbFEbDCDCCBbABbAGF#GFEbDEbDEbCCCADDDDDGCBbAGAGFAbGFGFEGCC#EADFCBDGEGCEG#CEACA#CBBCBAGFEDCBACFAC#FADFFAAAEEBDG#G#ABbAGFEDDFBbDF#BbDGBbBbDDFDEEFFG#DDEEFFDDGC#C#FDBCC#DGGEbABbBbGDEbEbCAbGGF#EEDADEEFFDDAD#EGF#F#BE#F#AGGCGGEA#A#GGGGGGGGEEEFEbEbDCCBbAbAbFEbDDDDDDFFBBDDFFBBDDFFGGAbAbBCEbF#GBbC#DBbBbFFBbCCFFCDDGGDFCCFFCCFGDDGGDDGAbEbCAbEbCAbGDDFCBDDBBCGFEbC#GF#C#C#DDDC#C#DDDEEFFFEEFFFEEFFEEFFGGAbAbCCFAbGGFFCCAbAbFFCFEbEbDbDbAbAbFFDbDbAbFFFFEEFBbBbBbFFEEFFDDBBGGAbAbFFDDBBCCAbAbEbEbCCAbAbAbEbCCAbDBFCCDDDDBCF#DGCGBDEbF#GCGBCBbAbGGGGGGGCBbAbGGGGGGGGFEbDbDbDbDbCCCBBCAbF#F#GDDEbBBBBBBCDDEbEbGCDDEbEbGGCCEbEbF#EbCGGDBGEbCGEbCFGGAbAbBCDFDDGCGAF#GGDADADBBCBBCCFEbEbDbDbCCAbAbGGFFEbEbCCDFDDGAGEbCGDBAbFEbCGEbCGDBGF#F#GGFGGAbAbDEbCGGCDDEbEbGAbAbGGAbAbGGCBbAbGEbGEbDbFEbBbDbAbGEbDCBbBbDBbGbFEbDDFBbDFBbBbAbGDbCEbEbCCEbEbCCEbDDEbFGbGbGbBbAABbCDbDbCCFEbCBbCBbAFBbAbFEbFEbDGBbEFAbDBbGGEAbFFDGBbEbGBEbGCEbC#EbDDCBbAGFEbDCBCCEbAbCEAbCFAbF#AbGGAbGFEbEGCAbCFAbDbFADbFBbDbFBbFAbDbAbFGGAbAbBEbDDDDDbDbCCbBbC#DDFFBbBbEbGFECEbDEbFFBbCGbFFGGCCAAAAAACCGCCGCCCCCCFEbEbDbDbCCAbAbGGFFEbEbCEbEbCEbEbCAbAbEbAbAbEbCEbCCEbCCEbCEbCEbF#D#B#C#BBAAG#G#EED#D#C#C#BBG#G#G#EG#G#EBBG#EEBG#EDBEG#BEDBEG#BEEBEEBEEFDBCEEDDCCAAGGF#F#EECEEF#F#F#F#AAAACBBEEBBEAbAbDGGGGCCEDDBCCAG#G#ECCFCCCCCBAABBAABBEBBEEBBEFEDCECEDFEEDCG#CBAGBEEbDCBGBDGBDGGFEBbACCAACCAACBBCDEbADDEbCADCAGAGF#DGFDCDCBEGC#DFBGEEC#FDDBEGCEG#CEACA#CBBAGF#EDCBAG#AACFADbFADFD#AG#EFEDCC#EAFADFBFDF#BbDGBbBbDFDFBbDFBbDFADFG#DCBBBBBBbBbBbAAbGBbBBbGGBbAbEbEEDCCBBBACCC#C#D#D#DDD#D#EEEEEGGGEED#EDDCDCCBbCBbBbAAABbAbAbFFFAbGAbAbAABBDDFFBBDDFFBBBBCCDbDbBbBbAbCDDEbEbCCBbGAABbBbGGFFAAbGDDGGDDGCFFCCFFCDGGDDGGDEbAbAbCCAbAbEbEbCCAbAbEbEbCCDFDDGCGAF#F#GGGGAADADADBDBBBCCBBCCFFFEEFFAbAbAbBbbBbbGbGbFFDbCCBFDbCBDBBBCCAbAbEbEbCCAbAbAbEbCAbCGDAbFDDBAbGEbEbAbDEbCDBBAbGCCEbDGEbCGDBCAbCGCFBDBGCGBGCGCAbCGCFBDBGCGBGCEbGEbGDGCGBbEDbEDbEDbEDbGCFCECFCFDDBDCCEbCEbCCCCCEbEbAbAbAbAbGGGGAbFAbFAbFAbFAbFAbFAbFAbFAbFAbFAbFAbFAbFAbFGEbEbGGGGGGGGCCEbEbCGGDBGEbCGEbCFGGAbAbBCEbEbAbDGGDFAbAbCGBBDGDDGGCCGGCCEbEbGGC#DABbBbDAFFGDFGGAbAbFCCBbBbAbAbFFEbEbDDCCAbCEbEbAbDGGDFAbAbCGBBDGDDGGCCGGEbGDBAbAbBCCCCGEbGDEbDDCCCEEFFBCEbDDGBBCCBFFBBFFBBGGDDGGDDGGCCAbGFEbGEbGFAbGFAbGDGFEbDDDBbAbGbFFBbDFBbGBbEbEbCEbAbAbCFAACFBbBbCFFGbEbBbACCCCABbBAbAbAbBbEbDbCBbCBbAbCbFBbGBbEFAbDGBbEbGBEbGCEbC#EbDDACF#F#GBDGEbGCEbCCEAbCFAbCAbCCDBEbGCCCDbFAbDbFADbFBbDbDbFFAbFAbDbFAbCFAbBFAbGGFFAbAbGBbBbFAbGGbFBbBbBbBbDBbBbBbDbCBbCCBbAbCbCbBbBbCDBbDbDbCCDEbDEbDEbDEbDEbDEbEFEFFCCBbBbAbAbFFEbEbDDCCAbCCAbCCAbCCAbAbAbAbAbAbAbAbAbAbAbAbAbAbEbAbAbC#BBG#EEG#EEEEG#EEDBEG#BEEG#BEG#G#BDBG#ABBCCD#F#F#ED#AAF#F#F#F#AGGGEEDDBCCCCGGCFFDEECEEG#AACAAAAAG#F#F#G#G#F#F#G#G#BBEEBBEEBBEAGFECECBbDCGBbFEBEDCBGBGGFEbDBDGEGCCACFFADF#F#ADGGGGF#F#GABbBbAGF#AAAAF#GAbFFFGCBbAGAGFAbDGEGC#DFBEGCEG#CEACA#CBF#AD#D#EG#BECEACAAC#FADFFAACEBDCBAGFEDC#DDFBbDF#BbDGBbBbDDFDEEFFG#CDBFEDDFFC#GEDFEEbDEbEbGAbCBbBbAGGF#FEDDFFF#F#GED#BG#G#AF#ECA#A#A#A#EEEBGGF#GFFEFEEGAGGFFFFFFDCCCCDCDCDCDCGGBFFDDFFGGAbAbBbBbGGFFGGAbAbFFEbEFFGGEEDDFFBbFBbBbFFCCFFCCFDGDGDGDGDGDGCFCFCFCFCFCFCFBGBGBGBGBGCEbEbAbAbCCAbAbEbEbCCAbAbEbCEbEbAbDGGDFAbAbCGBBDGDDGGCCGGCCEbEbGGDbDAABbBbDDFFFFGGDDFFGGAbAbCCCBBBBCCDbFFGbGbBbbBbbAbAbFFFFEEFFFFFEEFFGGAbAbFFDDBBCCAbAbEbEbCCAbAbEbEbCCAbF#GGCAbFCGBDBDCGCAbEGGDDDBCEbEbCEbGGDAbGFDDEbFEbAbGFDDEbFEbEbDCBbGAbBbEFBbAbDFAbGAbAbAbAbAbAbGGGGFFFFEbEbEbEbDBDBDBDBDBDBDBDBDBDBDBDBDBEbCCDDEbEbCCCGEbCGDCGEbCGEbFGGAbAbBCBAbGFEbCEbDDGGDDGGAbGGFFCBAbGFEbCGGFEbDCBbAbGGCDDEbEbAbGGFFGAABBEbDDCCGDDGGDDGGDGGDDGGCCCFDbEbFGCEbGBbEbGbBbDDFBbGBbEbEbAbCFFACFFBbCDEbEbFFGABbBbCEbEbGbFGbFEbDAbCbBbCbBbGBbEbEGCFAbEbDFBbEbDbCBbCBbAbCbBbAbBbAbGBbEbGBEbGCEbEbDBbDGGGAbCEbAbCEAbCFAbAbGFEbDCBbAbGFEFAbDbFADbFBbDbFBbFAbDbFAbDbFAbCFAbBAbAbCbBbBbBbBbBbBbBbBbBbBbBbBbBbBbBbBbBbAbAbAbGGEFGAbABbCDDEbEbDEEFFFCCFFCCFF#CCF#F#CCF#GCCGGCCGAbCCAbAbCCAbCAbEbCCAbGbEbAbCEbAbGbEbAbCEbAbGbGbEbCAbC#D#D#EEF##G#EBG#G#EDBEG#BEDBEG#BEDBG#EEABBCCD#ECBF#F#AED#F#F#D#D#EBAGFECG#AEDCBAGFAAECCEECCEEEBBEEBBEAADBbCDEACEGCEbGBBDGEGCCFACDF#ADDGABCCDDEF#GGACCEbDEbDCBFAbGAbGEGCC#EADFCBDGCBbAGAGFAbGFGFEGCEG#CEACCBGBEEEFACFAC#FADFFECEAADFBDDF#BbDGBbDGDFBbDFBbDFADFG#FFAbGGGGGGGGGGGGGGGGGGDbDbDbCCC#DADDGGGG#G#AAAAA#A#BBBBBBCCCC#C#C#CBEGA#BBBCCCC#C#C#DDCCBbBbFFBbBbFFDDEbEbFFFF#F#F#GGGDDGGDDGGDEbEbFFDDCABbBbCCAAGDDbCBBbAAbGDCEbAbCBAbGFEbCEbDDDGGBbBbDDDDGGGGAbAbGGFFFGGAbAbDbDbDbCCDbDbBbAbAbGDbBbAbGGBBCCAbAbEbEbCCAbAbEbEbCCCEbBDAbGFEbCGGFEbDCBbAbGGCFEbDCCCCCCCCCCFEbDCCCCCCCCCCCBbAbCCCGBbAbGCCCFAbGFCCCEbGFEbCCCDEbDCCCCBCBbAbCCCAbAbAbCCCAbAbCCCGCGGCCGGEbEbCCAbEbCGGCC\n"
     ]
    }
   ],
   "source": [
    "steps = df['pitch'].to_string(index=False)\n",
    "steps = re.sub(r'\\n|\\t| ','',steps)\n",
    "print(steps)"
   ]
  },
  {
   "cell_type": "code",
   "execution_count": 18,
   "metadata": {},
   "outputs": [
    {
     "name": "stdout",
     "output_type": "stream",
     "text": [
      "Counter({'partFGGAbAbBCAbGDDFCBDDBBCGFEbC#GF#C#C#DDDC#C#DDDEEFFFEEFFFEEFFEEFFGGAbAbCCFFGGAbAbBCAbGDDFCBDDBBCF#GCGBDEbF#GCGBCBBCCBBCCDDEbEbGGBCBBCCBBCCAbAbFFDDCGF#F#GGF#F#GGBBDDF#F#GGF#F#GGF#F#GGEbEbCCAAGDGGDDDDDDGGDDDDDDGGDDGGDDGGDDGGCCAbBbGAbFGEbGEbGEbGEbDbFAbFEbGBbGDbAbFAbGEbBDGEbFDEbCDBbDBbDBbDBbBbGbAbFGbEbFDFDFDBbDDFBbBbAbGFEbGAbBbCEbEbFCEbEbFDDCBbCBbAbGbAbGbFEbFEbEbDbCDbCBbABbAbGbFGbFGbEbEbEbCFFFFFBbEbDbCBbCBbAbCbBbAbBbAbGBbEbEGCFAbEbDFBbGBbEbGBEbGCEbC#EbDDEbDCBbAbGFEbDCEbAbCEAbCFAbAbCCCGGDFBBCDbCBbAbGFFAbDbFADbFBbDbDbFFAbFGGAbAbBFFGGAbAbFFBbEEAbFDEbEFBbAbFC#DDBbEFEbDCBbBbAbGGFFFGGAbAbGAABbBbABBCCABBCABBCABBCCDDEbCDDEbEbEEFEFFGGAbAbBCAbEbCCAbGbEbAbCEbAbGbEbAbCEbAbGbEbCGbAF#D#EG#G#F#F#EEC#C#BBA#A#G#G#EG#EBG#G#EDBEG#BEDBEG#BEDDBG#EDBEEAGGFFEECCBBAAGGEA#BF#CF#BF#GGBBCGFEEFCBAFD#EBBEEAAEEBBEEAAEEBBEEBBEEBBEEBBEAFGEFDECECECECBbDFDCEGEBbFDFECBG#ECDBCABGBGBGBGGEbFDEbCDBDBDBGBBDGGFEDCEFGACCDACCDBBAGAGFEbFEbDCDCCBbABbAGF#GFEbDEbDEbCCCADDDDDGCBbAGAGFAbGFGFEGCC#EADFCBDGEGCEG#CEACA#CBBCBAGFEDCBACFAC#FADFFAAAEEBDG#G#ABbAGFEDDFBbDF#BbDGBbBbDDFDEEFFG#DDEEFFDDGC#C#FDBCC#DGGEbABbBbGDEbEbCAbGGF#EEDADEEFFDDAD#EGF#F#BE#F#AGGCGGEA#A#GGGGGGGGEEEFEbEbDCCBbAbAbFEbDDDDDDFFBBDDFFBBDDFFGGAbAbBCEbF#GBbC#DBbBbFFBbCCFFCDDGGDFCCFFCCFGDDGGDDGAbEbCAbEbCAbGDDFCBDDBBCGFEbC#GF#C#C#DDDC#C#DDDEEFFFEEFFFEEFFEEFFGGAbAbCCFAbGGFFCCAbAbFFCFEbEbDbDbAbAbFFDbDbAbFFFFEEFBbBbBbFFEEFFDDBBGGAbAbFFDDBBCCAbAbEbEbCCAbAbAbEbCCAbDBFCCDDDDBCF#DGCGBDEbF#GCGBCBbAbGGGGGGGCBbAbGGGGGGGGFEbDbDbDbDbCCCBBCAbF#F#GDDEbBBBBBBCDDEbEbGCDDEbEbGGCCEbEbF#EbCGGDBGEbCGEbCFGGAbAbBCDFDDGCGAF#GGDADADBBCBBCCFEbEbDbDbCCAbAbGGFFEbEbCCDFDDGAGEbCGDBAbFEbCGEbCGDBGF#F#GGFGGAbAbDEbCGGCDDEbEbGAbAbGGAbAbGGCBbAbGEbGEbDbFEbBbDbAbGEbDCBbBbDBbGbFEbDDFBbDFBbBbAbGDbCEbEbCCEbEbCCEbDDEbFGbGbGbBbAABbCDbDbCCFEbCBbCBbAFBbAbFEbFEbDGBbEFAbDBbGGEAbFFDGBbEbGBEbGCEbC#EbDDCBbAGFEbDCBCCEbAbCEAbCFAbF#AbGGAbGFEbEGCAbCFAbDbFADbFBbDbFBbFAbDbAbFGGAbAbBEbDDDDDbDbCCbBbC#DDFFBbBbEbGFECEbDEbFFBbCGbFFGGCCAAAAAACCGCCGCCCCCCFEbEbDbDbCCAbAbGGFFEbEbCEbEbCEbEbCAbAbEbAbAbEbCEbCCEbCCEbCEbCEbF#D#B#C#BBAAG#G#EED#D#C#C#BBG#G#G#EG#G#EBBG#EEBG#EDBEG#BEDBEG#BEEBEEBEEFDBCEEDDCCAAGGF#F#EECEEF#F#F#F#AAAACBBEEBBEAbAbDGGGGCCEDDBCCAG#G#ECCFCCCCCBAABBAABBEBBEEBBEFEDCECEDFEEDCG#CBAGBEEbDCBGBDGBDGGFEBbACCAACCAACBBCDEbADDEbCADCAGAGF#DGFDCDCBEGC#DFBGEEC#FDDBEGCEG#CEACA#CBBAGF#EDCBAG#AACFADbFADFD#AG#EFEDCC#EAFADFBFDF#BbDGBbBbDFDFBbDFBbDFADFG#DCBBBBBBbBbBbAAbGBbBBbGGBbAbEbEEDCCBBBACCC#C#D#D#DDD#D#EEEEEGGGEED#EDDCDCCBbCBbBbAAABbAbAbFFFAbGAbAbAABBDDFFBBDDFFBBBBCCDbDbBbBbAbCDDEbEbCCBbGAABbBbGGFFAAbGDDGGDDGCFFCCFFCDGGDDGGDEbAbAbCCAbAbEbEbCCAbAbEbEbCCDFDDGCGAF#F#GGGGAADADADBDBBBCCBBCCFFFEEFFAbAbAbBbbBbbGbGbFFDbCCBFDbCBDBBBCCAbAbEbEbCCAbAbAbEbCAbCGDAbFDDBAbGEbEbAbDEbCDBBAbGCCEbDGEbCGDBCAbCGCFBDBGCGBGCGCAbCGCFBDBGCGBGCEbGEbGDGCGBbEDbEDbEDbEDbGCFCECFCFDDBDCCEbCEbCCCCCEbEbAbAbAbAbGGGGAbFAbFAbFAbFAbFAbFAbFAbFAbFAbFAbFAbFAbFAbFGEbEbGGGGGGGGCCEbEbCGGDBGEbCGEbCFGGAbAbBCEbEbAbDGGDFAbAbCGBBDGDDGGCCGGCCEbEbGGC#DABbBbDAFFGDFGGAbAbFCCBbBbAbAbFFEbEbDDCCAbCEbEbAbDGGDFAbAbCGBBDGDDGGCCGGEbGDBAbAbBCCCCGEbGDEbDDCCCEEFFBCEbDDGBBCCBFFBBFFBBGGDDGGDDGGCCAbGFEbGEbGFAbGFAbGDGFEbDDDBbAbGbFFBbDFBbGBbEbEbCEbAbAbCFAACFBbBbCFFGbEbBbACCCCABbBAbAbAbBbEbDbCBbCBbAbCbFBbGBbEFAbDGBbEbGBEbGCEbC#EbDDACF#F#GBDGEbGCEbCCEAbCFAbCAbCCDBEbGCCCDbFAbDbFADbFBbDbDbFFAbFAbDbFAbCFAbBFAbGGFFAbAbGBbBbFAbGGbFBbBbBbBbDBbBbBbDbCBbCCBbAbCbCbBbBbCDBbDbDbCCDEbDEbDEbDEbDEbDEbEFEFFCCBbBbAbAbFFEbEbDDCCAbCCAbCCAbCCAbAbAbAbAbAbAbAbAbAbAbAbAbAbEbAbAbC#BBG#EEG#EEEEG#EEDBEG#BEEG#BEG#G#BDBG#ABBCCD#F#F#ED#AAF#F#F#F#AGGGEEDDBCCCCGGCFFDEECEEG#AACAAAAAG#F#F#G#G#F#F#G#G#BBEEBBEEBBEAGFECECBbDCGBbFEBEDCBGBGGFEbDBDGEGCCACFFADF#F#ADGGGGF#F#GABbBbAGF#AAAAF#GAbFFFGCBbAGAGFAbDGEGC#DFBEGCEG#CEACA#CBF#AD#D#EG#BECEACAAC#FADFFAACEBDCBAGFEDC#DDFBbDF#BbDGBbBbDDFDEEFFG#CDBFEDDFFC#GEDFEEbDEbEbGAbCBbBbAGGF#FEDDFFF#F#GED#BG#G#AF#ECA#A#A#A#EEEBGGF#GFFEFEEGAGGFFFFFFDCCCCDCDCDCDCGGBFFDDFFGGAbAbBbBbGGFFGGAbAbFFEbEFFGGEEDDFFBbFBbBbFFCCFFCCFDGDGDGDGDGDGCFCFCFCFCFCFCFBGBGBGBGBGCEbEbAbAbCCAbAbEbEbCCAbAbEbCEbEbAbDGGDFAbAbCGBBDGDDGGCCGGCCEbEbGGDbDAABbBbDDFFFFGGDDFFGGAbAbCCCBBBBCCDbFFGbGbBbbBbbAbAbFFFFEEFFFFFEEFFGGAbAbFFDDBBCCAbAbEbEbCCAbAbEbEbCCAbF#GGCAbFCGBDBDCGCAbEGGDDDBCEbEbCEbGGDAbGFDDEbFEbAbGFDDEbFEbEbDCBbGAbBbEFBbAbDFAbGAbAbAbAbAbAbGGGGFFFFEbEbEbEbDBDBDBDBDBDBDBDBDBDBDBDBDBEbCCDDEbEbCCCGEbCGDCGEbCGEbFGGAbAbBCBAbGFEbCEbDDGGDDGGAbGGFFCBAbGFEbCGGFEbDCBbAbGGCDDEbEbAbGGFFGAABBEbDDCCGDDGGDDGGDGGDDGGCCCFDbEbFGCEbGBbEbGbBbDDFBbGBbEbEbAbCFFACFFBbCDEbEbFFGABbBbCEbEbGbFGbFEbDAbCbBbCbBbGBbEbEGCFAbEbDFBbEbDbCBbCBbAbCbBbAbBbAbGBbEbGBEbGCEbEbDBbDGGGAbCEbAbCEAbCFAbAbGFEbDCBbAbGFEFAbDbFADbFBbDbFBbFAbDbFAbDbFAbCFAbBAbAbCbBbBbBbBbBbBbBbBbBbBbBbBbBbBbBbBbBbAbAbAbGGEFGAbABbCDDEbEbDEEFFFCCFFCCFF#CCF#F#CCF#GCCGGCCGAbCCAbAbCCAbCAbEbCCAbGbEbAbCEbAbGbEbAbCEbAbGbGbEbCAbC#D#D#EEF##G#EBG#G#EDBEG#BEDBEG#BEDBG#EEABBCCD#ECBF#F#AED#F#F#D#D#EBAGFECG#AEDCBAGFAAECCEECCEEEBBEEBBEAADBbCDEACEGCEbGBBDGEGCCFACDF#ADDGABCCDDEF#GGACCEbDEbDCBFAbGAbGEGCC#EADFCBDGCBbAGAGFAbGFGFEGCEG#CEACCBGBEEEFACFAC#FADFFECEAADFBDDF#BbDGBbDGDFBbDFBbDFADFG#FFAbGGGGGGGGGGGGGGGGGGDbDbDbCCC#DADDGGGG#G#AAAAA#A#BBBBBBCCCC#C#C#CBEGA#BBBCCCC#C#C#DDCCBbBbFFBbBbFFDDEbEbFFFF#F#F#GGGDDGGDDGGDEbEbFFDDCABbBbCCAAGDDbCBBbAAbGDCEbAbCBAbGFEbCEbDDDGGBbBbDDDDGGGGAbAbGGFFFGGAbAbDbDbDbCCDbDbBbAbAbGDbBbAbGGBBCCAbAbEbEbCCAbAbEbEbCCCEbBDAbGFEbCGGFEbDCBbAbGGCFEbDCCCCCCCCCCFEbDCCCCCCCCCCCBbAbCCCGBbAbGCCCFAbGFCCCEbGFEbCCCDEbDCCCCBCBbAbCCCAbAbAbCCCAbAbCCCGCGGCCGGEbEbCCAbEbCGGCC': 1})\n"
     ]
    }
   ],
   "source": [
    "min_length = 8\n",
    "min_occur = 2\n",
    "pat = r'(?=(.{%d,})).*\\1{%d,}' % (min_length, min_occur-1)\n",
    "\n",
    "step_patterns = re.findall(pat,steps)\n",
    "\n",
    "print(Counter(step_patterns))"
   ]
  },
  {
   "cell_type": "code",
   "execution_count": 19,
   "metadata": {
    "scrolled": false
   },
   "outputs": [
    {
     "name": "stdout",
     "output_type": "stream",
     "text": [
      "Counter({'AbAbAbAbAbAb': 8, 'bAbAbAbAbAb': 7, 'BbAbG': 6, 'AbAbAb': 6, 'DDEbEb': 5, 'DEbEb': 5, 'GGGGGGGG': 5, 'GGGGGGG': 5, 'GGGGGG': 5, 'GGGGG': 5, 'bBbBb': 5, 'bCCAb': 5, 'F#F#G': 5, 'bAbGG': 5, 'EbEbCC': 5, 'EbCEb': 5, 'bAbAb': 5, 'GAbAb': 5, 'bCEbEb': 4, 'EbEbC': 4, 'AbAbFF': 4, 'bAbFF': 4, 'FFGGAbAb': 4, 'FGGAbAb': 4, 'AbAbG': 4, 'CDDEbEb': 4, 'AbAbBC': 4, 'bAbBC': 4, 'GFEbD': 4, 'EbCCC': 4, 'FFEEFF': 4, 'FEEFF': 4, 'CCAbAb': 4, 'CAbAb': 4, 'BbBbBb': 4, 'bEbCCAb': 4, 'EbCCAb': 4, 'CEbEb': 4, 'AbAbGG': 4, 'FBbBb': 4, 'CEbEbC': 4, 'bEbCC': 4, 'DbDbCC': 4, 'bDbCC': 4, 'AbCFAb': 4, 'bCFAb': 4, 'EbEbD': 4, 'AbGGFF': 4, 'bGGFF': 4, 'G#G#E': 4, 'BbBbD': 4, 'CCCCC': 4, 'AbAbC': 4, '#F#F#': 4, 'GGAbAb': 4, 'CBBCC': 3, 'EbEbGG': 3, 'bEbGG': 3, 'F#F#GG': 3, '#F#GG': 3, 'DDGGDDGGD': 3, 'DGGDDGGD': 3, 'EbGEbG': 3, 'AbFEb': 3, 'AbFAb': 3, 'AbGEb': 3, 'BbDBb': 3, 'bBbAbG': 3, 'EbEbF': 3, 'CBbAbG': 3, 'bAbGb': 3, 'FFFFF': 3, 'FEbDC': 3, 'bCCCG': 3, 'FGGAbAbB': 3, 'GGAbAbB': 3, 'GAbAbB': 3, 'AbAbB': 3, 'bFFBb': 3, 'BbAbGG': 3, 'BbBbA': 3, 'FGGAbAbBC': 3, 'GGAbAbBC': 3, 'GAbAbBC': 3, 'EBBEEBBE': 3, 'BBEEBBEA': 3, 'BEEBBEA': 3, 'EEBBEA': 3, 'EBBEA': 3, 'DBDBDB': 3, 'bFEbD': 3, 'DEbDEb': 3, 'EbDEb': 3, 'DDDDD': 3, 'bEbCAb': 3, 'EbCAb': 3, 'GFEbC': 3, 'EEFFF': 3, 'FFFEEFF': 3, 'BbBbFF': 3, 'bBbFF': 3, 'EbEbG': 3, 'CCEbEb': 3, 'bDFBb': 3, 'EbDCB': 3, 'AbGFEb': 3, 'bGFEb': 3, 'AAAAA': 3, 'bCCAbAb': 3, 'EbEbCEb': 3, 'bEbCEb': 3, 'F#F#A': 3, 'DGGGG': 3, 'bBbAb': 3, 'ABbBb': 3, 'BBBCC': 3, 'bAbBb': 3, 'AbEbC': 3, 'FAbFAb': 3, 'CCAbC': 3, 'BbBbC': 3, 'BbBbBbBb': 3, 'EbDEbD': 3, 'bAbAbAb': 3, 'EG#BE': 3, 'EbEbAb': 3, 'bEbAb': 3, 'bEbEb': 3, 'bCbBb': 3, 'DDBBC': 2, 'BBCCBBCC': 2, 'BCCBBCC': 2, 'CCBBCC': 2, 'GF#F#GG': 2, 'F#F#GGF': 2, '#F#GGF': 2, 'GGF#F#G': 2, 'DDDGG': 2, 'GDDGGDDGGD': 2, 'GEbGEb': 2, 'DbFAb': 2, 'bFAbF': 2, 'DbAbF': 2, 'DEbCDB': 2, 'EbCDB': 2, 'bDBbD': 2, 'DBbBb': 2, 'BbBbG': 2, 'FGbEb': 2, 'bDDFBb': 2, 'DDFBb': 2, 'BbBbAbG': 2, 'EbGAb': 2, 'CEbEbF': 2, 'bAbGbF': 2, 'AbGbF': 2, 'bCBbA': 2, 'bEbEbC': 2, 'GBbEbGBEbGCEbC#EbDD': 2, 'BbEbGBEbGCEbC#EbDD': 2, 'bEbGBEbGCEbC#EbDD': 2, 'EbGBEbGCEbC#EbDD': 2, 'bGBEbGCEbC#EbDD': 2, 'GBEbGCEbC#EbDD': 2, 'BEbGCEbC#EbDD': 2, 'EbGCEbC#EbDD': 2, 'bGCEbC#EbDD': 2, 'GCEbC#EbDD': 2, 'CEbC#EbDD': 2, 'EbC#EbDD': 2, 'bC#EbDD': 2, 'C#EbDD': 2, '#EbDD': 2, 'bAbCCCG': 2, 'AbCCCG': 2, 'bAbGF': 2, 'bFGGAbAbB': 2, 'FFGGAbAbFF': 2, 'FGGAbAbFF': 2, 'GGAbAbFF': 2, 'GAbAbFF': 2, 'AABbBb': 2, 'BBCCD': 2, 'bCDDEbEb': 2, 'EFFGGAbAb': 2, 'EG#G#': 2, 'BEG#BED': 2, 'EEBBEEBBE': 2, 'EEBBEEBBEA': 2, 'EBBEEBBEA': 2, 'BDBDB': 2, 'GBBDG': 2, 'GFEDC': 2, 'AGAGF': 2, 'EbDEbDEb': 2, 'bDEbDEb': 2, 'bDEbC': 2, 'DGEGC': 2, 'G#G#A': 2, 'EEFFDD': 2, 'EFFDD': 2, 'DEEFF': 2, 'GF#F#': 2, 'DCCBb': 2, 'CBbAb': 2, 'AbAbF': 2, 'BBDDFF': 2, 'FFBbC': 2, 'DDGGD': 2, 'FCCFFCCF': 2, 'CCFFCCF': 2, 'CFFCCF': 2, 'FFCCF': 2, 'GDDGGDDG': 2, 'DDGGDDG': 2, 'DGGDDG': 2, 'GGDDG': 2, 'AbEbCAb': 2, 'CAbEbC': 2, 'AbAbCC': 2, 'bAbCC': 2, 'EbDbDb': 2, 'bDbDb': 2, 'bDbAb': 2, 'bAbAbFF': 2, 'AbFFD': 2, 'FFFFEEF': 2, 'bAbAbEbC': 2, 'AbAbEbC': 2, 'bAbEbC': 2, 'bAbGGGG': 2, 'bGGGGGGGG': 2, 'GGGGF': 2, 'GGFEbD': 2, 'CDDEbEbG': 2, 'DDEbEbG': 2, 'DEbEbG': 2, 'GGCCEbEb': 2, 'GCCEbEb': 2, 'GEbCGDB': 2, 'EbCGDB': 2, 'bCGDB': 2, 'AbAbD': 2, 'GAbAbGG': 2, 'bAbGGC': 2, 'AbGGC': 2, 'bGEbG': 2, 'EbDCBb': 2, 'bDCBb': 2, 'CBbBb': 2, 'FBbDFBb': 2, 'BbDFBb': 2, 'BbBbAb': 2, 'EbCCEb': 2, 'bCCEb': 2, 'CCEbD': 2, 'CEbDD': 2, 'bGbGb': 2, 'bGbBb': 2, 'bBbAA': 2, 'CCFEb': 2, 'EbFEb': 2, 'EFAbD': 2, 'CEAbCFAb': 2, 'EAbCFAb': 2, 'FAbDb': 2, 'EbDDD': 2, 'BbEbG': 2, 'FEbEbD': 2, 'bDbDbCC': 2, 'bAbGGFF': 2, 'FFEbEb': 2, 'FEbEb': 2, 'bEbCEbEb': 2, 'EbCEbEb': 2, 'CAbAbEb': 2, 'bEbAbAb': 2, 'EbAbAb': 2, 'CEbCCE': 2, 'EbCCE': 2, '#C#C#': 2, 'BG#G#': 2, '#G#G#': 2, 'BG#EE': 2, '#AAAA': 2, 'CCCCB': 2, 'BBEEBBE': 2, 'BEEBBE': 2, 'CBbBbA': 2, 'AbFFF': 2, 'BbAbC': 2, 'CCAbAbEbEbCCAbAbEbEbCC': 2, 'CAbAbEbEbCCAbAbEbEbCC': 2, 'AbAbEbEbCCAbAbEbEbCC': 2, 'bAbEbEbCCAbAbEbEbCC': 2, 'AbEbEbCCAbAbEbEbCC': 2, 'bEbEbCCAbAbEbEbCC': 2, 'EbEbCCAbAbEbEbCC': 2, 'bEbCCAbAbEbEbCC': 2, 'EbCCAbAbEbEbCC': 2, 'bCCAbAbEbEbCC': 2, 'AbAbEbEbCC': 2, 'bAbEbEbCC': 2, 'AbEbEbCC': 2, 'bEbEbCC': 2, 'FAbAb': 2, 'AbAbBb': 2, 'CCAbAbAb': 2, 'CAbAbAb': 2, 'bCAbC': 2, 'GEbEb': 2, 'GEbGD': 2, 'CCCEb': 2, 'AbGGGG': 2, 'bGGGG': 2, 'GGGAb': 2, 'AbFAbFAbFAbFAbFAbF': 2, 'AbFAbFAbFAbFAbF': 2, 'AbFAbFAbFAbF': 2, 'AbFAbFAbF': 2, 'AbFAbF': 2, 'EbCGG': 2, 'BAbAb': 2, 'EbDDCC': 2, 'bDDCC': 2, 'DDGGDDGG': 2, 'GDDGGCC': 2, 'DDGGCC': 2, 'DGGCC': 2, 'FAbGF': 2, 'bCEbAb': 2, 'CEbAb': 2, 'EbAbAbC': 2, 'bAbAbC': 2, 'CBbAbCb': 2, 'BbAbCb': 2, 'bAbCb': 2, 'bDGBb': 2, 'FAbGG': 2, 'bBbBbBb': 2, 'bDEbD': 2, 'bBbAbAb': 2, 'BbAbAb': 2, 'AbCCAbC': 2, 'bCCAbC': 2, 'AbCCAbAb': 2, 'AbAbEb': 2, 'bAbEb': 2, 'DBEG#BE': 2, 'F#F#F#': 2, 'GEGCC': 2, 'D#D#E': 2, 'bBbDDF': 2, 'BbDDF': 2, 'EDDFF': 2, 'DCCCC': 2, 'CFCFCF': 2, 'CGGCC': 2, 'AbAbCCC': 2, 'bAbCCC': 2, 'AbCCC': 2, 'bFFDD': 2, 'EbEbCCAb': 2, 'EbAbG': 2, 'DBDBDBDBDBDB': 2, 'DBDBDBDBDB': 2, 'DBDBDBDB': 2, 'DGGDDGG': 2, 'GGDDGG': 2, 'GDDGG': 2, 'EbAbC': 2, 'DEbEbFF': 2, 'EbEbFF': 2, 'bEbFF': 2, 'AbCbBb': 2, 'bDbFA': 2, 'BbBbBbBbBbBbBbBb': 2, 'BbBbBbBbBbBbBb': 2, 'BbBbBbBbBbBb': 2, 'BbBbBbBbBb': 2, 'bGFEbC': 2, 'FGGAbAbBCAbGDDFCBDDBBC': 1, 'GGAbAbBCAbGDDFCBDDBBC': 1, 'GAbAbBCAbGDDFCBDDBBC': 1, 'AbAbBCAbGDDFCBDDBBC': 1, 'bAbBCAbGDDFCBDDBBC': 1, 'AbBCAbGDDFCBDDBBC': 1, 'bBCAbGDDFCBDDBBC': 1, 'BCAbGDDFCBDDBBC': 1, 'CAbGDDFCBDDBBCGFEbC#GF#C#C#DDDC#C#DDDEEFFFEEFFFEEFFEEFFGGAbAbCCF': 1, 'AbGDDFCBDDBBCGFEbC#GF#C#C#DDDC#C#DDDEEFFFEEFFFEEFFEEFFGGAbAbCCF': 1, 'bGDDFCBDDBBCGFEbC#GF#C#C#DDDC#C#DDDEEFFFEEFFFEEFFEEFFGGAbAbCCF': 1, 'GDDFCBDDBBCGFEbC#GF#C#C#DDDC#C#DDDEEFFFEEFFFEEFFEEFFGGAbAbCCF': 1, 'DDFCBDDBBCGFEbC#GF#C#C#DDDC#C#DDDEEFFFEEFFFEEFFEEFFGGAbAbCCF': 1, 'DFCBDDBBCGFEbC#GF#C#C#DDDC#C#DDDEEFFFEEFFFEEFFEEFFGGAbAbCCF': 1, 'FCBDDBBCGFEbC#GF#C#C#DDDC#C#DDDEEFFFEEFFFEEFFEEFFGGAbAbCCF': 1, 'CBDDBBCGFEbC#GF#C#C#DDDC#C#DDDEEFFFEEFFFEEFFEEFFGGAbAbCCF': 1, 'BDDBBCGFEbC#GF#C#C#DDDC#C#DDDEEFFFEEFFFEEFFEEFFGGAbAbCCF': 1, 'DDBBCGFEbC#GF#C#C#DDDC#C#DDDEEFFFEEFFFEEFFEEFFGGAbAbCCF': 1, 'DBBCGFEbC#GF#C#C#DDDC#C#DDDEEFFFEEFFFEEFFEEFFGGAbAbCCF': 1, 'BBCGFEbC#GF#C#C#DDDC#C#DDDEEFFFEEFFFEEFFEEFFGGAbAbCCF': 1, 'BCGFEbC#GF#C#C#DDDC#C#DDDEEFFFEEFFFEEFFEEFFGGAbAbCCF': 1, 'CGFEbC#GF#C#C#DDDC#C#DDDEEFFFEEFFFEEFFEEFFGGAbAbCCF': 1, 'GFEbC#GF#C#C#DDDC#C#DDDEEFFFEEFFFEEFFEEFFGGAbAbCCF': 1, 'FEbC#GF#C#C#DDDC#C#DDDEEFFFEEFFFEEFFEEFFGGAbAbCCF': 1, 'EbC#GF#C#C#DDDC#C#DDDEEFFFEEFFFEEFFEEFFGGAbAbCCF': 1, 'bC#GF#C#C#DDDC#C#DDDEEFFFEEFFFEEFFEEFFGGAbAbCCF': 1, 'C#GF#C#C#DDDC#C#DDDEEFFFEEFFFEEFFEEFFGGAbAbCCF': 1, '#GF#C#C#DDDC#C#DDDEEFFFEEFFFEEFFEEFFGGAbAbCCF': 1, 'GF#C#C#DDDC#C#DDDEEFFFEEFFFEEFFEEFFGGAbAbCCF': 1, 'F#C#C#DDDC#C#DDDEEFFFEEFFFEEFFEEFFGGAbAbCCF': 1, '#C#C#DDDC#C#DDDEEFFFEEFFFEEFFEEFFGGAbAbCCF': 1, 'C#C#DDDC#C#DDDEEFFFEEFFFEEFFEEFFGGAbAbCCF': 1, '#C#DDDC#C#DDDEEFFFEEFFFEEFFEEFFGGAbAbCCF': 1, 'C#DDDC#C#DDDEEFFFEEFFFEEFFEEFFGGAbAbCCF': 1, '#DDDC#C#DDDEEFFFEEFFFEEFFEEFFGGAbAbCCF': 1, 'DDDC#C#DDDEEFFFEEFFFEEFFEEFFGGAbAbCCF': 1, 'DDC#C#DDDEEFFFEEFFFEEFFEEFFGGAbAbCCF': 1, 'DC#C#DDDEEFFFEEFFFEEFFEEFFGGAbAbCCF': 1, 'C#C#DDDEEFFFEEFFFEEFFEEFFGGAbAbCCF': 1, '#C#DDDEEFFFEEFFFEEFFEEFFGGAbAbCCF': 1, 'C#DDDEEFFFEEFFFEEFFEEFFGGAbAbCCF': 1, '#DDDEEFFFEEFFFEEFFEEFFGGAbAbCCF': 1, 'DDDEEFFFEEFFFEEFFEEFFGGAbAbCCF': 1, 'DDEEFFFEEFFFEEFFEEFFGGAbAbCCF': 1, 'DEEFFFEEFFFEEFFEEFFGGAbAbCCF': 1, 'EEFFFEEFFFEEFFEEFFGGAbAbCCF': 1, 'EFFFEEFFFEEFFEEFFGGAbAbCCF': 1, 'FFFEEFFFEEFFEEFFGGAbAbCCF': 1, 'FFEEFFFEEFFEEFFGGAbAbCCF': 1, 'FEEFFFEEFFEEFFGGAbAbCCF': 1, 'EEFFFEEFFEEFFGGAbAbCCF': 1, 'EFFFEEFFEEFFGGAbAbCCF': 1, 'FFFEEFFEEFFGGAbAbCCF': 1, 'FFEEFFEEFFGGAbAbCCF': 1, 'FEEFFEEFFGGAbAbCCF': 1, 'EEFFEEFFGGAbAbCCF': 1, 'EFFEEFFGGAbAbCCF': 1, 'FFEEFFGGAbAbCCF': 1, 'FEEFFGGAbAbCCF': 1, 'EEFFGGAbAbCCF': 1, 'EFFGGAbAbCCF': 1, 'FFGGAbAbCCF': 1, 'FGGAbAbCCF': 1, 'GGAbAbCCF': 1, 'GAbAbCCF': 1, 'AbAbCCF': 1, 'bAbCCF': 1, 'AbCCF': 1, 'bCCFF': 1, 'FFGGAbAbBCAb': 1, 'FGGAbAbBCAb': 1, 'GGAbAbBCAb': 1, 'GAbAbBCAb': 1, 'AbAbBCAb': 1, 'bAbBCAb': 1, 'AbBCAb': 1, 'bBCAb': 1, 'CAbGDDFCBDDBBC': 1, 'AbGDDFCBDDBBC': 1, 'bGDDFCBDDBBC': 1, 'GDDFCBDDBBC': 1, 'DDFCBDDBBC': 1, 'DFCBDDBBC': 1, 'FCBDDBBC': 1, 'CBDDBBC': 1, 'BDDBBC': 1, 'CF#GC': 1, 'F#GCGB': 1, '#GCGB': 1, 'GCGBDEbF#GCGBCB': 1, 'CGBDEbF#GCGBCB': 1, 'GBDEbF#GCGBCB': 1, 'BDEbF#GCGBCB': 1, 'DEbF#GCGBCB': 1, 'EbF#GCGBCB': 1, 'bF#GCGBCB': 1, 'F#GCGBCB': 1, '#GCGBCB': 1, 'GCGBCB': 1, 'CGBCB': 1, 'GBCBBCCBBCC': 1, 'BCBBCCBBCC': 1, 'CBBCCBBCC': 1, 'BBCCDDEb': 1, 'BCCDDEb': 1, 'CCDDEbEb': 1, 'CDDEbEbGG': 1, 'DDEbEbGG': 1, 'DEbEbGG': 1, 'BCBBCC': 1, 'BBCCAbAb': 1, 'BCCAbAb': 1, 'CCAbAbFF': 1, 'CAbAbFF': 1, 'AbAbFFDD': 1, 'bAbFFDD': 1, 'AbFFDD': 1, 'bFFDDC': 1, 'FFDDC': 1, 'GF#F#GGF#F#GG': 1, 'F#F#GGF#F#GG': 1, '#F#GGF#F#GG': 1, 'F#GGF#F#GG': 1, '#GGF#F#GG': 1, 'GGF#F#GG': 1, 'F#GGBB': 1, '#GGBB': 1, 'BBDDF': 1, 'BDDF#': 1, 'DF#F#': 1, 'F#GGF#': 1, '#GGF#F': 1, 'GF#F#GGF': 1, 'F#GGF': 1, 'GGEbEbCCA': 1, 'GEbEbCCA': 1, 'EbEbCCA': 1, 'bEbCCA': 1, 'EbCCA': 1, 'bCCAAGD': 1, 'CCAAGD': 1, 'CAAGD': 1, 'GDGGDD': 1, 'DGGDDDDD': 1, 'GGDDDDDD': 1, 'GDDDDDDG': 1, 'DDDDDDGG': 1, 'DDDDDGGD': 1, 'DDDDGGDD': 1, 'DDDGGDD': 1, 'DDGGDD': 1, 'DGGDD': 1, 'GGDDD': 1, 'DDDDDD': 1, 'DDDDDG': 1, 'DDDDGG': 1, 'GGDDGGDDGGD': 1, 'GGDDGGDDGGCCAb': 1, 'GDDGGDDGGCCAb': 1, 'DDGGDDGGCCAb': 1, 'DGGDDGGCCAb': 1, 'GGDDGGCCAb': 1, 'GDDGGCCAb': 1, 'DDGGCCAb': 1, 'DGGCCAb': 1, 'GGCCAb': 1, 'GCCAb': 1, 'BbGAb': 1, 'AbFGEb': 1, 'bFGEb': 1, 'bGEbGEb': 1, 'bGEbGEbDbF': 1, 'GEbGEbDbF': 1, 'EbGEbDbF': 1, 'bGEbDbF': 1, 'GEbDbF': 1, 'EbDbF': 1, 'bDbFAb': 1, 'EbGBb': 1, 'bFAbG': 1, 'BDGEb': 1, 'GEbFDEbCDB': 1, 'EbFDEbCDB': 1, 'bFDEbCDB': 1, 'FDEbCDB': 1, 'bCDBbD': 1, 'CDBbD': 1, 'DBbDBb': 1, 'BbDBbBb': 1, 'bDBbBb': 1, 'bGbAb': 1, 'bAbFG': 1, 'bFGbEb': 1, 'bEbFD': 1, 'BbDDFBb': 1, 'DFBbBbAbG': 1, 'FBbBbAbG': 1, 'BbAbGFEb': 1, 'bAbGFEb': 1, 'AbGFEbG': 1, 'bGFEbG': 1, 'GFEbG': 1, 'bGAbBb': 1, 'GAbBb': 1, 'bBbCEbEb': 1, 'BbCEbEb': 1, 'DDCBb': 1, 'CBbCBbAb': 1, 'BbCBbAb': 1, 'bCBbAbG': 1, 'BbAbGb': 1, 'bGbFEb': 1, 'GbFEb': 1, 'bFEbFEb': 1, 'FEbFEb': 1, 'EbFEbEbD': 1, 'bFEbEbD': 1, 'FEbEbDb': 1, 'EbEbDb': 1, 'bEbDbC': 1, 'EbDbC': 1, 'CDbCBbA': 1, 'DbCBbA': 1, 'CBbABbA': 1, 'BbABbA': 1, 'bABbA': 1, 'ABbAb': 1, 'BbAbGbF': 1, 'bGbFGbF': 1, 'GbFGbF': 1, 'bFGbF': 1, 'GbFGb': 1, 'bEbEbEb': 1, 'EbEbEb': 1, 'FFBbE': 1, 'FBbEbDbCBbCBbAbCbBbAbBbAbGBbEb': 1, 'BbEbDbCBbCBbAbCbBbAbBbAbGBbEb': 1, 'bEbDbCBbCBbAbCbBbAbBbAbGBbEb': 1, 'EbDbCBbCBbAbCbBbAbBbAbGBbEb': 1, 'bDbCBbCBbAbCbBbAbBbAbGBbEb': 1, 'DbCBbCBbAbCbBbAbBbAbGBbEb': 1, 'bCBbCBbAbCbBbAbBbAbGBbEb': 1, 'CBbCBbAbCbBbAbBbAbGBbEb': 1, 'BbCBbAbCbBbAbBbAbGBbEb': 1, 'bCBbAbCbBbAbBbAbGBbEb': 1, 'CBbAbCbBbAbBbAbGBbEb': 1, 'BbAbCbBbAbBbAbGBbEb': 1, 'bAbCbBbAbBbAbGBbEb': 1, 'AbCbBbAbBbAbGBbEb': 1, 'bCbBbAbBbAbGBbEb': 1, 'CbBbAbBbAbGBbEb': 1, 'bBbAbBbAbGBbEb': 1, 'BbAbBbAbGBbEb': 1, 'bAbBbAbGBbEb': 1, 'AbBbAbGBbEb': 1, 'bBbAbGBbEb': 1, 'BbAbGBbEb': 1, 'bAbGBbEb': 1, 'AbGBbEb': 1, 'bGBbEbEGCFAbEbDFBb': 1, 'GBbEbEGCFAbEbDFBb': 1, 'BbEbEGCFAbEbDFBb': 1, 'bEbEGCFAbEbDFBb': 1, 'EbEGCFAbEbDFBb': 1, 'bEGCFAbEbDFBb': 1, 'EGCFAbEbDFBb': 1, 'GCFAbEbDFBb': 1, 'CFAbEbDFBb': 1, 'FAbEbDFBb': 1, 'AbEbDFBb': 1, 'bEbDFBb': 1, 'EbDFBb': 1, 'bDFBbGBbEb': 1, 'DFBbGBbEb': 1, 'FBbGBbEb': 1, 'BbGBbEb': 1, 'bGBbEbGBEbGCEb': 1, 'EbDDEb': 1, 'bDDEb': 1, 'DEbDCB': 1, 'EbDCBbAbGFE': 1, 'bDCBbAbGFE': 1, 'DCBbAbGFE': 1, 'CBbAbGFE': 1, 'BbAbGFE': 1, 'bAbGFEbDC': 1, 'AbGFEbDC': 1, 'bGFEbDC': 1, 'GFEbDC': 1, 'DCEbAbC': 1, 'CEbAbCEAbCFAbAb': 1, 'EbAbCEAbCFAbAb': 1, 'bAbCEAbCFAbAb': 1, 'AbCEAbCFAbAb': 1, 'bCEAbCFAbAb': 1, 'CEAbCFAbAb': 1, 'EAbCFAbAb': 1, 'AbCFAbAb': 1, 'bCFAbAb': 1, 'CFAbAb': 1, 'FAbAbC': 1, 'AbAbCCCG': 1, 'CCCGG': 1, 'DbCBb': 1, 'bCBbAb': 1, 'CBbAbGF': 1, 'BbAbGF': 1, 'GFFAb': 1, 'FAbDbFADbFBbDbDbFFAbF': 1, 'AbDbFADbFBbDbDbFFAbF': 1, 'bDbFADbFBbDbDbFFAbF': 1, 'DbFADbFBbDbDbFFAbF': 1, 'bFADbFBbDbDbFFAbF': 1, 'FADbFBbDbDbFFAbF': 1, 'ADbFBbDbDbFFAbF': 1, 'DbFBbDbDbFFAbF': 1, 'bFBbDbDbFFAbF': 1, 'FBbDbDbFFAbF': 1, 'BbDbDbFFAbF': 1, 'bDbDbFFAbF': 1, 'DbDbFFAbF': 1, 'bDbFFAbF': 1, 'DbFFAbF': 1, 'bFFAbF': 1, 'FFAbF': 1, 'FAbFG': 1, 'AbFGGAbAbB': 1, 'bFDEb': 1, 'DEbEF': 1, 'bEFBbAb': 1, 'EFBbAb': 1, 'FBbAbF': 1, 'BbAbF': 1, 'bAbFC': 1, 'FEbDCBb': 1, 'EbDCBbBb': 1, 'bDCBbBb': 1, 'DCBbBb': 1, 'CBbBbAb': 1, 'bBbAbGG': 1, 'bAbGGFFFGGAbAb': 1, 'AbGGFFFGGAbAb': 1, 'bGGFFFGGAbAb': 1, 'GGFFFGGAbAb': 1, 'GFFFGGAbAb': 1, 'FFFGGAbAb': 1, 'GGAbAbG': 1, 'GAbAbG': 1, 'bGAABbBb': 1, 'GAABbBb': 1, 'ABbBbA': 1, 'ABBCC': 1, 'BBCCA': 1, 'CABBC': 1, 'ABBCCD': 1, 'BCCDDE': 1, 'CCDDEb': 1, 'CDDEb': 1, 'DDEbC': 1, 'DEbCD': 1, 'EbEbE': 1, 'bEbEE': 1, 'EFEFF': 1, 'FFGGAbAbBC': 1, 'CAbEbCCAbGbEbAbCEbAbGbEbAbCEbAbGb': 1, 'AbEbCCAbGbEbAbCEbAbGbEbAbCEbAbGb': 1, 'bEbCCAbGbEbAbCEbAbGbEbAbCEbAbGb': 1, 'EbCCAbGbEbAbCEbAbGbEbAbCEbAbGb': 1, 'bCCAbGbEbAbCEbAbGbEbAbCEbAbGb': 1, 'CCAbGbEbAbCEbAbGbEbAbCEbAbGb': 1, 'CAbGbEbAbCEbAbGbEbAbCEbAbGb': 1, 'AbGbEbAbCEbAbGbEbAbCEbAbGb': 1, 'bGbEbAbCEbAbGbEbAbCEbAbGb': 1, 'GbEbAbCEbAbGbEbAbCEbAbGb': 1, 'bEbAbCEbAbGbEbAbCEbAbGb': 1, 'EbAbCEbAbGbEbAbCEbAbGb': 1, 'bAbCEbAbGbEbAbCEbAbGb': 1, 'AbCEbAbGbEbAbCEbAbGb': 1, 'bCEbAbGbEbAbCEbAbGb': 1, 'CEbAbGbEbAbCEbAbGb': 1, 'EbAbGbEbAbCEbAbGb': 1, 'bAbGbEbAbCEbAbGb': 1, 'AbGbEbAbCEbAbGbEb': 1, 'bGbEbAbCEbAbGbEb': 1, 'GbEbAbCEbAbGbEb': 1, 'bEbAbCEbAbGbEb': 1, 'EbAbCEbAbGbEb': 1, 'bAbCEbAbGbEb': 1, 'AbCEbAbGbEb': 1, 'bCEbAbGbEb': 1, 'CEbAbGbEb': 1, 'EbAbGbEb': 1, 'bAbGbEb': 1, 'AbGbEb': 1, 'bGbEbC': 1, 'GbEbC': 1, 'bEbCG': 1, '#D#EG#': 1, 'D#EG#': 1, '#EG#G#': 1, 'G#G#F#F#': 1, '#G#F#F#': 1, 'G#F#F#': 1, '#F#F#E': 1, 'F#F#EEC': 1, '#F#EEC': 1, 'F#EEC': 1, 'C#C#BB': 1, '#C#BBA': 1, 'C#BBA': 1, 'A#A#G': 1, '#G#G#EG#': 1, 'G#G#EG#': 1, '#G#EG#': 1, 'G#EG#': 1, 'G#EBG#G#EDBEG#BEDBEG#BED': 1, '#EBG#G#EDBEG#BEDBEG#BED': 1, 'EBG#G#EDBEG#BEDBEG#BED': 1, 'BG#G#EDBEG#BEDBEG#BED': 1, 'G#G#EDBEG#BEDBEG#BED': 1, '#G#EDBEG#BEDBEG#BED': 1, 'G#EDBEG#BEDBEG#BED': 1, '#EDBEG#BEDBEG#BED': 1, 'EDBEG#BEDBEG#BED': 1, 'DBEG#BEDBEG#BED': 1, 'BEG#BEDBEG#BED': 1, 'EG#BEDBEG#BED': 1, 'G#BEDBEG#BED': 1, '#BEDBEG#BED': 1, 'BEDBEG#BED': 1, 'EDBEG#BED': 1, 'DBEG#BED': 1, 'EG#BED': 1, 'G#BED': 1, 'DBG#E': 1, 'BG#EDBE': 1, 'G#EDBE': 1, '#EDBE': 1, 'AGGFF': 1, 'GGFFE': 1, 'BBAAG': 1, 'GGEA#': 1, 'GGBBC': 1, 'BBCGFE': 1, 'BCGFE': 1, 'EBBEEAAE': 1, 'BBEEAAEE': 1, 'BEEAAEEB': 1, 'EEAAEEBB': 1, 'EAAEEBBE': 1, 'AAEEBBEE': 1, 'AEEBBEE': 1, 'EEBBEE': 1, 'EBBEE': 1, 'AAEEB': 1, 'BBEEBBEEBBE': 1, 'BEEBBEEBBE': 1, 'BBEEBBEEBBEA': 1, 'BEEBBEEBBEA': 1, 'ECECBbD': 1, 'CECBbD': 1, 'ECBbD': 1, 'BbDFD': 1, 'BGBGBGBG': 1, 'GBGBGBG': 1, 'BGBGBG': 1, 'GBGBG': 1, 'BGBGG': 1, 'BDGGFE': 1, 'DGGFE': 1, 'FEDCE': 1, 'CDBBA': 1, 'AGFEb': 1, 'FEbFEbD': 1, 'EbFEbD': 1, 'DCDCCBb': 1, 'CDCCBb': 1, 'DCCBbA': 1, 'CCBbA': 1, 'ABbAGF': 1, 'BbAGF#': 1, 'bAGF#': 1, 'GF#GF': 1, 'bCCCA': 1, 'DDDDG': 1, 'DGCBbAGAGFAbGFGFEGC': 1, 'GCBbAGAGFAbGFGFEGC': 1, 'CBbAGAGFAbGFGFEGC': 1, 'BbAGAGFAbGFGFEGC': 1, 'bAGAGFAbGFGFEGC': 1, 'AGAGFAbGFGFEGC': 1, 'GAGFAbGFGFEGC': 1, 'AGFAbGFGFEGC': 1, 'GFAbGFGFEGC': 1, 'FAbGFGFEGC': 1, 'AbGFGFEGC': 1, 'bGFGFEGC': 1, 'GFGFEGC': 1, 'FGFEGC': 1, 'GFEGC': 1, 'EGCC#EADFCBDG': 1, 'GCC#EADFCBDG': 1, 'CC#EADFCBDG': 1, 'C#EADFCBDG': 1, '#EADFCBDG': 1, 'EADFCBDG': 1, 'ADFCBDG': 1, 'DFCBDG': 1, 'FCBDG': 1, 'BDGEGC': 1, 'EGCEG#CEACA#CBB': 1, 'GCEG#CEACA#CBB': 1, 'CEG#CEACA#CBB': 1, 'EG#CEACA#CBB': 1, 'G#CEACA#CBB': 1, '#CEACA#CBB': 1, 'CEACA#CBB': 1, 'EACA#CBB': 1, 'ACA#CBB': 1, 'CA#CBB': 1, 'A#CBB': 1, 'CBAGFEDC': 1, 'BAGFEDC': 1, 'AGFEDC': 1, 'EDCBA': 1, 'ACFAC#FADFF': 1, 'CFAC#FADFF': 1, 'FAC#FADFF': 1, 'AC#FADFFAA': 1, 'C#FADFFAA': 1, '#FADFFAA': 1, 'FADFFAA': 1, 'ADFFAA': 1, 'DFFAA': 1, 'BbAGFE': 1, 'bAGFE': 1, 'AGFED': 1, 'FEDDF': 1, 'DDFBbDF#BbDGBbBbDDFDEEFFG#': 1, 'DFBbDF#BbDGBbBbDDFDEEFFG#': 1, 'FBbDF#BbDGBbBbDDFDEEFFG#': 1, 'BbDF#BbDGBbBbDDFDEEFFG#': 1, 'bDF#BbDGBbBbDDFDEEFFG#': 1, 'DF#BbDGBbBbDDFDEEFFG#': 1, 'F#BbDGBbBbDDFDEEFFG#': 1, '#BbDGBbBbDDFDEEFFG#': 1, 'BbDGBbBbDDFDEEFFG#': 1, 'bDGBbBbDDFDEEFFG#': 1, 'DGBbBbDDFDEEFFG#': 1, 'GBbBbDDFDEEFFG#': 1, 'BbBbDDFDEEFFG#': 1, 'bBbDDFDEEFFG#': 1, 'BbDDFDEEFFG#': 1, 'bDDFDEEFFG#': 1, 'DDFDEEFFG#': 1, 'DFDEEFFG#': 1, 'FDEEFFG#': 1, 'DEEFFG#': 1, 'EEFFG#': 1, 'EFFG#': 1, 'DDEEFF': 1, 'DEEFFDD': 1, 'FDDGC': 1, 'ABbBbG': 1, 'bGDEb': 1, 'GDEbEb': 1, 'DEbEbC': 1, 'EbEbCAb': 1, 'bEbCAbG': 1, 'EbCAbG': 1, 'bCAbG': 1, 'AbGGF': 1, '#F#AGG': 1, 'F#AGG': 1, '#GGGG': 1, 'GGGEE': 1, 'FEbEbDC': 1, 'EbEbDC': 1, 'bEbDC': 1, 'EbDCC': 1, 'CCBbAb': 1, 'BbAbAbF': 1, 'bAbAbF': 1, 'bAbFEb': 1, 'bFEbDD': 1, 'FEbDDD': 1, 'EbDDDDD': 1, 'bDDDDD': 1, 'DDFFBBDDFFBB': 1, 'DFFBBDDFFBB': 1, 'FFBBDDFFBB': 1, 'FBBDDFFBB': 1, 'BBDDFFBBDDFF': 1, 'BDDFFBBDDFF': 1, 'DDFFBBDDFF': 1, 'DFFBBDDFF': 1, 'FFBBDDFF': 1, 'FBBDDFF': 1, 'BDDFF': 1, 'DDFFGGAbAbB': 1, 'DFFGGAbAbB': 1, 'FFGGAbAbB': 1, 'FGGAbAbBCEb': 1, 'GGAbAbBCEb': 1, 'GAbAbBCEb': 1, 'AbAbBCEb': 1, 'bAbBCEb': 1, 'AbBCEb': 1, 'bBCEb': 1, 'CEbF#': 1, 'EbF#G': 1, 'BbC#D': 1, 'BbBbFFBb': 1, 'bBbFFBb': 1, 'BbFFBb': 1, 'bFFBbC': 1, 'CCFFCD': 1, 'CFFCD': 1, 'DGGDF': 1, 'bCAbEbC': 1, 'AbGDD': 1, 'DFCBD': 1, '#C#C#DD': 1, 'C#C#DDD': 1, '#C#DDD': 1, 'C#DDD': 1, 'C#C#DD': 1, '#C#DD': 1, 'DEEFFF': 1, 'EFFFE': 1, 'FFFEEFFF': 1, 'FFEEFFF': 1, 'FEEFFF': 1, 'FFEEFFGGAbAb': 1, 'FEEFFGGAbAb': 1, 'EEFFGGAbAb': 1, 'FFGGAbAbCC': 1, 'FGGAbAbCC': 1, 'GGAbAbCC': 1, 'GAbAbCC': 1, 'CCFAbG': 1, 'CFAbG': 1, 'FAbGGFF': 1, 'AbGGFFC': 1, 'bGGFFC': 1, 'GGFFC': 1, 'CFEbEbDbDb': 1, 'FEbEbDbDb': 1, 'EbEbDbDb': 1, 'bEbDbDb': 1, 'DbDbAb': 1, 'AbAbFFD': 1, 'bAbFFD': 1, 'bFFDb': 1, 'bDbAbF': 1, 'bAbFFFFEEF': 1, 'AbFFFFEEF': 1, 'bFFFFEEF': 1, 'FFFEEF': 1, 'FFEEF': 1, 'FBbBbBb': 1, 'FFDDBB': 1, 'FDDBB': 1, 'GGAbAbFFDDBBCCAbAbEbEbCCAbAb': 1, 'GAbAbFFDDBBCCAbAbEbEbCCAbAb': 1, 'AbAbFFDDBBCCAbAbEbEbCCAbAb': 1, 'bAbFFDDBBCCAbAbEbEbCCAbAb': 1, 'AbFFDDBBCCAbAbEbEbCCAbAb': 1, 'bFFDDBBCCAbAbEbEbCCAbAb': 1, 'FFDDBBCCAbAbEbEbCCAbAb': 1, 'FDDBBCCAbAbEbEbCCAbAb': 1, 'DDBBCCAbAbEbEbCCAbAb': 1, 'DBBCCAbAbEbEbCCAbAb': 1, 'BBCCAbAbEbEbCCAbAbAbEbC': 1, 'BCCAbAbEbEbCCAbAbAbEbC': 1, 'CCAbAbEbEbCCAbAbAbEbC': 1, 'CAbAbEbEbCCAbAbAbEbC': 1, 'AbAbEbEbCCAbAbAbEbC': 1, 'bAbEbEbCCAbAbAbEbC': 1, 'AbEbEbCCAbAbAbEbC': 1, 'bEbEbCCAbAbAbEbC': 1, 'EbEbCCAbAbAbEbC': 1, 'bEbCCAbAbAbEbC': 1, 'EbCCAbAbAbEbC': 1, 'bCCAbAbAbEbC': 1, 'CCAbAbAbEbC': 1, 'CAbAbAbEbC': 1, 'AbAbAbEbC': 1, 'AbEbCCAb': 1, 'DDDBC': 1, 'DGCGB': 1, 'BCBbAb': 1, 'CBbAbGGGGGGG': 1, 'BbAbGGGGGGG': 1, 'bAbGGGGGGG': 1, 'AbGGGGGGG': 1, 'bGGGGGGG': 1, 'GGGGGGGC': 1, 'GGGGGGC': 1, 'GGGGGC': 1, 'GGGGC': 1, 'GGCBbAbG': 1, 'GCBbAbG': 1, 'CBbAbGG': 1, 'AbGGGGGGGG': 1, 'bDbDbDb': 1, 'DbDbDb': 1, 'bDbDbDbCC': 1, 'DbDbDbCCC': 1, 'bDbDbCCC': 1, 'DbDbCCC': 1, 'bDbCCC': 1, 'DbCCC': 1, 'bCCCBB': 1, 'CCCBB': 1, 'CCBBC': 1, 'CAbF#': 1, 'BBBBBBC': 1, 'BBBBBC': 1, 'BBBBC': 1, 'GCDDEbEbG': 1, 'EbEbGGC': 1, 'bEbGGC': 1, 'EbGGC': 1, 'EbCGGDBGEbCGEbCFGGAbAbBC': 1, 'bCGGDBGEbCGEbCFGGAbAbBC': 1, 'CGGDBGEbCGEbCFGGAbAbBC': 1, 'GGDBGEbCGEbCFGGAbAbBC': 1, 'GDBGEbCGEbCFGGAbAbBC': 1, 'DBGEbCGEbCFGGAbAbBC': 1, 'BGEbCGEbCFGGAbAbBC': 1, 'GEbCGEbCFGGAbAbBC': 1, 'EbCGEbCFGGAbAbBC': 1, 'bCGEbCFGGAbAbBC': 1, 'CGEbCFGGAbAbBC': 1, 'GEbCFGGAbAbBC': 1, 'EbCFGGAbAbBC': 1, 'bCFGGAbAbBC': 1, 'CFGGAbAbBC': 1, 'CDFDDGCGAF#': 1, 'DFDDGCGAF#': 1, 'FDDGCGAF#': 1, 'DDGCGAF#': 1, 'DGCGAF#': 1, 'GCGAF#': 1, 'CGAF#': 1, 'DADADB': 1, 'ADADB': 1, 'CBBCCF': 1, 'BBCCF': 1, 'CCFEbEbDbDbCCAbAbGGFFEbEbC': 1, 'CFEbEbDbDbCCAbAbGGFFEbEbC': 1, 'FEbEbDbDbCCAbAbGGFFEbEbC': 1, 'EbEbDbDbCCAbAbGGFFEbEbC': 1, 'bEbDbDbCCAbAbGGFFEbEbC': 1, 'EbDbDbCCAbAbGGFFEbEbC': 1, 'bDbDbCCAbAbGGFFEbEbC': 1, 'DbDbCCAbAbGGFFEbEbC': 1, 'bDbCCAbAbGGFFEbEbC': 1, 'DbCCAbAbGGFFEbEbC': 1, 'bCCAbAbGGFFEbEbC': 1, 'CCAbAbGGFFEbEbC': 1, 'CAbAbGGFFEbEbC': 1, 'AbAbGGFFEbEbC': 1, 'bAbGGFFEbEbC': 1, 'AbGGFFEbEbC': 1, 'bGGFFEbEbC': 1, 'GGFFEbEbC': 1, 'GFFEbEbC': 1, 'FFEbEbC': 1, 'FEbEbC': 1, 'EbEbCCDFDDG': 1, 'bEbCCDFDDG': 1, 'EbCCDFDDG': 1, 'bCCDFDDG': 1, 'CCDFDDG': 1, 'CDFDDG': 1, 'DFDDG': 1, 'GDBAb': 1, 'FEbCG': 1, 'EbCGEbC': 1, 'bCGEbC': 1, 'CGEbCGD': 1, 'GF#F#G': 1, 'FGGAbAbD': 1, 'GGAbAbD': 1, 'GAbAbD': 1, 'bAbDEbC': 1, 'AbDEbC': 1, 'EbCGGC': 1, 'bCGGC': 1, 'GGCDDEbEb': 1, 'GCDDEbEb': 1, 'DEbEbGAb': 1, 'EbEbGAb': 1, 'bEbGAb': 1, 'bGAbAb': 1, 'AbGGAb': 1, 'bGGAb': 1, 'GGAbAbGG': 1, 'GCBbA': 1, 'bAbGEb': 1, 'EbGEb': 1, 'bGEbD': 1, 'bBbDb': 1, 'BbBbDBb': 1, 'bBbDBb': 1, 'bDBbG': 1, 'GbFEbD': 1, 'FEbDD': 1, 'DDFBbDF': 1, 'DFBbDFBb': 1, 'bAbGDb': 1, 'AbGDb': 1, 'bCEbEbC': 1, 'bEbCCE': 1, 'CCEbEbC': 1, 'DDEbF': 1, 'FGbGb': 1, 'GbGbBb': 1, 'ABbCD': 1, 'CDbDb': 1, 'bCBbCBbA': 1, 'CBbCBbA': 1, 'BbCBbA': 1, 'FBbAb': 1, 'bDGBbE': 1, 'DGBbE': 1, 'GBbEFAbD': 1, 'BbEFAbD': 1, 'bEFAbD': 1, 'DGBbEbGBEbGCEbC#EbDD': 1, 'EbDDC': 1, 'DCBbA': 1, 'CBbAG': 1, 'BbAGF': 1, 'GFEbDCB': 1, 'FEbDCB': 1, 'CEbAbCEAbCFAb': 1, 'EbAbCEAbCFAb': 1, 'bAbCEAbCFAb': 1, 'AbCEAbCFAb': 1, 'bCEAbCFAb': 1, 'GGAbG': 1, 'EbEGC': 1, 'GCAbC': 1, 'FAbDbFADbFBbDbFBbFAbDb': 1, 'AbDbFADbFBbDbFBbFAbDb': 1, 'bDbFADbFBbDbFBbFAbDb': 1, 'DbFADbFBbDbFBbFAbDb': 1, 'bFADbFBbDbFBbFAbDb': 1, 'FADbFBbDbFBbFAbDb': 1, 'ADbFBbDbFBbFAbDb': 1, 'DbFBbDbFBbFAbDb': 1, 'bFBbDbFBbFAbDb': 1, 'FBbDbFBbFAbDb': 1, 'BbDbFBbFAbDb': 1, 'bDbFBbFAbDb': 1, 'DbFBbFAbDb': 1, 'bFBbFAbDb': 1, 'FBbFAbDb': 1, 'BbFAbDb': 1, 'bFAbDb': 1, 'BEbDD': 1, 'bDDDD': 1, 'CbBbC': 1, 'C#DDF': 1, 'DDFFBb': 1, 'DFFBb': 1, 'FFBbBb': 1, 'bBbEb': 1, 'EbGFE': 1, 'GFECE': 1, 'CEbDEb': 1, 'GGCCA': 1, 'CAAAAA': 1, 'AAAAC': 1, 'CCCCCCFEb': 1, 'CCCCCFEb': 1, 'CCCCFEb': 1, 'CCCFEb': 1, 'bEbDb': 1, 'AbAbGGFF': 1, 'CEbEbCEb': 1, 'AbAbEbAbAb': 1, 'bAbEbAbAb': 1, 'AbEbAbAb': 1, 'AbAbEbCEb': 1, 'bAbEbCEb': 1, 'AbEbCEb': 1, 'EbCEbCC': 1, 'bCEbCC': 1, 'CCEbC': 1, 'CCEbCEbC': 1, 'CEbCEbC': 1, 'EbCEbC': 1, 'bCEbC': 1, 'CEbCEb': 1, '#C#BB': 1, 'AG#G#E': 1, 'G#EED': 1, 'C#BBG#': 1, '#BBG#': 1, '#G#EB': 1, 'BBG#EE': 1, 'G#EDBEG#BEDBEG#BE': 1, '#EDBEG#BEDBEG#BE': 1, 'EDBEG#BEDBEG#BE': 1, 'DBEG#BEDBEG#BE': 1, 'BEG#BEDBEG#BE': 1, 'EG#BEDBEG#BE': 1, 'G#BEDBEG#BE': 1, '#BEDBEG#BE': 1, 'BEDBEG#BE': 1, 'EDBEG#BEE': 1, 'DBEG#BEE': 1, 'BEG#BEE': 1, 'EG#BEE': 1, 'G#BEE': 1, 'DDCCA': 1, 'CCAAG': 1, 'AGGF#F': 1, 'GGF#F#': 1, 'F#F#E': 1, 'EECEE': 1, 'F#F#F#F#A': 1, '#F#F#F#A': 1, 'F#F#F#A': 1, '#F#F#A': 1, 'F#AAAA': 1, 'AACBB': 1, 'bAbDGG': 1, 'AbDGG': 1, 'bDGGG': 1, 'GGGGCCE': 1, 'GGGCCE': 1, 'GGCCE': 1, 'EDDBCC': 1, 'DDBCC': 1, 'CCCCCB': 1, 'AABBE': 1, 'EEBBE': 1, 'EFEDC': 1, 'EDFEE': 1, 'DCBGB': 1, 'BbACC': 1, 'EGC#DFB': 1, 'GC#DFB': 1, 'C#DFB': 1, 'BEGCEG#CEACA#CB': 1, 'EGCEG#CEACA#CB': 1, 'GCEG#CEACA#CB': 1, 'CEG#CEACA#CB': 1, 'EG#CEACA#CB': 1, 'G#CEACA#CB': 1, '#CEACA#CB': 1, 'CEACA#CB': 1, 'EACA#CB': 1, 'ACA#CB': 1, 'CA#CB': 1, 'EDCBAG': 1, 'DCBAG': 1, 'G#AAC': 1, 'FADbF': 1, 'DbFAD': 1, 'CC#EA': 1, 'DF#BbDGBbBbD': 1, 'F#BbDGBbBbD': 1, '#BbDGBbBbD': 1, 'BbDGBbBbD': 1, 'bDGBbBbD': 1, 'DGBbBbD': 1, 'GBbBbD': 1, 'DFBbDFBbDFADFG#': 1, 'FBbDFBbDFADFG#': 1, 'BbDFBbDFADFG#': 1, 'bDFBbDFADFG#': 1, 'DFBbDFADFG#': 1, 'FBbDFADFG#': 1, 'BbDFADFG#': 1, 'bDFADFG#': 1, 'DFADFG#': 1, 'FADFG#': 1, 'ADFG#': 1, 'CBBBB': 1, 'BBBBBB': 1, 'BBBBB': 1, 'BbBbBbA': 1, 'bBbBbA': 1, 'BbBbAA': 1, 'BbAAbG': 1, 'bAAbG': 1, 'AbGBbB': 1, 'bGBbB': 1, 'GBbAb': 1, 'bAbEbE': 1, 'AbEbE': 1, 'CCBBB': 1, 'CCC#C#': 1, 'CC#C#': 1, 'C#C#D': 1, 'C#D#D#': 1, '#D#D#': 1, 'D#D#EE': 1, '#D#EE': 1, '#EEEE': 1, 'EEEEG': 1, 'GGGEED': 1, 'GGEED': 1, 'CBbCBb': 1, 'BbCBb': 1, 'bCBbBbA': 1, 'BbAbAbFF': 1, 'bAbAbFFF': 1, 'AbAbFFF': 1, 'bAbFFF': 1, 'FFAbG': 1, 'FAbGAbAbA': 1, 'AbGAbAbA': 1, 'bGAbAbA': 1, 'GAbAbA': 1, 'AbAbA': 1, 'BDDFFB': 1, 'DDFFBB': 1, 'DFFBB': 1, 'DDFFB': 1, 'BBBBCCDb': 1, 'BBBCCDb': 1, 'BBCCDb': 1, 'BCCDb': 1, 'CCDbDbBb': 1, 'CDbDbBb': 1, 'DbDbBb': 1, 'bDbBb': 1, 'bBbBbAb': 1, 'CDDEbEbCC': 1, 'DDEbEbCC': 1, 'DEbEbCC': 1, 'bCCBb': 1, 'CBbGA': 1, 'BbBbGGFF': 1, 'bBbGGFF': 1, 'BbGGFF': 1, 'bGGFFA': 1, 'GGFFA': 1, 'AAbGD': 1, 'CFFCCFF': 1, 'FFCCFFC': 1, 'FCCFFC': 1, 'CCFFC': 1, 'DGGDDGGDEb': 1, 'GGDDGGDEb': 1, 'GDDGGDEb': 1, 'DDGGDEb': 1, 'DGGDEb': 1, 'GGDEb': 1, 'EbAbAbCCAbAbEbEbCCAbAbEb': 1, 'bAbAbCCAbAbEbEbCCAbAbEb': 1, 'AbAbCCAbAbEbEbCCAbAbEb': 1, 'bAbCCAbAbEbEbCCAbAbEb': 1, 'AbCCAbAbEbEbCCAbAbEb': 1, 'bCCAbAbEbEbCCAbAbEb': 1, 'CCAbAbEbEbCC': 1, 'CAbAbEbEbCC': 1, 'EbCCD': 1, 'AF#F#': 1, 'F#F#GGG': 1, '#F#GGG': 1, 'F#GGG': 1, 'GGGGA': 1, 'BDBBBCC': 1, 'DBBBCC': 1, 'BBCCB': 1, 'FFAbAb': 1, 'AbAbAbBb': 1, 'bAbAbBb': 1, 'bBbbBbb': 1, 'BbbBbb': 1, 'bbBbb': 1, 'bGbFF': 1, 'BBCCAbAbEbEbCCAbAb': 1, 'BCCAbAbEbEbCCAbAb': 1, 'CCAbAbEbEbCCAbAb': 1, 'CAbAbEbEbCCAbAb': 1, 'AbAbEbEbCCAbAb': 1, 'bAbEbEbCCAbAb': 1, 'AbEbEbCCAbAb': 1, 'bEbEbCCAbAb': 1, 'EbEbCCAbAb': 1, 'bEbCCAbAb': 1, 'EbCCAbAb': 1, 'bCCAbAbAb': 1, 'AbAbAbEb': 1, 'bAbAbEb': 1, 'bEbCAbC': 1, 'EbCAbC': 1, 'CAbCG': 1, 'EbEbAbD': 1, 'bEbAbD': 1, 'EbAbD': 1, 'AbGCC': 1, 'GCCEb': 1, 'GEbCGD': 1, 'EbCGD': 1, 'CAbCGCFBDBGCGBGC': 1, 'AbCGCFBDBGCGBGC': 1, 'bCGCFBDBGCGBGC': 1, 'CGCFBDBGCGBGC': 1, 'GCFBDBGCGBGC': 1, 'CFBDBGCGBGC': 1, 'FBDBGCGBGC': 1, 'BDBGCGBGC': 1, 'DBGCGBGC': 1, 'BGCGBGC': 1, 'GCGBGC': 1, 'CGBGC': 1, 'CGCAb': 1, 'GBGCEb': 1, 'BGCEb': 1, 'GCEbG': 1, 'bEDbED': 1, 'EDbEDb': 1, 'DbEDb': 1, 'CEbCC': 1, 'CEbEbAbAb': 1, 'EbEbAbAb': 1, 'bAbAbAbAbGGGG': 1, 'AbAbAbAbGGGG': 1, 'bAbAbAbGGGG': 1, 'AbAbAbGGGG': 1, 'bAbAbGGGG': 1, 'AbAbGGGG': 1, 'GGGGAb': 1, 'AbFAbFAbFAbFAbFAbFAbF': 1, 'bFAbFAbFAbFAbFAbFAbF': 1, 'FAbFAbFAbFAbFAbFAbF': 1, 'bFAbFAbFAbFAbFAbFA': 1, 'FAbFAbFAbFAbFAbFAb': 1, 'bFAbFAbFAbFAbFAbF': 1, 'FAbFAbFAbFAbFAbF': 1, 'bFAbFAbFAbFAbFA': 1, 'FAbFAbFAbFAbFAb': 1, 'bFAbFAbFAbFAbF': 1, 'FAbFAbFAbFAbF': 1, 'bFAbFAbFAbFA': 1, 'FAbFAbFAbFAb': 1, 'bFAbFAbFAbF': 1, 'FAbFAbFAbF': 1, 'bFAbFAbFA': 1, 'FAbFAbFAb': 1, 'bFAbFAbF': 1, 'FAbFAbF': 1, 'bFAbFA': 1, 'bEbCGG': 1, 'GEbCGEb': 1, 'EbCGEb': 1, 'bCGEb': 1, 'CGEbC': 1, 'BCEbEb': 1, 'CEbEbAbDGGDFAbAbCGBBDGDDGGCCGGCCEbEbGG': 1, 'EbEbAbDGGDFAbAbCGBBDGDDGGCCGGCCEbEbGG': 1, 'bEbAbDGGDFAbAbCGBBDGDDGGCCGGCCEbEbGG': 1, 'EbAbDGGDFAbAbCGBBDGDDGGCCGGCCEbEbGG': 1, 'bAbDGGDFAbAbCGBBDGDDGGCCGGCCEbEbGG': 1, 'AbDGGDFAbAbCGBBDGDDGGCCGGCCEbEbGG': 1, 'bDGGDFAbAbCGBBDGDDGGCCGGCCEbEbGG': 1, 'DGGDFAbAbCGBBDGDDGGCCGGCCEbEbGG': 1, 'GGDFAbAbCGBBDGDDGGCCGGCCEbEbGG': 1, 'GDFAbAbCGBBDGDDGGCCGGCCEbEbGG': 1, 'DFAbAbCGBBDGDDGGCCGGCCEbEbGG': 1, 'FAbAbCGBBDGDDGGCCGGCCEbEbGG': 1, 'AbAbCGBBDGDDGGCCGGCCEbEbGG': 1, 'bAbCGBBDGDDGGCCGGCCEbEbGG': 1, 'AbCGBBDGDDGGCCGGCCEbEbGG': 1, 'bCGBBDGDDGGCCGGCCEbEbGG': 1, 'CGBBDGDDGGCCGGCCEbEbGG': 1, 'GBBDGDDGGCCGGCCEbEbGG': 1, 'BBDGDDGGCCGGCCEbEbGG': 1, 'BDGDDGGCCGGCCEbEbGG': 1, 'DGDDGGCCGGCCEbEbGG': 1, 'GDDGGCCGGCCEbEbGG': 1, 'DDGGCCGGCCEbEbGG': 1, 'DGGCCGGCCEbEbGG': 1, 'GGCCGGCCEbEbGG': 1, 'GCCGGCCEbEbGG': 1, 'CCGGCCEbEbGG': 1, 'CGGCCEbEbGG': 1, 'GGCCEbEbGG': 1, 'GCCEbEbGG': 1, 'CCEbEbGG': 1, 'CEbEbGG': 1, 'ABbBbD': 1, 'FGGAbAbF': 1, 'GGAbAbF': 1, 'GAbAbF': 1, 'FCCBbBbAbAbFFEbEbDDCCAbC': 1, 'CCBbBbAbAbFFEbEbDDCCAbC': 1, 'CBbBbAbAbFFEbEbDDCCAbC': 1, 'BbBbAbAbFFEbEbDDCCAbC': 1, 'bBbAbAbFFEbEbDDCCAbC': 1, 'BbAbAbFFEbEbDDCCAbC': 1, 'bAbAbFFEbEbDDCCAbC': 1, 'AbAbFFEbEbDDCCAbC': 1, 'bAbFFEbEbDDCCAbC': 1, 'AbFFEbEbDDCCAbC': 1, 'bFFEbEbDDCCAbC': 1, 'FFEbEbDDCCAbC': 1, 'FEbEbDDCCAbC': 1, 'EbEbDDCCAbC': 1, 'bEbDDCCAbC': 1, 'EbDDCCAbC': 1, 'bDDCCAbC': 1, 'DDCCAbC': 1, 'DCCAbC': 1, 'AbCEb': 1, 'bCEbEbAbDGGDFAbAbCGBBDGDDGGCCGG': 1, 'CEbEbAbDGGDFAbAbCGBBDGDDGGCCGG': 1, 'EbEbAbDGGDFAbAbCGBBDGDDGGCCGG': 1, 'bEbAbDGGDFAbAbCGBBDGDDGGCCGG': 1, 'EbAbDGGDFAbAbCGBBDGDDGGCCGG': 1, 'bAbDGGDFAbAbCGBBDGDDGGCCGG': 1, 'AbDGGDFAbAbCGBBDGDDGGCCGG': 1, 'bDGGDFAbAbCGBBDGDDGGCCGG': 1, 'DGGDFAbAbCGBBDGDDGGCCGG': 1, 'GGDFAbAbCGBBDGDDGGCCGG': 1, 'GDFAbAbCGBBDGDDGGCCGG': 1, 'DFAbAbCGBBDGDDGGCCGG': 1, 'FAbAbCGBBDGDDGGCCGG': 1, 'AbAbCGBBDGDDGGCCGG': 1, 'bAbCGBBDGDDGGCCGG': 1, 'AbCGBBDGDDGGCCGG': 1, 'bCGBBDGDDGGCCGG': 1, 'CGBBDGDDGGCCGG': 1, 'GBBDGDDGGCCGG': 1, 'BBDGDDGGCCGG': 1, 'BDGDDGGCCGG': 1, 'DGDDGGCCGG': 1, 'GDDGGCCGG': 1, 'DDGGCCGG': 1, 'DGGCCGG': 1, 'GGCCGGEb': 1, 'GCCGGEb': 1, 'CCGGEb': 1, 'CGGEb': 1, 'BCCCCG': 1, 'CCCCG': 1, 'CCCGEb': 1, 'CCGEb': 1, 'CEbDDG': 1, 'EbDDG': 1, 'GBBCC': 1, 'GGDDGGDDGG': 1, 'GDDGGDDGG': 1, 'DGGDDGGCC': 1, 'GGDDGGCC': 1, 'CCAbG': 1, 'GFAbGF': 1, 'GFAbG': 1, 'DFBbGBbEbEb': 1, 'FBbGBbEbEb': 1, 'BbGBbEbEb': 1, 'bGBbEbEb': 1, 'GBbEbEb': 1, 'BbEbEb': 1, 'bAbCF': 1, 'AbCFA': 1, 'CABbB': 1, 'bBAbAb': 1, 'AbBbE': 1, 'BbEbDbCBbCBbAbCb': 1, 'bEbDbCBbCBbAbCb': 1, 'EbDbCBbCBbAbCb': 1, 'bDbCBbCBbAbCb': 1, 'DbCBbCBbAbCb': 1, 'bCBbCBbAbCb': 1, 'CBbCBbAbCb': 1, 'BbCBbAbCb': 1, 'bCBbAbCb': 1, 'FBbGBbE': 1, 'BbGBbE': 1, 'bGBbE': 1, 'FAbDG': 1, 'GBbEbGBEbGCEb': 1, 'BbEbGBEbGCEb': 1, 'bEbGBEbGCEb': 1, 'EbGBEbGCEb': 1, 'bGBEbGCEb': 1, 'GBEbGCEb': 1, 'BEbGCEb': 1, 'EbGCEbC': 1, 'bGCEbC': 1, 'GCEbC': 1, 'CF#F#': 1, 'EbGCEb': 1, 'bGCEb': 1, 'AbCAb': 1, 'CAbCC': 1, 'BEbGC': 1, 'bGCCC': 1, 'CCDbF': 1, 'DbFAbDbFA': 1, 'bFAbDbFA': 1, 'FAbDbFADbFBbDb': 1, 'AbDbFADbFBbDb': 1, 'bDbFADbFBbDb': 1, 'DbFADbFBbDb': 1, 'bFADbFBbDb': 1, 'FADbFBbDb': 1, 'ADbFBbDb': 1, 'DbFBbDb': 1, 'bFBbDb': 1, 'FBbDb': 1, 'BbDbDb': 1, 'bFAbDbFAbCFAbB': 1, 'FAbDbFAbCFAbB': 1, 'AbDbFAbCFAbB': 1, 'bDbFAbCFAbB': 1, 'DbFAbCFAbB': 1, 'bFAbCFAbB': 1, 'FAbCFAbB': 1, 'AbCFAbB': 1, 'bCFAbB': 1, 'CFAbB': 1, 'BFAbG': 1, 'FAbAbG': 1, 'bAbGBb': 1, 'AbGBb': 1, 'GBbBb': 1, 'BbBbF': 1, 'BbFAb': 1, 'bFBbBb': 1, 'BbBbBbD': 1, 'bBbBbD': 1, 'bDbCBbC': 1, 'DbCBbC': 1, 'bCBbC': 1, 'CCBbAbC': 1, 'bCbBbBb': 1, 'CbBbBb': 1, 'bDbDbCCD': 1, 'DbDbCCD': 1, 'bDbCCD': 1, 'DbCCD': 1, 'CCDEbD': 1, 'CDEbD': 1, 'DEbDEbDEb': 1, 'bDEbDE': 1, 'EbDEbE': 1, 'bDEbE': 1, 'CCBbBb': 1, 'BbBbAbAb': 1, 'AbAbFFEbE': 1, 'bAbFFEbE': 1, 'AbFFEbE': 1, 'bFFEbE': 1, 'CCAbCCAb': 1, 'CAbCCAb': 1, 'AbAbAbAbAbAbAb': 1, 'bAbAbAbAbAbAb': 1, 'bAbAbAbAbAbA': 1, 'AbAbAbAbAb': 1, 'bAbAbAbAb': 1, 'AbAbAbAb': 1, 'bEbAbAbC': 1, 'EEG#EE': 1, 'EG#EE': 1, 'EDBEG#BE': 1, 'BEG#BE': 1, 'G#G#B': 1, 'ABBCCD#': 1, 'BBCCD#': 1, 'BCCD#': 1, 'D#F#F#': 1, 'GGEEDD': 1, 'GEEDD': 1, 'BCCCC': 1, 'CCGGC': 1, 'G#F#F#G#': 1, '#F#F#G#G': 1, 'F#F#G#G#': 1, '#F#G#G#': 1, 'F#G#G#': 1, '#F#F#G': 1, 'AGFEC': 1, 'EbDBD': 1, 'BDGEGCC': 1, 'DGEGCC': 1, 'GGF#F': 1, 'GABbBb': 1, 'BbBbAG': 1, 'bBbAG': 1, 'GCBbAGAGFAb': 1, 'CBbAGAGFAb': 1, 'BbAGAGFAb': 1, 'bAGAGFAb': 1, 'AGAGFAb': 1, 'GAGFAb': 1, 'AGFAb': 1, 'EGCEG#CEAC': 1, 'GCEG#CEAC': 1, 'CEG#CEAC': 1, 'EG#CEAC': 1, 'G#CEAC': 1, '#CEAC': 1, 'CEACA': 1, 'AC#FADFF': 1, 'C#FADFF': 1, '#FADFF': 1, 'FADFF': 1, 'DCBAGF': 1, 'CBAGF': 1, 'BAGFE': 1, 'DFBbDF': 1, 'FBbDF': 1, 'DF#BbDGBb': 1, 'F#BbDGBb': 1, '#BbDGBb': 1, 'BbDGBb': 1, 'GBbBbDD': 1, 'BbBbDDF': 1, 'EEFFG': 1, 'FEDDFF': 1, 'DDFFF': 1, 'FFF#F#': 1, 'FF#F#': 1, 'GGFFFF': 1, 'GFFFF': 1, 'DDFFGGAbAb': 1, 'DFFGGAbAb': 1, 'bGGFFG': 1, 'GGFFG': 1, 'FFEbE': 1, 'EFFGG': 1, 'FBbBbFF': 1, 'FFCCFFCCF': 1, 'DGDGDG': 1, 'GDGDG': 1, 'FCFCFC': 1, 'FCFCF': 1, 'GCEbEb': 1, 'CEbEbAb': 1, 'bAbAbCC': 1, 'AbAbCCAb': 1, 'bAbCCAb': 1, 'bCCAbAbEbEbCCAb': 1, 'CCAbAbEbEbCCAbAbEb': 1, 'CAbAbEbEbCCAbAbEb': 1, 'AbAbEbEbCCAbAbEb': 1, 'bAbEbEbCCAbAbEb': 1, 'AbEbEbCCAbAbEb': 1, 'bEbEbCCAbAbEb': 1, 'EbEbCCAbAbEb': 1, 'bEbCCAbAbEb': 1, 'EbCCAbAbEb': 1, 'bCCAbAbEb': 1, 'CCAbAbEb': 1, 'GGCCGG': 1, 'GCCGGCC': 1, 'CCGGCC': 1, 'CEbEbG': 1, 'EbGGD': 1, 'GGDbD': 1, 'BbBbDD': 1, 'FFFGG': 1, 'BBBBCC': 1, 'bFFFF': 1, 'FFFFE': 1, 'BBCCAbAbEbEbCCAbAbEbEbCC': 1, 'BCCAbAbEbEbCCAbAbEbEbCC': 1, 'CCAbAbEbEbCCAb': 1, 'CAbAbEbEbCCAb': 1, 'AbAbEbEbCCAb': 1, 'bAbEbEbCCAb': 1, 'AbEbEbCCAb': 1, 'bEbEbCCAb': 1, 'DAbGF': 1, 'AbGFDDEbFEb': 1, 'bGFDDEbFEb': 1, 'GFDDEbFEb': 1, 'FDDEbFEb': 1, 'DDEbFEb': 1, 'DEbFEb': 1, 'FDDEb': 1, 'FAbGAb': 1, 'AbGAb': 1, 'bAbAbAbGG': 1, 'AbAbAbGG': 1, 'bAbAbGG': 1, 'GGFFF': 1, 'EbEbDB': 1, 'bEbDB': 1, 'BDBDBDBDBDBD': 1, 'BDBDBDBDBDB': 1, 'BDBDBDBDBD': 1, 'BDBDBDBDB': 1, 'BDBDBDBD': 1, 'BDBDBDB': 1, 'BDBDBD': 1, 'CCDDE': 1, 'EbEbCCC': 1, 'bEbCCC': 1, 'CGEbCG': 1, 'GEbCG': 1, 'CBAbGFEbCEbDD': 1, 'BAbGFEbCEbDD': 1, 'AbGFEbCEbDD': 1, 'bGFEbCEbDD': 1, 'GFEbCEbDD': 1, 'FEbCEbDD': 1, 'EbCEbDD': 1, 'bCEbDD': 1, 'CBAbGFEbC': 1, 'BAbGFEbC': 1, 'AbGFEbCGGFEbDCBbAbGGC': 1, 'bGFEbCGGFEbDCBbAbGGC': 1, 'GFEbCGGFEbDCBbAbGGC': 1, 'FEbCGGFEbDCBbAbGGC': 1, 'EbCGGFEbDCBbAbGGC': 1, 'bCGGFEbDCBbAbGGC': 1, 'CGGFEbDCBbAbGGC': 1, 'GGFEbDCBbAbGGC': 1, 'GFEbDCBbAbGGC': 1, 'FEbDCBbAbGGC': 1, 'EbDCBbAbGGC': 1, 'bDCBbAbGGC': 1, 'DCBbAbGGC': 1, 'CBbAbGGC': 1, 'BbAbGGC': 1, 'GGDDGGD': 1, 'GDDGGD': 1, 'GCCCF': 1, 'GCEbGB': 1, 'CEbGB': 1, 'bGBbEbG': 1, 'GBbEbG': 1, 'bEbGb': 1, 'bBbDD': 1, 'BbGBbEbE': 1, 'bGBbEbE': 1, 'GBbEbE': 1, 'BbEbE': 1, 'bEbAbC': 1, 'BbCDE': 1, 'ABbBbC': 1, 'bGBbEb': 1, 'GBbEb': 1, 'CBbAbC': 1, 'bAbCbBb': 1, 'AbCEbAb': 1, 'CEbAbC': 1, 'EbAbCE': 1, 'bAbCE': 1, 'bAbGFE': 1, 'GFEbDCBbAbG': 1, 'FEbDCBbAbG': 1, 'EbDCBbAbG': 1, 'bDCBbAbG': 1, 'DCBbAbG': 1, 'AbGFE': 1, 'FAbDbFA': 1, 'AbDbFA': 1, 'DbFBb': 1, 'bFAbD': 1, 'AbDbF': 1, 'bBbBbBbBbBbBbBbBb': 1, 'bBbBbBbBbBbBbBbB': 1, 'bBbBbBbBbBbBbBb': 1, 'bBbBbBbBbBbBbB': 1, 'bBbBbBbBbBbBb': 1, 'bBbBbBbBbBbB': 1, 'bBbBbBbBbBb': 1, 'bBbBbBbBbB': 1, 'bBbBbBbBb': 1, 'bBbBbBbB': 1, 'bBbBbB': 1, 'bAbAbG': 1, 'F#CCF#': 1, '#CCF#': 1, 'GCCGG': 1, 'CGGCCG': 1, 'GGCCG': 1, 'AbCCAb': 1, 'CCAbAbCC': 1, 'CAbAbCC': 1, 'AbGbEbAbCEb': 1, 'bGbEbAbCEbA': 1, 'GbEbAbCEbAb': 1, 'bEbAbCEbAbG': 1, 'EbAbCEbAbGb': 1, 'bAbCEbAbGb': 1, 'AbCEbAbGb': 1, 'bCEbAbGb': 1, 'CEbAbGb': 1, 'EbAbGb': 1, 'bGbEb': 1, '#D#D#E': 1, 'EDBEG#B': 1, 'EG#BEDB': 1, 'G#BEDB': 1, '#BEDB': 1, 'DEbDC': 1, 'GGGGGGGGG': 1, 'DbDbDbCC': 1, 'DDGGGG': 1, 'A#BBB': 1, 'BBBCCCC#C#C#': 1, 'BBCCCC#C#C#': 1, 'BCCCC#C#C#': 1, 'CCCC#C#C#': 1, 'CCC#C#C#': 1, 'CC#C#C#': 1, 'C#C#C#': 1, 'C#C#C': 1, 'AbGFEbC': 1, 'DbBbAb': 1, 'CCAbAbEbEb': 1, 'CAbAbEbEbC': 1, 'CFEbDCCCCCCCCC': 1, 'FEbDCCCCCCCCCC': 1, 'EbDCCCCCCCCCC': 1, 'bDCCCCCCCCCC': 1, 'DCCCCCCCCCC': 1, 'CCCCCCCCCC': 1, 'CCCCCCCCC': 1, 'CCCCCCCC': 1, 'CCCCCCC': 1, 'CCCCCC': 1, 'EbDCCCC': 1, 'bDCCCC': 1, 'CBbAbCCC': 1, 'BbAbCCC': 1, 'bAbCCCAbA': 1, 'AbCCCAbAb': 1, 'bCCCAbAb': 1, 'CCCAbAb': 1})\n"
     ]
    }
   ],
   "source": [
    "min_length = 5\n",
    "min_occur = 8\n",
    "pat = r'(?=(.{%d,})(?=.*\\1){%d,})' % (min_length, min_occur-1)\n",
    "step_patterns = re.findall(pat,steps)\n",
    "print(Counter(step_patterns))"
   ]
  }
 ],
 "metadata": {
  "kernelspec": {
   "display_name": "Python 3",
   "language": "python",
   "name": "python3"
  },
  "language_info": {
   "codemirror_mode": {
    "name": "ipython",
    "version": 3
   },
   "file_extension": ".py",
   "mimetype": "text/x-python",
   "name": "python",
   "nbconvert_exporter": "python",
   "pygments_lexer": "ipython3",
   "version": "3.6.5"
  }
 },
 "nbformat": 4,
 "nbformat_minor": 2
}
